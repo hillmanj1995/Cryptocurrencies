{
 "cells": [
  {
   "cell_type": "markdown",
   "metadata": {},
   "source": [
    "# Clustering Crypto"
   ]
  },
  {
   "cell_type": "code",
   "execution_count": 298,
   "metadata": {},
   "outputs": [],
   "source": [
    "# Initial imports\n",
    "import pandas as pd\n",
    "import hvplot.pandas\n",
    "from pathlib import Path\n",
    "import plotly.express as px\n",
    "from sklearn.preprocessing import StandardScaler, MinMaxScaler\n",
    "from sklearn.decomposition import PCA\n",
    "from sklearn.cluster import KMeans\n"
   ]
  },
  {
   "cell_type": "markdown",
   "metadata": {},
   "source": [
    "### Deliverable 1: Preprocessing the Data for PCA"
   ]
  },
  {
   "cell_type": "code",
   "execution_count": 299,
   "metadata": {},
   "outputs": [
    {
     "data": {
      "text/html": [
       "<div>\n",
       "<style scoped>\n",
       "    .dataframe tbody tr th:only-of-type {\n",
       "        vertical-align: middle;\n",
       "    }\n",
       "\n",
       "    .dataframe tbody tr th {\n",
       "        vertical-align: top;\n",
       "    }\n",
       "\n",
       "    .dataframe thead th {\n",
       "        text-align: right;\n",
       "    }\n",
       "</style>\n",
       "<table border=\"1\" class=\"dataframe\">\n",
       "  <thead>\n",
       "    <tr style=\"text-align: right;\">\n",
       "      <th></th>\n",
       "      <th>Unnamed: 0</th>\n",
       "      <th>CoinName</th>\n",
       "      <th>Algorithm</th>\n",
       "      <th>IsTrading</th>\n",
       "      <th>ProofType</th>\n",
       "      <th>TotalCoinsMined</th>\n",
       "      <th>TotalCoinSupply</th>\n",
       "    </tr>\n",
       "  </thead>\n",
       "  <tbody>\n",
       "    <tr>\n",
       "      <th>0</th>\n",
       "      <td>42</td>\n",
       "      <td>42 Coin</td>\n",
       "      <td>Scrypt</td>\n",
       "      <td>True</td>\n",
       "      <td>PoW/PoS</td>\n",
       "      <td>4.199995e+01</td>\n",
       "      <td>42</td>\n",
       "    </tr>\n",
       "    <tr>\n",
       "      <th>1</th>\n",
       "      <td>365</td>\n",
       "      <td>365Coin</td>\n",
       "      <td>X11</td>\n",
       "      <td>True</td>\n",
       "      <td>PoW/PoS</td>\n",
       "      <td>NaN</td>\n",
       "      <td>2300000000</td>\n",
       "    </tr>\n",
       "    <tr>\n",
       "      <th>2</th>\n",
       "      <td>404</td>\n",
       "      <td>404Coin</td>\n",
       "      <td>Scrypt</td>\n",
       "      <td>True</td>\n",
       "      <td>PoW/PoS</td>\n",
       "      <td>1.055185e+09</td>\n",
       "      <td>532000000</td>\n",
       "    </tr>\n",
       "    <tr>\n",
       "      <th>3</th>\n",
       "      <td>611</td>\n",
       "      <td>SixEleven</td>\n",
       "      <td>SHA-256</td>\n",
       "      <td>True</td>\n",
       "      <td>PoW</td>\n",
       "      <td>NaN</td>\n",
       "      <td>611000</td>\n",
       "    </tr>\n",
       "    <tr>\n",
       "      <th>4</th>\n",
       "      <td>808</td>\n",
       "      <td>808</td>\n",
       "      <td>SHA-256</td>\n",
       "      <td>True</td>\n",
       "      <td>PoW/PoS</td>\n",
       "      <td>0.000000e+00</td>\n",
       "      <td>0</td>\n",
       "    </tr>\n",
       "  </tbody>\n",
       "</table>\n",
       "</div>"
      ],
      "text/plain": [
       "  Unnamed: 0   CoinName Algorithm  IsTrading ProofType  TotalCoinsMined  \\\n",
       "0         42    42 Coin    Scrypt       True   PoW/PoS     4.199995e+01   \n",
       "1        365    365Coin       X11       True   PoW/PoS              NaN   \n",
       "2        404    404Coin    Scrypt       True   PoW/PoS     1.055185e+09   \n",
       "3        611  SixEleven   SHA-256       True       PoW              NaN   \n",
       "4        808        808   SHA-256       True   PoW/PoS     0.000000e+00   \n",
       "\n",
       "  TotalCoinSupply  \n",
       "0              42  \n",
       "1      2300000000  \n",
       "2       532000000  \n",
       "3          611000  \n",
       "4               0  "
      ]
     },
     "execution_count": 299,
     "metadata": {},
     "output_type": "execute_result"
    }
   ],
   "source": [
    "# Load the crypto_data.csv dataset.\n",
    "file_path = \"crypto_data.csv\"\n",
    "df_crypto = pd.read_csv(file_path)\n",
    "df_crypto.head()"
   ]
  },
  {
   "cell_type": "code",
   "execution_count": 300,
   "metadata": {},
   "outputs": [
    {
     "data": {
      "text/html": [
       "<div>\n",
       "<style scoped>\n",
       "    .dataframe tbody tr th:only-of-type {\n",
       "        vertical-align: middle;\n",
       "    }\n",
       "\n",
       "    .dataframe tbody tr th {\n",
       "        vertical-align: top;\n",
       "    }\n",
       "\n",
       "    .dataframe thead th {\n",
       "        text-align: right;\n",
       "    }\n",
       "</style>\n",
       "<table border=\"1\" class=\"dataframe\">\n",
       "  <thead>\n",
       "    <tr style=\"text-align: right;\">\n",
       "      <th></th>\n",
       "      <th>Unnamed: 0</th>\n",
       "      <th>CoinName</th>\n",
       "      <th>Algorithm</th>\n",
       "      <th>IsTrading</th>\n",
       "      <th>ProofType</th>\n",
       "      <th>TotalCoinsMined</th>\n",
       "      <th>TotalCoinSupply</th>\n",
       "    </tr>\n",
       "  </thead>\n",
       "  <tbody>\n",
       "    <tr>\n",
       "      <th>0</th>\n",
       "      <td>42</td>\n",
       "      <td>42 Coin</td>\n",
       "      <td>Scrypt</td>\n",
       "      <td>True</td>\n",
       "      <td>PoW/PoS</td>\n",
       "      <td>4.199995e+01</td>\n",
       "      <td>42</td>\n",
       "    </tr>\n",
       "    <tr>\n",
       "      <th>1</th>\n",
       "      <td>365</td>\n",
       "      <td>365Coin</td>\n",
       "      <td>X11</td>\n",
       "      <td>True</td>\n",
       "      <td>PoW/PoS</td>\n",
       "      <td>NaN</td>\n",
       "      <td>2300000000</td>\n",
       "    </tr>\n",
       "    <tr>\n",
       "      <th>2</th>\n",
       "      <td>404</td>\n",
       "      <td>404Coin</td>\n",
       "      <td>Scrypt</td>\n",
       "      <td>True</td>\n",
       "      <td>PoW/PoS</td>\n",
       "      <td>1.055185e+09</td>\n",
       "      <td>532000000</td>\n",
       "    </tr>\n",
       "    <tr>\n",
       "      <th>3</th>\n",
       "      <td>611</td>\n",
       "      <td>SixEleven</td>\n",
       "      <td>SHA-256</td>\n",
       "      <td>True</td>\n",
       "      <td>PoW</td>\n",
       "      <td>NaN</td>\n",
       "      <td>611000</td>\n",
       "    </tr>\n",
       "    <tr>\n",
       "      <th>4</th>\n",
       "      <td>808</td>\n",
       "      <td>808</td>\n",
       "      <td>SHA-256</td>\n",
       "      <td>True</td>\n",
       "      <td>PoW/PoS</td>\n",
       "      <td>0.000000e+00</td>\n",
       "      <td>0</td>\n",
       "    </tr>\n",
       "    <tr>\n",
       "      <th>5</th>\n",
       "      <td>1337</td>\n",
       "      <td>EliteCoin</td>\n",
       "      <td>X13</td>\n",
       "      <td>True</td>\n",
       "      <td>PoW/PoS</td>\n",
       "      <td>2.927942e+10</td>\n",
       "      <td>314159265359</td>\n",
       "    </tr>\n",
       "    <tr>\n",
       "      <th>6</th>\n",
       "      <td>2015</td>\n",
       "      <td>2015 coin</td>\n",
       "      <td>X11</td>\n",
       "      <td>True</td>\n",
       "      <td>PoW/PoS</td>\n",
       "      <td>NaN</td>\n",
       "      <td>0</td>\n",
       "    </tr>\n",
       "    <tr>\n",
       "      <th>7</th>\n",
       "      <td>BTC</td>\n",
       "      <td>Bitcoin</td>\n",
       "      <td>SHA-256</td>\n",
       "      <td>True</td>\n",
       "      <td>PoW</td>\n",
       "      <td>1.792718e+07</td>\n",
       "      <td>21000000</td>\n",
       "    </tr>\n",
       "    <tr>\n",
       "      <th>8</th>\n",
       "      <td>ETH</td>\n",
       "      <td>Ethereum</td>\n",
       "      <td>Ethash</td>\n",
       "      <td>True</td>\n",
       "      <td>PoW</td>\n",
       "      <td>1.076842e+08</td>\n",
       "      <td>0</td>\n",
       "    </tr>\n",
       "    <tr>\n",
       "      <th>9</th>\n",
       "      <td>LTC</td>\n",
       "      <td>Litecoin</td>\n",
       "      <td>Scrypt</td>\n",
       "      <td>True</td>\n",
       "      <td>PoW</td>\n",
       "      <td>6.303924e+07</td>\n",
       "      <td>84000000</td>\n",
       "    </tr>\n",
       "  </tbody>\n",
       "</table>\n",
       "</div>"
      ],
      "text/plain": [
       "  Unnamed: 0   CoinName Algorithm  IsTrading ProofType  TotalCoinsMined  \\\n",
       "0         42    42 Coin    Scrypt       True   PoW/PoS     4.199995e+01   \n",
       "1        365    365Coin       X11       True   PoW/PoS              NaN   \n",
       "2        404    404Coin    Scrypt       True   PoW/PoS     1.055185e+09   \n",
       "3        611  SixEleven   SHA-256       True       PoW              NaN   \n",
       "4        808        808   SHA-256       True   PoW/PoS     0.000000e+00   \n",
       "5       1337  EliteCoin       X13       True   PoW/PoS     2.927942e+10   \n",
       "6       2015  2015 coin       X11       True   PoW/PoS              NaN   \n",
       "7        BTC    Bitcoin   SHA-256       True       PoW     1.792718e+07   \n",
       "8        ETH   Ethereum    Ethash       True       PoW     1.076842e+08   \n",
       "9        LTC   Litecoin    Scrypt       True       PoW     6.303924e+07   \n",
       "\n",
       "  TotalCoinSupply  \n",
       "0              42  \n",
       "1      2300000000  \n",
       "2       532000000  \n",
       "3          611000  \n",
       "4               0  \n",
       "5    314159265359  \n",
       "6               0  \n",
       "7        21000000  \n",
       "8               0  \n",
       "9        84000000  "
      ]
     },
     "execution_count": 300,
     "metadata": {},
     "output_type": "execute_result"
    }
   ],
   "source": [
    "# Keep all the cryptocurrencies that are being traded.\n",
    "df_crypto1 = df_crypto[df_crypto.IsTrading.eq(True)]\n",
    "df_crypto1.head(10)"
   ]
  },
  {
   "cell_type": "code",
   "execution_count": 305,
   "metadata": {},
   "outputs": [
    {
     "data": {
      "text/html": [
       "<div>\n",
       "<style scoped>\n",
       "    .dataframe tbody tr th:only-of-type {\n",
       "        vertical-align: middle;\n",
       "    }\n",
       "\n",
       "    .dataframe tbody tr th {\n",
       "        vertical-align: top;\n",
       "    }\n",
       "\n",
       "    .dataframe thead th {\n",
       "        text-align: right;\n",
       "    }\n",
       "</style>\n",
       "<table border=\"1\" class=\"dataframe\">\n",
       "  <thead>\n",
       "    <tr style=\"text-align: right;\">\n",
       "      <th></th>\n",
       "      <th>Unnamed: 0</th>\n",
       "      <th>CoinName</th>\n",
       "      <th>Algorithm</th>\n",
       "      <th>ProofType</th>\n",
       "      <th>TotalCoinsMined</th>\n",
       "      <th>TotalCoinSupply</th>\n",
       "    </tr>\n",
       "  </thead>\n",
       "  <tbody>\n",
       "    <tr>\n",
       "      <th>0</th>\n",
       "      <td>42</td>\n",
       "      <td>42 Coin</td>\n",
       "      <td>Scrypt</td>\n",
       "      <td>PoW/PoS</td>\n",
       "      <td>4.199995e+01</td>\n",
       "      <td>42</td>\n",
       "    </tr>\n",
       "    <tr>\n",
       "      <th>1</th>\n",
       "      <td>365</td>\n",
       "      <td>365Coin</td>\n",
       "      <td>X11</td>\n",
       "      <td>PoW/PoS</td>\n",
       "      <td>NaN</td>\n",
       "      <td>2300000000</td>\n",
       "    </tr>\n",
       "    <tr>\n",
       "      <th>2</th>\n",
       "      <td>404</td>\n",
       "      <td>404Coin</td>\n",
       "      <td>Scrypt</td>\n",
       "      <td>PoW/PoS</td>\n",
       "      <td>1.055185e+09</td>\n",
       "      <td>532000000</td>\n",
       "    </tr>\n",
       "    <tr>\n",
       "      <th>3</th>\n",
       "      <td>611</td>\n",
       "      <td>SixEleven</td>\n",
       "      <td>SHA-256</td>\n",
       "      <td>PoW</td>\n",
       "      <td>NaN</td>\n",
       "      <td>611000</td>\n",
       "    </tr>\n",
       "    <tr>\n",
       "      <th>4</th>\n",
       "      <td>808</td>\n",
       "      <td>808</td>\n",
       "      <td>SHA-256</td>\n",
       "      <td>PoW/PoS</td>\n",
       "      <td>0.000000e+00</td>\n",
       "      <td>0</td>\n",
       "    </tr>\n",
       "    <tr>\n",
       "      <th>5</th>\n",
       "      <td>1337</td>\n",
       "      <td>EliteCoin</td>\n",
       "      <td>X13</td>\n",
       "      <td>PoW/PoS</td>\n",
       "      <td>2.927942e+10</td>\n",
       "      <td>314159265359</td>\n",
       "    </tr>\n",
       "    <tr>\n",
       "      <th>6</th>\n",
       "      <td>2015</td>\n",
       "      <td>2015 coin</td>\n",
       "      <td>X11</td>\n",
       "      <td>PoW/PoS</td>\n",
       "      <td>NaN</td>\n",
       "      <td>0</td>\n",
       "    </tr>\n",
       "    <tr>\n",
       "      <th>7</th>\n",
       "      <td>BTC</td>\n",
       "      <td>Bitcoin</td>\n",
       "      <td>SHA-256</td>\n",
       "      <td>PoW</td>\n",
       "      <td>1.792718e+07</td>\n",
       "      <td>21000000</td>\n",
       "    </tr>\n",
       "    <tr>\n",
       "      <th>8</th>\n",
       "      <td>ETH</td>\n",
       "      <td>Ethereum</td>\n",
       "      <td>Ethash</td>\n",
       "      <td>PoW</td>\n",
       "      <td>1.076842e+08</td>\n",
       "      <td>0</td>\n",
       "    </tr>\n",
       "    <tr>\n",
       "      <th>9</th>\n",
       "      <td>LTC</td>\n",
       "      <td>Litecoin</td>\n",
       "      <td>Scrypt</td>\n",
       "      <td>PoW</td>\n",
       "      <td>6.303924e+07</td>\n",
       "      <td>84000000</td>\n",
       "    </tr>\n",
       "  </tbody>\n",
       "</table>\n",
       "</div>"
      ],
      "text/plain": [
       "  Unnamed: 0   CoinName Algorithm ProofType  TotalCoinsMined TotalCoinSupply\n",
       "0         42    42 Coin    Scrypt   PoW/PoS     4.199995e+01              42\n",
       "1        365    365Coin       X11   PoW/PoS              NaN      2300000000\n",
       "2        404    404Coin    Scrypt   PoW/PoS     1.055185e+09       532000000\n",
       "3        611  SixEleven   SHA-256       PoW              NaN          611000\n",
       "4        808        808   SHA-256   PoW/PoS     0.000000e+00               0\n",
       "5       1337  EliteCoin       X13   PoW/PoS     2.927942e+10    314159265359\n",
       "6       2015  2015 coin       X11   PoW/PoS              NaN               0\n",
       "7        BTC    Bitcoin   SHA-256       PoW     1.792718e+07        21000000\n",
       "8        ETH   Ethereum    Ethash       PoW     1.076842e+08               0\n",
       "9        LTC   Litecoin    Scrypt       PoW     6.303924e+07        84000000"
      ]
     },
     "execution_count": 305,
     "metadata": {},
     "output_type": "execute_result"
    }
   ],
   "source": [
    "# Remove the \"IsTrading\" column. \n",
    "df_crypto2 = df_crypto1.drop(columns=[\"IsTrading\"])\n",
    "df_crypto2.head(10)"
   ]
  },
  {
   "cell_type": "code",
   "execution_count": 306,
   "metadata": {},
   "outputs": [
    {
     "name": "stdout",
     "output_type": "stream",
     "text": [
      "Column Unnamed: 0 has 0 null values\n",
      "Column CoinName has 0 null values\n",
      "Column Algorithm has 0 null values\n",
      "Column ProofType has 0 null values\n",
      "Column TotalCoinsMined has 459 null values\n",
      "Column TotalCoinSupply has 0 null values\n"
     ]
    }
   ],
   "source": [
    "for column in df_crypto2.columns:\n",
    "    print( f\"Column {column} has {df_crypto2[column].isnull().sum()} null values\")"
   ]
  },
  {
   "cell_type": "code",
   "execution_count": 307,
   "metadata": {},
   "outputs": [
    {
     "data": {
      "text/html": [
       "<div>\n",
       "<style scoped>\n",
       "    .dataframe tbody tr th:only-of-type {\n",
       "        vertical-align: middle;\n",
       "    }\n",
       "\n",
       "    .dataframe tbody tr th {\n",
       "        vertical-align: top;\n",
       "    }\n",
       "\n",
       "    .dataframe thead th {\n",
       "        text-align: right;\n",
       "    }\n",
       "</style>\n",
       "<table border=\"1\" class=\"dataframe\">\n",
       "  <thead>\n",
       "    <tr style=\"text-align: right;\">\n",
       "      <th></th>\n",
       "      <th>Unnamed: 0</th>\n",
       "      <th>CoinName</th>\n",
       "      <th>Algorithm</th>\n",
       "      <th>ProofType</th>\n",
       "      <th>TotalCoinsMined</th>\n",
       "      <th>TotalCoinSupply</th>\n",
       "    </tr>\n",
       "  </thead>\n",
       "  <tbody>\n",
       "    <tr>\n",
       "      <th>0</th>\n",
       "      <td>42</td>\n",
       "      <td>42 Coin</td>\n",
       "      <td>Scrypt</td>\n",
       "      <td>PoW/PoS</td>\n",
       "      <td>4.199995e+01</td>\n",
       "      <td>42</td>\n",
       "    </tr>\n",
       "    <tr>\n",
       "      <th>2</th>\n",
       "      <td>404</td>\n",
       "      <td>404Coin</td>\n",
       "      <td>Scrypt</td>\n",
       "      <td>PoW/PoS</td>\n",
       "      <td>1.055185e+09</td>\n",
       "      <td>532000000</td>\n",
       "    </tr>\n",
       "    <tr>\n",
       "      <th>4</th>\n",
       "      <td>808</td>\n",
       "      <td>808</td>\n",
       "      <td>SHA-256</td>\n",
       "      <td>PoW/PoS</td>\n",
       "      <td>0.000000e+00</td>\n",
       "      <td>0</td>\n",
       "    </tr>\n",
       "    <tr>\n",
       "      <th>5</th>\n",
       "      <td>1337</td>\n",
       "      <td>EliteCoin</td>\n",
       "      <td>X13</td>\n",
       "      <td>PoW/PoS</td>\n",
       "      <td>2.927942e+10</td>\n",
       "      <td>314159265359</td>\n",
       "    </tr>\n",
       "    <tr>\n",
       "      <th>7</th>\n",
       "      <td>BTC</td>\n",
       "      <td>Bitcoin</td>\n",
       "      <td>SHA-256</td>\n",
       "      <td>PoW</td>\n",
       "      <td>1.792718e+07</td>\n",
       "      <td>21000000</td>\n",
       "    </tr>\n",
       "    <tr>\n",
       "      <th>8</th>\n",
       "      <td>ETH</td>\n",
       "      <td>Ethereum</td>\n",
       "      <td>Ethash</td>\n",
       "      <td>PoW</td>\n",
       "      <td>1.076842e+08</td>\n",
       "      <td>0</td>\n",
       "    </tr>\n",
       "    <tr>\n",
       "      <th>9</th>\n",
       "      <td>LTC</td>\n",
       "      <td>Litecoin</td>\n",
       "      <td>Scrypt</td>\n",
       "      <td>PoW</td>\n",
       "      <td>6.303924e+07</td>\n",
       "      <td>84000000</td>\n",
       "    </tr>\n",
       "    <tr>\n",
       "      <th>10</th>\n",
       "      <td>DASH</td>\n",
       "      <td>Dash</td>\n",
       "      <td>X11</td>\n",
       "      <td>PoW/PoS</td>\n",
       "      <td>9.031294e+06</td>\n",
       "      <td>22000000</td>\n",
       "    </tr>\n",
       "    <tr>\n",
       "      <th>11</th>\n",
       "      <td>XMR</td>\n",
       "      <td>Monero</td>\n",
       "      <td>CryptoNight-V7</td>\n",
       "      <td>PoW</td>\n",
       "      <td>1.720114e+07</td>\n",
       "      <td>0</td>\n",
       "    </tr>\n",
       "    <tr>\n",
       "      <th>12</th>\n",
       "      <td>ETC</td>\n",
       "      <td>Ethereum Classic</td>\n",
       "      <td>Ethash</td>\n",
       "      <td>PoW</td>\n",
       "      <td>1.133597e+08</td>\n",
       "      <td>210000000</td>\n",
       "    </tr>\n",
       "  </tbody>\n",
       "</table>\n",
       "</div>"
      ],
      "text/plain": [
       "   Unnamed: 0          CoinName       Algorithm ProofType  TotalCoinsMined  \\\n",
       "0          42           42 Coin          Scrypt   PoW/PoS     4.199995e+01   \n",
       "2         404           404Coin          Scrypt   PoW/PoS     1.055185e+09   \n",
       "4         808               808         SHA-256   PoW/PoS     0.000000e+00   \n",
       "5        1337         EliteCoin             X13   PoW/PoS     2.927942e+10   \n",
       "7         BTC           Bitcoin         SHA-256       PoW     1.792718e+07   \n",
       "8         ETH          Ethereum          Ethash       PoW     1.076842e+08   \n",
       "9         LTC          Litecoin          Scrypt       PoW     6.303924e+07   \n",
       "10       DASH              Dash             X11   PoW/PoS     9.031294e+06   \n",
       "11        XMR            Monero  CryptoNight-V7       PoW     1.720114e+07   \n",
       "12        ETC  Ethereum Classic          Ethash       PoW     1.133597e+08   \n",
       "\n",
       "   TotalCoinSupply  \n",
       "0               42  \n",
       "2        532000000  \n",
       "4                0  \n",
       "5     314159265359  \n",
       "7         21000000  \n",
       "8                0  \n",
       "9         84000000  \n",
       "10        22000000  \n",
       "11               0  \n",
       "12       210000000  "
      ]
     },
     "execution_count": 307,
     "metadata": {},
     "output_type": "execute_result"
    }
   ],
   "source": [
    "# Remove rows that have at least 1 null value.\n",
    "df_crypto_clean = df_crypto2.dropna()\n",
    "df_crypto_clean.head(10)"
   ]
  },
  {
   "cell_type": "code",
   "execution_count": 308,
   "metadata": {},
   "outputs": [
    {
     "name": "stdout",
     "output_type": "stream",
     "text": [
      "Column Unnamed: 0 has 0 null values\n",
      "Column CoinName has 0 null values\n",
      "Column Algorithm has 0 null values\n"
     ]
    },
    {
     "ename": "KeyError",
     "evalue": "'IsTrading'",
     "output_type": "error",
     "traceback": [
      "\u001b[1;31m---------------------------------------------------------------------------\u001b[0m",
      "\u001b[1;31mKeyError\u001b[0m                                  Traceback (most recent call last)",
      "\u001b[1;32m~\\anaconda3\\envs\\mlenv\\lib\\site-packages\\pandas\\core\\indexes\\base.py\u001b[0m in \u001b[0;36mget_loc\u001b[1;34m(self, key, method, tolerance)\u001b[0m\n\u001b[0;32m   3360\u001b[0m             \u001b[1;32mtry\u001b[0m\u001b[1;33m:\u001b[0m\u001b[1;33m\u001b[0m\u001b[1;33m\u001b[0m\u001b[0m\n\u001b[1;32m-> 3361\u001b[1;33m                 \u001b[1;32mreturn\u001b[0m \u001b[0mself\u001b[0m\u001b[1;33m.\u001b[0m\u001b[0m_engine\u001b[0m\u001b[1;33m.\u001b[0m\u001b[0mget_loc\u001b[0m\u001b[1;33m(\u001b[0m\u001b[0mcasted_key\u001b[0m\u001b[1;33m)\u001b[0m\u001b[1;33m\u001b[0m\u001b[1;33m\u001b[0m\u001b[0m\n\u001b[0m\u001b[0;32m   3362\u001b[0m             \u001b[1;32mexcept\u001b[0m \u001b[0mKeyError\u001b[0m \u001b[1;32mas\u001b[0m \u001b[0merr\u001b[0m\u001b[1;33m:\u001b[0m\u001b[1;33m\u001b[0m\u001b[1;33m\u001b[0m\u001b[0m\n",
      "\u001b[1;32m~\\anaconda3\\envs\\mlenv\\lib\\site-packages\\pandas\\_libs\\index.pyx\u001b[0m in \u001b[0;36mpandas._libs.index.IndexEngine.get_loc\u001b[1;34m()\u001b[0m\n",
      "\u001b[1;32m~\\anaconda3\\envs\\mlenv\\lib\\site-packages\\pandas\\_libs\\index.pyx\u001b[0m in \u001b[0;36mpandas._libs.index.IndexEngine.get_loc\u001b[1;34m()\u001b[0m\n",
      "\u001b[1;32mpandas\\_libs\\hashtable_class_helper.pxi\u001b[0m in \u001b[0;36mpandas._libs.hashtable.PyObjectHashTable.get_item\u001b[1;34m()\u001b[0m\n",
      "\u001b[1;32mpandas\\_libs\\hashtable_class_helper.pxi\u001b[0m in \u001b[0;36mpandas._libs.hashtable.PyObjectHashTable.get_item\u001b[1;34m()\u001b[0m\n",
      "\u001b[1;31mKeyError\u001b[0m: 'IsTrading'",
      "\nThe above exception was the direct cause of the following exception:\n",
      "\u001b[1;31mKeyError\u001b[0m                                  Traceback (most recent call last)",
      "\u001b[1;32m~\\AppData\\Local\\Temp\\ipykernel_7432\\533458737.py\u001b[0m in \u001b[0;36m<module>\u001b[1;34m\u001b[0m\n\u001b[0;32m      1\u001b[0m \u001b[1;32mfor\u001b[0m \u001b[0mcolumn\u001b[0m \u001b[1;32min\u001b[0m \u001b[0mdf_crypto\u001b[0m\u001b[1;33m.\u001b[0m\u001b[0mcolumns\u001b[0m\u001b[1;33m:\u001b[0m\u001b[1;33m\u001b[0m\u001b[1;33m\u001b[0m\u001b[0m\n\u001b[1;32m----> 2\u001b[1;33m     \u001b[0mprint\u001b[0m\u001b[1;33m(\u001b[0m \u001b[1;34mf\"Column {column} has {df_crypto_clean[column].isnull().sum()} null values\"\u001b[0m\u001b[1;33m)\u001b[0m\u001b[1;33m\u001b[0m\u001b[1;33m\u001b[0m\u001b[0m\n\u001b[0m",
      "\u001b[1;32m~\\anaconda3\\envs\\mlenv\\lib\\site-packages\\pandas\\core\\frame.py\u001b[0m in \u001b[0;36m__getitem__\u001b[1;34m(self, key)\u001b[0m\n\u001b[0;32m   3456\u001b[0m             \u001b[1;32mif\u001b[0m \u001b[0mself\u001b[0m\u001b[1;33m.\u001b[0m\u001b[0mcolumns\u001b[0m\u001b[1;33m.\u001b[0m\u001b[0mnlevels\u001b[0m \u001b[1;33m>\u001b[0m \u001b[1;36m1\u001b[0m\u001b[1;33m:\u001b[0m\u001b[1;33m\u001b[0m\u001b[1;33m\u001b[0m\u001b[0m\n\u001b[0;32m   3457\u001b[0m                 \u001b[1;32mreturn\u001b[0m \u001b[0mself\u001b[0m\u001b[1;33m.\u001b[0m\u001b[0m_getitem_multilevel\u001b[0m\u001b[1;33m(\u001b[0m\u001b[0mkey\u001b[0m\u001b[1;33m)\u001b[0m\u001b[1;33m\u001b[0m\u001b[1;33m\u001b[0m\u001b[0m\n\u001b[1;32m-> 3458\u001b[1;33m             \u001b[0mindexer\u001b[0m \u001b[1;33m=\u001b[0m \u001b[0mself\u001b[0m\u001b[1;33m.\u001b[0m\u001b[0mcolumns\u001b[0m\u001b[1;33m.\u001b[0m\u001b[0mget_loc\u001b[0m\u001b[1;33m(\u001b[0m\u001b[0mkey\u001b[0m\u001b[1;33m)\u001b[0m\u001b[1;33m\u001b[0m\u001b[1;33m\u001b[0m\u001b[0m\n\u001b[0m\u001b[0;32m   3459\u001b[0m             \u001b[1;32mif\u001b[0m \u001b[0mis_integer\u001b[0m\u001b[1;33m(\u001b[0m\u001b[0mindexer\u001b[0m\u001b[1;33m)\u001b[0m\u001b[1;33m:\u001b[0m\u001b[1;33m\u001b[0m\u001b[1;33m\u001b[0m\u001b[0m\n\u001b[0;32m   3460\u001b[0m                 \u001b[0mindexer\u001b[0m \u001b[1;33m=\u001b[0m \u001b[1;33m[\u001b[0m\u001b[0mindexer\u001b[0m\u001b[1;33m]\u001b[0m\u001b[1;33m\u001b[0m\u001b[1;33m\u001b[0m\u001b[0m\n",
      "\u001b[1;32m~\\anaconda3\\envs\\mlenv\\lib\\site-packages\\pandas\\core\\indexes\\base.py\u001b[0m in \u001b[0;36mget_loc\u001b[1;34m(self, key, method, tolerance)\u001b[0m\n\u001b[0;32m   3361\u001b[0m                 \u001b[1;32mreturn\u001b[0m \u001b[0mself\u001b[0m\u001b[1;33m.\u001b[0m\u001b[0m_engine\u001b[0m\u001b[1;33m.\u001b[0m\u001b[0mget_loc\u001b[0m\u001b[1;33m(\u001b[0m\u001b[0mcasted_key\u001b[0m\u001b[1;33m)\u001b[0m\u001b[1;33m\u001b[0m\u001b[1;33m\u001b[0m\u001b[0m\n\u001b[0;32m   3362\u001b[0m             \u001b[1;32mexcept\u001b[0m \u001b[0mKeyError\u001b[0m \u001b[1;32mas\u001b[0m \u001b[0merr\u001b[0m\u001b[1;33m:\u001b[0m\u001b[1;33m\u001b[0m\u001b[1;33m\u001b[0m\u001b[0m\n\u001b[1;32m-> 3363\u001b[1;33m                 \u001b[1;32mraise\u001b[0m \u001b[0mKeyError\u001b[0m\u001b[1;33m(\u001b[0m\u001b[0mkey\u001b[0m\u001b[1;33m)\u001b[0m \u001b[1;32mfrom\u001b[0m \u001b[0merr\u001b[0m\u001b[1;33m\u001b[0m\u001b[1;33m\u001b[0m\u001b[0m\n\u001b[0m\u001b[0;32m   3364\u001b[0m \u001b[1;33m\u001b[0m\u001b[0m\n\u001b[0;32m   3365\u001b[0m         \u001b[1;32mif\u001b[0m \u001b[0mis_scalar\u001b[0m\u001b[1;33m(\u001b[0m\u001b[0mkey\u001b[0m\u001b[1;33m)\u001b[0m \u001b[1;32mand\u001b[0m \u001b[0misna\u001b[0m\u001b[1;33m(\u001b[0m\u001b[0mkey\u001b[0m\u001b[1;33m)\u001b[0m \u001b[1;32mand\u001b[0m \u001b[1;32mnot\u001b[0m \u001b[0mself\u001b[0m\u001b[1;33m.\u001b[0m\u001b[0mhasnans\u001b[0m\u001b[1;33m:\u001b[0m\u001b[1;33m\u001b[0m\u001b[1;33m\u001b[0m\u001b[0m\n",
      "\u001b[1;31mKeyError\u001b[0m: 'IsTrading'"
     ]
    }
   ],
   "source": [
    "for column in df_crypto.columns:\n",
    "    print( f\"Column {column} has {df_crypto_clean[column].isnull().sum()} null values\")"
   ]
  },
  {
   "cell_type": "code",
   "execution_count": 309,
   "metadata": {},
   "outputs": [
    {
     "data": {
      "text/html": [
       "<div>\n",
       "<style scoped>\n",
       "    .dataframe tbody tr th:only-of-type {\n",
       "        vertical-align: middle;\n",
       "    }\n",
       "\n",
       "    .dataframe tbody tr th {\n",
       "        vertical-align: top;\n",
       "    }\n",
       "\n",
       "    .dataframe thead th {\n",
       "        text-align: right;\n",
       "    }\n",
       "</style>\n",
       "<table border=\"1\" class=\"dataframe\">\n",
       "  <thead>\n",
       "    <tr style=\"text-align: right;\">\n",
       "      <th></th>\n",
       "      <th>Unnamed: 0</th>\n",
       "      <th>CoinName</th>\n",
       "      <th>Algorithm</th>\n",
       "      <th>ProofType</th>\n",
       "      <th>TotalCoinsMined</th>\n",
       "      <th>TotalCoinSupply</th>\n",
       "    </tr>\n",
       "  </thead>\n",
       "  <tbody>\n",
       "    <tr>\n",
       "      <th>0</th>\n",
       "      <td>42</td>\n",
       "      <td>42 Coin</td>\n",
       "      <td>Scrypt</td>\n",
       "      <td>PoW/PoS</td>\n",
       "      <td>4.199995e+01</td>\n",
       "      <td>42</td>\n",
       "    </tr>\n",
       "    <tr>\n",
       "      <th>2</th>\n",
       "      <td>404</td>\n",
       "      <td>404Coin</td>\n",
       "      <td>Scrypt</td>\n",
       "      <td>PoW/PoS</td>\n",
       "      <td>1.055185e+09</td>\n",
       "      <td>532000000</td>\n",
       "    </tr>\n",
       "    <tr>\n",
       "      <th>5</th>\n",
       "      <td>1337</td>\n",
       "      <td>EliteCoin</td>\n",
       "      <td>X13</td>\n",
       "      <td>PoW/PoS</td>\n",
       "      <td>2.927942e+10</td>\n",
       "      <td>314159265359</td>\n",
       "    </tr>\n",
       "    <tr>\n",
       "      <th>7</th>\n",
       "      <td>BTC</td>\n",
       "      <td>Bitcoin</td>\n",
       "      <td>SHA-256</td>\n",
       "      <td>PoW</td>\n",
       "      <td>1.792718e+07</td>\n",
       "      <td>21000000</td>\n",
       "    </tr>\n",
       "    <tr>\n",
       "      <th>8</th>\n",
       "      <td>ETH</td>\n",
       "      <td>Ethereum</td>\n",
       "      <td>Ethash</td>\n",
       "      <td>PoW</td>\n",
       "      <td>1.076842e+08</td>\n",
       "      <td>0</td>\n",
       "    </tr>\n",
       "    <tr>\n",
       "      <th>...</th>\n",
       "      <td>...</td>\n",
       "      <td>...</td>\n",
       "      <td>...</td>\n",
       "      <td>...</td>\n",
       "      <td>...</td>\n",
       "      <td>...</td>\n",
       "    </tr>\n",
       "    <tr>\n",
       "      <th>1238</th>\n",
       "      <td>ZEPH</td>\n",
       "      <td>ZEPHYR</td>\n",
       "      <td>SHA-256</td>\n",
       "      <td>DPoS</td>\n",
       "      <td>2.000000e+09</td>\n",
       "      <td>2000000000</td>\n",
       "    </tr>\n",
       "    <tr>\n",
       "      <th>1242</th>\n",
       "      <td>GAP</td>\n",
       "      <td>Gapcoin</td>\n",
       "      <td>Scrypt</td>\n",
       "      <td>PoW/PoS</td>\n",
       "      <td>1.493105e+07</td>\n",
       "      <td>250000000</td>\n",
       "    </tr>\n",
       "    <tr>\n",
       "      <th>1245</th>\n",
       "      <td>BDX</td>\n",
       "      <td>Beldex</td>\n",
       "      <td>CryptoNight</td>\n",
       "      <td>PoW</td>\n",
       "      <td>9.802226e+08</td>\n",
       "      <td>1400222610</td>\n",
       "    </tr>\n",
       "    <tr>\n",
       "      <th>1246</th>\n",
       "      <td>ZEN</td>\n",
       "      <td>Horizen</td>\n",
       "      <td>Equihash</td>\n",
       "      <td>PoW</td>\n",
       "      <td>7.296538e+06</td>\n",
       "      <td>21000000</td>\n",
       "    </tr>\n",
       "    <tr>\n",
       "      <th>1247</th>\n",
       "      <td>XBC</td>\n",
       "      <td>BitcoinPlus</td>\n",
       "      <td>Scrypt</td>\n",
       "      <td>PoS</td>\n",
       "      <td>1.283270e+05</td>\n",
       "      <td>1000000</td>\n",
       "    </tr>\n",
       "  </tbody>\n",
       "</table>\n",
       "<p>532 rows × 6 columns</p>\n",
       "</div>"
      ],
      "text/plain": [
       "     Unnamed: 0     CoinName    Algorithm ProofType  TotalCoinsMined  \\\n",
       "0            42      42 Coin       Scrypt   PoW/PoS     4.199995e+01   \n",
       "2           404      404Coin       Scrypt   PoW/PoS     1.055185e+09   \n",
       "5          1337    EliteCoin          X13   PoW/PoS     2.927942e+10   \n",
       "7           BTC      Bitcoin      SHA-256       PoW     1.792718e+07   \n",
       "8           ETH     Ethereum       Ethash       PoW     1.076842e+08   \n",
       "...         ...          ...          ...       ...              ...   \n",
       "1238       ZEPH       ZEPHYR      SHA-256      DPoS     2.000000e+09   \n",
       "1242        GAP      Gapcoin       Scrypt   PoW/PoS     1.493105e+07   \n",
       "1245        BDX       Beldex  CryptoNight       PoW     9.802226e+08   \n",
       "1246        ZEN      Horizen     Equihash       PoW     7.296538e+06   \n",
       "1247        XBC  BitcoinPlus       Scrypt       PoS     1.283270e+05   \n",
       "\n",
       "     TotalCoinSupply  \n",
       "0                 42  \n",
       "2          532000000  \n",
       "5       314159265359  \n",
       "7           21000000  \n",
       "8                  0  \n",
       "...              ...  \n",
       "1238      2000000000  \n",
       "1242       250000000  \n",
       "1245      1400222610  \n",
       "1246        21000000  \n",
       "1247         1000000  \n",
       "\n",
       "[532 rows x 6 columns]"
      ]
     },
     "execution_count": 309,
     "metadata": {},
     "output_type": "execute_result"
    }
   ],
   "source": [
    "# Keep the rows where coins are mined.\n",
    "df_crypto_clean1 = df_crypto_clean[df_crypto_clean['TotalCoinsMined'] > 0]\n",
    "df_crypto_clean1"
   ]
  },
  {
   "cell_type": "code",
   "execution_count": 310,
   "metadata": {},
   "outputs": [
    {
     "data": {
      "text/html": [
       "<div>\n",
       "<style scoped>\n",
       "    .dataframe tbody tr th:only-of-type {\n",
       "        vertical-align: middle;\n",
       "    }\n",
       "\n",
       "    .dataframe tbody tr th {\n",
       "        vertical-align: top;\n",
       "    }\n",
       "\n",
       "    .dataframe thead th {\n",
       "        text-align: right;\n",
       "    }\n",
       "</style>\n",
       "<table border=\"1\" class=\"dataframe\">\n",
       "  <thead>\n",
       "    <tr style=\"text-align: right;\">\n",
       "      <th></th>\n",
       "      <th>CoinName</th>\n",
       "    </tr>\n",
       "  </thead>\n",
       "  <tbody>\n",
       "    <tr>\n",
       "      <th>0</th>\n",
       "      <td>42 Coin</td>\n",
       "    </tr>\n",
       "    <tr>\n",
       "      <th>2</th>\n",
       "      <td>404Coin</td>\n",
       "    </tr>\n",
       "    <tr>\n",
       "      <th>5</th>\n",
       "      <td>EliteCoin</td>\n",
       "    </tr>\n",
       "    <tr>\n",
       "      <th>7</th>\n",
       "      <td>Bitcoin</td>\n",
       "    </tr>\n",
       "    <tr>\n",
       "      <th>8</th>\n",
       "      <td>Ethereum</td>\n",
       "    </tr>\n",
       "    <tr>\n",
       "      <th>9</th>\n",
       "      <td>Litecoin</td>\n",
       "    </tr>\n",
       "    <tr>\n",
       "      <th>10</th>\n",
       "      <td>Dash</td>\n",
       "    </tr>\n",
       "    <tr>\n",
       "      <th>11</th>\n",
       "      <td>Monero</td>\n",
       "    </tr>\n",
       "    <tr>\n",
       "      <th>12</th>\n",
       "      <td>Ethereum Classic</td>\n",
       "    </tr>\n",
       "    <tr>\n",
       "      <th>13</th>\n",
       "      <td>ZCash</td>\n",
       "    </tr>\n",
       "  </tbody>\n",
       "</table>\n",
       "</div>"
      ],
      "text/plain": [
       "            CoinName\n",
       "0            42 Coin\n",
       "2            404Coin\n",
       "5          EliteCoin\n",
       "7            Bitcoin\n",
       "8           Ethereum\n",
       "9           Litecoin\n",
       "10              Dash\n",
       "11            Monero\n",
       "12  Ethereum Classic\n",
       "13             ZCash"
      ]
     },
     "execution_count": 310,
     "metadata": {},
     "output_type": "execute_result"
    }
   ],
   "source": [
    "# Create a new DataFrame that holds only the cryptocurrencies names.\n",
    "crypto_names = df_crypto_clean1.filter(['CoinName'], axis=1)\n",
    "crypto_names.head(10)"
   ]
  },
  {
   "cell_type": "code",
   "execution_count": null,
   "metadata": {},
   "outputs": [],
   "source": [
    "#df_crypto_clean2 = df_crypto_clean1.set_index('Unnamed: 0')\n",
    "#df_crypto_clean2.head(10)"
   ]
  },
  {
   "cell_type": "code",
   "execution_count": 313,
   "metadata": {},
   "outputs": [
    {
     "data": {
      "text/html": [
       "<div>\n",
       "<style scoped>\n",
       "    .dataframe tbody tr th:only-of-type {\n",
       "        vertical-align: middle;\n",
       "    }\n",
       "\n",
       "    .dataframe tbody tr th {\n",
       "        vertical-align: top;\n",
       "    }\n",
       "\n",
       "    .dataframe thead th {\n",
       "        text-align: right;\n",
       "    }\n",
       "</style>\n",
       "<table border=\"1\" class=\"dataframe\">\n",
       "  <thead>\n",
       "    <tr style=\"text-align: right;\">\n",
       "      <th></th>\n",
       "      <th>Unnamed: 0</th>\n",
       "      <th>Algorithm</th>\n",
       "      <th>ProofType</th>\n",
       "      <th>TotalCoinsMined</th>\n",
       "      <th>TotalCoinSupply</th>\n",
       "    </tr>\n",
       "  </thead>\n",
       "  <tbody>\n",
       "    <tr>\n",
       "      <th>0</th>\n",
       "      <td>42</td>\n",
       "      <td>Scrypt</td>\n",
       "      <td>PoW/PoS</td>\n",
       "      <td>4.199995e+01</td>\n",
       "      <td>42</td>\n",
       "    </tr>\n",
       "    <tr>\n",
       "      <th>2</th>\n",
       "      <td>404</td>\n",
       "      <td>Scrypt</td>\n",
       "      <td>PoW/PoS</td>\n",
       "      <td>1.055185e+09</td>\n",
       "      <td>532000000</td>\n",
       "    </tr>\n",
       "    <tr>\n",
       "      <th>5</th>\n",
       "      <td>1337</td>\n",
       "      <td>X13</td>\n",
       "      <td>PoW/PoS</td>\n",
       "      <td>2.927942e+10</td>\n",
       "      <td>314159265359</td>\n",
       "    </tr>\n",
       "    <tr>\n",
       "      <th>7</th>\n",
       "      <td>BTC</td>\n",
       "      <td>SHA-256</td>\n",
       "      <td>PoW</td>\n",
       "      <td>1.792718e+07</td>\n",
       "      <td>21000000</td>\n",
       "    </tr>\n",
       "    <tr>\n",
       "      <th>8</th>\n",
       "      <td>ETH</td>\n",
       "      <td>Ethash</td>\n",
       "      <td>PoW</td>\n",
       "      <td>1.076842e+08</td>\n",
       "      <td>0</td>\n",
       "    </tr>\n",
       "    <tr>\n",
       "      <th>9</th>\n",
       "      <td>LTC</td>\n",
       "      <td>Scrypt</td>\n",
       "      <td>PoW</td>\n",
       "      <td>6.303924e+07</td>\n",
       "      <td>84000000</td>\n",
       "    </tr>\n",
       "    <tr>\n",
       "      <th>10</th>\n",
       "      <td>DASH</td>\n",
       "      <td>X11</td>\n",
       "      <td>PoW/PoS</td>\n",
       "      <td>9.031294e+06</td>\n",
       "      <td>22000000</td>\n",
       "    </tr>\n",
       "    <tr>\n",
       "      <th>11</th>\n",
       "      <td>XMR</td>\n",
       "      <td>CryptoNight-V7</td>\n",
       "      <td>PoW</td>\n",
       "      <td>1.720114e+07</td>\n",
       "      <td>0</td>\n",
       "    </tr>\n",
       "    <tr>\n",
       "      <th>12</th>\n",
       "      <td>ETC</td>\n",
       "      <td>Ethash</td>\n",
       "      <td>PoW</td>\n",
       "      <td>1.133597e+08</td>\n",
       "      <td>210000000</td>\n",
       "    </tr>\n",
       "    <tr>\n",
       "      <th>13</th>\n",
       "      <td>ZEC</td>\n",
       "      <td>Equihash</td>\n",
       "      <td>PoW</td>\n",
       "      <td>7.383056e+06</td>\n",
       "      <td>21000000</td>\n",
       "    </tr>\n",
       "  </tbody>\n",
       "</table>\n",
       "</div>"
      ],
      "text/plain": [
       "   Unnamed: 0       Algorithm ProofType  TotalCoinsMined TotalCoinSupply\n",
       "0          42          Scrypt   PoW/PoS     4.199995e+01              42\n",
       "2         404          Scrypt   PoW/PoS     1.055185e+09       532000000\n",
       "5        1337             X13   PoW/PoS     2.927942e+10    314159265359\n",
       "7         BTC         SHA-256       PoW     1.792718e+07        21000000\n",
       "8         ETH          Ethash       PoW     1.076842e+08               0\n",
       "9         LTC          Scrypt       PoW     6.303924e+07        84000000\n",
       "10       DASH             X11   PoW/PoS     9.031294e+06        22000000\n",
       "11        XMR  CryptoNight-V7       PoW     1.720114e+07               0\n",
       "12        ETC          Ethash       PoW     1.133597e+08       210000000\n",
       "13        ZEC        Equihash       PoW     7.383056e+06        21000000"
      ]
     },
     "execution_count": 313,
     "metadata": {},
     "output_type": "execute_result"
    }
   ],
   "source": [
    "# Drop the 'CoinName' column since it's not going to be used on the clustering algorithm.\n",
    "df_crypto_clean3 = df_crypto_clean1.drop(columns=['CoinName'])\n",
    "df_crypto_clean3.head(10)"
   ]
  },
  {
   "cell_type": "code",
   "execution_count": 318,
   "metadata": {},
   "outputs": [
    {
     "data": {
      "text/html": [
       "<div>\n",
       "<style scoped>\n",
       "    .dataframe tbody tr th:only-of-type {\n",
       "        vertical-align: middle;\n",
       "    }\n",
       "\n",
       "    .dataframe tbody tr th {\n",
       "        vertical-align: top;\n",
       "    }\n",
       "\n",
       "    .dataframe thead th {\n",
       "        text-align: right;\n",
       "    }\n",
       "</style>\n",
       "<table border=\"1\" class=\"dataframe\">\n",
       "  <thead>\n",
       "    <tr style=\"text-align: right;\">\n",
       "      <th></th>\n",
       "      <th>Unnamed: 0</th>\n",
       "      <th>TotalCoinsMined</th>\n",
       "      <th>TotalCoinSupply</th>\n",
       "      <th>Algorithm_1GB AES Pattern Search</th>\n",
       "      <th>Algorithm_536</th>\n",
       "      <th>Algorithm_Argon2d</th>\n",
       "      <th>Algorithm_BLAKE256</th>\n",
       "      <th>Algorithm_Blake</th>\n",
       "      <th>Algorithm_Blake2S</th>\n",
       "      <th>Algorithm_Blake2b</th>\n",
       "      <th>...</th>\n",
       "      <th>ProofType_PoW/PoS</th>\n",
       "      <th>ProofType_PoW/PoS</th>\n",
       "      <th>ProofType_PoW/PoW</th>\n",
       "      <th>ProofType_PoW/nPoS</th>\n",
       "      <th>ProofType_Pos</th>\n",
       "      <th>ProofType_Proof of Authority</th>\n",
       "      <th>ProofType_Proof of Trust</th>\n",
       "      <th>ProofType_TPoS</th>\n",
       "      <th>ProofType_Zero-Knowledge Proof</th>\n",
       "      <th>ProofType_dPoW/PoW</th>\n",
       "    </tr>\n",
       "  </thead>\n",
       "  <tbody>\n",
       "    <tr>\n",
       "      <th>0</th>\n",
       "      <td>42</td>\n",
       "      <td>4.199995e+01</td>\n",
       "      <td>42</td>\n",
       "      <td>0</td>\n",
       "      <td>0</td>\n",
       "      <td>0</td>\n",
       "      <td>0</td>\n",
       "      <td>0</td>\n",
       "      <td>0</td>\n",
       "      <td>0</td>\n",
       "      <td>...</td>\n",
       "      <td>1</td>\n",
       "      <td>0</td>\n",
       "      <td>0</td>\n",
       "      <td>0</td>\n",
       "      <td>0</td>\n",
       "      <td>0</td>\n",
       "      <td>0</td>\n",
       "      <td>0</td>\n",
       "      <td>0</td>\n",
       "      <td>0</td>\n",
       "    </tr>\n",
       "    <tr>\n",
       "      <th>2</th>\n",
       "      <td>404</td>\n",
       "      <td>1.055185e+09</td>\n",
       "      <td>532000000</td>\n",
       "      <td>0</td>\n",
       "      <td>0</td>\n",
       "      <td>0</td>\n",
       "      <td>0</td>\n",
       "      <td>0</td>\n",
       "      <td>0</td>\n",
       "      <td>0</td>\n",
       "      <td>...</td>\n",
       "      <td>1</td>\n",
       "      <td>0</td>\n",
       "      <td>0</td>\n",
       "      <td>0</td>\n",
       "      <td>0</td>\n",
       "      <td>0</td>\n",
       "      <td>0</td>\n",
       "      <td>0</td>\n",
       "      <td>0</td>\n",
       "      <td>0</td>\n",
       "    </tr>\n",
       "    <tr>\n",
       "      <th>5</th>\n",
       "      <td>1337</td>\n",
       "      <td>2.927942e+10</td>\n",
       "      <td>314159265359</td>\n",
       "      <td>0</td>\n",
       "      <td>0</td>\n",
       "      <td>0</td>\n",
       "      <td>0</td>\n",
       "      <td>0</td>\n",
       "      <td>0</td>\n",
       "      <td>0</td>\n",
       "      <td>...</td>\n",
       "      <td>1</td>\n",
       "      <td>0</td>\n",
       "      <td>0</td>\n",
       "      <td>0</td>\n",
       "      <td>0</td>\n",
       "      <td>0</td>\n",
       "      <td>0</td>\n",
       "      <td>0</td>\n",
       "      <td>0</td>\n",
       "      <td>0</td>\n",
       "    </tr>\n",
       "    <tr>\n",
       "      <th>7</th>\n",
       "      <td>BTC</td>\n",
       "      <td>1.792718e+07</td>\n",
       "      <td>21000000</td>\n",
       "      <td>0</td>\n",
       "      <td>0</td>\n",
       "      <td>0</td>\n",
       "      <td>0</td>\n",
       "      <td>0</td>\n",
       "      <td>0</td>\n",
       "      <td>0</td>\n",
       "      <td>...</td>\n",
       "      <td>0</td>\n",
       "      <td>0</td>\n",
       "      <td>0</td>\n",
       "      <td>0</td>\n",
       "      <td>0</td>\n",
       "      <td>0</td>\n",
       "      <td>0</td>\n",
       "      <td>0</td>\n",
       "      <td>0</td>\n",
       "      <td>0</td>\n",
       "    </tr>\n",
       "    <tr>\n",
       "      <th>8</th>\n",
       "      <td>ETH</td>\n",
       "      <td>1.076842e+08</td>\n",
       "      <td>0</td>\n",
       "      <td>0</td>\n",
       "      <td>0</td>\n",
       "      <td>0</td>\n",
       "      <td>0</td>\n",
       "      <td>0</td>\n",
       "      <td>0</td>\n",
       "      <td>0</td>\n",
       "      <td>...</td>\n",
       "      <td>0</td>\n",
       "      <td>0</td>\n",
       "      <td>0</td>\n",
       "      <td>0</td>\n",
       "      <td>0</td>\n",
       "      <td>0</td>\n",
       "      <td>0</td>\n",
       "      <td>0</td>\n",
       "      <td>0</td>\n",
       "      <td>0</td>\n",
       "    </tr>\n",
       "    <tr>\n",
       "      <th>...</th>\n",
       "      <td>...</td>\n",
       "      <td>...</td>\n",
       "      <td>...</td>\n",
       "      <td>...</td>\n",
       "      <td>...</td>\n",
       "      <td>...</td>\n",
       "      <td>...</td>\n",
       "      <td>...</td>\n",
       "      <td>...</td>\n",
       "      <td>...</td>\n",
       "      <td>...</td>\n",
       "      <td>...</td>\n",
       "      <td>...</td>\n",
       "      <td>...</td>\n",
       "      <td>...</td>\n",
       "      <td>...</td>\n",
       "      <td>...</td>\n",
       "      <td>...</td>\n",
       "      <td>...</td>\n",
       "      <td>...</td>\n",
       "      <td>...</td>\n",
       "    </tr>\n",
       "    <tr>\n",
       "      <th>1238</th>\n",
       "      <td>ZEPH</td>\n",
       "      <td>2.000000e+09</td>\n",
       "      <td>2000000000</td>\n",
       "      <td>0</td>\n",
       "      <td>0</td>\n",
       "      <td>0</td>\n",
       "      <td>0</td>\n",
       "      <td>0</td>\n",
       "      <td>0</td>\n",
       "      <td>0</td>\n",
       "      <td>...</td>\n",
       "      <td>0</td>\n",
       "      <td>0</td>\n",
       "      <td>0</td>\n",
       "      <td>0</td>\n",
       "      <td>0</td>\n",
       "      <td>0</td>\n",
       "      <td>0</td>\n",
       "      <td>0</td>\n",
       "      <td>0</td>\n",
       "      <td>0</td>\n",
       "    </tr>\n",
       "    <tr>\n",
       "      <th>1242</th>\n",
       "      <td>GAP</td>\n",
       "      <td>1.493105e+07</td>\n",
       "      <td>250000000</td>\n",
       "      <td>0</td>\n",
       "      <td>0</td>\n",
       "      <td>0</td>\n",
       "      <td>0</td>\n",
       "      <td>0</td>\n",
       "      <td>0</td>\n",
       "      <td>0</td>\n",
       "      <td>...</td>\n",
       "      <td>1</td>\n",
       "      <td>0</td>\n",
       "      <td>0</td>\n",
       "      <td>0</td>\n",
       "      <td>0</td>\n",
       "      <td>0</td>\n",
       "      <td>0</td>\n",
       "      <td>0</td>\n",
       "      <td>0</td>\n",
       "      <td>0</td>\n",
       "    </tr>\n",
       "    <tr>\n",
       "      <th>1245</th>\n",
       "      <td>BDX</td>\n",
       "      <td>9.802226e+08</td>\n",
       "      <td>1400222610</td>\n",
       "      <td>0</td>\n",
       "      <td>0</td>\n",
       "      <td>0</td>\n",
       "      <td>0</td>\n",
       "      <td>0</td>\n",
       "      <td>0</td>\n",
       "      <td>0</td>\n",
       "      <td>...</td>\n",
       "      <td>0</td>\n",
       "      <td>0</td>\n",
       "      <td>0</td>\n",
       "      <td>0</td>\n",
       "      <td>0</td>\n",
       "      <td>0</td>\n",
       "      <td>0</td>\n",
       "      <td>0</td>\n",
       "      <td>0</td>\n",
       "      <td>0</td>\n",
       "    </tr>\n",
       "    <tr>\n",
       "      <th>1246</th>\n",
       "      <td>ZEN</td>\n",
       "      <td>7.296538e+06</td>\n",
       "      <td>21000000</td>\n",
       "      <td>0</td>\n",
       "      <td>0</td>\n",
       "      <td>0</td>\n",
       "      <td>0</td>\n",
       "      <td>0</td>\n",
       "      <td>0</td>\n",
       "      <td>0</td>\n",
       "      <td>...</td>\n",
       "      <td>0</td>\n",
       "      <td>0</td>\n",
       "      <td>0</td>\n",
       "      <td>0</td>\n",
       "      <td>0</td>\n",
       "      <td>0</td>\n",
       "      <td>0</td>\n",
       "      <td>0</td>\n",
       "      <td>0</td>\n",
       "      <td>0</td>\n",
       "    </tr>\n",
       "    <tr>\n",
       "      <th>1247</th>\n",
       "      <td>XBC</td>\n",
       "      <td>1.283270e+05</td>\n",
       "      <td>1000000</td>\n",
       "      <td>0</td>\n",
       "      <td>0</td>\n",
       "      <td>0</td>\n",
       "      <td>0</td>\n",
       "      <td>0</td>\n",
       "      <td>0</td>\n",
       "      <td>0</td>\n",
       "      <td>...</td>\n",
       "      <td>0</td>\n",
       "      <td>0</td>\n",
       "      <td>0</td>\n",
       "      <td>0</td>\n",
       "      <td>0</td>\n",
       "      <td>0</td>\n",
       "      <td>0</td>\n",
       "      <td>0</td>\n",
       "      <td>0</td>\n",
       "      <td>0</td>\n",
       "    </tr>\n",
       "  </tbody>\n",
       "</table>\n",
       "<p>532 rows × 99 columns</p>\n",
       "</div>"
      ],
      "text/plain": [
       "     Unnamed: 0  TotalCoinsMined TotalCoinSupply  \\\n",
       "0            42     4.199995e+01              42   \n",
       "2           404     1.055185e+09       532000000   \n",
       "5          1337     2.927942e+10    314159265359   \n",
       "7           BTC     1.792718e+07        21000000   \n",
       "8           ETH     1.076842e+08               0   \n",
       "...         ...              ...             ...   \n",
       "1238       ZEPH     2.000000e+09      2000000000   \n",
       "1242        GAP     1.493105e+07       250000000   \n",
       "1245        BDX     9.802226e+08      1400222610   \n",
       "1246        ZEN     7.296538e+06        21000000   \n",
       "1247        XBC     1.283270e+05         1000000   \n",
       "\n",
       "      Algorithm_1GB AES Pattern Search  Algorithm_536  Algorithm_Argon2d  \\\n",
       "0                                    0              0                  0   \n",
       "2                                    0              0                  0   \n",
       "5                                    0              0                  0   \n",
       "7                                    0              0                  0   \n",
       "8                                    0              0                  0   \n",
       "...                                ...            ...                ...   \n",
       "1238                                 0              0                  0   \n",
       "1242                                 0              0                  0   \n",
       "1245                                 0              0                  0   \n",
       "1246                                 0              0                  0   \n",
       "1247                                 0              0                  0   \n",
       "\n",
       "      Algorithm_BLAKE256  Algorithm_Blake  Algorithm_Blake2S  \\\n",
       "0                      0                0                  0   \n",
       "2                      0                0                  0   \n",
       "5                      0                0                  0   \n",
       "7                      0                0                  0   \n",
       "8                      0                0                  0   \n",
       "...                  ...              ...                ...   \n",
       "1238                   0                0                  0   \n",
       "1242                   0                0                  0   \n",
       "1245                   0                0                  0   \n",
       "1246                   0                0                  0   \n",
       "1247                   0                0                  0   \n",
       "\n",
       "      Algorithm_Blake2b  ...  ProofType_PoW/PoS  ProofType_PoW/PoS   \\\n",
       "0                     0  ...                  1                   0   \n",
       "2                     0  ...                  1                   0   \n",
       "5                     0  ...                  1                   0   \n",
       "7                     0  ...                  0                   0   \n",
       "8                     0  ...                  0                   0   \n",
       "...                 ...  ...                ...                 ...   \n",
       "1238                  0  ...                  0                   0   \n",
       "1242                  0  ...                  1                   0   \n",
       "1245                  0  ...                  0                   0   \n",
       "1246                  0  ...                  0                   0   \n",
       "1247                  0  ...                  0                   0   \n",
       "\n",
       "      ProofType_PoW/PoW  ProofType_PoW/nPoS  ProofType_Pos  \\\n",
       "0                     0                   0              0   \n",
       "2                     0                   0              0   \n",
       "5                     0                   0              0   \n",
       "7                     0                   0              0   \n",
       "8                     0                   0              0   \n",
       "...                 ...                 ...            ...   \n",
       "1238                  0                   0              0   \n",
       "1242                  0                   0              0   \n",
       "1245                  0                   0              0   \n",
       "1246                  0                   0              0   \n",
       "1247                  0                   0              0   \n",
       "\n",
       "      ProofType_Proof of Authority  ProofType_Proof of Trust  ProofType_TPoS  \\\n",
       "0                                0                         0               0   \n",
       "2                                0                         0               0   \n",
       "5                                0                         0               0   \n",
       "7                                0                         0               0   \n",
       "8                                0                         0               0   \n",
       "...                            ...                       ...             ...   \n",
       "1238                             0                         0               0   \n",
       "1242                             0                         0               0   \n",
       "1245                             0                         0               0   \n",
       "1246                             0                         0               0   \n",
       "1247                             0                         0               0   \n",
       "\n",
       "      ProofType_Zero-Knowledge Proof  ProofType_dPoW/PoW  \n",
       "0                                  0                   0  \n",
       "2                                  0                   0  \n",
       "5                                  0                   0  \n",
       "7                                  0                   0  \n",
       "8                                  0                   0  \n",
       "...                              ...                 ...  \n",
       "1238                               0                   0  \n",
       "1242                               0                   0  \n",
       "1245                               0                   0  \n",
       "1246                               0                   0  \n",
       "1247                               0                   0  \n",
       "\n",
       "[532 rows x 99 columns]"
      ]
     },
     "execution_count": 318,
     "metadata": {},
     "output_type": "execute_result"
    }
   ],
   "source": [
    "# Use get_dummies() to create variables for text features.\n",
    "X = pd.get_dummies(df_crypto_clean3, columns=['Algorithm', 'ProofType'])\n",
    "X"
   ]
  },
  {
   "cell_type": "code",
   "execution_count": 319,
   "metadata": {},
   "outputs": [
    {
     "name": "stdout",
     "output_type": "stream",
     "text": [
      "[[-0.11710817 -0.1528703  -0.0433963  ... -0.0433963  -0.0433963\n",
      "  -0.0433963 ]\n",
      " [-0.09396955 -0.145009   -0.0433963  ... -0.0433963  -0.0433963\n",
      "  -0.0433963 ]\n",
      " [ 0.52494561  4.48942416 -0.0433963  ... -0.0433963  -0.0433963\n",
      "  -0.0433963 ]\n",
      " ...\n",
      " [-0.09561336 -0.13217937 -0.0433963  ... -0.0433963  -0.0433963\n",
      "  -0.0433963 ]\n",
      " [-0.11694817 -0.15255998 -0.0433963  ... -0.0433963  -0.0433963\n",
      "  -0.0433963 ]\n",
      " [-0.11710536 -0.15285552 -0.0433963  ... -0.0433963  -0.0433963\n",
      "  -0.0433963 ]]\n"
     ]
    }
   ],
   "source": [
    "#Removing Unnamed: 0 due it it causing errors.  cant use it for index as it will impact the join between CoinNames and dataframe\n",
    "X = X.drop(columns=['Unnamed: 0'])\n",
    "\n",
    "# Standardize the data with StandardScaler().\n",
    "X_scaled = StandardScaler().fit_transform(X)\n",
    "print(X_scaled)"
   ]
  },
  {
   "cell_type": "markdown",
   "metadata": {},
   "source": [
    "### Deliverable 2: Reducing Data Dimensions Using PCA"
   ]
  },
  {
   "cell_type": "code",
   "execution_count": 320,
   "metadata": {},
   "outputs": [
    {
     "data": {
      "text/plain": [
       "array([[-0.33018091,  0.99726381, -0.57169132],\n",
       "       [-0.31352749,  0.99729304, -0.57197697],\n",
       "       [ 2.29140953,  1.50773498, -0.57861215],\n",
       "       ...,\n",
       "       [ 0.32847488, -2.27519191,  0.40912278],\n",
       "       [-0.1789614 , -2.06522187,  0.44147079],\n",
       "       [-0.2835482 ,  0.93706667, -0.31360415]])"
      ]
     },
     "execution_count": 320,
     "metadata": {},
     "output_type": "execute_result"
    }
   ],
   "source": [
    "# Using PCA to reduce dimension to three principal components.\n",
    "pca = PCA(n_components=3)\n",
    "X_pca = pca.fit_transform(X_scaled)\n",
    "X_pca"
   ]
  },
  {
   "cell_type": "code",
   "execution_count": 332,
   "metadata": {},
   "outputs": [
    {
     "data": {
      "text/html": [
       "<div>\n",
       "<style scoped>\n",
       "    .dataframe tbody tr th:only-of-type {\n",
       "        vertical-align: middle;\n",
       "    }\n",
       "\n",
       "    .dataframe tbody tr th {\n",
       "        vertical-align: top;\n",
       "    }\n",
       "\n",
       "    .dataframe thead th {\n",
       "        text-align: right;\n",
       "    }\n",
       "</style>\n",
       "<table border=\"1\" class=\"dataframe\">\n",
       "  <thead>\n",
       "    <tr style=\"text-align: right;\">\n",
       "      <th></th>\n",
       "      <th>principal component 1</th>\n",
       "      <th>principal component 2</th>\n",
       "      <th>principal component 3</th>\n",
       "    </tr>\n",
       "  </thead>\n",
       "  <tbody>\n",
       "    <tr>\n",
       "      <th>0</th>\n",
       "      <td>-0.330181</td>\n",
       "      <td>0.997264</td>\n",
       "      <td>-0.571691</td>\n",
       "    </tr>\n",
       "    <tr>\n",
       "      <th>2</th>\n",
       "      <td>-0.313527</td>\n",
       "      <td>0.997293</td>\n",
       "      <td>-0.571977</td>\n",
       "    </tr>\n",
       "    <tr>\n",
       "      <th>5</th>\n",
       "      <td>2.291410</td>\n",
       "      <td>1.507735</td>\n",
       "      <td>-0.578612</td>\n",
       "    </tr>\n",
       "    <tr>\n",
       "      <th>7</th>\n",
       "      <td>-0.144191</td>\n",
       "      <td>-1.313847</td>\n",
       "      <td>0.240803</td>\n",
       "    </tr>\n",
       "    <tr>\n",
       "      <th>8</th>\n",
       "      <td>-0.153218</td>\n",
       "      <td>-1.996841</td>\n",
       "      <td>0.356861</td>\n",
       "    </tr>\n",
       "  </tbody>\n",
       "</table>\n",
       "</div>"
      ],
      "text/plain": [
       "   principal component 1  principal component 2  principal component 3\n",
       "0              -0.330181               0.997264              -0.571691\n",
       "2              -0.313527               0.997293              -0.571977\n",
       "5               2.291410               1.507735              -0.578612\n",
       "7              -0.144191              -1.313847               0.240803\n",
       "8              -0.153218              -1.996841               0.356861"
      ]
     },
     "execution_count": 332,
     "metadata": {},
     "output_type": "execute_result"
    }
   ],
   "source": [
    "# Create a DataFrame with the three principal components.\n",
    "pcs_df = pd.DataFrame(\n",
    "    data=X_pca, columns=['principal component 1', \"principal component 2\", \"principal component 3\"], index=X.index)\n",
    "pcs_df.head()"
   ]
  },
  {
   "cell_type": "markdown",
   "metadata": {},
   "source": [
    "### Deliverable 3: Clustering Crytocurrencies Using K-Means\n",
    "\n",
    "#### Finding the Best Value for `k` Using the Elbow Curve"
   ]
  },
  {
   "cell_type": "markdown",
   "metadata": {},
   "source": [
    "Running K-Means with `k=4`"
   ]
  },
  {
   "cell_type": "code",
   "execution_count": 333,
   "metadata": {},
   "outputs": [
    {
     "name": "stderr",
     "output_type": "stream",
     "text": [
      "C:\\Users\\jhillman\\anaconda3\\envs\\mlenv\\lib\\site-packages\\sklearn\\cluster\\_kmeans.py:1037: UserWarning:\n",
      "\n",
      "KMeans is known to have a memory leak on Windows with MKL, when there are less chunks than available threads. You can avoid it by setting the environment variable OMP_NUM_THREADS=3.\n",
      "\n"
     ]
    },
    {
     "data": {
      "text/html": [
       "<div>\n",
       "<style scoped>\n",
       "    .dataframe tbody tr th:only-of-type {\n",
       "        vertical-align: middle;\n",
       "    }\n",
       "\n",
       "    .dataframe tbody tr th {\n",
       "        vertical-align: top;\n",
       "    }\n",
       "\n",
       "    .dataframe thead th {\n",
       "        text-align: right;\n",
       "    }\n",
       "</style>\n",
       "<table border=\"1\" class=\"dataframe\">\n",
       "  <thead>\n",
       "    <tr style=\"text-align: right;\">\n",
       "      <th></th>\n",
       "      <th>k</th>\n",
       "      <th>inertia</th>\n",
       "    </tr>\n",
       "  </thead>\n",
       "  <tbody>\n",
       "    <tr>\n",
       "      <th>0</th>\n",
       "      <td>1</td>\n",
       "      <td>3638.817464</td>\n",
       "    </tr>\n",
       "    <tr>\n",
       "      <th>1</th>\n",
       "      <td>2</td>\n",
       "      <td>2474.778520</td>\n",
       "    </tr>\n",
       "    <tr>\n",
       "      <th>2</th>\n",
       "      <td>3</td>\n",
       "      <td>1500.445859</td>\n",
       "    </tr>\n",
       "    <tr>\n",
       "      <th>3</th>\n",
       "      <td>4</td>\n",
       "      <td>536.445117</td>\n",
       "    </tr>\n",
       "    <tr>\n",
       "      <th>4</th>\n",
       "      <td>5</td>\n",
       "      <td>345.047281</td>\n",
       "    </tr>\n",
       "  </tbody>\n",
       "</table>\n",
       "</div>"
      ],
      "text/plain": [
       "   k      inertia\n",
       "0  1  3638.817464\n",
       "1  2  2474.778520\n",
       "2  3  1500.445859\n",
       "3  4   536.445117\n",
       "4  5   345.047281"
      ]
     },
     "execution_count": 333,
     "metadata": {},
     "output_type": "execute_result"
    }
   ],
   "source": [
    "# Create an elbow curve to find the best value for K.\n",
    "inertia = []\n",
    "k = list(range(1, 11))\n",
    "\n",
    "# Looking for the best K\n",
    "for i in k:\n",
    "    km = KMeans(n_clusters=i, random_state=0)\n",
    "    km.fit(pcs_df)\n",
    "    inertia.append(km.inertia_)\n",
    "    \n",
    "# Define a DataFrame to plot the Elbow Curve using hvPlot\n",
    "elbow_data = {\"k\": k, \"inertia\": inertia}\n",
    "df_elbow = pd.DataFrame(elbow_data)\n",
    "df_elbow.head()\n",
    "\n",
    "#df_elbow.hvplot.line(x=\"k\", y=\"inertia\", title=\"Elbow Curve\", xticks=k)"
   ]
  },
  {
   "cell_type": "code",
   "execution_count": 334,
   "metadata": {},
   "outputs": [
    {
     "data": {},
     "metadata": {},
     "output_type": "display_data"
    },
    {
     "data": {
      "application/vnd.holoviews_exec.v0+json": "",
      "text/html": [
       "<div id='1765'>\n",
       "  <div class=\"bk-root\" id=\"60bfe4ca-d887-4c79-bc5a-d888ee8e5be9\" data-root-id=\"1765\"></div>\n",
       "</div>\n",
       "<script type=\"application/javascript\">(function(root) {\n",
       "  function embed_document(root) {\n",
       "    var docs_json = {\"ae9698e7-704e-45c1-9a50-c48c0922716a\":{\"defs\":[{\"extends\":null,\"module\":null,\"name\":\"ReactiveHTML1\",\"overrides\":[],\"properties\":[]},{\"extends\":null,\"module\":null,\"name\":\"FlexBox1\",\"overrides\":[],\"properties\":[{\"default\":\"flex-start\",\"kind\":null,\"name\":\"align_content\"},{\"default\":\"flex-start\",\"kind\":null,\"name\":\"align_items\"},{\"default\":\"row\",\"kind\":null,\"name\":\"flex_direction\"},{\"default\":\"wrap\",\"kind\":null,\"name\":\"flex_wrap\"},{\"default\":\"flex-start\",\"kind\":null,\"name\":\"justify_content\"}]},{\"extends\":null,\"module\":null,\"name\":\"GridStack1\",\"overrides\":[],\"properties\":[{\"default\":\"warn\",\"kind\":null,\"name\":\"mode\"},{\"default\":null,\"kind\":null,\"name\":\"ncols\"},{\"default\":null,\"kind\":null,\"name\":\"nrows\"},{\"default\":true,\"kind\":null,\"name\":\"allow_resize\"},{\"default\":true,\"kind\":null,\"name\":\"allow_drag\"},{\"default\":[],\"kind\":null,\"name\":\"state\"}]},{\"extends\":null,\"module\":null,\"name\":\"click1\",\"overrides\":[],\"properties\":[{\"default\":\"\",\"kind\":null,\"name\":\"terminal_output\"},{\"default\":\"\",\"kind\":null,\"name\":\"debug_name\"},{\"default\":0,\"kind\":null,\"name\":\"clears\"}]},{\"extends\":null,\"module\":null,\"name\":\"NotificationAreaBase1\",\"overrides\":[],\"properties\":[{\"default\":\"bottom-right\",\"kind\":null,\"name\":\"position\"},{\"default\":0,\"kind\":null,\"name\":\"_clear\"}]},{\"extends\":null,\"module\":null,\"name\":\"NotificationArea1\",\"overrides\":[],\"properties\":[{\"default\":[],\"kind\":null,\"name\":\"notifications\"},{\"default\":\"bottom-right\",\"kind\":null,\"name\":\"position\"},{\"default\":0,\"kind\":null,\"name\":\"_clear\"},{\"default\":[{\"background\":\"#ffc107\",\"icon\":{\"className\":\"fas fa-exclamation-triangle\",\"color\":\"white\",\"tagName\":\"i\"},\"type\":\"warning\"},{\"background\":\"#007bff\",\"icon\":{\"className\":\"fas fa-info-circle\",\"color\":\"white\",\"tagName\":\"i\"},\"type\":\"info\"}],\"kind\":null,\"name\":\"types\"}]},{\"extends\":null,\"module\":null,\"name\":\"Notification\",\"overrides\":[],\"properties\":[{\"default\":null,\"kind\":null,\"name\":\"background\"},{\"default\":3000,\"kind\":null,\"name\":\"duration\"},{\"default\":null,\"kind\":null,\"name\":\"icon\"},{\"default\":\"\",\"kind\":null,\"name\":\"message\"},{\"default\":null,\"kind\":null,\"name\":\"notification_type\"},{\"default\":false,\"kind\":null,\"name\":\"_destroyed\"}]},{\"extends\":null,\"module\":null,\"name\":\"TemplateActions1\",\"overrides\":[],\"properties\":[{\"default\":0,\"kind\":null,\"name\":\"open_modal\"},{\"default\":0,\"kind\":null,\"name\":\"close_modal\"}]},{\"extends\":null,\"module\":null,\"name\":\"MaterialTemplateActions1\",\"overrides\":[],\"properties\":[{\"default\":0,\"kind\":null,\"name\":\"open_modal\"},{\"default\":0,\"kind\":null,\"name\":\"close_modal\"}]}],\"roots\":{\"references\":[{\"attributes\":{\"below\":[{\"id\":\"1779\"}],\"center\":[{\"id\":\"1782\"},{\"id\":\"1786\"}],\"height\":300,\"left\":[{\"id\":\"1783\"}],\"margin\":[5,5,5,5],\"min_border_bottom\":10,\"min_border_left\":10,\"min_border_right\":10,\"min_border_top\":10,\"renderers\":[{\"id\":\"1806\"}],\"sizing_mode\":\"fixed\",\"title\":{\"id\":\"1771\"},\"toolbar\":{\"id\":\"1793\"},\"width\":700,\"x_range\":{\"id\":\"1767\"},\"x_scale\":{\"id\":\"1775\"},\"y_range\":{\"id\":\"1768\"},\"y_scale\":{\"id\":\"1777\"}},\"id\":\"1770\",\"subtype\":\"Figure\",\"type\":\"Plot\"},{\"attributes\":{\"source\":{\"id\":\"1800\"}},\"id\":\"1807\",\"type\":\"CDSView\"},{\"attributes\":{\"line_alpha\":0.2,\"line_color\":\"#30a2da\",\"line_width\":2,\"x\":{\"field\":\"k\"},\"y\":{\"field\":\"inertia\"}},\"id\":\"1805\",\"type\":\"Line\"},{\"attributes\":{\"tools\":[{\"id\":\"1769\"},{\"id\":\"1787\"},{\"id\":\"1788\"},{\"id\":\"1789\"},{\"id\":\"1790\"},{\"id\":\"1791\"}]},\"id\":\"1793\",\"type\":\"Toolbar\"},{\"attributes\":{\"bottom_units\":\"screen\",\"coordinates\":null,\"fill_alpha\":0.5,\"fill_color\":\"lightgrey\",\"group\":null,\"left_units\":\"screen\",\"level\":\"overlay\",\"line_alpha\":1.0,\"line_color\":\"black\",\"line_dash\":[4,4],\"line_width\":2,\"right_units\":\"screen\",\"syncable\":false,\"top_units\":\"screen\"},\"id\":\"1792\",\"type\":\"BoxAnnotation\"},{\"attributes\":{},\"id\":\"1787\",\"type\":\"SaveTool\"},{\"attributes\":{},\"id\":\"1817\",\"type\":\"AllLabels\"},{\"attributes\":{},\"id\":\"1788\",\"type\":\"PanTool\"},{\"attributes\":{},\"id\":\"1824\",\"type\":\"UnionRenderers\"},{\"attributes\":{\"coordinates\":null,\"data_source\":{\"id\":\"1800\"},\"glyph\":{\"id\":\"1803\"},\"group\":null,\"hover_glyph\":null,\"muted_glyph\":{\"id\":\"1805\"},\"nonselection_glyph\":{\"id\":\"1804\"},\"selection_glyph\":{\"id\":\"1808\"},\"view\":{\"id\":\"1807\"}},\"id\":\"1806\",\"type\":\"GlyphRenderer\"},{\"attributes\":{},\"id\":\"1791\",\"type\":\"ResetTool\"},{\"attributes\":{},\"id\":\"1789\",\"type\":\"WheelZoomTool\"},{\"attributes\":{},\"id\":\"1801\",\"type\":\"Selection\"},{\"attributes\":{\"overlay\":{\"id\":\"1792\"}},\"id\":\"1790\",\"type\":\"BoxZoomTool\"},{\"attributes\":{},\"id\":\"1784\",\"type\":\"BasicTicker\"},{\"attributes\":{},\"id\":\"1812\",\"type\":\"AllLabels\"},{\"attributes\":{\"margin\":[5,5,5,5],\"name\":\"HSpacer01599\",\"sizing_mode\":\"stretch_width\"},\"id\":\"1766\",\"type\":\"Spacer\"},{\"attributes\":{\"data\":{\"inertia\":{\"__ndarray__\":\"2imxiqJtrEDmYzeajlWjQLZhPY/IcZdAd4m2mY/DgEClfOSpwZB1QLDnwVf3/XBADGcnPTEDakBWsxl1/fVlQJ99a1SulF9AnsmpAFWLWUA=\",\"dtype\":\"float64\",\"order\":\"little\",\"shape\":[10]},\"k\":[1,2,3,4,5,6,7,8,9,10]},\"selected\":{\"id\":\"1801\"},\"selection_policy\":{\"id\":\"1824\"}},\"id\":\"1800\",\"type\":\"ColumnDataSource\"},{\"attributes\":{\"coordinates\":null,\"group\":null,\"text\":\"Elbow Curve\",\"text_color\":\"black\",\"text_font_size\":\"12pt\"},\"id\":\"1771\",\"type\":\"Title\"},{\"attributes\":{},\"id\":\"1775\",\"type\":\"LinearScale\"},{\"attributes\":{\"axis\":{\"id\":\"1779\"},\"coordinates\":null,\"grid_line_color\":null,\"group\":null,\"ticker\":null},\"id\":\"1782\",\"type\":\"Grid\"},{\"attributes\":{\"callback\":null,\"renderers\":[{\"id\":\"1806\"}],\"tags\":[\"hv_created\"],\"tooltips\":[[\"k\",\"@{k}\"],[\"inertia\",\"@{inertia}\"]]},\"id\":\"1769\",\"type\":\"HoverTool\"},{\"attributes\":{},\"id\":\"1777\",\"type\":\"LinearScale\"},{\"attributes\":{\"axis_label\":\"inertia\",\"coordinates\":null,\"formatter\":{\"id\":\"1816\"},\"group\":null,\"major_label_policy\":{\"id\":\"1817\"},\"ticker\":{\"id\":\"1784\"}},\"id\":\"1783\",\"type\":\"LinearAxis\"},{\"attributes\":{\"axis_label\":\"k\",\"coordinates\":null,\"formatter\":{\"id\":\"1811\"},\"group\":null,\"major_label_policy\":{\"id\":\"1812\"},\"ticker\":{\"id\":\"1809\"}},\"id\":\"1779\",\"type\":\"LinearAxis\"},{\"attributes\":{},\"id\":\"1811\",\"type\":\"BasicTickFormatter\"},{\"attributes\":{},\"id\":\"1816\",\"type\":\"BasicTickFormatter\"},{\"attributes\":{\"children\":[{\"id\":\"1766\"},{\"id\":\"1770\"},{\"id\":\"1827\"}],\"margin\":[0,0,0,0],\"name\":\"Row01595\",\"tags\":[\"embedded\"]},\"id\":\"1765\",\"type\":\"Row\"},{\"attributes\":{\"margin\":[5,5,5,5],\"name\":\"HSpacer01600\",\"sizing_mode\":\"stretch_width\"},\"id\":\"1827\",\"type\":\"Spacer\"},{\"attributes\":{\"axis\":{\"id\":\"1783\"},\"coordinates\":null,\"dimension\":1,\"grid_line_color\":null,\"group\":null,\"ticker\":null},\"id\":\"1786\",\"type\":\"Grid\"},{\"attributes\":{\"line_color\":\"#30a2da\",\"line_width\":2,\"x\":{\"field\":\"k\"},\"y\":{\"field\":\"inertia\"}},\"id\":\"1803\",\"type\":\"Line\"},{\"attributes\":{\"end\":10.0,\"reset_end\":10.0,\"reset_start\":1.0,\"start\":1.0,\"tags\":[[[\"k\",\"k\",null]]]},\"id\":\"1767\",\"type\":\"Range1d\"},{\"attributes\":{\"line_alpha\":0.1,\"line_color\":\"#30a2da\",\"line_width\":2,\"x\":{\"field\":\"k\"},\"y\":{\"field\":\"inertia\"}},\"id\":\"1804\",\"type\":\"Line\"},{\"attributes\":{\"ticks\":[1,2,3,4,5,6,7,8,9,10]},\"id\":\"1809\",\"type\":\"FixedTicker\"},{\"attributes\":{\"end\":3992.4815045103205,\"reset_end\":3992.4815045103205,\"reset_start\":-251.4869769775838,\"start\":-251.4869769775838,\"tags\":[[[\"inertia\",\"inertia\",null]]]},\"id\":\"1768\",\"type\":\"Range1d\"},{\"attributes\":{\"line_color\":\"#30a2da\",\"line_width\":2,\"x\":{\"field\":\"k\"},\"y\":{\"field\":\"inertia\"}},\"id\":\"1808\",\"type\":\"Line\"}],\"root_ids\":[\"1765\"]},\"title\":\"Bokeh Application\",\"version\":\"2.4.3\"}};\n",
       "    var render_items = [{\"docid\":\"ae9698e7-704e-45c1-9a50-c48c0922716a\",\"root_ids\":[\"1765\"],\"roots\":{\"1765\":\"60bfe4ca-d887-4c79-bc5a-d888ee8e5be9\"}}];\n",
       "    root.Bokeh.embed.embed_items_notebook(docs_json, render_items);\n",
       "  }\n",
       "  if (root.Bokeh !== undefined && root.Bokeh.Panel !== undefined) {\n",
       "    embed_document(root);\n",
       "  } else {\n",
       "    var attempts = 0;\n",
       "    var timer = setInterval(function(root) {\n",
       "      if (root.Bokeh !== undefined && root.Bokeh.Panel !== undefined) {\n",
       "        clearInterval(timer);\n",
       "        embed_document(root);\n",
       "      } else if (document.readyState == \"complete\") {\n",
       "        attempts++;\n",
       "        if (attempts > 200) {\n",
       "          clearInterval(timer);\n",
       "          console.log(\"Bokeh: ERROR: Unable to run BokehJS code because BokehJS library is missing\");\n",
       "        }\n",
       "      }\n",
       "    }, 25, root)\n",
       "  }\n",
       "})(window);</script>"
      ],
      "text/plain": [
       ":Curve   [k]   (inertia)"
      ]
     },
     "execution_count": 334,
     "metadata": {
      "application/vnd.holoviews_exec.v0+json": {
       "id": "1765"
      }
     },
     "output_type": "execute_result"
    }
   ],
   "source": [
    "df_elbow.hvplot.line(x=\"k\", y=\"inertia\", title=\"Elbow Curve\", xticks=k)"
   ]
  },
  {
   "cell_type": "code",
   "execution_count": 335,
   "metadata": {},
   "outputs": [
    {
     "data": {
      "text/plain": [
       "array([0, 0, 0, 1, 1, 1, 0, 1, 1, 1, 0, 1, 0, 0, 1, 0, 1, 1, 0, 0, 1, 1,\n",
       "       1, 1, 1, 0, 1, 1, 1, 0, 1, 0, 1, 1, 0, 0, 1, 1, 1, 1, 1, 1, 0, 0,\n",
       "       1, 1, 1, 1, 1, 0, 0, 1, 0, 1, 1, 1, 1, 0, 1, 1, 0, 1, 0, 0, 0, 1,\n",
       "       1, 1, 0, 0, 0, 0, 0, 1, 1, 1, 0, 0, 1, 0, 1, 0, 0, 1, 1, 1, 1, 0,\n",
       "       0, 1, 0, 1, 1, 0, 0, 1, 0, 0, 1, 1, 0, 0, 1, 0, 0, 1, 0, 1, 0, 1,\n",
       "       0, 1, 0, 0, 1, 1, 0, 1, 1, 1, 0, 1, 1, 1, 1, 1, 0, 0, 1, 1, 1, 0,\n",
       "       1, 0, 1, 1, 0, 1, 0, 1, 0, 0, 1, 1, 0, 1, 1, 0, 0, 1, 0, 1, 0, 0,\n",
       "       0, 1, 1, 1, 1, 0, 0, 0, 0, 0, 1, 1, 0, 0, 0, 0, 0, 1, 0, 0, 0, 0,\n",
       "       0, 1, 0, 1, 0, 0, 1, 0, 1, 0, 0, 1, 0, 1, 0, 1, 0, 1, 0, 0, 0, 0,\n",
       "       1, 0, 0, 0, 0, 0, 1, 1, 0, 0, 1, 1, 0, 0, 0, 0, 0, 1, 0, 0, 0, 0,\n",
       "       0, 0, 0, 0, 1, 0, 0, 0, 0, 0, 0, 1, 1, 1, 0, 0, 0, 0, 1, 0, 1, 0,\n",
       "       0, 1, 0, 1, 1, 0, 1, 1, 0, 1, 0, 0, 0, 1, 0, 0, 1, 0, 0, 0, 0, 0,\n",
       "       0, 0, 1, 0, 1, 0, 0, 0, 0, 1, 0, 1, 0, 1, 1, 1, 1, 0, 1, 0, 0, 1,\n",
       "       0, 1, 1, 1, 0, 1, 0, 1, 1, 1, 0, 1, 0, 1, 0, 0, 0, 1, 0, 1, 1, 1,\n",
       "       1, 1, 0, 0, 1, 0, 0, 0, 1, 0, 1, 0, 1, 0, 1, 0, 0, 0, 0, 1, 0, 0,\n",
       "       1, 0, 0, 0, 1, 1, 1, 1, 0, 0, 0, 0, 1, 0, 1, 1, 1, 0, 0, 1, 1, 0,\n",
       "       0, 1, 0, 1, 1, 1, 0, 1, 1, 0, 0, 0, 1, 1, 1, 0, 0, 0, 1, 1, 0, 1,\n",
       "       1, 1, 1, 0, 3, 3, 1, 1, 1, 0, 0, 0, 0, 0, 0, 1, 1, 1, 1, 0, 0, 0,\n",
       "       1, 0, 1, 0, 0, 0, 0, 1, 0, 0, 1, 0, 0, 1, 1, 0, 1, 0, 1, 1, 1, 1,\n",
       "       0, 0, 1, 0, 1, 0, 0, 0, 0, 0, 0, 1, 1, 1, 0, 0, 0, 0, 0, 0, 1, 0,\n",
       "       1, 1, 1, 1, 0, 0, 0, 0, 1, 0, 0, 1, 0, 0, 1, 3, 1, 0, 1, 1, 1, 0,\n",
       "       1, 0, 1, 1, 0, 1, 1, 0, 1, 0, 1, 0, 0, 1, 0, 0, 0, 0, 0, 1, 1, 1,\n",
       "       0, 0, 0, 1, 0, 1, 0, 1, 0, 0, 0, 0, 1, 0, 0, 0, 1, 0, 1, 0, 1, 0,\n",
       "       0, 0, 1, 1, 0, 0, 0, 0, 0, 0, 1, 0, 1, 0, 1, 0, 0, 3, 0, 2, 0, 0,\n",
       "       0, 1, 1, 0])"
      ]
     },
     "execution_count": 335,
     "metadata": {},
     "output_type": "execute_result"
    }
   ],
   "source": [
    "# Initialize the K-Means model.\n",
    "model = KMeans(n_clusters=4, random_state=5)\n",
    "\n",
    "\n",
    "# Fitting model\n",
    "model.fit(pcs_df)\n",
    "\n",
    "# Predict clusters\n",
    "predictions = model.predict(pcs_df)\n",
    "predictions"
   ]
  },
  {
   "cell_type": "code",
   "execution_count": 337,
   "metadata": {},
   "outputs": [
    {
     "name": "stdout",
     "output_type": "stream",
     "text": [
      "(532, 10)\n"
     ]
    },
    {
     "data": {
      "text/html": [
       "<div>\n",
       "<style scoped>\n",
       "    .dataframe tbody tr th:only-of-type {\n",
       "        vertical-align: middle;\n",
       "    }\n",
       "\n",
       "    .dataframe tbody tr th {\n",
       "        vertical-align: top;\n",
       "    }\n",
       "\n",
       "    .dataframe thead th {\n",
       "        text-align: right;\n",
       "    }\n",
       "</style>\n",
       "<table border=\"1\" class=\"dataframe\">\n",
       "  <thead>\n",
       "    <tr style=\"text-align: right;\">\n",
       "      <th></th>\n",
       "      <th>Unnamed: 0</th>\n",
       "      <th>CoinName</th>\n",
       "      <th>Algorithm</th>\n",
       "      <th>ProofType</th>\n",
       "      <th>TotalCoinsMined</th>\n",
       "      <th>TotalCoinSupply</th>\n",
       "      <th>principal component 1</th>\n",
       "      <th>principal component 2</th>\n",
       "      <th>principal component 3</th>\n",
       "      <th>Class</th>\n",
       "    </tr>\n",
       "  </thead>\n",
       "  <tbody>\n",
       "    <tr>\n",
       "      <th>0</th>\n",
       "      <td>42</td>\n",
       "      <td>42 Coin</td>\n",
       "      <td>Scrypt</td>\n",
       "      <td>PoW/PoS</td>\n",
       "      <td>4.199995e+01</td>\n",
       "      <td>42</td>\n",
       "      <td>-0.330181</td>\n",
       "      <td>0.997264</td>\n",
       "      <td>-0.571691</td>\n",
       "      <td>0</td>\n",
       "    </tr>\n",
       "    <tr>\n",
       "      <th>2</th>\n",
       "      <td>404</td>\n",
       "      <td>404Coin</td>\n",
       "      <td>Scrypt</td>\n",
       "      <td>PoW/PoS</td>\n",
       "      <td>1.055185e+09</td>\n",
       "      <td>532000000</td>\n",
       "      <td>-0.313527</td>\n",
       "      <td>0.997293</td>\n",
       "      <td>-0.571977</td>\n",
       "      <td>0</td>\n",
       "    </tr>\n",
       "    <tr>\n",
       "      <th>5</th>\n",
       "      <td>1337</td>\n",
       "      <td>EliteCoin</td>\n",
       "      <td>X13</td>\n",
       "      <td>PoW/PoS</td>\n",
       "      <td>2.927942e+10</td>\n",
       "      <td>314159265359</td>\n",
       "      <td>2.291410</td>\n",
       "      <td>1.507735</td>\n",
       "      <td>-0.578612</td>\n",
       "      <td>0</td>\n",
       "    </tr>\n",
       "    <tr>\n",
       "      <th>7</th>\n",
       "      <td>BTC</td>\n",
       "      <td>Bitcoin</td>\n",
       "      <td>SHA-256</td>\n",
       "      <td>PoW</td>\n",
       "      <td>1.792718e+07</td>\n",
       "      <td>21000000</td>\n",
       "      <td>-0.144191</td>\n",
       "      <td>-1.313847</td>\n",
       "      <td>0.240803</td>\n",
       "      <td>1</td>\n",
       "    </tr>\n",
       "    <tr>\n",
       "      <th>8</th>\n",
       "      <td>ETH</td>\n",
       "      <td>Ethereum</td>\n",
       "      <td>Ethash</td>\n",
       "      <td>PoW</td>\n",
       "      <td>1.076842e+08</td>\n",
       "      <td>0</td>\n",
       "      <td>-0.153218</td>\n",
       "      <td>-1.996841</td>\n",
       "      <td>0.356861</td>\n",
       "      <td>1</td>\n",
       "    </tr>\n",
       "    <tr>\n",
       "      <th>9</th>\n",
       "      <td>LTC</td>\n",
       "      <td>Litecoin</td>\n",
       "      <td>Scrypt</td>\n",
       "      <td>PoW</td>\n",
       "      <td>6.303924e+07</td>\n",
       "      <td>84000000</td>\n",
       "      <td>-0.158647</td>\n",
       "      <td>-1.069834</td>\n",
       "      <td>-0.021010</td>\n",
       "      <td>1</td>\n",
       "    </tr>\n",
       "    <tr>\n",
       "      <th>10</th>\n",
       "      <td>DASH</td>\n",
       "      <td>Dash</td>\n",
       "      <td>X11</td>\n",
       "      <td>PoW/PoS</td>\n",
       "      <td>9.031294e+06</td>\n",
       "      <td>22000000</td>\n",
       "      <td>-0.402873</td>\n",
       "      <td>1.129991</td>\n",
       "      <td>-0.487097</td>\n",
       "      <td>0</td>\n",
       "    </tr>\n",
       "    <tr>\n",
       "      <th>11</th>\n",
       "      <td>XMR</td>\n",
       "      <td>Monero</td>\n",
       "      <td>CryptoNight-V7</td>\n",
       "      <td>PoW</td>\n",
       "      <td>1.720114e+07</td>\n",
       "      <td>0</td>\n",
       "      <td>-0.151015</td>\n",
       "      <td>-2.171950</td>\n",
       "      <td>0.543620</td>\n",
       "      <td>1</td>\n",
       "    </tr>\n",
       "    <tr>\n",
       "      <th>12</th>\n",
       "      <td>ETC</td>\n",
       "      <td>Ethereum Classic</td>\n",
       "      <td>Ethash</td>\n",
       "      <td>PoW</td>\n",
       "      <td>1.133597e+08</td>\n",
       "      <td>210000000</td>\n",
       "      <td>-0.151660</td>\n",
       "      <td>-1.996956</td>\n",
       "      <td>0.356853</td>\n",
       "      <td>1</td>\n",
       "    </tr>\n",
       "    <tr>\n",
       "      <th>13</th>\n",
       "      <td>ZEC</td>\n",
       "      <td>ZCash</td>\n",
       "      <td>Equihash</td>\n",
       "      <td>PoW</td>\n",
       "      <td>7.383056e+06</td>\n",
       "      <td>21000000</td>\n",
       "      <td>-0.178960</td>\n",
       "      <td>-2.065222</td>\n",
       "      <td>0.441471</td>\n",
       "      <td>1</td>\n",
       "    </tr>\n",
       "  </tbody>\n",
       "</table>\n",
       "</div>"
      ],
      "text/plain": [
       "   Unnamed: 0          CoinName       Algorithm ProofType  TotalCoinsMined  \\\n",
       "0          42           42 Coin          Scrypt   PoW/PoS     4.199995e+01   \n",
       "2         404           404Coin          Scrypt   PoW/PoS     1.055185e+09   \n",
       "5        1337         EliteCoin             X13   PoW/PoS     2.927942e+10   \n",
       "7         BTC           Bitcoin         SHA-256       PoW     1.792718e+07   \n",
       "8         ETH          Ethereum          Ethash       PoW     1.076842e+08   \n",
       "9         LTC          Litecoin          Scrypt       PoW     6.303924e+07   \n",
       "10       DASH              Dash             X11   PoW/PoS     9.031294e+06   \n",
       "11        XMR            Monero  CryptoNight-V7       PoW     1.720114e+07   \n",
       "12        ETC  Ethereum Classic          Ethash       PoW     1.133597e+08   \n",
       "13        ZEC             ZCash        Equihash       PoW     7.383056e+06   \n",
       "\n",
       "   TotalCoinSupply  principal component 1  principal component 2  \\\n",
       "0               42              -0.330181               0.997264   \n",
       "2        532000000              -0.313527               0.997293   \n",
       "5     314159265359               2.291410               1.507735   \n",
       "7         21000000              -0.144191              -1.313847   \n",
       "8                0              -0.153218              -1.996841   \n",
       "9         84000000              -0.158647              -1.069834   \n",
       "10        22000000              -0.402873               1.129991   \n",
       "11               0              -0.151015              -2.171950   \n",
       "12       210000000              -0.151660              -1.996956   \n",
       "13        21000000              -0.178960              -2.065222   \n",
       "\n",
       "    principal component 3  Class  \n",
       "0               -0.571691      0  \n",
       "2               -0.571977      0  \n",
       "5               -0.578612      0  \n",
       "7                0.240803      1  \n",
       "8                0.356861      1  \n",
       "9               -0.021010      1  \n",
       "10              -0.487097      0  \n",
       "11               0.543620      1  \n",
       "12               0.356853      1  \n",
       "13               0.441471      1  "
      ]
     },
     "execution_count": 337,
     "metadata": {},
     "output_type": "execute_result"
    }
   ],
   "source": [
    "# Create a new DataFrame including predicted clusters and cryptocurrencies features.\n",
    "# Concatentate the crypto_df and pcs_df DataFrames on the same columns.\n",
    "clustered_df = df_crypto_clean.join(pcs_df, how=\"inner\")\n",
    "\n",
    "#  Add a new column, \"CoinName\" to the clustered_df DataFrame that holds the names of the cryptocurrencies. \n",
    "clustered_df[\"CoinName\"] = crypto_names\n",
    "\n",
    "#  Add a new column, \"Class\" to the clustered_df DataFrame that holds the predictions.\n",
    "clustered_df['Class'] = predictions\n",
    "\n",
    "# Print the shape of the clustered_df\n",
    "print(clustered_df.shape)\n",
    "clustered_df.head(10)"
   ]
  },
  {
   "cell_type": "code",
   "execution_count": 341,
   "metadata": {},
   "outputs": [
    {
     "data": {
      "text/html": [
       "<div>\n",
       "<style scoped>\n",
       "    .dataframe tbody tr th:only-of-type {\n",
       "        vertical-align: middle;\n",
       "    }\n",
       "\n",
       "    .dataframe tbody tr th {\n",
       "        vertical-align: top;\n",
       "    }\n",
       "\n",
       "    .dataframe thead th {\n",
       "        text-align: right;\n",
       "    }\n",
       "</style>\n",
       "<table border=\"1\" class=\"dataframe\">\n",
       "  <thead>\n",
       "    <tr style=\"text-align: right;\">\n",
       "      <th></th>\n",
       "      <th>Unnamed: 0</th>\n",
       "      <th>ProofType</th>\n",
       "      <th>TotalCoinsMined</th>\n",
       "      <th>TotalCoinSupply</th>\n",
       "      <th>principal component 1</th>\n",
       "      <th>principal component 2</th>\n",
       "      <th>principal component 3</th>\n",
       "      <th>CoinName</th>\n",
       "      <th>Algorithm</th>\n",
       "      <th>Class</th>\n",
       "    </tr>\n",
       "  </thead>\n",
       "  <tbody>\n",
       "    <tr>\n",
       "      <th>0</th>\n",
       "      <td>42</td>\n",
       "      <td>PoW/PoS</td>\n",
       "      <td>4.199995e+01</td>\n",
       "      <td>42</td>\n",
       "      <td>-0.330181</td>\n",
       "      <td>0.997264</td>\n",
       "      <td>-0.571691</td>\n",
       "      <td>42 Coin</td>\n",
       "      <td>Scrypt</td>\n",
       "      <td>0</td>\n",
       "    </tr>\n",
       "    <tr>\n",
       "      <th>2</th>\n",
       "      <td>404</td>\n",
       "      <td>PoW/PoS</td>\n",
       "      <td>1.055185e+09</td>\n",
       "      <td>532000000</td>\n",
       "      <td>-0.313527</td>\n",
       "      <td>0.997293</td>\n",
       "      <td>-0.571977</td>\n",
       "      <td>404Coin</td>\n",
       "      <td>Scrypt</td>\n",
       "      <td>0</td>\n",
       "    </tr>\n",
       "    <tr>\n",
       "      <th>5</th>\n",
       "      <td>1337</td>\n",
       "      <td>PoW/PoS</td>\n",
       "      <td>2.927942e+10</td>\n",
       "      <td>314159265359</td>\n",
       "      <td>2.291410</td>\n",
       "      <td>1.507735</td>\n",
       "      <td>-0.578612</td>\n",
       "      <td>EliteCoin</td>\n",
       "      <td>X13</td>\n",
       "      <td>0</td>\n",
       "    </tr>\n",
       "    <tr>\n",
       "      <th>7</th>\n",
       "      <td>BTC</td>\n",
       "      <td>PoW</td>\n",
       "      <td>1.792718e+07</td>\n",
       "      <td>21000000</td>\n",
       "      <td>-0.144191</td>\n",
       "      <td>-1.313847</td>\n",
       "      <td>0.240803</td>\n",
       "      <td>Bitcoin</td>\n",
       "      <td>SHA-256</td>\n",
       "      <td>1</td>\n",
       "    </tr>\n",
       "    <tr>\n",
       "      <th>8</th>\n",
       "      <td>ETH</td>\n",
       "      <td>PoW</td>\n",
       "      <td>1.076842e+08</td>\n",
       "      <td>0</td>\n",
       "      <td>-0.153218</td>\n",
       "      <td>-1.996841</td>\n",
       "      <td>0.356861</td>\n",
       "      <td>Ethereum</td>\n",
       "      <td>Ethash</td>\n",
       "      <td>1</td>\n",
       "    </tr>\n",
       "    <tr>\n",
       "      <th>...</th>\n",
       "      <td>...</td>\n",
       "      <td>...</td>\n",
       "      <td>...</td>\n",
       "      <td>...</td>\n",
       "      <td>...</td>\n",
       "      <td>...</td>\n",
       "      <td>...</td>\n",
       "      <td>...</td>\n",
       "      <td>...</td>\n",
       "      <td>...</td>\n",
       "    </tr>\n",
       "    <tr>\n",
       "      <th>1238</th>\n",
       "      <td>ZEPH</td>\n",
       "      <td>DPoS</td>\n",
       "      <td>2.000000e+09</td>\n",
       "      <td>2000000000</td>\n",
       "      <td>2.477037</td>\n",
       "      <td>0.868664</td>\n",
       "      <td>-0.111514</td>\n",
       "      <td>ZEPHYR</td>\n",
       "      <td>SHA-256</td>\n",
       "      <td>0</td>\n",
       "    </tr>\n",
       "    <tr>\n",
       "      <th>1242</th>\n",
       "      <td>GAP</td>\n",
       "      <td>PoW/PoS</td>\n",
       "      <td>1.493105e+07</td>\n",
       "      <td>250000000</td>\n",
       "      <td>-0.328226</td>\n",
       "      <td>0.997129</td>\n",
       "      <td>-0.571702</td>\n",
       "      <td>Gapcoin</td>\n",
       "      <td>Scrypt</td>\n",
       "      <td>0</td>\n",
       "    </tr>\n",
       "    <tr>\n",
       "      <th>1245</th>\n",
       "      <td>BDX</td>\n",
       "      <td>PoW</td>\n",
       "      <td>9.802226e+08</td>\n",
       "      <td>1400222610</td>\n",
       "      <td>0.328475</td>\n",
       "      <td>-2.275192</td>\n",
       "      <td>0.409123</td>\n",
       "      <td>Beldex</td>\n",
       "      <td>CryptoNight</td>\n",
       "      <td>1</td>\n",
       "    </tr>\n",
       "    <tr>\n",
       "      <th>1246</th>\n",
       "      <td>ZEN</td>\n",
       "      <td>PoW</td>\n",
       "      <td>7.296538e+06</td>\n",
       "      <td>21000000</td>\n",
       "      <td>-0.178961</td>\n",
       "      <td>-2.065222</td>\n",
       "      <td>0.441471</td>\n",
       "      <td>Horizen</td>\n",
       "      <td>Equihash</td>\n",
       "      <td>1</td>\n",
       "    </tr>\n",
       "    <tr>\n",
       "      <th>1247</th>\n",
       "      <td>XBC</td>\n",
       "      <td>PoS</td>\n",
       "      <td>1.283270e+05</td>\n",
       "      <td>1000000</td>\n",
       "      <td>-0.283548</td>\n",
       "      <td>0.937067</td>\n",
       "      <td>-0.313604</td>\n",
       "      <td>BitcoinPlus</td>\n",
       "      <td>Scrypt</td>\n",
       "      <td>0</td>\n",
       "    </tr>\n",
       "  </tbody>\n",
       "</table>\n",
       "<p>532 rows × 10 columns</p>\n",
       "</div>"
      ],
      "text/plain": [
       "     Unnamed: 0 ProofType  TotalCoinsMined TotalCoinSupply  \\\n",
       "0            42   PoW/PoS     4.199995e+01              42   \n",
       "2           404   PoW/PoS     1.055185e+09       532000000   \n",
       "5          1337   PoW/PoS     2.927942e+10    314159265359   \n",
       "7           BTC       PoW     1.792718e+07        21000000   \n",
       "8           ETH       PoW     1.076842e+08               0   \n",
       "...         ...       ...              ...             ...   \n",
       "1238       ZEPH      DPoS     2.000000e+09      2000000000   \n",
       "1242        GAP   PoW/PoS     1.493105e+07       250000000   \n",
       "1245        BDX       PoW     9.802226e+08      1400222610   \n",
       "1246        ZEN       PoW     7.296538e+06        21000000   \n",
       "1247        XBC       PoS     1.283270e+05         1000000   \n",
       "\n",
       "      principal component 1  principal component 2  principal component 3  \\\n",
       "0                 -0.330181               0.997264              -0.571691   \n",
       "2                 -0.313527               0.997293              -0.571977   \n",
       "5                  2.291410               1.507735              -0.578612   \n",
       "7                 -0.144191              -1.313847               0.240803   \n",
       "8                 -0.153218              -1.996841               0.356861   \n",
       "...                     ...                    ...                    ...   \n",
       "1238               2.477037               0.868664              -0.111514   \n",
       "1242              -0.328226               0.997129              -0.571702   \n",
       "1245               0.328475              -2.275192               0.409123   \n",
       "1246              -0.178961              -2.065222               0.441471   \n",
       "1247              -0.283548               0.937067              -0.313604   \n",
       "\n",
       "         CoinName    Algorithm  Class  \n",
       "0         42 Coin       Scrypt      0  \n",
       "2         404Coin       Scrypt      0  \n",
       "5       EliteCoin          X13      0  \n",
       "7         Bitcoin      SHA-256      1  \n",
       "8        Ethereum       Ethash      1  \n",
       "...           ...          ...    ...  \n",
       "1238       ZEPHYR      SHA-256      0  \n",
       "1242      Gapcoin       Scrypt      0  \n",
       "1245       Beldex  CryptoNight      1  \n",
       "1246      Horizen     Equihash      1  \n",
       "1247  BitcoinPlus       Scrypt      0  \n",
       "\n",
       "[532 rows x 10 columns]"
      ]
     },
     "execution_count": 341,
     "metadata": {},
     "output_type": "execute_result"
    }
   ],
   "source": [
    "clustered_df = clustered_df.iloc[:, [0,2,3,4,5,6,7,8, 1,9]]\n",
    "clustered_df"
   ]
  },
  {
   "cell_type": "markdown",
   "metadata": {},
   "source": [
    "### Deliverable 4: Visualizing Cryptocurrencies Results\n",
    "\n",
    "#### 3D-Scatter with Clusters"
   ]
  },
  {
   "cell_type": "code",
   "execution_count": 342,
   "metadata": {},
   "outputs": [
    {
     "data": {
      "application/vnd.plotly.v1+json": {
       "config": {
        "plotlyServerURL": "https://plot.ly"
       },
       "data": [
        {
         "customdata": [
          [
           "Scrypt"
          ],
          [
           "Scrypt"
          ],
          [
           "X13"
          ],
          [
           "X11"
          ],
          [
           "SHA-512"
          ],
          [
           "SHA-256"
          ],
          [
           "SHA-256"
          ],
          [
           "X15"
          ],
          [
           "Scrypt"
          ],
          [
           "Scrypt"
          ],
          [
           "Scrypt"
          ],
          [
           "Scrypt"
          ],
          [
           "Scrypt"
          ],
          [
           "Scrypt"
          ],
          [
           "Groestl"
          ],
          [
           "PoS"
          ],
          [
           "Scrypt"
          ],
          [
           "Scrypt"
          ],
          [
           "X11"
          ],
          [
           "X11"
          ],
          [
           "SHA3"
          ],
          [
           "Scrypt"
          ],
          [
           "SHA-256"
          ],
          [
           "Scrypt"
          ],
          [
           "X13"
          ],
          [
           "X13"
          ],
          [
           "NeoScrypt"
          ],
          [
           "Scrypt"
          ],
          [
           "Scrypt"
          ],
          [
           "Scrypt"
          ],
          [
           "X11"
          ],
          [
           "X11"
          ],
          [
           "Multiple"
          ],
          [
           "PHI1612"
          ],
          [
           "X11"
          ],
          [
           "Scrypt"
          ],
          [
           "Scrypt"
          ],
          [
           "Scrypt"
          ],
          [
           "X11"
          ],
          [
           "Multiple"
          ],
          [
           "X13"
          ],
          [
           "Scrypt"
          ],
          [
           "Shabal256"
          ],
          [
           "Counterparty"
          ],
          [
           "SHA-256"
          ],
          [
           "Groestl"
          ],
          [
           "Scrypt"
          ],
          [
           "X13"
          ],
          [
           "Scrypt"
          ],
          [
           "Scrypt"
          ],
          [
           "X13"
          ],
          [
           "X11"
          ],
          [
           "Scrypt"
          ],
          [
           "X11"
          ],
          [
           "SHA3"
          ],
          [
           "QUAIT"
          ],
          [
           "X11"
          ],
          [
           "Scrypt"
          ],
          [
           "X13"
          ],
          [
           "SHA-256"
          ],
          [
           "X15"
          ],
          [
           "BLAKE256"
          ],
          [
           "SHA-256"
          ],
          [
           "X11"
          ],
          [
           "SHA-256"
          ],
          [
           "NIST5"
          ],
          [
           "Scrypt"
          ],
          [
           "Scrypt"
          ],
          [
           "X11"
          ],
          [
           "Scrypt"
          ],
          [
           "SHA-256"
          ],
          [
           "Scrypt"
          ],
          [
           "PoS"
          ],
          [
           "X11"
          ],
          [
           "SHA-256"
          ],
          [
           "SHA-256"
          ],
          [
           "NIST5"
          ],
          [
           "X11"
          ],
          [
           "POS 3.0"
          ],
          [
           "Scrypt"
          ],
          [
           "Scrypt"
          ],
          [
           "Scrypt"
          ],
          [
           "X13"
          ],
          [
           "X11"
          ],
          [
           "X11"
          ],
          [
           "Scrypt"
          ],
          [
           "SHA-256"
          ],
          [
           "X11"
          ],
          [
           "Scrypt"
          ],
          [
           "Scrypt"
          ],
          [
           "Scrypt"
          ],
          [
           "Scrypt"
          ],
          [
           "SHA-256D"
          ],
          [
           "PoS"
          ],
          [
           "Scrypt"
          ],
          [
           "X11"
          ],
          [
           "PoS"
          ],
          [
           "X13"
          ],
          [
           "X14"
          ],
          [
           "PoS"
          ],
          [
           "SHA-256D"
          ],
          [
           "DPoS"
          ],
          [
           "X11"
          ],
          [
           "X13"
          ],
          [
           "X11"
          ],
          [
           "PoS"
          ],
          [
           "Scrypt"
          ],
          [
           "Scrypt"
          ],
          [
           "PoS"
          ],
          [
           "X11"
          ],
          [
           "SHA-256"
          ],
          [
           "Scrypt"
          ],
          [
           "X11"
          ],
          [
           "Scrypt"
          ],
          [
           "Scrypt"
          ],
          [
           "X11"
          ],
          [
           "Scrypt"
          ],
          [
           "Scrypt"
          ],
          [
           "Scrypt"
          ],
          [
           "Scrypt"
          ],
          [
           "Quark"
          ],
          [
           "QuBit"
          ],
          [
           "Scrypt"
          ],
          [
           "SHA-256"
          ],
          [
           "X11"
          ],
          [
           "Scrypt"
          ],
          [
           "Scrypt"
          ],
          [
           "Scrypt"
          ],
          [
           "Scrypt"
          ],
          [
           "X13"
          ],
          [
           "Scrypt"
          ],
          [
           "Scrypt"
          ],
          [
           "X11"
          ],
          [
           "Blake2S"
          ],
          [
           "X11"
          ],
          [
           "PoS"
          ],
          [
           "X11"
          ],
          [
           "PoS"
          ],
          [
           "X11"
          ],
          [
           "Scrypt"
          ],
          [
           "Scrypt"
          ],
          [
           "Scrypt"
          ],
          [
           "SHA-256"
          ],
          [
           "X11"
          ],
          [
           "Scrypt"
          ],
          [
           "PoS"
          ],
          [
           "Scrypt"
          ],
          [
           "X15"
          ],
          [
           "SHA-256"
          ],
          [
           "POS 3.0"
          ],
          [
           "536"
          ],
          [
           "NIST5"
          ],
          [
           "NIST5"
          ],
          [
           "Skein"
          ],
          [
           "X13"
          ],
          [
           "Scrypt"
          ],
          [
           "X13"
          ],
          [
           "SkunkHash v2 Raptor"
          ],
          [
           "Skein"
          ],
          [
           "X11"
          ],
          [
           "Scrypt"
          ],
          [
           "VeChainThor Authority"
          ],
          [
           "PoS"
          ],
          [
           "Scrypt"
          ],
          [
           "Scrypt"
          ],
          [
           "SHA-512"
          ],
          [
           "Ouroboros"
          ],
          [
           "X11"
          ],
          [
           "NeoScrypt"
          ],
          [
           "Scrypt"
          ],
          [
           "Lyra2REv2"
          ],
          [
           "Scrypt"
          ],
          [
           "SHA-256"
          ],
          [
           "NIST5"
          ],
          [
           "PHI1612"
          ],
          [
           "Scrypt"
          ],
          [
           "Quark"
          ],
          [
           "POS 2.0"
          ],
          [
           "Scrypt"
          ],
          [
           "SHA-256"
          ],
          [
           "X11"
          ],
          [
           "DPoS"
          ],
          [
           "NIST5"
          ],
          [
           "X13"
          ],
          [
           "Scrypt"
          ],
          [
           "NIST5"
          ],
          [
           "Quark"
          ],
          [
           "Scrypt"
          ],
          [
           "Scrypt"
          ],
          [
           "X11"
          ],
          [
           "Quark"
          ],
          [
           "Scrypt"
          ],
          [
           "Scrypt"
          ],
          [
           "X11"
          ],
          [
           "POS 3.0"
          ],
          [
           "Ethash"
          ],
          [
           "Scrypt"
          ],
          [
           "Scrypt"
          ],
          [
           "X13"
          ],
          [
           "C11"
          ],
          [
           "Proof-of-Authority"
          ],
          [
           "X11"
          ],
          [
           "XEVAN"
          ],
          [
           "Scrypt"
          ],
          [
           "VBFT"
          ],
          [
           "NIST5"
          ],
          [
           "Scrypt"
          ],
          [
           "Scrypt"
          ],
          [
           "Scrypt"
          ],
          [
           "Green Protocol"
          ],
          [
           "PoS"
          ],
          [
           "Scrypt"
          ],
          [
           "Semux BFT consensus"
          ],
          [
           "Quark"
          ],
          [
           "PoS"
          ],
          [
           "X16R"
          ],
          [
           "Scrypt"
          ],
          [
           "XEVAN"
          ],
          [
           "Scrypt"
          ],
          [
           "Scrypt"
          ],
          [
           "Scrypt"
          ],
          [
           "SHA-256D"
          ],
          [
           "Scrypt"
          ],
          [
           "X15"
          ],
          [
           "Scrypt"
          ],
          [
           "Quark"
          ],
          [
           "SHA-256"
          ],
          [
           "DPoS"
          ],
          [
           "X16R"
          ],
          [
           "Quark"
          ],
          [
           "Quark"
          ],
          [
           "Scrypt"
          ],
          [
           "Lyra2REv2"
          ],
          [
           "Quark"
          ],
          [
           "Scrypt"
          ],
          [
           "X11"
          ],
          [
           "X11"
          ],
          [
           "Scrypt"
          ],
          [
           "PoS"
          ],
          [
           "Keccak"
          ],
          [
           "X11"
          ],
          [
           "Scrypt"
          ],
          [
           "SHA-512"
          ],
          [
           "XEVAN"
          ],
          [
           "X11"
          ],
          [
           "Quark"
          ],
          [
           "Equihash"
          ],
          [
           "Scrypt"
          ],
          [
           "Quark"
          ],
          [
           "Quark"
          ],
          [
           "Scrypt"
          ],
          [
           "X11"
          ],
          [
           "Scrypt"
          ],
          [
           "XEVAN"
          ],
          [
           "SHA-256D"
          ],
          [
           "X11"
          ],
          [
           "X11"
          ],
          [
           "DPoS"
          ],
          [
           "Scrypt"
          ],
          [
           "X11"
          ],
          [
           "Scrypt"
          ],
          [
           "Scrypt"
          ],
          [
           "SHA-256"
          ],
          [
           "Scrypt"
          ],
          [
           "X11"
          ],
          [
           "Scrypt"
          ],
          [
           "SHA-256"
          ],
          [
           "X11"
          ],
          [
           "Scrypt"
          ],
          [
           "Scrypt"
          ],
          [
           "X11"
          ],
          [
           "Scrypt"
          ],
          [
           "PoS"
          ],
          [
           "X11"
          ],
          [
           "SHA-256"
          ],
          [
           "DPoS"
          ],
          [
           "Scrypt"
          ],
          [
           "Scrypt"
          ],
          [
           "NeoScrypt"
          ],
          [
           "X13"
          ],
          [
           "DPoS"
          ],
          [
           "DPoS"
          ],
          [
           "SHA-256"
          ],
          [
           "PoS"
          ],
          [
           "PoS"
          ],
          [
           "SHA-256"
          ],
          [
           "Scrypt"
          ],
          [
           "Scrypt"
          ]
         ],
         "hovertemplate": "<b>%{hovertext}</b><br><br>Class=%{marker.color}<br>principal component 1=%{x}<br>principal component 2=%{y}<br>principal component 3=%{z}<br>Algorithm=%{customdata[0]}<extra></extra>",
         "hovertext": [
          "42 Coin",
          "404Coin",
          "EliteCoin",
          "Dash",
          "Bitshares",
          "BitcoinDark",
          "PayCoin",
          "KoboCoin",
          "Aurora Coin",
          "BlueCoin",
          "EnergyCoin",
          "BitBar",
          "CryptoBullion",
          "CasinoCoin",
          "Diamond",
          "Exclusive Coin",
          "FlutterCoin",
          "HoboNickels",
          "HyperStake",
          "IOCoin",
          "MaxCoin",
          "MintCoin",
          "MazaCoin",
          "Nautilus Coin",
          "NavCoin",
          "OpalCoin",
          "Orbitcoin",
          "PotCoin",
          "PhoenixCoin",
          "Reddcoin",
          "SuperCoin",
          "SyncCoin",
          "TeslaCoin",
          "TittieCoin",
          "TorCoin",
          "UnitaryStatus Dollar",
          "UltraCoin",
          "VeriCoin",
          "X11 Coin",
          "Crypti",
          "StealthCoin",
          "ZCC Coin",
          "BurstCoin",
          "StorjCoin",
          "Neutron",
          "FairCoin",
          "RubyCoin",
          "Kore",
          "Dnotes",
          "8BIT Coin",
          "Sativa Coin",
          "Ucoin",
          "Vtorrent",
          "IslaCoin",
          "Nexus",
          "Droidz",
          "Squall Coin",
          "Diggits",
          "Paycon",
          "Emercoin",
          "EverGreenCoin",
          "Decred",
          "EDRCoin",
          "Hitcoin",
          "DubaiCoin",
          "PWR Coin",
          "BillaryCoin",
          "GPU Coin",
          "EuropeCoin",
          "ZeitCoin",
          "SwingCoin",
          "SafeExchangeCoin",
          "Nebuchadnezzar",
          "Ratecoin",
          "Revenu",
          "Clockcoin",
          "VIP Tokens",
          "BitSend",
          "Let it Ride",
          "PutinCoin",
          "iBankCoin",
          "Frankywillcoin",
          "MudraCoin",
          "Lutetium Coin",
          "GoldBlocks",
          "CarterCoin",
          "BitTokens",
          "MustangCoin",
          "ZoneCoin",
          "RootCoin",
          "BitCurrency",
          "Swiscoin",
          "BuzzCoin",
          "Opair",
          "PesoBit",
          "Halloween Coin",
          "CoffeeCoin",
          "RoyalCoin",
          "GanjaCoin V2",
          "TeamUP",
          "LanaCoin",
          "ARK",
          "InsaneCoin",
          "EmberCoin",
          "XenixCoin",
          "FreeCoin",
          "PLNCoin",
          "AquariusCoin",
          "Creatio",
          "Eternity",
          "Eurocoin",
          "BitcoinFast",
          "Stakenet",
          "BitConnect Coin",
          "MoneyCoin",
          "Enigma",
          "Russiacoin",
          "PandaCoin",
          "GameUnits",
          "GAKHcoin",
          "Allsafe",
          "LiteCreed",
          "Klingon Empire Darsek",
          "Internet of People",
          "KushCoin",
          "Printerium",
          "Impeach",
          "Zilbercoin",
          "FirstCoin",
          "FindCoin",
          "OpenChat",
          "RenosCoin",
          "VirtacoinPlus",
          "TajCoin",
          "Impact",
          "Atmos",
          "HappyCoin",
          "MacronCoin",
          "Condensate",
          "Independent Money System",
          "ArgusCoin",
          "LomoCoin",
          "ProCurrency",
          "GoldReserve",
          "GrowthCoin",
          "Phreak",
          "Degas Coin",
          "HTML5 Coin",
          "Ultimate Secure Cash",
          "QTUM",
          "Espers",
          "Denarius",
          "Virta Unique Coin",
          "Bitcoin Planet",
          "BritCoin",
          "Linda",
          "DeepOnion",
          "Signatum",
          "Cream",
          "Monoeci",
          "Draftcoin",
          "Vechain",
          "Stakecoin",
          "CoinonatX",
          "Ethereum Dark",
          "Obsidian",
          "Cardano",
          "Regalcoin",
          "TrezarCoin",
          "TerraNovaCoin",
          "Rupee",
          "WomenCoin",
          "Theresa May Coin",
          "NamoCoin",
          "LUXCoin",
          "Xios",
          "Bitcloud 2.0",
          "KekCoin",
          "BlackholeCoin",
          "Infinity Economics",
          "Magnet",
          "Lamden Tau",
          "Electra",
          "Bitcoin Diamond",
          "Cash & Back Coin",
          "Bulwark",
          "Kalkulus",
          "GermanCoin",
          "LiteCoin Ultra",
          "PhantomX",
          "Digiwage",
          "Trollcoin",
          "Litecoin Plus",
          "Monkey Project",
          "TokenPay",
          "1717 Masonic Commemorative Token",
          "My Big Coin",
          "Unified Society USDEX",
          "Tokyo Coin",
          "Stipend",
          "Poa Network",
          "Pushi",
          "Ellerium",
          "Velox",
          "Ontology",
          "Bitspace",
          "Briacoin",
          "Ignition",
          "MedicCoin",
          "Bitcoin Green",
          "Deviant Coin",
          "Abjcoin",
          "Semux",
          "Carebit",
          "Zealium",
          "Proton",
          "iDealCash",
          "Bitcoin Incognito",
          "HollyWoodCoin",
          "Swisscoin",
          "Xt3ch",
          "TheVig",
          "EmaratCoin",
          "Dekado",
          "Lynx",
          "Poseidon Quark",
          "BitcoinWSpectrum",
          "Muse",
          "Trivechain",
          "Dystem",
          "Giant",
          "Peony Coin",
          "Absolute Coin",
          "Vitae",
          "TPCash",
          "ARENON",
          "EUNO",
          "MMOCoin",
          "Ketan",
          "XDNA",
          "PAXEX",
          "ThunderStake",
          "Kcash",
          "Bettex coin",
          "Junson Ming Chan Coin",
          "HerbCoin",
          "PirateCash",
          "Oduwa",
          "Galilel",
          "Crypto Sports",
          "Credit",
          "Dash Platinum",
          "Nasdacoin",
          "Beetle Coin",
          "Titan Coin",
          "Award",
          "Insane Coin",
          "ALAX",
          "LiteDoge",
          "TruckCoin",
          "OrangeCoin",
          "BitstarCoin",
          "NeosCoin",
          "HyperCoin",
          "PinkCoin",
          "AudioCoin",
          "IncaKoin",
          "Piggy Coin",
          "Genstake",
          "XiaoMiCoin",
          "CapriCoin",
          " ClubCoin",
          "Radium",
          "Creditbit ",
          "OKCash",
          "Lisk",
          "HiCoin",
          "WhiteCoin",
          "FriendshipCoin",
          "Triangles Coin",
          "EOS",
          "Oxycoin",
          "TigerCash",
          "Particl",
          "Nxt",
          "ZEPHYR",
          "Gapcoin",
          "BitcoinPlus"
         ],
         "legendgroup": "0",
         "marker": {
          "color": [
           0,
           0,
           0,
           0,
           0,
           0,
           0,
           0,
           0,
           0,
           0,
           0,
           0,
           0,
           0,
           0,
           0,
           0,
           0,
           0,
           0,
           0,
           0,
           0,
           0,
           0,
           0,
           0,
           0,
           0,
           0,
           0,
           0,
           0,
           0,
           0,
           0,
           0,
           0,
           0,
           0,
           0,
           0,
           0,
           0,
           0,
           0,
           0,
           0,
           0,
           0,
           0,
           0,
           0,
           0,
           0,
           0,
           0,
           0,
           0,
           0,
           0,
           0,
           0,
           0,
           0,
           0,
           0,
           0,
           0,
           0,
           0,
           0,
           0,
           0,
           0,
           0,
           0,
           0,
           0,
           0,
           0,
           0,
           0,
           0,
           0,
           0,
           0,
           0,
           0,
           0,
           0,
           0,
           0,
           0,
           0,
           0,
           0,
           0,
           0,
           0,
           0,
           0,
           0,
           0,
           0,
           0,
           0,
           0,
           0,
           0,
           0,
           0,
           0,
           0,
           0,
           0,
           0,
           0,
           0,
           0,
           0,
           0,
           0,
           0,
           0,
           0,
           0,
           0,
           0,
           0,
           0,
           0,
           0,
           0,
           0,
           0,
           0,
           0,
           0,
           0,
           0,
           0,
           0,
           0,
           0,
           0,
           0,
           0,
           0,
           0,
           0,
           0,
           0,
           0,
           0,
           0,
           0,
           0,
           0,
           0,
           0,
           0,
           0,
           0,
           0,
           0,
           0,
           0,
           0,
           0,
           0,
           0,
           0,
           0,
           0,
           0,
           0,
           0,
           0,
           0,
           0,
           0,
           0,
           0,
           0,
           0,
           0,
           0,
           0,
           0,
           0,
           0,
           0,
           0,
           0,
           0,
           0,
           0,
           0,
           0,
           0,
           0,
           0,
           0,
           0,
           0,
           0,
           0,
           0,
           0,
           0,
           0,
           0,
           0,
           0,
           0,
           0,
           0,
           0,
           0,
           0,
           0,
           0,
           0,
           0,
           0,
           0,
           0,
           0,
           0,
           0,
           0,
           0,
           0,
           0,
           0,
           0,
           0,
           0,
           0,
           0,
           0,
           0,
           0,
           0,
           0,
           0,
           0,
           0,
           0,
           0,
           0,
           0,
           0,
           0,
           0,
           0,
           0,
           0,
           0,
           0,
           0,
           0,
           0,
           0,
           0,
           0,
           0,
           0,
           0,
           0,
           0,
           0,
           0,
           0,
           0,
           0,
           0,
           0,
           0,
           0,
           0,
           0,
           0,
           0,
           0,
           0
          ],
          "coloraxis": "coloraxis",
          "symbol": "circle"
         },
         "mode": "markers",
         "name": "0",
         "scene": "scene",
         "showlegend": true,
         "type": "scatter3d",
         "x": [
          -0.3301809104169852,
          -0.31352749434719035,
          2.2914095326957518,
          -0.4028726263840436,
          -0.25712613039978066,
          -0.31455653130819045,
          -0.2678691091398858,
          -0.25039419994578865,
          -0.32984063902175687,
          -0.3224234335986586,
          -0.3286785174291033,
          -0.3301768469005589,
          -0.3301611363237978,
          0.6835505558107426,
          -0.3868334655475488,
          -0.3533447218608967,
          -0.2645179417176192,
          -0.3282404288036944,
          -0.3360228209032212,
          -0.4027673950475991,
          -0.4204619845338042,
          -0.023593148498394667,
          -0.27787623043681925,
          -0.2832446207128305,
          -0.29231325357640797,
          -0.2929350337976986,
          -0.34993481829030726,
          -0.324485008163132,
          -0.3285832681459646,
          0.027713805181855358,
          -0.35589572543520936,
          -0.4031388202087304,
          -0.252042281263285,
          -0.31765380212180505,
          -0.4030504710934298,
          -0.3054221073284607,
          -0.3288587218191088,
          -0.2643364662138452,
          -0.4030149939661669,
          -0.2525101944355714,
          -0.2927160482082184,
          -0.32128519106603487,
          0.02843730422066559,
          -0.336108772371785,
          -0.31376856067816283,
          -0.386255448798735,
          -0.2832249741143596,
          -0.2930103090025797,
          -0.27788020920279916,
          -0.3301629913102016,
          -0.2929625373333067,
          -0.3563401641012032,
          -0.32989745664532466,
          -0.40312036183811645,
          -0.42008196997281594,
          -0.4382668599335052,
          -0.3400641010844643,
          -0.2816271165100029,
          -0.29248430564645206,
          -0.3071135317209486,
          -0.25283557100082654,
          -0.07457399639852107,
          -0.3145274653031816,
          -0.08067889474288835,
          -0.31459117292696576,
          -0.23565858441827642,
          -0.3297733132706247,
          -0.28149565110916863,
          -0.40028960873457115,
          0.869612297221718,
          -0.3143912271784341,
          -0.046902814810969196,
          -0.3530281146120063,
          -0.4009644725353189,
          -0.3131347305756231,
          -0.3108030718917131,
          -0.3569331445408142,
          -0.4018557362969858,
          -0.3469542685996078,
          -0.3060763880856136,
          -0.32981137312613734,
          -0.32825117583874963,
          -0.24501716622772432,
          -0.3438364208343055,
          -0.4025943822777112,
          -0.3290159213648052,
          -0.3145720859847182,
          -0.4031095460015777,
          -0.33000052055990586,
          -0.3301572283828082,
          -0.28148633256588707,
          -0.2268802436472958,
          0.014284122277723346,
          -0.3519856447768966,
          -0.3297716512217046,
          -0.38927404908387353,
          -0.3513149152723705,
          -0.24644776289802153,
          -0.4237972783892194,
          -0.35106273492681683,
          -0.30008695360981485,
          3.728446372291275,
          -0.402702236074013,
          0.8384278698574702,
          -0.4030644826565021,
          -0.35244919399538915,
          -0.32969906520825043,
          -0.329853267781907,
          -0.3530281146120063,
          -0.4026394030942147,
          -0.31443485855198083,
          -0.3296998279783842,
          -0.3874544387456408,
          -0.32984714178850266,
          -0.3254351343680934,
          -0.403093450860531,
          -0.32905781471720513,
          0.35974421529111333,
          -0.33004635478881755,
          -0.3301169252737245,
          -0.36327801584456915,
          -0.36162551727765974,
          -0.3263438318288209,
          -0.31454851593940936,
          -0.40300344288977036,
          -0.32989480736003596,
          -0.3300216633963041,
          -0.28313127641198504,
          -0.2585915572928386,
          -0.24621571747639037,
          -0.3108835573402424,
          -0.28287268737804516,
          -0.4022692458658667,
          -0.44639006338578185,
          -0.40100843674359565,
          -0.351275430043729,
          -0.4021672014786985,
          -0.34567776717338033,
          -0.3981090054611292,
          -0.32996499260031237,
          -0.3299641465861927,
          -0.3230858035730329,
          0.2647985936947738,
          -0.40264564727934754,
          -0.2657757277490815,
          -0.35306233571545337,
          -0.32917581058695944,
          0.8812026931485852,
          -0.26655949499715675,
          -0.34573313273380873,
          0.5751174958043421,
          -0.3584681308875239,
          -0.35697084729094336,
          -0.4183661822100879,
          -0.29264774958033596,
          0.13469294910553511,
          -0.29271852805031323,
          -0.3479674421967786,
          -0.4178714090156005,
          -0.40291799462835676,
          -0.2832056134016658,
          4.411895581781038,
          -0.35292854592191303,
          -0.3296003064944608,
          -0.3300998623411463,
          -0.31516756912738014,
          0.6523007243857145,
          -0.40285877662408276,
          -0.3449355472686408,
          -0.33005545108350887,
          -0.32480675665626413,
          0.43865439605840106,
          -0.3128955354939975,
          -0.3432395902247809,
          -0.3998617597002991,
          -0.3300057980100367,
          -0.40834407681433293,
          -0.3375626576335913,
          -0.3298763174046918,
          -0.09442798007192264,
          -0.40165168333512336,
          3.733300890236845,
          0.20078693479014564,
          -0.2893907295860747,
          -0.3273373746708156,
          -0.31160768140681777,
          -0.36316397356292424,
          0.08423057905223703,
          -0.3290147736918267,
          -0.40223288885776615,
          -0.3623287910748946,
          -0.31658539528948076,
          -0.3301219795680959,
          -0.3563121079883994,
          -0.34723603279354537,
          -0.2780462070923931,
          -0.2522687192405897,
          -0.3256691769156124,
          -0.23801323591723839,
          -0.3805540847264316,
          -0.4092542321347808,
          -0.40293515098712085,
          -0.2756201460421093,
          -0.282365647787014,
          -0.3221046186459499,
          -0.3580671694808255,
          -0.3301493203742899,
          -0.3301310340659127,
          -0.2767490864634424,
          -0.34408213544454014,
          -0.3525231523455452,
          -0.32984761648793376,
          3.9490464632935476,
          -0.40701302422474306,
          -0.3527117308285871,
          -0.3283974057723195,
          -0.27672893406074184,
          -0.21269788263459474,
          -0.2828999915151229,
          -0.13334790157772544,
          -0.2831517860318386,
          -0.3653937506362975,
          -0.3293217426279099,
          -0.2055553936653134,
          2.2559508150376093,
          -0.3588717421760182,
          -0.2666876288571738,
          1.0200435680686324,
          -0.37435829011707095,
          -0.3632774221525214,
          -0.41002803221836837,
          -0.1638817519160772,
          -0.3713590105239605,
          -0.3619974463200853,
          -0.3230259362338312,
          -0.3558896382173198,
          -0.40240872680463596,
          -0.28039809193326476,
          -0.35181150206827233,
          -0.34695075846813045,
          -0.35575088777891856,
          -0.18963855777090052,
          -0.2747762660954638,
          -0.22898923238811103,
          -0.1464100029679496,
          -0.40932290515550557,
          -0.3018355039034797,
          -0.3298516326532346,
          -0.40977888295994525,
          -0.3633943560593651,
          0.5764076182749449,
          -0.3563663919484293,
          -0.3293345957192102,
          -0.27007739659609753,
          -0.32012032575078936,
          -0.39997320457905855,
          -0.40263590630770296,
          3.745536631787255,
          0.10495255189130588,
          -0.4001774119904842,
          -0.32871992776497994,
          -0.32954508389827464,
          -0.26790167363409095,
          -0.33006333016310746,
          -0.39426718197776844,
          -0.24377324832519298,
          -0.09436686402609445,
          -0.3900159749509693,
          -0.3293420751508046,
          -0.32240927262659413,
          -0.3992060026743764,
          -0.32778161849661397,
          -0.3533036095514303,
          -0.4046929797592413,
          -0.31307220733035174,
          3.7288380902523515,
          -0.09051769006806723,
          -0.3249776379512748,
          -0.3495606520035132,
          -0.29311749865979836,
          3.7386984430446497,
          3.7399417141071307,
          -0.24880681104768038,
          -0.35323952244508294,
          -0.34769088707423246,
          2.4770365647536137,
          -0.3282263769142498,
          -0.2835481962343086
         ],
         "y": [
          0.9972638146357129,
          0.9972930380476046,
          1.5077349781946796,
          1.1299908814225348,
          1.5219315334396881,
          0.7532176592352898,
          0.6930296352330441,
          1.7306578544346094,
          0.9972600649423872,
          0.9974600530440447,
          0.9973018202152424,
          0.9972635489895394,
          0.9972635779443367,
          0.4736986740771317,
          0.8141289245350002,
          1.8163926661178342,
          0.4656880570605052,
          0.9972244694638511,
          1.0703221104619713,
          1.1299935434255552,
          1.5599955036584328,
          0.9436434044017902,
          0.7523789536081458,
          0.9370631615372185,
          1.673892268789128,
          1.6738765398163475,
          0.4386424570919646,
          0.9970983867794329,
          0.9972320094732897,
          1.006317361317298,
          1.0698193920355117,
          1.1300003595718557,
          0.22696453632894054,
          1.7294178181131545,
          1.1299952258362893,
          0.9967110242538045,
          0.9972235675286869,
          0.4955100186404028,
          1.1299994395248336,
          0.2270263937955341,
          1.6738820794238463,
          0.996751905651627,
          0.7675013986309857,
          1.663574038073544,
          0.753203692980322,
          0.8141467742396133,
          0.9370755822385789,
          1.6738657923101423,
          0.9368423164521958,
          0.9972642679604916,
          1.6738684746568704,
          1.069793410391692,
          0.9972562462819679,
          1.130000827244217,
          1.3195834812466272,
          1.7207711917488673,
          0.22573897220238442,
          0.9370423086101434,
          1.6738510946830918,
          0.7526852139443192,
          1.7308346451846146,
          0.8494085631507375,
          0.7532183945086003,
          1.1185917371574312,
          0.7532252577406516,
          1.3862348101089292,
          0.997243173991503,
          0.9369564255825653,
          1.1297894504885626,
          0.8932813597849842,
          0.7532085759396873,
          0.4831157085917591,
          1.8163859364059187,
          1.1300000934914594,
          0.7531057035563931,
          0.7529419278859989,
          1.3831006421554795,
          1.1299303832476038,
          1.6931888201110943,
          0.9963996966675246,
          0.9972404916745778,
          0.9972389364224864,
          1.6135652528228588,
          1.069640282024159,
          1.129977285721475,
          0.9972269603141667,
          0.7532180026948229,
          1.1299988900254947,
          0.9972529021663719,
          0.997264413743398,
          0.9371195640904527,
          0.5320295324894594,
          1.7536763817897685,
          1.8163725126057157,
          0.9972741675639026,
          1.1292456812138876,
          1.8164145359067496,
          1.6136746092671954,
          1.770107783083994,
          1.8162285735172397,
          1.7549311812146255,
          2.0325680341969377,
          1.1299892962018367,
          1.7018698606174936,
          1.1299994011267205,
          1.8163784729388204,
          0.9972476020370388,
          0.9972411514081386,
          1.8163859364059187,
          1.1299687774330183,
          0.7532222110338676,
          0.997251665395433,
          0.7418542299786971,
          0.9972516235514376,
          0.9969043690232768,
          1.129997823296772,
          0.9971861057297794,
          0.9293789853931074,
          0.9972576382418942,
          0.9972629897367468,
          1.5450663017549942,
          0.48901385059186353,
          0.9969924094278877,
          0.7532185989386218,
          1.129996891557498,
          0.9972563133000792,
          0.997251679511401,
          0.9370374207160231,
          0.4748688873161053,
          1.6136716177285968,
          0.9970150324095111,
          0.9370591236744131,
          1.1299486635346832,
          1.7297140662869959,
          1.1299731884030557,
          1.8163637350614297,
          1.129951244918479,
          1.8162918381282391,
          1.1297591273301701,
          0.9972536445849607,
          0.9972482215542974,
          0.9967063561404964,
          0.651242983403549,
          1.1299833582987895,
          0.9360431078798686,
          1.8163777013143052,
          0.9972118615311494,
          1.6932167207203865,
          0.6929245256025339,
          1.693170704203264,
          1.7457333246223827,
          1.383120767394848,
          1.383077580166878,
          1.737163259940185,
          1.6738616989177562,
          0.9721765208094727,
          1.673868089840061,
          1.7653761532650432,
          1.737175776057363,
          1.1299989401627726,
          0.9370632448828669,
          2.998034448336708,
          1.8163577984369723,
          0.9972429431318209,
          0.9972627697607569,
          1.5230493382452344,
          1.669615540260159,
          1.1299875470697007,
          0.4384769238412104,
          0.9972553938303248,
          0.7409555888001863,
          0.9982892636627845,
          0.7532021954988782,
          1.3826290388909621,
          1.790365039746506,
          0.9972527686644262,
          1.6051660076351675,
          1.7493948758468485,
          0.9972606217683466,
          0.690793860734229,
          1.1299318604035353,
          2.032414484435029,
          1.3751671966372934,
          1.673811441291079,
          0.9971809890285872,
          1.3229170637290872,
          1.545065501939915,
          0.9708999905857304,
          0.9971827728777819,
          1.1299864303033829,
          1.5450129351661934,
          0.996944488976989,
          0.9972623576566624,
          1.0697933831769415,
          1.6931879564133128,
          0.009998694573129793,
          0.4182058806019134,
          0.9972069761814597,
          1.6133002642914527,
          0.7929600240730765,
          5.9655576321872354,
          1.1299870889344765,
          0.8811736001293674,
          0.9370059396362594,
          1.8195595314057398,
          1.3831014327398312,
          0.9972624029662925,
          0.9972613916668205,
          0.9368709300976117,
          1.6692742536448784,
          1.8163485982748935,
          0.99725013766083,
          2.053722753256577,
          1.6051996788412208,
          1.816349723395273,
          0.7298244731285187,
          0.994841395395932,
          -0.023062903895257645,
          0.9370646427483185,
          0.9947262358324255,
          0.9370450082434096,
          1.7587369224512357,
          0.9972236456996401,
          1.6706076703520698,
          0.44606259816591426,
          1.5447098082051727,
          0.6929948471770818,
          1.8564707841882286,
          0.7900102074556792,
          1.5450618951265604,
          1.6052670014061197,
          0.927655002532799,
          0.8011330302293801,
          1.5450360559099887,
          0.9967078705851767,
          1.0697790142589185,
          1.1299819821878183,
          0.9369554882634261,
          1.8162766938416772,
          0.8224052140524718,
          1.069749361832277,
          0.987554128412255,
          1.3343093857334247,
          0.8209845151201175,
          1.0751186844763843,
          1.605248839938955,
          -0.058393461918193244,
          0.9972566685355023,
          1.6052630716271163,
          1.5450645599483448,
          0.9650742932706902,
          1.0697929679966829,
          0.9972233205591536,
          0.8809895591622947,
          1.75627117800027,
          1.1297709245807412,
          1.1299909741244418,
          2.0323555374517728,
          0.982478304792081,
          1.130075274092898,
          0.9971533844424066,
          0.9972399153976123,
          0.6930225474598543,
          0.9972667890562357,
          1.1298563126939494,
          0.9917117592737799,
          0.7586639197873586,
          1.129595383528105,
          0.9972739802933972,
          0.9971656348115917,
          1.1299465637614514,
          0.9972065981937223,
          1.8163870736523002,
          0.7571450749994975,
          0.7531940415829569,
          2.0325522105535945,
          0.9345745131671509,
          0.997174357820703,
          0.4386103601417307,
          1.6738718356289184,
          2.0329194951518894,
          2.032950945777093,
          0.692784118630435,
          1.816388964460351,
          2.249243488461036,
          0.8686644083984071,
          0.9971290225811035,
          0.9370666688522004
         ],
         "z": [
          -0.5716913236697317,
          -0.5719769655812208,
          -0.578612149998488,
          -0.48709672643701657,
          -0.15047993503476428,
          -0.30989274457292726,
          -0.051807990513531806,
          -0.5189492546531586,
          -0.5716964481809652,
          -0.5718542896587467,
          -0.5717228853484388,
          -0.5716913486951591,
          -0.5716916183923131,
          -0.4393952283567911,
          -0.34894802108670037,
          -0.2471630789590835,
          -0.33724173305983046,
          -0.5717176058871447,
          -0.22943704430715547,
          -0.4870989370950317,
          -0.4850755538605808,
          -0.3190653059160595,
          -0.3103739946021566,
          -0.3136086984378312,
          -0.5622498266310887,
          -0.5622367645197955,
          -0.30011433685489775,
          -0.5717602916368139,
          -0.5717130588077555,
          -0.5792098333448169,
          -0.22901956224222778,
          -0.4870937893754536,
          0.10409358907739857,
          -0.2951187946368667,
          -0.48709443861145185,
          -0.5720183447151751,
          -0.5717070308091317,
          -0.3825175630521945,
          -0.4870957270002902,
          0.10409134993375588,
          -0.5622413648818586,
          -0.5717575126322116,
          -0.4327387488558509,
          -0.13996846945839006,
          -0.3099037462626185,
          -0.34896069244921357,
          -0.31361106391008586,
          -0.5622337349029973,
          -0.3136630002168349,
          -0.5716917001122697,
          -0.5622349798487469,
          -0.229007811876262,
          -0.5716948645833244,
          -0.4870941772622428,
          -0.16862676133797885,
          -0.716216578177272,
          -0.10668050362780242,
          -0.3136325621891236,
          -0.5622401987986946,
          -0.30993107052500557,
          -0.5189370344992048,
          -0.3862493861680953,
          -0.3098933551799861,
          -0.4906636122979193,
          -0.30989340475647686,
          -0.5922910018056953,
          -0.5716948173849117,
          -0.31362071426836136,
          -0.48710730010761866,
          -0.3258812217729934,
          -0.30989404481835675,
          -0.4286185285477682,
          -0.24716731634264616,
          -0.48713041566829995,
          -0.309898387942708,
          -0.3099108893011833,
          -0.5897324521492024,
          -0.48710396827266655,
          -0.0749444288893828,
          -0.5719563243366034,
          -0.5716937362315283,
          -0.5717197938931596,
          -0.3041525748696096,
          -0.2291936067877429,
          -0.48709919239277955,
          -0.5717049353113979,
          -0.30989253849524884,
          -0.48709404241071264,
          -0.5716925787688745,
          -0.5716918211775537,
          -0.31364758859940134,
          -0.43299589617687995,
          -0.6702050023514325,
          -0.24718269894011527,
          -0.5716999212290151,
          -0.48720402192830864,
          -0.24720089278903087,
          -0.3041463574820154,
          -0.6348149949782065,
          -0.24717469071140208,
          -0.6651087054956252,
          -0.29745701286343634,
          -0.4870993404186228,
          -0.5859014004294147,
          -0.48709488609656026,
          -0.24717585741325804,
          -0.5716967947417939,
          -0.5716931377323774,
          -0.24716731634264616,
          -0.48709703972566976,
          -0.30989554200328356,
          -0.571697447333621,
          -0.3118331674899521,
          -0.5716949560676211,
          -0.5717124937117561,
          -0.4870941391534814,
          -0.5716975380388222,
          -0.3231941192025382,
          -0.5716925814118248,
          -0.5716922676707165,
          -0.19886190093783354,
          -0.29651737493595426,
          -0.571711587107644,
          -0.30989303364537496,
          -0.4870955045261743,
          -0.5716949202384548,
          -0.5716920219657731,
          -0.31360639439162435,
          -0.35249056941183377,
          -0.30414978095023315,
          -0.5719760260115456,
          -0.3136143097268302,
          -0.48709998829042855,
          -0.6182152538426774,
          -0.4871252679786852,
          -0.24719323904924728,
          -0.4871021319982794,
          -0.24727586778117996,
          -0.4871391094552618,
          -0.5716932995254795,
          -0.5716924256641597,
          -0.5717196860816771,
          -0.05394791218311396,
          -0.48709932232576303,
          -0.31373625318454473,
          -0.24716539055160686,
          -0.5716997660907008,
          -0.5319016431299858,
          -0.05181286305912728,
          -0.07496205622202405,
          -0.6312850652265586,
          -0.5897098608690621,
          -0.5897280394416687,
          -0.6195927256061982,
          -0.5622391790090637,
          -0.5754227699804293,
          -0.5622390319872584,
          -0.14513735839777345,
          -0.619603119604447,
          -0.4870972810911358,
          -0.31360936993658756,
          5.512136117088961,
          -0.24716438739333035,
          -0.5716976972961685,
          -0.5716925194076692,
          -0.14968414241648642,
          -0.1938865512263486,
          -0.48709641394339953,
          -0.3001715390374979,
          -0.5716920604378835,
          -0.047760061259444916,
          -0.5848254903293717,
          -0.30991822438732797,
          -0.5898861563480664,
          -0.5527288368263318,
          -0.5716924679023038,
          -0.4569595350280961,
          -0.16979962962288012,
          -0.5716959376646461,
          -0.054366882345941094,
          -0.48710765149217233,
          -0.29751373635369527,
          -0.597839012306433,
          -0.5622858772091098,
          -0.571725714899251,
          -0.33162545701831125,
          -0.1988636932488127,
          -0.5743626766046931,
          -0.5716977180949102,
          -0.4871067865025975,
          -0.19886916955270673,
          -0.5718683129476468,
          -0.571692078915527,
          -0.22900828057913583,
          -0.07493953555396132,
          0.06427502242424947,
          -0.5116835839690815,
          -0.5717581045804159,
          -0.30422729738513155,
          -0.40638403972451725,
          5.026314915018322,
          -0.48709505087873817,
          -0.3803746054321825,
          -0.3136141508876049,
          -0.1361483539763605,
          -0.5897134565557332,
          -0.5716916252395307,
          -0.5716917680134704,
          -0.3136867623929252,
          -0.03100080806700001,
          -0.24716971755233746,
          -0.5716947047177804,
          -0.35146891934929186,
          -0.45698749725086685,
          -0.24716672148083763,
          -0.0679404247825002,
          -0.5721960595042118,
          3.717630302112487e-05,
          -0.3136147531070386,
          -0.5745952876661584,
          -0.31360729111019403,
          -0.6646305873576029,
          -0.5716992348727161,
          -0.2608558981448064,
          -0.5145424194608872,
          -0.19887782880998622,
          -0.051822218668055385,
          -0.23829116116585525,
          -0.3260370567538027,
          -0.1988611892772457,
          -0.45694767525014157,
          -0.3140809523207843,
          -0.3058453617939988,
          -0.19887854408682049,
          -0.5717209437508994,
          -0.22901305223759522,
          -0.48710309256902923,
          -0.3136390708444434,
          -0.24716994358774663,
          -0.4002638425036156,
          -0.22901053605679553,
          -0.5724713835512703,
          -0.08399620684460159,
          -0.12228872460880581,
          -0.23342035488165835,
          -0.4569565927528501,
          0.1488540521448378,
          -0.5716957065467302,
          -0.45695123351506584,
          -0.19885965363162775,
          -0.5817090543018648,
          -0.22900729709872372,
          -0.5716989648600924,
          -0.380437942245538,
          -0.6649902984547197,
          -0.4871096022043174,
          -0.4871007338479406,
          -0.29771043555365134,
          -0.5766083271446204,
          -0.48715600158074546,
          -0.5716978776621126,
          -0.5716981327607288,
          -0.05180628055703958,
          -0.571693793753962,
          -0.48721981695316896,
          -0.5722393093218376,
          -0.314498125708904,
          -0.4872487802313343,
          -0.5717071352604675,
          -0.5718063116378462,
          -0.48715130529617834,
          -0.5717224168404793,
          -0.24716285643115785,
          -0.3241695850439153,
          -0.3099139094918791,
          -0.29746102765955057,
          -0.31645142771040585,
          -0.5717644253190809,
          -0.3001153905683696,
          -0.5622329168879786,
          -0.29768747037995363,
          -0.2977135885233582,
          -0.052089263518407744,
          -0.24716424690276256,
          -0.5272243065755173,
          -0.11151371485197184,
          -0.5717022115432293,
          -0.3136041530997264
         ]
        },
        {
         "customdata": [
          [
           "SHA-256"
          ],
          [
           "Ethash"
          ],
          [
           "Scrypt"
          ],
          [
           "CryptoNight-V7"
          ],
          [
           "Ethash"
          ],
          [
           "Equihash"
          ],
          [
           "Multiple"
          ],
          [
           "Scrypt"
          ],
          [
           "X11"
          ],
          [
           "Scrypt"
          ],
          [
           "Multiple"
          ],
          [
           "Scrypt"
          ],
          [
           "SHA-256"
          ],
          [
           "Scrypt"
          ],
          [
           "Scrypt"
          ],
          [
           "Quark"
          ],
          [
           "Groestl"
          ],
          [
           "Scrypt"
          ],
          [
           "Scrypt"
          ],
          [
           "Scrypt"
          ],
          [
           "X11"
          ],
          [
           "Multiple"
          ],
          [
           "SHA-256"
          ],
          [
           "Scrypt"
          ],
          [
           "Scrypt"
          ],
          [
           "Scrypt"
          ],
          [
           "Scrypt"
          ],
          [
           "Scrypt"
          ],
          [
           "NeoScrypt"
          ],
          [
           "Scrypt"
          ],
          [
           "Scrypt"
          ],
          [
           "Scrypt"
          ],
          [
           "Scrypt"
          ],
          [
           "SHA-256"
          ],
          [
           "Scrypt"
          ],
          [
           "Scrypt"
          ],
          [
           "Scrypt"
          ],
          [
           "Scrypt"
          ],
          [
           "HybridScryptHash256"
          ],
          [
           "Scrypt"
          ],
          [
           "Scrypt"
          ],
          [
           "SHA-256"
          ],
          [
           "Scrypt"
          ],
          [
           "Scrypt"
          ],
          [
           "Scrypt"
          ],
          [
           "Scrypt"
          ],
          [
           "SHA-256"
          ],
          [
           "SHA-256"
          ],
          [
           "SHA-256"
          ],
          [
           "SHA-256"
          ],
          [
           "SHA-256"
          ],
          [
           "X11"
          ],
          [
           "Scrypt"
          ],
          [
           "Lyra2REv2"
          ],
          [
           "Scrypt"
          ],
          [
           "SHA-256"
          ],
          [
           "CryptoNight"
          ],
          [
           "CryptoNight"
          ],
          [
           "Scrypt"
          ],
          [
           "Scrypt"
          ],
          [
           "Scrypt"
          ],
          [
           "Scrypt"
          ],
          [
           "Scrypt"
          ],
          [
           "Scrypt"
          ],
          [
           "Stanford Folding"
          ],
          [
           "Multiple"
          ],
          [
           "QuBit"
          ],
          [
           "Scrypt"
          ],
          [
           "Scrypt"
          ],
          [
           "M7 POW"
          ],
          [
           "Scrypt"
          ],
          [
           "SHA-256"
          ],
          [
           "Scrypt"
          ],
          [
           "X11"
          ],
          [
           "Lyra2RE"
          ],
          [
           "SHA-256"
          ],
          [
           "X11"
          ],
          [
           "Scrypt"
          ],
          [
           "Scrypt"
          ],
          [
           "Ethash"
          ],
          [
           "Blake2b"
          ],
          [
           "X11"
          ],
          [
           "SHA-256"
          ],
          [
           "Scrypt"
          ],
          [
           "1GB AES Pattern Search"
          ],
          [
           "Scrypt"
          ],
          [
           "SHA-256"
          ],
          [
           "X11"
          ],
          [
           "Dagger"
          ],
          [
           "Scrypt"
          ],
          [
           "X11GOST"
          ],
          [
           "Scrypt"
          ],
          [
           "X11"
          ],
          [
           "Scrypt"
          ],
          [
           "X11"
          ],
          [
           "Equihash"
          ],
          [
           "CryptoNight"
          ],
          [
           "SHA-256"
          ],
          [
           "Multiple"
          ],
          [
           "Scrypt"
          ],
          [
           "SHA-256"
          ],
          [
           "Scrypt"
          ],
          [
           "Lyra2Z"
          ],
          [
           "Ethash"
          ],
          [
           "Equihash"
          ],
          [
           "Scrypt"
          ],
          [
           "X11"
          ],
          [
           "X11"
          ],
          [
           "CryptoNight"
          ],
          [
           "Scrypt"
          ],
          [
           "CryptoNight"
          ],
          [
           "Lyra2RE"
          ],
          [
           "X11"
          ],
          [
           "CryptoNight-V7"
          ],
          [
           "Scrypt"
          ],
          [
           "X11"
          ],
          [
           "Equihash"
          ],
          [
           "Scrypt"
          ],
          [
           "Lyra2RE"
          ],
          [
           "Dagger-Hashimoto"
          ],
          [
           "Scrypt"
          ],
          [
           "NIST5"
          ],
          [
           "Scrypt"
          ],
          [
           "SHA-256"
          ],
          [
           "Scrypt"
          ],
          [
           "CryptoNight-V7"
          ],
          [
           "Argon2d"
          ],
          [
           "Blake2b"
          ],
          [
           "Cloverhash"
          ],
          [
           "CryptoNight"
          ],
          [
           "X11"
          ],
          [
           "Scrypt"
          ],
          [
           "Scrypt"
          ],
          [
           "X11"
          ],
          [
           "X11"
          ],
          [
           "CryptoNight"
          ],
          [
           "Time Travel"
          ],
          [
           "Scrypt"
          ],
          [
           "Keccak"
          ],
          [
           "X11"
          ],
          [
           "SHA-256"
          ],
          [
           "Scrypt"
          ],
          [
           "Scrypt"
          ],
          [
           "Scrypt"
          ],
          [
           "Scrypt"
          ],
          [
           "Scrypt"
          ],
          [
           "Scrypt"
          ],
          [
           "CryptoNight"
          ],
          [
           "Equihash"
          ],
          [
           "X11"
          ],
          [
           "NeoScrypt"
          ],
          [
           "Equihash"
          ],
          [
           "Dagger"
          ],
          [
           "Scrypt"
          ],
          [
           "X11"
          ],
          [
           "NeoScrypt"
          ],
          [
           "Ethash"
          ],
          [
           "NeoScrypt"
          ],
          [
           "Multiple"
          ],
          [
           "CryptoNight"
          ],
          [
           "CryptoNight"
          ],
          [
           "Ethash"
          ],
          [
           "X11"
          ],
          [
           "CryptoNight-V7"
          ],
          [
           "Scrypt"
          ],
          [
           "BLAKE256"
          ],
          [
           "X11"
          ],
          [
           "NeoScrypt"
          ],
          [
           "NeoScrypt"
          ],
          [
           "Scrypt"
          ],
          [
           "X11"
          ],
          [
           "SHA-256"
          ],
          [
           "C11"
          ],
          [
           "CryptoNight"
          ],
          [
           "SkunkHash"
          ],
          [
           "CryptoNight"
          ],
          [
           "Scrypt"
          ],
          [
           "Dagger"
          ],
          [
           "Lyra2REv2"
          ],
          [
           "Scrypt"
          ],
          [
           "Scrypt"
          ],
          [
           "X11"
          ],
          [
           "Ethash"
          ],
          [
           "CryptoNight"
          ],
          [
           "Scrypt"
          ],
          [
           "IMesh"
          ],
          [
           "Equihash"
          ],
          [
           "Lyra2Z"
          ],
          [
           "X11"
          ],
          [
           "CryptoNight"
          ],
          [
           "NIST5"
          ],
          [
           "Lyra2RE"
          ],
          [
           "Tribus"
          ],
          [
           "Lyra2Z"
          ],
          [
           "CryptoNight"
          ],
          [
           "CryptoNight Heavy"
          ],
          [
           "CryptoNight"
          ],
          [
           "Jump Consistent Hash"
          ],
          [
           "CryptoNight"
          ],
          [
           "X16R"
          ],
          [
           "HMQ1725"
          ],
          [
           "X11"
          ],
          [
           "Scrypt"
          ],
          [
           "CryptoNight-V7"
          ],
          [
           "Cryptonight-GPU"
          ],
          [
           "XEVAN"
          ],
          [
           "CryptoNight Heavy"
          ],
          [
           "SHA-256"
          ],
          [
           "X11"
          ],
          [
           "X16R"
          ],
          [
           "Equihash"
          ],
          [
           "Lyra2Z"
          ],
          [
           "SHA-256"
          ],
          [
           "XEVAN"
          ],
          [
           "CryptoNight"
          ],
          [
           "Blake"
          ],
          [
           "Blake"
          ],
          [
           "Exosis"
          ],
          [
           "Scrypt"
          ],
          [
           "Equihash"
          ],
          [
           "Equihash"
          ],
          [
           "QuBit"
          ],
          [
           "SHA-256"
          ],
          [
           "X13"
          ],
          [
           "SHA-256"
          ],
          [
           "Scrypt"
          ],
          [
           "NeoScrypt"
          ],
          [
           "Blake"
          ],
          [
           "Scrypt"
          ],
          [
           "SHA-256"
          ],
          [
           "Scrypt"
          ],
          [
           "Groestl"
          ],
          [
           "Scrypt"
          ],
          [
           "Scrypt"
          ],
          [
           "Multiple"
          ],
          [
           "Equihash+Scrypt"
          ],
          [
           "Ethash"
          ],
          [
           "CryptoNight"
          ],
          [
           "Equihash"
          ]
         ],
         "hovertemplate": "<b>%{hovertext}</b><br><br>Class=%{marker.color}<br>principal component 1=%{x}<br>principal component 2=%{y}<br>principal component 3=%{z}<br>Algorithm=%{customdata[0]}<extra></extra>",
         "hovertext": [
          "Bitcoin",
          "Ethereum",
          "Litecoin",
          "Monero",
          "Ethereum Classic",
          "ZCash",
          "DigiByte",
          "ProsperCoin",
          "Spreadcoin",
          "Argentum",
          "MyriadCoin",
          "MoonCoin",
          "ZetaCoin",
          "SexCoin",
          "Quatloo",
          "QuarkCoin",
          "Riecoin",
          "Digitalcoin ",
          "Catcoin",
          "CannaCoin",
          "CryptCoin",
          "Verge",
          "DevCoin",
          "EarthCoin",
          "E-Gulden",
          "Einsteinium",
          "Emerald",
          "Franko",
          "FeatherCoin",
          "GrandCoin",
          "GlobalCoin",
          "GoldCoin",
          "Infinite Coin",
          "IXcoin",
          "KrugerCoin",
          "LuckyCoin",
          "Litebar ",
          "MegaCoin",
          "MediterraneanCoin",
          "MinCoin",
          "NobleCoin",
          "Namecoin",
          "NyanCoin",
          "RonPaulCoin",
          "StableCoin",
          "SmartCoin",
          "SysCoin",
          "TigerCoin",
          "TerraCoin",
          "UnbreakableCoin",
          "Unobtanium",
          "UroCoin",
          "ViaCoin",
          "Vertcoin",
          "WorldCoin",
          "JouleCoin",
          "ByteCoin",
          "DigitalNote ",
          "MonaCoin",
          "Gulden",
          "PesetaCoin",
          "Wild Beast Coin",
          "Flo",
          "ArtByte",
          "Folding Coin",
          "Unitus",
          "CypherPunkCoin",
          "OmniCron",
          "GreenCoin",
          "Cryptonite",
          "MasterCoin",
          "SoonCoin",
          "1Credit",
          "MarsCoin ",
          "Crypto",
          "Anarchists Prime",
          "BowsCoin",
          "Song Coin",
          "BitZeny",
          "Expanse",
          "Siacoin",
          "MindCoin",
          "I0coin",
          "Revolution VR",
          "HOdlcoin",
          "Gamecredits",
          "CarpeDiemCoin",
          "Adzcoin",
          "SoilCoin",
          "YoCoin",
          "SibCoin",
          "Francs",
          "BolivarCoin",
          "Omni",
          "PizzaCoin",
          "Komodo",
          "Karbo",
          "ZayedCoin",
          "Circuits of Value",
          "DopeCoin",
          "DollarCoin",
          "Shilling",
          "ZCoin",
          "Elementrem",
          "ZClassic",
          "KiloCoin",
          "ArtexCoin",
          "Kurrent",
          "Cannabis Industry Coin",
          "OsmiumCoin",
          "Bikercoins",
          "HexxCoin",
          "PacCoin",
          "Citadel",
          "BeaverCoin",
          "VaultCoin",
          "Zero",
          "Canada eCoin",
          "Zoin",
          "DubaiCoin",
          "EB3coin",
          "Coinonat",
          "BenjiRolls",
          "ILCoin",
          "EquiTrader",
          "Quantum Resistant Ledger",
          "Dynamic",
          "Nano",
          "ChanCoin",
          "Dinastycoin",
          "DigitalPrice",
          "Unify",
          "SocialCoin",
          "ArcticCoin",
          "DAS",
          "LeviarCoin",
          "Bitcore",
          "gCn Coin",
          "SmartCash",
          "Onix",
          "Bitcoin Cash",
          "Sojourn Coin",
          "NewYorkCoin",
          "FrazCoin",
          "Kronecoin",
          "AdCoin",
          "Linx",
          "Sumokoin",
          "BitcoinZ",
          "Elements",
          "VIVO Coin",
          "Bitcoin Gold",
          "Pirl",
          "eBoost",
          "Pura",
          "Innova",
          "Ellaism",
          "GoByte",
          "SHIELD",
          "UltraNote",
          "BitCoal",
          "DaxxCoin",
          "AC3",
          "Lethean",
          "PopularCoin",
          "Photon",
          "Sucre",
          "SparksPay",
          "GunCoin",
          "IrishCoin",
          "Pioneer Coin",
          "UnitedBitcoin",
          "Interzone",
          "TurtleCoin",
          "MUNcoin",
          "Niobio Cash",
          "ShareChain",
          "Travelflex",
          "KREDS",
          "BitFlip",
          "LottoCoin",
          "Crypto Improvement Fund",
          "Callisto Network",
          "BitTube",
          "Poseidon",
          "Aidos Kuneen",
          "Bitrolium",
          "Alpenschillling",
          "FuturoCoin",
          "Monero Classic",
          "Jumpcoin",
          "Infinex",
          "KEYCO",
          "GINcoin",
          "PlatinCoin",
          "Loki",
          "Newton Coin",
          "MassGrid",
          "PluraCoin",
          "Motion",
          "PlusOneCoin",
          "Axe",
          "HexCoin",
          "Webchain",
          "Ryo",
          "Urals Coin",
          "Qwertycoin",
          "Project Pai",
          "Azart",
          "Xchange",
          "CrypticCoin",
          "Actinium",
          "Bitcoin SV",
          "BitMoney",
          "FREDEnergy",
          "Universal Molecule",
          "Lithium",
          "Exosis",
          "Block-Logic",
          "Beam",
          "Bithereum",
          "SLICE",
          "BLAST",
          "Bitcoin Rhodium",
          "GlobalToken",
          "SolarCoin",
          "UFO Coin",
          "BlakeCoin",
          "Crypto Escudo",
          "Crown Coin",
          "SmileyCoin",
          "Groestlcoin",
          "Bata",
          "Pakcoin",
          "JoinCoin",
          "Vollar",
          "Reality Clash",
          "Beldex",
          "Horizen"
         ],
         "legendgroup": "1",
         "marker": {
          "color": [
           1,
           1,
           1,
           1,
           1,
           1,
           1,
           1,
           1,
           1,
           1,
           1,
           1,
           1,
           1,
           1,
           1,
           1,
           1,
           1,
           1,
           1,
           1,
           1,
           1,
           1,
           1,
           1,
           1,
           1,
           1,
           1,
           1,
           1,
           1,
           1,
           1,
           1,
           1,
           1,
           1,
           1,
           1,
           1,
           1,
           1,
           1,
           1,
           1,
           1,
           1,
           1,
           1,
           1,
           1,
           1,
           1,
           1,
           1,
           1,
           1,
           1,
           1,
           1,
           1,
           1,
           1,
           1,
           1,
           1,
           1,
           1,
           1,
           1,
           1,
           1,
           1,
           1,
           1,
           1,
           1,
           1,
           1,
           1,
           1,
           1,
           1,
           1,
           1,
           1,
           1,
           1,
           1,
           1,
           1,
           1,
           1,
           1,
           1,
           1,
           1,
           1,
           1,
           1,
           1,
           1,
           1,
           1,
           1,
           1,
           1,
           1,
           1,
           1,
           1,
           1,
           1,
           1,
           1,
           1,
           1,
           1,
           1,
           1,
           1,
           1,
           1,
           1,
           1,
           1,
           1,
           1,
           1,
           1,
           1,
           1,
           1,
           1,
           1,
           1,
           1,
           1,
           1,
           1,
           1,
           1,
           1,
           1,
           1,
           1,
           1,
           1,
           1,
           1,
           1,
           1,
           1,
           1,
           1,
           1,
           1,
           1,
           1,
           1,
           1,
           1,
           1,
           1,
           1,
           1,
           1,
           1,
           1,
           1,
           1,
           1,
           1,
           1,
           1,
           1,
           1,
           1,
           1,
           1,
           1,
           1,
           1,
           1,
           1,
           1,
           1,
           1,
           1,
           1,
           1,
           1,
           1,
           1,
           1,
           1,
           1,
           1,
           1,
           1,
           1,
           1,
           1,
           1,
           1,
           1,
           1,
           1,
           1,
           1,
           1,
           1,
           1,
           1,
           1,
           1,
           1,
           1,
           1,
           1,
           1,
           1,
           1,
           1,
           1,
           1,
           1,
           1,
           1,
           1,
           1,
           1,
           1,
           1,
           1
          ],
          "coloraxis": "coloraxis",
          "symbol": "diamond"
         },
         "mode": "markers",
         "name": "1",
         "scene": "scene",
         "showlegend": true,
         "type": "scatter3d",
         "x": [
          -0.14419140947362005,
          -0.15321775896982584,
          -0.15864674528080738,
          -0.1510146153580808,
          -0.1516597799867857,
          -0.17896033885738372,
          0.1579341888452818,
          -0.1597925361219201,
          -0.23269185725503194,
          -0.15940911789425455,
          -0.09539719790211357,
          2.5621655103561896,
          -0.14127754343571344,
          -0.15666541956093422,
          -0.15921309985974536,
          -0.23504798171831268,
          -0.21553539046249873,
          -0.15926209408275058,
          -0.15977481391099388,
          -0.15986125062957304,
          -0.2327811501630055,
          0.1816457405198946,
          0.23350776415279403,
          0.08877041139684297,
          -0.15960767521919628,
          -0.15521453215998093,
          -0.159546955034285,
          -0.15991822515277784,
          -0.17490236718696356,
          -0.139147402652879,
          -0.1587138409174247,
          -0.1589910933537591,
          1.5882765868016004,
          -0.14415280454539012,
          -0.1562813317928388,
          -0.15963410419893762,
          -0.1599887743687056,
          -0.15924831561391645,
          -0.15728665926132746,
          -0.15987007694282174,
          -0.024791008006862257,
          -0.14423036357289404,
          -0.1535365850871536,
          -0.15984947773095232,
          -0.15794394845122486,
          -0.1593364124553887,
          -0.13138669479753148,
          -0.1436943592661499,
          -0.14398139828366835,
          -0.14396420704908958,
          -0.14455491472848858,
          -0.23295501792068443,
          -0.1595661454608592,
          -0.20050464495126652,
          -0.15667005432310804,
          -0.14376161930371198,
          3.8614244655962815,
          0.4617898682339456,
          -0.15843408621220217,
          -0.14303543968557175,
          -0.15715345209945858,
          -0.15999097590971068,
          -0.15701861255457106,
          -0.1432472508061019,
          -0.14435382390916443,
          -0.12939107831533345,
          -0.19230661713631755,
          -0.15986413410929018,
          -0.03283713790816524,
          -0.1127331781553761,
          -0.1599998724585346,
          -0.14425812267588473,
          0.49217757028019016,
          -0.23234244779328855,
          -0.1617165094059906,
          -0.14399799596872742,
          -0.23262721682413615,
          -0.15812386605970993,
          -0.15731644756299162,
          -0.1542844261551877,
          0.3785638999392272,
          -0.23266261474782055,
          -0.1441539261525945,
          -0.15595938242840757,
          -0.134741423581284,
          -0.15856376687254242,
          0.2741588295512096,
          -0.23182355824954948,
          -0.15382410037040523,
          -0.15881061363534,
          -0.15967306133531448,
          -0.15978982795280375,
          -0.23262583827358962,
          -0.15999993092951686,
          -0.2327757100036655,
          -0.3784982257413614,
          0.30674818080505534,
          -0.1444138942564251,
          -0.1094708497392936,
          -0.15716753856195265,
          -0.14437254689379786,
          -0.15966340955049227,
          -0.15493548829147052,
          -0.1540267081339068,
          -0.17898194160973288,
          -0.08672531753802086,
          -0.21936557470841034,
          -0.23060430125112463,
          0.3067426023804944,
          -0.15998167057914642,
          0.30687325146660377,
          -0.16225687004495215,
          0.4824862560615766,
          -0.1497792300130883,
          -0.15994997553176035,
          -0.22550979638532348,
          -0.17899432783287084,
          -0.15808400308215398,
          -0.16197538254665003,
          -0.1579943022085744,
          -0.13087330576519732,
          -0.18795521596398063,
          -0.15951248478225405,
          -0.11074910785356235,
          -0.15933448875722173,
          -0.14963745169141043,
          -0.15641832594312605,
          -0.021472697222082754,
          -0.16798756918755947,
          0.34285040766248853,
          -0.23183186791651417,
          -0.1596537970438809,
          -0.15941706147575357,
          -0.23222648266573634,
          -0.23280375390708966,
          0.3071374902118321,
          -0.15322115092498487,
          3.248422635192119,
          -0.11662925058767223,
          -0.2236766278471513,
          -0.14419057424363846,
          -0.08557136655021434,
          1.5858637081420983,
          -0.1597515763300312,
          -0.15920326896380957,
          -0.15890436366430924,
          -0.15889130323285403,
          0.3073211492816207,
          0.033294198539496916,
          -0.18721214181400134,
          -0.1795895150768603,
          -0.17884046134314632,
          -0.15258339914165078,
          -0.15808221342127418,
          -0.22834950936277312,
          -0.17943494120987585,
          -0.15239175052134032,
          -0.1795351446060869,
          -0.11962612646719378,
          1.1445463198258545,
          0.3067253418908468,
          -0.07728314152655259,
          -0.22809027687213873,
          -0.1387523475299804,
          -0.07617045142160686,
          1.1006752457235682,
          -0.23277776530696495,
          -0.1795871046690738,
          -0.17262723756130222,
          -0.1590028575180902,
          -0.23270320643561845,
          -0.1441699893424205,
          -0.21035093714668085,
          8.044334999919187,
          -0.1644038762559589,
          0.31059879143713753,
          0.032961712127575385,
          -0.15208721827158758,
          -0.18606727808908272,
          -0.1595763202555096,
          0.1473866992021246,
          -0.226845659833402,
          -0.10543094348715508,
          0.314648062503708,
          -0.15981326709550842,
          -0.13150689685381436,
          -0.1778319799579374,
          -0.1527191057271447,
          -0.23187261345463736,
          0.3069077689226876,
          -0.18801477109773201,
          -0.16210213133216098,
          -0.13213681429889587,
          -0.15501986224319464,
          0.31083622669410527,
          0.5672559392138704,
          2.1150964022473917,
          -0.14593148057756997,
          0.3205085208153074,
          -0.20496945078676115,
          -0.14800974109962828,
          -0.23275993144280027,
          -0.15983782733928964,
          -0.13862864831976165,
          -0.15469940476331806,
          -0.10421280349406424,
          3.089046483796987,
          -0.10403469661772723,
          -0.2327312964598262,
          -0.20439717131856125,
          -0.0736191911682772,
          -0.1544176538765909,
          -0.1441906117843158,
          0.6620980680716987,
          0.3866546000067503,
          -0.15727534504865415,
          -0.15766749993912244,
          -0.1502612993944905,
          -0.15873037813591115,
          -0.17690066700453402,
          -0.17867334227993292,
          -0.19151762383934015,
          -0.14346702207650866,
          -0.12292180927338521,
          -0.14233520082249213,
          0.5360977724912861,
          -0.10478266901910042,
          -0.10813163708271473,
          -0.14339773764782354,
          -0.14398076914970387,
          0.5556100553376521,
          -0.21509657772172638,
          -0.1599146983542046,
          -0.15787089586151906,
          -0.13012546562686647,
          -0.1265896719788696,
          -0.15405985317128687,
          0.32847487564210875,
          -0.17896139510860054
         ],
         "y": [
          -1.3138466096858574,
          -1.9968409838401446,
          -1.069833521342227,
          -2.171949830225775,
          -1.9969563297910802,
          -2.065221841239437,
          -1.7880651072939189,
          -1.0698160787497333,
          -0.9370773140681317,
          -1.0698380680123007,
          -1.7804716675428238,
          -1.283929511945131,
          -1.3138825521518782,
          -1.069905732617571,
          -1.0698596392888156,
          -0.46185949058008363,
          -1.2529711559651915,
          -1.0698226800724924,
          -1.069815630436706,
          -1.0698120246409684,
          -0.9370780989996009,
          -1.7841895804652959,
          -1.3197523643574347,
          -1.0734614921016634,
          -1.0698114023833776,
          -1.0699057241001328,
          -1.0698179727171295,
          -1.0698120626332719,
          -1.628549314810778,
          -1.0703252554094866,
          -1.0698249014627805,
          -1.0698335699765524,
          -1.0923471325472363,
          -1.3138456331095063,
          -1.0699073806957664,
          -1.0698113340075694,
          -1.069806562031576,
          -1.0698177875439314,
          -2.19079395267867,
          -1.0698099339221592,
          -1.0774396302480258,
          -1.3138475950950939,
          -1.069890697385344,
          -1.0698175191831658,
          -1.069938075148622,
          -1.0698267959597174,
          -1.3141616209405218,
          -1.3138532052573089,
          -1.3138567728648889,
          -1.3138843417473056,
          -1.313840513631754,
          -0.9370692323353194,
          -1.0698118257008284,
          -1.2659428130386752,
          -1.0699172140836557,
          -1.3138534240106836,
          -2.3207297916819134,
          -2.2781570109666154,
          -1.0698437059716623,
          -1.0706147652704927,
          -1.0698564596216662,
          -1.069807559534029,
          -1.0698483425232403,
          -1.0701190034092178,
          -2.2377399583402604,
          -1.7798577174306092,
          -1.5780195242990511,
          -1.0698048986537245,
          -1.0739584648642402,
          -2.138070974057306,
          -1.0698063044246398,
          -1.3138482973081274,
          -1.1211065117983463,
          -0.9370780554050829,
          -2.190939441683647,
          -1.3138658591590138,
          -0.937076415821242,
          -1.0699133256861422,
          -1.0699222014619838,
          -1.9968804259938535,
          -2.152928670768609,
          -0.937073626565323,
          -1.3138456614824403,
          -1.0698583945792115,
          -2.214303708813221,
          -1.0698314222643253,
          -1.3191855590286075,
          -0.9371025132228241,
          -2.1746463637622737,
          -1.069899828610496,
          -2.212779739548037,
          -1.0698152733009114,
          -0.9370793287130753,
          -1.0698063036708296,
          -0.9370831199696676,
          -1.657167551739919,
          -2.274717008256893,
          -1.3138439369062682,
          -1.780238131237065,
          -1.0698815875019894,
          -1.3138435558959551,
          -1.0698194447470013,
          -2.1573707766702,
          -1.996880759504931,
          -2.0652223877172617,
          -1.075321656682764,
          -0.9370939351662808,
          -0.937177789598486,
          -2.2747252557250857,
          -1.0698073877278005,
          -2.2747248985020687,
          -2.1909119977276696,
          -0.9926650607479769,
          -2.172054913194824,
          -1.0698070618016715,
          -0.9376178341235768,
          -2.0652197532829546,
          -1.0698310768934978,
          -2.190912983382968,
          -2.289168248522971,
          -1.0720168071659004,
          -0.683968689266247,
          -1.0698196950619403,
          -1.3148275077165068,
          -1.069842075672363,
          -2.171992371382966,
          -2.208694174712192,
          -2.163299035018899,
          -2.264110394053245,
          -2.2752702548008337,
          -0.9371145144880959,
          -1.069811299215251,
          -1.0698463753111023,
          -0.9370950192837406,
          -0.9370793340462211,
          -2.2747395854333563,
          -2.3211713290173432,
          -1.13097231716004,
          -1.2465580798055387,
          -0.9376451551675681,
          -1.3138465885573247,
          -1.075660936131012,
          -1.0256413026255549,
          -1.069814305662005,
          -1.069847599541508,
          -1.0698518292893204,
          -1.0698514989038181,
          -2.274760650526448,
          -2.0753127952641055,
          -0.9372385836815568,
          -1.6284401692583699,
          -2.0652188087368017,
          -2.1747080587735343,
          -1.0698310316210264,
          -0.9372106576783965,
          -1.6284495239939527,
          -1.997026432092654,
          -1.628442331183684,
          -1.7800970777635357,
          -2.3161561281168854,
          -2.274719428358368,
          -2.0022895018774007,
          -0.9373514881870683,
          -2.1723761946626583,
          -1.071369947929325,
          -1.2585454420169888,
          -0.9370793398680556,
          -1.6284356866361958,
          -1.628612619941625,
          -1.0698277909752067,
          -0.9370798119881105,
          -1.3138454532188335,
          -1.2741117759663119,
          -2.815915557256089,
          -2.2073764480049687,
          -2.2748598434207095,
          -1.0722939726759142,
          -2.174654012298774,
          -1.2663263278506078,
          -1.0698246110887752,
          -1.075594850204163,
          -0.9372831564558901,
          -2.0004222536954903,
          -2.2752467392428755,
          -1.0698166031744545,
          -2.1448588336259418,
          -2.065229407626084,
          -2.1575200213616315,
          -0.9371155452147708,
          -2.27471916151361,
          -0.6839501126930857,
          -2.190920080755169,
          -2.174661634717324,
          -2.157364878392237,
          -2.2750483899419494,
          -2.2365542609072495,
          -2.364561610521306,
          -2.33667735251287,
          -2.2750984891279518,
          -1.2770349316410328,
          -2.121320914676269,
          -0.9370797730599466,
          -1.0698180389807639,
          -2.1729261534347155,
          -2.124968600596433,
          -1.1859755821850002,
          -2.3085943344801745,
          -1.3143628789731931,
          -0.9370819964546405,
          -1.2770778804956242,
          -2.0681423372978753,
          -2.1574038096964756,
          -1.313846589506979,
          -0.34044666885361474,
          -2.278642756502341,
          -2.180332145038305,
          -2.1802831901400386,
          -2.1970677827298566,
          -1.0698621668566843,
          -2.0653479307568214,
          -2.065221866580171,
          -1.5780732595057714,
          -1.3138599735618404,
          -0.39319891545458857,
          -1.313907984125398,
          -1.1244908176587411,
          -1.629475671882401,
          -2.184170093342437,
          -1.0701228102260902,
          -1.313856756949891,
          -1.0885503526907472,
          -1.2529755312255217,
          -1.0698073779898196,
          -1.0698861151630765,
          -1.7798783584236686,
          -2.215222090461743,
          -1.9968803321977753,
          -2.275191907339707,
          -2.0652218679590804
         ],
         "z": [
          0.2408030328500307,
          0.35686065018949104,
          -0.021009846502339728,
          0.5436203259444926,
          0.3568532654296145,
          0.4414707711246773,
          0.39321153136571424,
          -0.020993379577291874,
          0.06360280310539211,
          -0.020996244657526506,
          0.39624032958506533,
          -0.03183323618158151,
          0.24075977746947383,
          -0.021031435067891797,
          -0.020996017730533643,
          0.09368046273678492,
          0.20173788715470664,
          -0.02100124426123495,
          -0.020993751878442015,
          -0.0209928846640288,
          0.06360443755770108,
          0.3921769469368324,
          0.23540040876833246,
          -0.024588327036600972,
          -0.02099726306152377,
          -0.021055905342030033,
          -0.020997211070493158,
          -0.020991917579924017,
          0.25052360829296005,
          -0.021258167154060943,
          -0.021010126626758684,
          -0.021004031187203485,
          -0.04678425130677486,
          0.24080222185306865,
          -0.02103764271335712,
          -0.02099682854081429,
          -0.02099162861672427,
          -0.021002277880792387,
          0.3962488464617761,
          -0.02099307820710025,
          -0.02202164079982771,
          0.24080385118223424,
          -0.021086664453401804,
          -0.02099218337064386,
          -0.021004576242080655,
          -0.020999316840721354,
          0.2406386736686853,
          0.24079573036968308,
          0.24080115548279776,
          0.24080538050953884,
          0.24080816493164572,
          0.0636059177044162,
          -0.020997894124604892,
          0.24484406017642826,
          -0.021029476585232163,
          0.240796900519821,
          0.3569981398143042,
          0.40736004843850265,
          -0.021011765012519397,
          -0.021145183313051853,
          -0.021031273945675572,
          -0.020991428127376238,
          -0.02103487731964128,
          -0.0212228020346126,
          0.460037811120158,
          0.39671308194345517,
          0.2541909872609841,
          -0.020994003056980383,
          -0.022456054768902098,
          0.5189351010114822,
          -0.020991483638275712,
          0.24080443433441606,
          -0.023588875357906717,
          0.0635970318045975,
          0.4897450799066496,
          0.24080292346031942,
          0.06360156585373238,
          -0.021005595190196687,
          -0.021017758530866994,
          0.35688509872126895,
          0.4238192445382844,
          0.06360170603535531,
          0.24080224541534617,
          -0.021051094765721243,
          0.29471264382271045,
          -0.021011589679720114,
          0.23462201233826344,
          0.06359228630707973,
          0.4880050419339127,
          -0.0209962237663746,
          0.508795714973081,
          -0.020993557158202975,
          0.06360201964878105,
          -0.02099148277562767,
          0.06360516809440683,
          0.5857908428841713,
          0.4094114216333604,
          0.24080634728341851,
          0.3964394322407435,
          -0.021026921190484795,
          0.24080558757172707,
          -0.020995006017934185,
          0.41345856824322563,
          0.3568808069857344,
          0.44147122494669744,
          -0.021323993349754843,
          0.06338078047899412,
          0.06358405182479696,
          0.4094128663991788,
          -0.020991613196304156,
          0.40941060453029227,
          0.4897496984696656,
          0.06064508955326116,
          0.5436167008839972,
          -0.02099220110280846,
          0.06357020022752939,
          0.4414710023964518,
          -0.0210197373460255,
          0.48974511266900805,
          0.4824305545102255,
          -0.021120682627449663,
          -0.03901245094877265,
          -0.020997510335067016,
          0.2403996777612673,
          -0.02099684692654048,
          0.5436040673596794,
          0.42992625074859353,
          0.43226412233621253,
          0.33442453569518643,
          0.4088931710846997,
          0.06359439189361255,
          -0.02099650212348969,
          -0.020994750205432962,
          0.0635978542522307,
          0.06360502102805116,
          0.40940855348235344,
          0.4190125507626416,
          -0.06845658671235946,
          0.14973178749629895,
          0.06354375863009608,
          0.24080301530384937,
          -0.021287890706394592,
          -0.05766796529280269,
          -0.020994360733061948,
          -0.020998155274438934,
          -0.02100250353758734,
          -0.02100277790593018,
          0.40940890594281293,
          0.43954374208009067,
          0.06286220936852,
          0.2505847811987137,
          0.441468252785595,
          0.48799422158106964,
          -0.02101977494250855,
          0.06355140808490847,
          0.25058370637037164,
          0.35687709058919936,
          0.25058421831162203,
          0.3965875983132662,
          0.4020686307107013,
          0.40941220314610666,
          0.3564723337078219,
          0.06357009998645424,
          0.5434833513020607,
          -0.022149169636289486,
          0.15419576154645526,
          0.06360458368978375,
          0.25058400642919243,
          0.2504956062344259,
          -0.02100477921373402,
          0.06360340359077586,
          0.24080248221000544,
          0.14431570272707492,
          0.3675508443988861,
          0.425041825947698,
          0.40936987407833675,
          -0.023838330809053312,
          0.4879770024204838,
          0.2446633855151778,
          -0.020995628667439696,
          -0.0252274972964273,
          0.06353791912869593,
          0.35664124081940307,
          0.4093649459490868,
          -0.020992944069253772,
          0.3780342867787166,
          0.4414529807600844,
          0.41344563125288053,
          0.0635952478596523,
          0.40940908285542205,
          -0.03901448884866354,
          0.48974841259374047,
          0.3653243472089506,
          0.4134590252299859,
          0.4093967480314388,
          0.40766336306795437,
          0.39362788952492755,
          0.32227174433601513,
          0.40924183177453777,
          0.22467205255767192,
          0.28381070022293414,
          0.06360435386959348,
          -0.020992294724597873,
          0.5435713318328127,
          0.30873826247355773,
          0.17031750143767493,
          0.37693194602583335,
          0.2402103485747708,
          0.06360423507236362,
          0.22466943492659558,
          0.4401725064474204,
          0.41345524490119456,
          0.24080301609248905,
          0.01608814508094436,
          0.4087067377911946,
          0.42349188575929475,
          0.4234904820220482,
          0.46015639636032074,
          -0.021003744780837632,
          0.44145668490373235,
          0.4414659351440666,
          0.2541864812812223,
          0.24079300482525767,
          -0.011533220443078918,
          0.24078177960738018,
          -0.023775331965050623,
          0.2494927652579304,
          0.42329162891451394,
          -0.021219640666966424,
          0.24080114226620197,
          -0.029990368185991673,
          0.2017312032156063,
          -0.020992744262120135,
          -0.021014317738319185,
          0.3967288475882222,
          0.44878713881733084,
          0.3568812959890494,
          0.4091227801400653,
          0.4414707933139831
         ]
        },
        {
         "customdata": [
          [
           "Proof-of-BibleHash"
          ],
          [
           "SHA-256 + Hive"
          ],
          [
           "ECC 256K1"
          ],
          [
           "Leased POS"
          ]
         ],
         "hovertemplate": "<b>%{hovertext}</b><br><br>Class=%{marker.color}<br>principal component 1=%{x}<br>principal component 2=%{y}<br>principal component 3=%{z}<br>Algorithm=%{customdata[0]}<extra></extra>",
         "hovertext": [
          "BiblePay",
          "LitecoinCash",
          "Acute Angle Cloud",
          "Waves"
         ],
         "legendgroup": "3",
         "marker": {
          "color": [
           3,
           3,
           3,
           3
          ],
          "coloraxis": "coloraxis",
          "symbol": "square"
         },
         "mode": "markers",
         "name": "3",
         "scene": "scene",
         "showlegend": true,
         "type": "scatter3d",
         "x": [
          -0.17873625498973786,
          -0.3859543194119727,
          -0.3585535995299054,
          -0.3826631806432173
         ],
         "y": [
          2.0982606208155095,
          3.854785051322422,
          3.576490862742853,
          2.6108299574581557
         ],
         "z": [
          18.18644214079635,
          15.74657290922986,
          14.131617672293647,
          12.647508206637013
         ]
        },
        {
         "customdata": [
          [
           "TRC10"
          ]
         ],
         "hovertemplate": "<b>%{hovertext}</b><br><br>Class=%{marker.color}<br>principal component 1=%{x}<br>principal component 2=%{y}<br>principal component 3=%{z}<br>Algorithm=%{customdata[0]}<extra></extra>",
         "hovertext": [
          "BitTorrent"
         ],
         "legendgroup": "2",
         "marker": {
          "color": [
           2
          ],
          "coloraxis": "coloraxis",
          "symbol": "x"
         },
         "mode": "markers",
         "name": "2",
         "scene": "scene",
         "showlegend": true,
         "type": "scatter3d",
         "x": [
          34.04365635262584
         ],
         "y": [
          1.4998754979338216
         ],
         "z": [
          -0.794189250681917
         ]
        }
       ],
       "layout": {
        "coloraxis": {
         "colorbar": {
          "title": {
           "text": "Class"
          }
         },
         "colorscale": [
          [
           0,
           "#0d0887"
          ],
          [
           0.1111111111111111,
           "#46039f"
          ],
          [
           0.2222222222222222,
           "#7201a8"
          ],
          [
           0.3333333333333333,
           "#9c179e"
          ],
          [
           0.4444444444444444,
           "#bd3786"
          ],
          [
           0.5555555555555556,
           "#d8576b"
          ],
          [
           0.6666666666666666,
           "#ed7953"
          ],
          [
           0.7777777777777778,
           "#fb9f3a"
          ],
          [
           0.8888888888888888,
           "#fdca26"
          ],
          [
           1,
           "#f0f921"
          ]
         ]
        },
        "legend": {
         "title": {
          "text": "Class"
         },
         "tracegroupgap": 0,
         "x": 0,
         "y": 1
        },
        "margin": {
         "t": 60
        },
        "scene": {
         "domain": {
          "x": [
           0,
           1
          ],
          "y": [
           0,
           1
          ]
         },
         "xaxis": {
          "title": {
           "text": "principal component 1"
          }
         },
         "yaxis": {
          "title": {
           "text": "principal component 2"
          }
         },
         "zaxis": {
          "title": {
           "text": "principal component 3"
          }
         }
        },
        "template": {
         "data": {
          "bar": [
           {
            "error_x": {
             "color": "#2a3f5f"
            },
            "error_y": {
             "color": "#2a3f5f"
            },
            "marker": {
             "line": {
              "color": "#E5ECF6",
              "width": 0.5
             },
             "pattern": {
              "fillmode": "overlay",
              "size": 10,
              "solidity": 0.2
             }
            },
            "type": "bar"
           }
          ],
          "barpolar": [
           {
            "marker": {
             "line": {
              "color": "#E5ECF6",
              "width": 0.5
             },
             "pattern": {
              "fillmode": "overlay",
              "size": 10,
              "solidity": 0.2
             }
            },
            "type": "barpolar"
           }
          ],
          "carpet": [
           {
            "aaxis": {
             "endlinecolor": "#2a3f5f",
             "gridcolor": "white",
             "linecolor": "white",
             "minorgridcolor": "white",
             "startlinecolor": "#2a3f5f"
            },
            "baxis": {
             "endlinecolor": "#2a3f5f",
             "gridcolor": "white",
             "linecolor": "white",
             "minorgridcolor": "white",
             "startlinecolor": "#2a3f5f"
            },
            "type": "carpet"
           }
          ],
          "choropleth": [
           {
            "colorbar": {
             "outlinewidth": 0,
             "ticks": ""
            },
            "type": "choropleth"
           }
          ],
          "contour": [
           {
            "colorbar": {
             "outlinewidth": 0,
             "ticks": ""
            },
            "colorscale": [
             [
              0,
              "#0d0887"
             ],
             [
              0.1111111111111111,
              "#46039f"
             ],
             [
              0.2222222222222222,
              "#7201a8"
             ],
             [
              0.3333333333333333,
              "#9c179e"
             ],
             [
              0.4444444444444444,
              "#bd3786"
             ],
             [
              0.5555555555555556,
              "#d8576b"
             ],
             [
              0.6666666666666666,
              "#ed7953"
             ],
             [
              0.7777777777777778,
              "#fb9f3a"
             ],
             [
              0.8888888888888888,
              "#fdca26"
             ],
             [
              1,
              "#f0f921"
             ]
            ],
            "type": "contour"
           }
          ],
          "contourcarpet": [
           {
            "colorbar": {
             "outlinewidth": 0,
             "ticks": ""
            },
            "type": "contourcarpet"
           }
          ],
          "heatmap": [
           {
            "colorbar": {
             "outlinewidth": 0,
             "ticks": ""
            },
            "colorscale": [
             [
              0,
              "#0d0887"
             ],
             [
              0.1111111111111111,
              "#46039f"
             ],
             [
              0.2222222222222222,
              "#7201a8"
             ],
             [
              0.3333333333333333,
              "#9c179e"
             ],
             [
              0.4444444444444444,
              "#bd3786"
             ],
             [
              0.5555555555555556,
              "#d8576b"
             ],
             [
              0.6666666666666666,
              "#ed7953"
             ],
             [
              0.7777777777777778,
              "#fb9f3a"
             ],
             [
              0.8888888888888888,
              "#fdca26"
             ],
             [
              1,
              "#f0f921"
             ]
            ],
            "type": "heatmap"
           }
          ],
          "heatmapgl": [
           {
            "colorbar": {
             "outlinewidth": 0,
             "ticks": ""
            },
            "colorscale": [
             [
              0,
              "#0d0887"
             ],
             [
              0.1111111111111111,
              "#46039f"
             ],
             [
              0.2222222222222222,
              "#7201a8"
             ],
             [
              0.3333333333333333,
              "#9c179e"
             ],
             [
              0.4444444444444444,
              "#bd3786"
             ],
             [
              0.5555555555555556,
              "#d8576b"
             ],
             [
              0.6666666666666666,
              "#ed7953"
             ],
             [
              0.7777777777777778,
              "#fb9f3a"
             ],
             [
              0.8888888888888888,
              "#fdca26"
             ],
             [
              1,
              "#f0f921"
             ]
            ],
            "type": "heatmapgl"
           }
          ],
          "histogram": [
           {
            "marker": {
             "pattern": {
              "fillmode": "overlay",
              "size": 10,
              "solidity": 0.2
             }
            },
            "type": "histogram"
           }
          ],
          "histogram2d": [
           {
            "colorbar": {
             "outlinewidth": 0,
             "ticks": ""
            },
            "colorscale": [
             [
              0,
              "#0d0887"
             ],
             [
              0.1111111111111111,
              "#46039f"
             ],
             [
              0.2222222222222222,
              "#7201a8"
             ],
             [
              0.3333333333333333,
              "#9c179e"
             ],
             [
              0.4444444444444444,
              "#bd3786"
             ],
             [
              0.5555555555555556,
              "#d8576b"
             ],
             [
              0.6666666666666666,
              "#ed7953"
             ],
             [
              0.7777777777777778,
              "#fb9f3a"
             ],
             [
              0.8888888888888888,
              "#fdca26"
             ],
             [
              1,
              "#f0f921"
             ]
            ],
            "type": "histogram2d"
           }
          ],
          "histogram2dcontour": [
           {
            "colorbar": {
             "outlinewidth": 0,
             "ticks": ""
            },
            "colorscale": [
             [
              0,
              "#0d0887"
             ],
             [
              0.1111111111111111,
              "#46039f"
             ],
             [
              0.2222222222222222,
              "#7201a8"
             ],
             [
              0.3333333333333333,
              "#9c179e"
             ],
             [
              0.4444444444444444,
              "#bd3786"
             ],
             [
              0.5555555555555556,
              "#d8576b"
             ],
             [
              0.6666666666666666,
              "#ed7953"
             ],
             [
              0.7777777777777778,
              "#fb9f3a"
             ],
             [
              0.8888888888888888,
              "#fdca26"
             ],
             [
              1,
              "#f0f921"
             ]
            ],
            "type": "histogram2dcontour"
           }
          ],
          "mesh3d": [
           {
            "colorbar": {
             "outlinewidth": 0,
             "ticks": ""
            },
            "type": "mesh3d"
           }
          ],
          "parcoords": [
           {
            "line": {
             "colorbar": {
              "outlinewidth": 0,
              "ticks": ""
             }
            },
            "type": "parcoords"
           }
          ],
          "pie": [
           {
            "automargin": true,
            "type": "pie"
           }
          ],
          "scatter": [
           {
            "fillpattern": {
             "fillmode": "overlay",
             "size": 10,
             "solidity": 0.2
            },
            "type": "scatter"
           }
          ],
          "scatter3d": [
           {
            "line": {
             "colorbar": {
              "outlinewidth": 0,
              "ticks": ""
             }
            },
            "marker": {
             "colorbar": {
              "outlinewidth": 0,
              "ticks": ""
             }
            },
            "type": "scatter3d"
           }
          ],
          "scattercarpet": [
           {
            "marker": {
             "colorbar": {
              "outlinewidth": 0,
              "ticks": ""
             }
            },
            "type": "scattercarpet"
           }
          ],
          "scattergeo": [
           {
            "marker": {
             "colorbar": {
              "outlinewidth": 0,
              "ticks": ""
             }
            },
            "type": "scattergeo"
           }
          ],
          "scattergl": [
           {
            "marker": {
             "colorbar": {
              "outlinewidth": 0,
              "ticks": ""
             }
            },
            "type": "scattergl"
           }
          ],
          "scattermapbox": [
           {
            "marker": {
             "colorbar": {
              "outlinewidth": 0,
              "ticks": ""
             }
            },
            "type": "scattermapbox"
           }
          ],
          "scatterpolar": [
           {
            "marker": {
             "colorbar": {
              "outlinewidth": 0,
              "ticks": ""
             }
            },
            "type": "scatterpolar"
           }
          ],
          "scatterpolargl": [
           {
            "marker": {
             "colorbar": {
              "outlinewidth": 0,
              "ticks": ""
             }
            },
            "type": "scatterpolargl"
           }
          ],
          "scatterternary": [
           {
            "marker": {
             "colorbar": {
              "outlinewidth": 0,
              "ticks": ""
             }
            },
            "type": "scatterternary"
           }
          ],
          "surface": [
           {
            "colorbar": {
             "outlinewidth": 0,
             "ticks": ""
            },
            "colorscale": [
             [
              0,
              "#0d0887"
             ],
             [
              0.1111111111111111,
              "#46039f"
             ],
             [
              0.2222222222222222,
              "#7201a8"
             ],
             [
              0.3333333333333333,
              "#9c179e"
             ],
             [
              0.4444444444444444,
              "#bd3786"
             ],
             [
              0.5555555555555556,
              "#d8576b"
             ],
             [
              0.6666666666666666,
              "#ed7953"
             ],
             [
              0.7777777777777778,
              "#fb9f3a"
             ],
             [
              0.8888888888888888,
              "#fdca26"
             ],
             [
              1,
              "#f0f921"
             ]
            ],
            "type": "surface"
           }
          ],
          "table": [
           {
            "cells": {
             "fill": {
              "color": "#EBF0F8"
             },
             "line": {
              "color": "white"
             }
            },
            "header": {
             "fill": {
              "color": "#C8D4E3"
             },
             "line": {
              "color": "white"
             }
            },
            "type": "table"
           }
          ]
         },
         "layout": {
          "annotationdefaults": {
           "arrowcolor": "#2a3f5f",
           "arrowhead": 0,
           "arrowwidth": 1
          },
          "autotypenumbers": "strict",
          "coloraxis": {
           "colorbar": {
            "outlinewidth": 0,
            "ticks": ""
           }
          },
          "colorscale": {
           "diverging": [
            [
             0,
             "#8e0152"
            ],
            [
             0.1,
             "#c51b7d"
            ],
            [
             0.2,
             "#de77ae"
            ],
            [
             0.3,
             "#f1b6da"
            ],
            [
             0.4,
             "#fde0ef"
            ],
            [
             0.5,
             "#f7f7f7"
            ],
            [
             0.6,
             "#e6f5d0"
            ],
            [
             0.7,
             "#b8e186"
            ],
            [
             0.8,
             "#7fbc41"
            ],
            [
             0.9,
             "#4d9221"
            ],
            [
             1,
             "#276419"
            ]
           ],
           "sequential": [
            [
             0,
             "#0d0887"
            ],
            [
             0.1111111111111111,
             "#46039f"
            ],
            [
             0.2222222222222222,
             "#7201a8"
            ],
            [
             0.3333333333333333,
             "#9c179e"
            ],
            [
             0.4444444444444444,
             "#bd3786"
            ],
            [
             0.5555555555555556,
             "#d8576b"
            ],
            [
             0.6666666666666666,
             "#ed7953"
            ],
            [
             0.7777777777777778,
             "#fb9f3a"
            ],
            [
             0.8888888888888888,
             "#fdca26"
            ],
            [
             1,
             "#f0f921"
            ]
           ],
           "sequentialminus": [
            [
             0,
             "#0d0887"
            ],
            [
             0.1111111111111111,
             "#46039f"
            ],
            [
             0.2222222222222222,
             "#7201a8"
            ],
            [
             0.3333333333333333,
             "#9c179e"
            ],
            [
             0.4444444444444444,
             "#bd3786"
            ],
            [
             0.5555555555555556,
             "#d8576b"
            ],
            [
             0.6666666666666666,
             "#ed7953"
            ],
            [
             0.7777777777777778,
             "#fb9f3a"
            ],
            [
             0.8888888888888888,
             "#fdca26"
            ],
            [
             1,
             "#f0f921"
            ]
           ]
          },
          "colorway": [
           "#636efa",
           "#EF553B",
           "#00cc96",
           "#ab63fa",
           "#FFA15A",
           "#19d3f3",
           "#FF6692",
           "#B6E880",
           "#FF97FF",
           "#FECB52"
          ],
          "font": {
           "color": "#2a3f5f"
          },
          "geo": {
           "bgcolor": "white",
           "lakecolor": "white",
           "landcolor": "#E5ECF6",
           "showlakes": true,
           "showland": true,
           "subunitcolor": "white"
          },
          "hoverlabel": {
           "align": "left"
          },
          "hovermode": "closest",
          "mapbox": {
           "style": "light"
          },
          "paper_bgcolor": "white",
          "plot_bgcolor": "#E5ECF6",
          "polar": {
           "angularaxis": {
            "gridcolor": "white",
            "linecolor": "white",
            "ticks": ""
           },
           "bgcolor": "#E5ECF6",
           "radialaxis": {
            "gridcolor": "white",
            "linecolor": "white",
            "ticks": ""
           }
          },
          "scene": {
           "xaxis": {
            "backgroundcolor": "#E5ECF6",
            "gridcolor": "white",
            "gridwidth": 2,
            "linecolor": "white",
            "showbackground": true,
            "ticks": "",
            "zerolinecolor": "white"
           },
           "yaxis": {
            "backgroundcolor": "#E5ECF6",
            "gridcolor": "white",
            "gridwidth": 2,
            "linecolor": "white",
            "showbackground": true,
            "ticks": "",
            "zerolinecolor": "white"
           },
           "zaxis": {
            "backgroundcolor": "#E5ECF6",
            "gridcolor": "white",
            "gridwidth": 2,
            "linecolor": "white",
            "showbackground": true,
            "ticks": "",
            "zerolinecolor": "white"
           }
          },
          "shapedefaults": {
           "line": {
            "color": "#2a3f5f"
           }
          },
          "ternary": {
           "aaxis": {
            "gridcolor": "white",
            "linecolor": "white",
            "ticks": ""
           },
           "baxis": {
            "gridcolor": "white",
            "linecolor": "white",
            "ticks": ""
           },
           "bgcolor": "#E5ECF6",
           "caxis": {
            "gridcolor": "white",
            "linecolor": "white",
            "ticks": ""
           }
          },
          "title": {
           "x": 0.05
          },
          "xaxis": {
           "automargin": true,
           "gridcolor": "white",
           "linecolor": "white",
           "ticks": "",
           "title": {
            "standoff": 15
           },
           "zerolinecolor": "white",
           "zerolinewidth": 2
          },
          "yaxis": {
           "automargin": true,
           "gridcolor": "white",
           "linecolor": "white",
           "ticks": "",
           "title": {
            "standoff": 15
           },
           "zerolinecolor": "white",
           "zerolinewidth": 2
          }
         }
        },
        "width": 800
       }
      },
      "text/html": [
       "<div>                            <div id=\"30b2a72d-9286-40f2-8a4c-5a578094fe8f\" class=\"plotly-graph-div\" style=\"height:525px; width:800px;\"></div>            <script type=\"text/javascript\">                require([\"plotly\"], function(Plotly) {                    window.PLOTLYENV=window.PLOTLYENV || {};                                    if (document.getElementById(\"30b2a72d-9286-40f2-8a4c-5a578094fe8f\")) {                    Plotly.newPlot(                        \"30b2a72d-9286-40f2-8a4c-5a578094fe8f\",                        [{\"customdata\":[[\"Scrypt\"],[\"Scrypt\"],[\"X13\"],[\"X11\"],[\"SHA-512\"],[\"SHA-256\"],[\"SHA-256\"],[\"X15\"],[\"Scrypt\"],[\"Scrypt\"],[\"Scrypt\"],[\"Scrypt\"],[\"Scrypt\"],[\"Scrypt\"],[\"Groestl\"],[\"PoS\"],[\"Scrypt\"],[\"Scrypt\"],[\"X11\"],[\"X11\"],[\"SHA3\"],[\"Scrypt\"],[\"SHA-256\"],[\"Scrypt\"],[\"X13\"],[\"X13\"],[\"NeoScrypt\"],[\"Scrypt\"],[\"Scrypt\"],[\"Scrypt\"],[\"X11\"],[\"X11\"],[\"Multiple\"],[\"PHI1612\"],[\"X11\"],[\"Scrypt\"],[\"Scrypt\"],[\"Scrypt\"],[\"X11\"],[\"Multiple\"],[\"X13\"],[\"Scrypt\"],[\"Shabal256\"],[\"Counterparty\"],[\"SHA-256\"],[\"Groestl\"],[\"Scrypt\"],[\"X13\"],[\"Scrypt\"],[\"Scrypt\"],[\"X13\"],[\"X11\"],[\"Scrypt\"],[\"X11\"],[\"SHA3\"],[\"QUAIT\"],[\"X11\"],[\"Scrypt\"],[\"X13\"],[\"SHA-256\"],[\"X15\"],[\"BLAKE256\"],[\"SHA-256\"],[\"X11\"],[\"SHA-256\"],[\"NIST5\"],[\"Scrypt\"],[\"Scrypt\"],[\"X11\"],[\"Scrypt\"],[\"SHA-256\"],[\"Scrypt\"],[\"PoS\"],[\"X11\"],[\"SHA-256\"],[\"SHA-256\"],[\"NIST5\"],[\"X11\"],[\"POS 3.0\"],[\"Scrypt\"],[\"Scrypt\"],[\"Scrypt\"],[\"X13\"],[\"X11\"],[\"X11\"],[\"Scrypt\"],[\"SHA-256\"],[\"X11\"],[\"Scrypt\"],[\"Scrypt\"],[\"Scrypt\"],[\"Scrypt\"],[\"SHA-256D\"],[\"PoS\"],[\"Scrypt\"],[\"X11\"],[\"PoS\"],[\"X13\"],[\"X14\"],[\"PoS\"],[\"SHA-256D\"],[\"DPoS\"],[\"X11\"],[\"X13\"],[\"X11\"],[\"PoS\"],[\"Scrypt\"],[\"Scrypt\"],[\"PoS\"],[\"X11\"],[\"SHA-256\"],[\"Scrypt\"],[\"X11\"],[\"Scrypt\"],[\"Scrypt\"],[\"X11\"],[\"Scrypt\"],[\"Scrypt\"],[\"Scrypt\"],[\"Scrypt\"],[\"Quark\"],[\"QuBit\"],[\"Scrypt\"],[\"SHA-256\"],[\"X11\"],[\"Scrypt\"],[\"Scrypt\"],[\"Scrypt\"],[\"Scrypt\"],[\"X13\"],[\"Scrypt\"],[\"Scrypt\"],[\"X11\"],[\"Blake2S\"],[\"X11\"],[\"PoS\"],[\"X11\"],[\"PoS\"],[\"X11\"],[\"Scrypt\"],[\"Scrypt\"],[\"Scrypt\"],[\"SHA-256\"],[\"X11\"],[\"Scrypt\"],[\"PoS\"],[\"Scrypt\"],[\"X15\"],[\"SHA-256\"],[\"POS 3.0\"],[\"536\"],[\"NIST5\"],[\"NIST5\"],[\"Skein\"],[\"X13\"],[\"Scrypt\"],[\"X13\"],[\"SkunkHash v2 Raptor\"],[\"Skein\"],[\"X11\"],[\"Scrypt\"],[\"VeChainThor Authority\"],[\"PoS\"],[\"Scrypt\"],[\"Scrypt\"],[\"SHA-512\"],[\"Ouroboros\"],[\"X11\"],[\"NeoScrypt\"],[\"Scrypt\"],[\"Lyra2REv2\"],[\"Scrypt\"],[\"SHA-256\"],[\"NIST5\"],[\"PHI1612\"],[\"Scrypt\"],[\"Quark\"],[\"POS 2.0\"],[\"Scrypt\"],[\"SHA-256\"],[\"X11\"],[\"DPoS\"],[\"NIST5\"],[\"X13\"],[\"Scrypt\"],[\"NIST5\"],[\"Quark\"],[\"Scrypt\"],[\"Scrypt\"],[\"X11\"],[\"Quark\"],[\"Scrypt\"],[\"Scrypt\"],[\"X11\"],[\"POS 3.0\"],[\"Ethash\"],[\"Scrypt\"],[\"Scrypt\"],[\"X13\"],[\"C11\"],[\"Proof-of-Authority\"],[\"X11\"],[\"XEVAN\"],[\"Scrypt\"],[\"VBFT\"],[\"NIST5\"],[\"Scrypt\"],[\"Scrypt\"],[\"Scrypt\"],[\"Green Protocol\"],[\"PoS\"],[\"Scrypt\"],[\"Semux BFT consensus\"],[\"Quark\"],[\"PoS\"],[\"X16R\"],[\"Scrypt\"],[\"XEVAN\"],[\"Scrypt\"],[\"Scrypt\"],[\"Scrypt\"],[\"SHA-256D\"],[\"Scrypt\"],[\"X15\"],[\"Scrypt\"],[\"Quark\"],[\"SHA-256\"],[\"DPoS\"],[\"X16R\"],[\"Quark\"],[\"Quark\"],[\"Scrypt\"],[\"Lyra2REv2\"],[\"Quark\"],[\"Scrypt\"],[\"X11\"],[\"X11\"],[\"Scrypt\"],[\"PoS\"],[\"Keccak\"],[\"X11\"],[\"Scrypt\"],[\"SHA-512\"],[\"XEVAN\"],[\"X11\"],[\"Quark\"],[\"Equihash\"],[\"Scrypt\"],[\"Quark\"],[\"Quark\"],[\"Scrypt\"],[\"X11\"],[\"Scrypt\"],[\"XEVAN\"],[\"SHA-256D\"],[\"X11\"],[\"X11\"],[\"DPoS\"],[\"Scrypt\"],[\"X11\"],[\"Scrypt\"],[\"Scrypt\"],[\"SHA-256\"],[\"Scrypt\"],[\"X11\"],[\"Scrypt\"],[\"SHA-256\"],[\"X11\"],[\"Scrypt\"],[\"Scrypt\"],[\"X11\"],[\"Scrypt\"],[\"PoS\"],[\"X11\"],[\"SHA-256\"],[\"DPoS\"],[\"Scrypt\"],[\"Scrypt\"],[\"NeoScrypt\"],[\"X13\"],[\"DPoS\"],[\"DPoS\"],[\"SHA-256\"],[\"PoS\"],[\"PoS\"],[\"SHA-256\"],[\"Scrypt\"],[\"Scrypt\"]],\"hovertemplate\":\"<b>%{hovertext}</b><br><br>Class=%{marker.color}<br>principal component 1=%{x}<br>principal component 2=%{y}<br>principal component 3=%{z}<br>Algorithm=%{customdata[0]}<extra></extra>\",\"hovertext\":[\"42 Coin\",\"404Coin\",\"EliteCoin\",\"Dash\",\"Bitshares\",\"BitcoinDark\",\"PayCoin\",\"KoboCoin\",\"Aurora Coin\",\"BlueCoin\",\"EnergyCoin\",\"BitBar\",\"CryptoBullion\",\"CasinoCoin\",\"Diamond\",\"Exclusive Coin\",\"FlutterCoin\",\"HoboNickels\",\"HyperStake\",\"IOCoin\",\"MaxCoin\",\"MintCoin\",\"MazaCoin\",\"Nautilus Coin\",\"NavCoin\",\"OpalCoin\",\"Orbitcoin\",\"PotCoin\",\"PhoenixCoin\",\"Reddcoin\",\"SuperCoin\",\"SyncCoin\",\"TeslaCoin\",\"TittieCoin\",\"TorCoin\",\"UnitaryStatus Dollar\",\"UltraCoin\",\"VeriCoin\",\"X11 Coin\",\"Crypti\",\"StealthCoin\",\"ZCC Coin\",\"BurstCoin\",\"StorjCoin\",\"Neutron\",\"FairCoin\",\"RubyCoin\",\"Kore\",\"Dnotes\",\"8BIT Coin\",\"Sativa Coin\",\"Ucoin\",\"Vtorrent\",\"IslaCoin\",\"Nexus\",\"Droidz\",\"Squall Coin\",\"Diggits\",\"Paycon\",\"Emercoin\",\"EverGreenCoin\",\"Decred\",\"EDRCoin\",\"Hitcoin\",\"DubaiCoin\",\"PWR Coin\",\"BillaryCoin\",\"GPU Coin\",\"EuropeCoin\",\"ZeitCoin\",\"SwingCoin\",\"SafeExchangeCoin\",\"Nebuchadnezzar\",\"Ratecoin\",\"Revenu\",\"Clockcoin\",\"VIP Tokens\",\"BitSend\",\"Let it Ride\",\"PutinCoin\",\"iBankCoin\",\"Frankywillcoin\",\"MudraCoin\",\"Lutetium Coin\",\"GoldBlocks\",\"CarterCoin\",\"BitTokens\",\"MustangCoin\",\"ZoneCoin\",\"RootCoin\",\"BitCurrency\",\"Swiscoin\",\"BuzzCoin\",\"Opair\",\"PesoBit\",\"Halloween Coin\",\"CoffeeCoin\",\"RoyalCoin\",\"GanjaCoin V2\",\"TeamUP\",\"LanaCoin\",\"ARK\",\"InsaneCoin\",\"EmberCoin\",\"XenixCoin\",\"FreeCoin\",\"PLNCoin\",\"AquariusCoin\",\"Creatio\",\"Eternity\",\"Eurocoin\",\"BitcoinFast\",\"Stakenet\",\"BitConnect Coin\",\"MoneyCoin\",\"Enigma\",\"Russiacoin\",\"PandaCoin\",\"GameUnits\",\"GAKHcoin\",\"Allsafe\",\"LiteCreed\",\"Klingon Empire Darsek\",\"Internet of People\",\"KushCoin\",\"Printerium\",\"Impeach\",\"Zilbercoin\",\"FirstCoin\",\"FindCoin\",\"OpenChat\",\"RenosCoin\",\"VirtacoinPlus\",\"TajCoin\",\"Impact\",\"Atmos\",\"HappyCoin\",\"MacronCoin\",\"Condensate\",\"Independent Money System\",\"ArgusCoin\",\"LomoCoin\",\"ProCurrency\",\"GoldReserve\",\"GrowthCoin\",\"Phreak\",\"Degas Coin\",\"HTML5 Coin\",\"Ultimate Secure Cash\",\"QTUM\",\"Espers\",\"Denarius\",\"Virta Unique Coin\",\"Bitcoin Planet\",\"BritCoin\",\"Linda\",\"DeepOnion\",\"Signatum\",\"Cream\",\"Monoeci\",\"Draftcoin\",\"Vechain\",\"Stakecoin\",\"CoinonatX\",\"Ethereum Dark\",\"Obsidian\",\"Cardano\",\"Regalcoin\",\"TrezarCoin\",\"TerraNovaCoin\",\"Rupee\",\"WomenCoin\",\"Theresa May Coin\",\"NamoCoin\",\"LUXCoin\",\"Xios\",\"Bitcloud 2.0\",\"KekCoin\",\"BlackholeCoin\",\"Infinity Economics\",\"Magnet\",\"Lamden Tau\",\"Electra\",\"Bitcoin Diamond\",\"Cash & Back Coin\",\"Bulwark\",\"Kalkulus\",\"GermanCoin\",\"LiteCoin Ultra\",\"PhantomX\",\"Digiwage\",\"Trollcoin\",\"Litecoin Plus\",\"Monkey Project\",\"TokenPay\",\"1717 Masonic Commemorative Token\",\"My Big Coin\",\"Unified Society USDEX\",\"Tokyo Coin\",\"Stipend\",\"Poa Network\",\"Pushi\",\"Ellerium\",\"Velox\",\"Ontology\",\"Bitspace\",\"Briacoin\",\"Ignition\",\"MedicCoin\",\"Bitcoin Green\",\"Deviant Coin\",\"Abjcoin\",\"Semux\",\"Carebit\",\"Zealium\",\"Proton\",\"iDealCash\",\"Bitcoin Incognito\",\"HollyWoodCoin\",\"Swisscoin\",\"Xt3ch\",\"TheVig\",\"EmaratCoin\",\"Dekado\",\"Lynx\",\"Poseidon Quark\",\"BitcoinWSpectrum\",\"Muse\",\"Trivechain\",\"Dystem\",\"Giant\",\"Peony Coin\",\"Absolute Coin\",\"Vitae\",\"TPCash\",\"ARENON\",\"EUNO\",\"MMOCoin\",\"Ketan\",\"XDNA\",\"PAXEX\",\"ThunderStake\",\"Kcash\",\"Bettex coin\",\"Junson Ming Chan Coin\",\"HerbCoin\",\"PirateCash\",\"Oduwa\",\"Galilel\",\"Crypto Sports\",\"Credit\",\"Dash Platinum\",\"Nasdacoin\",\"Beetle Coin\",\"Titan Coin\",\"Award\",\"Insane Coin\",\"ALAX\",\"LiteDoge\",\"TruckCoin\",\"OrangeCoin\",\"BitstarCoin\",\"NeosCoin\",\"HyperCoin\",\"PinkCoin\",\"AudioCoin\",\"IncaKoin\",\"Piggy Coin\",\"Genstake\",\"XiaoMiCoin\",\"CapriCoin\",\" ClubCoin\",\"Radium\",\"Creditbit \",\"OKCash\",\"Lisk\",\"HiCoin\",\"WhiteCoin\",\"FriendshipCoin\",\"Triangles Coin\",\"EOS\",\"Oxycoin\",\"TigerCash\",\"Particl\",\"Nxt\",\"ZEPHYR\",\"Gapcoin\",\"BitcoinPlus\"],\"legendgroup\":\"0\",\"marker\":{\"color\":[0,0,0,0,0,0,0,0,0,0,0,0,0,0,0,0,0,0,0,0,0,0,0,0,0,0,0,0,0,0,0,0,0,0,0,0,0,0,0,0,0,0,0,0,0,0,0,0,0,0,0,0,0,0,0,0,0,0,0,0,0,0,0,0,0,0,0,0,0,0,0,0,0,0,0,0,0,0,0,0,0,0,0,0,0,0,0,0,0,0,0,0,0,0,0,0,0,0,0,0,0,0,0,0,0,0,0,0,0,0,0,0,0,0,0,0,0,0,0,0,0,0,0,0,0,0,0,0,0,0,0,0,0,0,0,0,0,0,0,0,0,0,0,0,0,0,0,0,0,0,0,0,0,0,0,0,0,0,0,0,0,0,0,0,0,0,0,0,0,0,0,0,0,0,0,0,0,0,0,0,0,0,0,0,0,0,0,0,0,0,0,0,0,0,0,0,0,0,0,0,0,0,0,0,0,0,0,0,0,0,0,0,0,0,0,0,0,0,0,0,0,0,0,0,0,0,0,0,0,0,0,0,0,0,0,0,0,0,0,0,0,0,0,0,0,0,0,0,0,0,0,0,0,0,0,0,0,0,0,0,0,0,0,0,0,0,0,0,0,0,0,0,0,0,0,0,0,0,0,0,0,0,0,0,0,0,0,0],\"coloraxis\":\"coloraxis\",\"symbol\":\"circle\"},\"mode\":\"markers\",\"name\":\"0\",\"scene\":\"scene\",\"showlegend\":true,\"x\":[-0.3301809104169852,-0.31352749434719035,2.2914095326957518,-0.4028726263840436,-0.25712613039978066,-0.31455653130819045,-0.2678691091398858,-0.25039419994578865,-0.32984063902175687,-0.3224234335986586,-0.3286785174291033,-0.3301768469005589,-0.3301611363237978,0.6835505558107426,-0.3868334655475488,-0.3533447218608967,-0.2645179417176192,-0.3282404288036944,-0.3360228209032212,-0.4027673950475991,-0.4204619845338042,-0.023593148498394667,-0.27787623043681925,-0.2832446207128305,-0.29231325357640797,-0.2929350337976986,-0.34993481829030726,-0.324485008163132,-0.3285832681459646,0.027713805181855358,-0.35589572543520936,-0.4031388202087304,-0.252042281263285,-0.31765380212180505,-0.4030504710934298,-0.3054221073284607,-0.3288587218191088,-0.2643364662138452,-0.4030149939661669,-0.2525101944355714,-0.2927160482082184,-0.32128519106603487,0.02843730422066559,-0.336108772371785,-0.31376856067816283,-0.386255448798735,-0.2832249741143596,-0.2930103090025797,-0.27788020920279916,-0.3301629913102016,-0.2929625373333067,-0.3563401641012032,-0.32989745664532466,-0.40312036183811645,-0.42008196997281594,-0.4382668599335052,-0.3400641010844643,-0.2816271165100029,-0.29248430564645206,-0.3071135317209486,-0.25283557100082654,-0.07457399639852107,-0.3145274653031816,-0.08067889474288835,-0.31459117292696576,-0.23565858441827642,-0.3297733132706247,-0.28149565110916863,-0.40028960873457115,0.869612297221718,-0.3143912271784341,-0.046902814810969196,-0.3530281146120063,-0.4009644725353189,-0.3131347305756231,-0.3108030718917131,-0.3569331445408142,-0.4018557362969858,-0.3469542685996078,-0.3060763880856136,-0.32981137312613734,-0.32825117583874963,-0.24501716622772432,-0.3438364208343055,-0.4025943822777112,-0.3290159213648052,-0.3145720859847182,-0.4031095460015777,-0.33000052055990586,-0.3301572283828082,-0.28148633256588707,-0.2268802436472958,0.014284122277723346,-0.3519856447768966,-0.3297716512217046,-0.38927404908387353,-0.3513149152723705,-0.24644776289802153,-0.4237972783892194,-0.35106273492681683,-0.30008695360981485,3.728446372291275,-0.402702236074013,0.8384278698574702,-0.4030644826565021,-0.35244919399538915,-0.32969906520825043,-0.329853267781907,-0.3530281146120063,-0.4026394030942147,-0.31443485855198083,-0.3296998279783842,-0.3874544387456408,-0.32984714178850266,-0.3254351343680934,-0.403093450860531,-0.32905781471720513,0.35974421529111333,-0.33004635478881755,-0.3301169252737245,-0.36327801584456915,-0.36162551727765974,-0.3263438318288209,-0.31454851593940936,-0.40300344288977036,-0.32989480736003596,-0.3300216633963041,-0.28313127641198504,-0.2585915572928386,-0.24621571747639037,-0.3108835573402424,-0.28287268737804516,-0.4022692458658667,-0.44639006338578185,-0.40100843674359565,-0.351275430043729,-0.4021672014786985,-0.34567776717338033,-0.3981090054611292,-0.32996499260031237,-0.3299641465861927,-0.3230858035730329,0.2647985936947738,-0.40264564727934754,-0.2657757277490815,-0.35306233571545337,-0.32917581058695944,0.8812026931485852,-0.26655949499715675,-0.34573313273380873,0.5751174958043421,-0.3584681308875239,-0.35697084729094336,-0.4183661822100879,-0.29264774958033596,0.13469294910553511,-0.29271852805031323,-0.3479674421967786,-0.4178714090156005,-0.40291799462835676,-0.2832056134016658,4.411895581781038,-0.35292854592191303,-0.3296003064944608,-0.3300998623411463,-0.31516756912738014,0.6523007243857145,-0.40285877662408276,-0.3449355472686408,-0.33005545108350887,-0.32480675665626413,0.43865439605840106,-0.3128955354939975,-0.3432395902247809,-0.3998617597002991,-0.3300057980100367,-0.40834407681433293,-0.3375626576335913,-0.3298763174046918,-0.09442798007192264,-0.40165168333512336,3.733300890236845,0.20078693479014564,-0.2893907295860747,-0.3273373746708156,-0.31160768140681777,-0.36316397356292424,0.08423057905223703,-0.3290147736918267,-0.40223288885776615,-0.3623287910748946,-0.31658539528948076,-0.3301219795680959,-0.3563121079883994,-0.34723603279354537,-0.2780462070923931,-0.2522687192405897,-0.3256691769156124,-0.23801323591723839,-0.3805540847264316,-0.4092542321347808,-0.40293515098712085,-0.2756201460421093,-0.282365647787014,-0.3221046186459499,-0.3580671694808255,-0.3301493203742899,-0.3301310340659127,-0.2767490864634424,-0.34408213544454014,-0.3525231523455452,-0.32984761648793376,3.9490464632935476,-0.40701302422474306,-0.3527117308285871,-0.3283974057723195,-0.27672893406074184,-0.21269788263459474,-0.2828999915151229,-0.13334790157772544,-0.2831517860318386,-0.3653937506362975,-0.3293217426279099,-0.2055553936653134,2.2559508150376093,-0.3588717421760182,-0.2666876288571738,1.0200435680686324,-0.37435829011707095,-0.3632774221525214,-0.41002803221836837,-0.1638817519160772,-0.3713590105239605,-0.3619974463200853,-0.3230259362338312,-0.3558896382173198,-0.40240872680463596,-0.28039809193326476,-0.35181150206827233,-0.34695075846813045,-0.35575088777891856,-0.18963855777090052,-0.2747762660954638,-0.22898923238811103,-0.1464100029679496,-0.40932290515550557,-0.3018355039034797,-0.3298516326532346,-0.40977888295994525,-0.3633943560593651,0.5764076182749449,-0.3563663919484293,-0.3293345957192102,-0.27007739659609753,-0.32012032575078936,-0.39997320457905855,-0.40263590630770296,3.745536631787255,0.10495255189130588,-0.4001774119904842,-0.32871992776497994,-0.32954508389827464,-0.26790167363409095,-0.33006333016310746,-0.39426718197776844,-0.24377324832519298,-0.09436686402609445,-0.3900159749509693,-0.3293420751508046,-0.32240927262659413,-0.3992060026743764,-0.32778161849661397,-0.3533036095514303,-0.4046929797592413,-0.31307220733035174,3.7288380902523515,-0.09051769006806723,-0.3249776379512748,-0.3495606520035132,-0.29311749865979836,3.7386984430446497,3.7399417141071307,-0.24880681104768038,-0.35323952244508294,-0.34769088707423246,2.4770365647536137,-0.3282263769142498,-0.2835481962343086],\"y\":[0.9972638146357129,0.9972930380476046,1.5077349781946796,1.1299908814225348,1.5219315334396881,0.7532176592352898,0.6930296352330441,1.7306578544346094,0.9972600649423872,0.9974600530440447,0.9973018202152424,0.9972635489895394,0.9972635779443367,0.4736986740771317,0.8141289245350002,1.8163926661178342,0.4656880570605052,0.9972244694638511,1.0703221104619713,1.1299935434255552,1.5599955036584328,0.9436434044017902,0.7523789536081458,0.9370631615372185,1.673892268789128,1.6738765398163475,0.4386424570919646,0.9970983867794329,0.9972320094732897,1.006317361317298,1.0698193920355117,1.1300003595718557,0.22696453632894054,1.7294178181131545,1.1299952258362893,0.9967110242538045,0.9972235675286869,0.4955100186404028,1.1299994395248336,0.2270263937955341,1.6738820794238463,0.996751905651627,0.7675013986309857,1.663574038073544,0.753203692980322,0.8141467742396133,0.9370755822385789,1.6738657923101423,0.9368423164521958,0.9972642679604916,1.6738684746568704,1.069793410391692,0.9972562462819679,1.130000827244217,1.3195834812466272,1.7207711917488673,0.22573897220238442,0.9370423086101434,1.6738510946830918,0.7526852139443192,1.7308346451846146,0.8494085631507375,0.7532183945086003,1.1185917371574312,0.7532252577406516,1.3862348101089292,0.997243173991503,0.9369564255825653,1.1297894504885626,0.8932813597849842,0.7532085759396873,0.4831157085917591,1.8163859364059187,1.1300000934914594,0.7531057035563931,0.7529419278859989,1.3831006421554795,1.1299303832476038,1.6931888201110943,0.9963996966675246,0.9972404916745778,0.9972389364224864,1.6135652528228588,1.069640282024159,1.129977285721475,0.9972269603141667,0.7532180026948229,1.1299988900254947,0.9972529021663719,0.997264413743398,0.9371195640904527,0.5320295324894594,1.7536763817897685,1.8163725126057157,0.9972741675639026,1.1292456812138876,1.8164145359067496,1.6136746092671954,1.770107783083994,1.8162285735172397,1.7549311812146255,2.0325680341969377,1.1299892962018367,1.7018698606174936,1.1299994011267205,1.8163784729388204,0.9972476020370388,0.9972411514081386,1.8163859364059187,1.1299687774330183,0.7532222110338676,0.997251665395433,0.7418542299786971,0.9972516235514376,0.9969043690232768,1.129997823296772,0.9971861057297794,0.9293789853931074,0.9972576382418942,0.9972629897367468,1.5450663017549942,0.48901385059186353,0.9969924094278877,0.7532185989386218,1.129996891557498,0.9972563133000792,0.997251679511401,0.9370374207160231,0.4748688873161053,1.6136716177285968,0.9970150324095111,0.9370591236744131,1.1299486635346832,1.7297140662869959,1.1299731884030557,1.8163637350614297,1.129951244918479,1.8162918381282391,1.1297591273301701,0.9972536445849607,0.9972482215542974,0.9967063561404964,0.651242983403549,1.1299833582987895,0.9360431078798686,1.8163777013143052,0.9972118615311494,1.6932167207203865,0.6929245256025339,1.693170704203264,1.7457333246223827,1.383120767394848,1.383077580166878,1.737163259940185,1.6738616989177562,0.9721765208094727,1.673868089840061,1.7653761532650432,1.737175776057363,1.1299989401627726,0.9370632448828669,2.998034448336708,1.8163577984369723,0.9972429431318209,0.9972627697607569,1.5230493382452344,1.669615540260159,1.1299875470697007,0.4384769238412104,0.9972553938303248,0.7409555888001863,0.9982892636627845,0.7532021954988782,1.3826290388909621,1.790365039746506,0.9972527686644262,1.6051660076351675,1.7493948758468485,0.9972606217683466,0.690793860734229,1.1299318604035353,2.032414484435029,1.3751671966372934,1.673811441291079,0.9971809890285872,1.3229170637290872,1.545065501939915,0.9708999905857304,0.9971827728777819,1.1299864303033829,1.5450129351661934,0.996944488976989,0.9972623576566624,1.0697933831769415,1.6931879564133128,0.009998694573129793,0.4182058806019134,0.9972069761814597,1.6133002642914527,0.7929600240730765,5.9655576321872354,1.1299870889344765,0.8811736001293674,0.9370059396362594,1.8195595314057398,1.3831014327398312,0.9972624029662925,0.9972613916668205,0.9368709300976117,1.6692742536448784,1.8163485982748935,0.99725013766083,2.053722753256577,1.6051996788412208,1.816349723395273,0.7298244731285187,0.994841395395932,-0.023062903895257645,0.9370646427483185,0.9947262358324255,0.9370450082434096,1.7587369224512357,0.9972236456996401,1.6706076703520698,0.44606259816591426,1.5447098082051727,0.6929948471770818,1.8564707841882286,0.7900102074556792,1.5450618951265604,1.6052670014061197,0.927655002532799,0.8011330302293801,1.5450360559099887,0.9967078705851767,1.0697790142589185,1.1299819821878183,0.9369554882634261,1.8162766938416772,0.8224052140524718,1.069749361832277,0.987554128412255,1.3343093857334247,0.8209845151201175,1.0751186844763843,1.605248839938955,-0.058393461918193244,0.9972566685355023,1.6052630716271163,1.5450645599483448,0.9650742932706902,1.0697929679966829,0.9972233205591536,0.8809895591622947,1.75627117800027,1.1297709245807412,1.1299909741244418,2.0323555374517728,0.982478304792081,1.130075274092898,0.9971533844424066,0.9972399153976123,0.6930225474598543,0.9972667890562357,1.1298563126939494,0.9917117592737799,0.7586639197873586,1.129595383528105,0.9972739802933972,0.9971656348115917,1.1299465637614514,0.9972065981937223,1.8163870736523002,0.7571450749994975,0.7531940415829569,2.0325522105535945,0.9345745131671509,0.997174357820703,0.4386103601417307,1.6738718356289184,2.0329194951518894,2.032950945777093,0.692784118630435,1.816388964460351,2.249243488461036,0.8686644083984071,0.9971290225811035,0.9370666688522004],\"z\":[-0.5716913236697317,-0.5719769655812208,-0.578612149998488,-0.48709672643701657,-0.15047993503476428,-0.30989274457292726,-0.051807990513531806,-0.5189492546531586,-0.5716964481809652,-0.5718542896587467,-0.5717228853484388,-0.5716913486951591,-0.5716916183923131,-0.4393952283567911,-0.34894802108670037,-0.2471630789590835,-0.33724173305983046,-0.5717176058871447,-0.22943704430715547,-0.4870989370950317,-0.4850755538605808,-0.3190653059160595,-0.3103739946021566,-0.3136086984378312,-0.5622498266310887,-0.5622367645197955,-0.30011433685489775,-0.5717602916368139,-0.5717130588077555,-0.5792098333448169,-0.22901956224222778,-0.4870937893754536,0.10409358907739857,-0.2951187946368667,-0.48709443861145185,-0.5720183447151751,-0.5717070308091317,-0.3825175630521945,-0.4870957270002902,0.10409134993375588,-0.5622413648818586,-0.5717575126322116,-0.4327387488558509,-0.13996846945839006,-0.3099037462626185,-0.34896069244921357,-0.31361106391008586,-0.5622337349029973,-0.3136630002168349,-0.5716917001122697,-0.5622349798487469,-0.229007811876262,-0.5716948645833244,-0.4870941772622428,-0.16862676133797885,-0.716216578177272,-0.10668050362780242,-0.3136325621891236,-0.5622401987986946,-0.30993107052500557,-0.5189370344992048,-0.3862493861680953,-0.3098933551799861,-0.4906636122979193,-0.30989340475647686,-0.5922910018056953,-0.5716948173849117,-0.31362071426836136,-0.48710730010761866,-0.3258812217729934,-0.30989404481835675,-0.4286185285477682,-0.24716731634264616,-0.48713041566829995,-0.309898387942708,-0.3099108893011833,-0.5897324521492024,-0.48710396827266655,-0.0749444288893828,-0.5719563243366034,-0.5716937362315283,-0.5717197938931596,-0.3041525748696096,-0.2291936067877429,-0.48709919239277955,-0.5717049353113979,-0.30989253849524884,-0.48709404241071264,-0.5716925787688745,-0.5716918211775537,-0.31364758859940134,-0.43299589617687995,-0.6702050023514325,-0.24718269894011527,-0.5716999212290151,-0.48720402192830864,-0.24720089278903087,-0.3041463574820154,-0.6348149949782065,-0.24717469071140208,-0.6651087054956252,-0.29745701286343634,-0.4870993404186228,-0.5859014004294147,-0.48709488609656026,-0.24717585741325804,-0.5716967947417939,-0.5716931377323774,-0.24716731634264616,-0.48709703972566976,-0.30989554200328356,-0.571697447333621,-0.3118331674899521,-0.5716949560676211,-0.5717124937117561,-0.4870941391534814,-0.5716975380388222,-0.3231941192025382,-0.5716925814118248,-0.5716922676707165,-0.19886190093783354,-0.29651737493595426,-0.571711587107644,-0.30989303364537496,-0.4870955045261743,-0.5716949202384548,-0.5716920219657731,-0.31360639439162435,-0.35249056941183377,-0.30414978095023315,-0.5719760260115456,-0.3136143097268302,-0.48709998829042855,-0.6182152538426774,-0.4871252679786852,-0.24719323904924728,-0.4871021319982794,-0.24727586778117996,-0.4871391094552618,-0.5716932995254795,-0.5716924256641597,-0.5717196860816771,-0.05394791218311396,-0.48709932232576303,-0.31373625318454473,-0.24716539055160686,-0.5716997660907008,-0.5319016431299858,-0.05181286305912728,-0.07496205622202405,-0.6312850652265586,-0.5897098608690621,-0.5897280394416687,-0.6195927256061982,-0.5622391790090637,-0.5754227699804293,-0.5622390319872584,-0.14513735839777345,-0.619603119604447,-0.4870972810911358,-0.31360936993658756,5.512136117088961,-0.24716438739333035,-0.5716976972961685,-0.5716925194076692,-0.14968414241648642,-0.1938865512263486,-0.48709641394339953,-0.3001715390374979,-0.5716920604378835,-0.047760061259444916,-0.5848254903293717,-0.30991822438732797,-0.5898861563480664,-0.5527288368263318,-0.5716924679023038,-0.4569595350280961,-0.16979962962288012,-0.5716959376646461,-0.054366882345941094,-0.48710765149217233,-0.29751373635369527,-0.597839012306433,-0.5622858772091098,-0.571725714899251,-0.33162545701831125,-0.1988636932488127,-0.5743626766046931,-0.5716977180949102,-0.4871067865025975,-0.19886916955270673,-0.5718683129476468,-0.571692078915527,-0.22900828057913583,-0.07493953555396132,0.06427502242424947,-0.5116835839690815,-0.5717581045804159,-0.30422729738513155,-0.40638403972451725,5.026314915018322,-0.48709505087873817,-0.3803746054321825,-0.3136141508876049,-0.1361483539763605,-0.5897134565557332,-0.5716916252395307,-0.5716917680134704,-0.3136867623929252,-0.03100080806700001,-0.24716971755233746,-0.5716947047177804,-0.35146891934929186,-0.45698749725086685,-0.24716672148083763,-0.0679404247825002,-0.5721960595042118,3.717630302112487e-05,-0.3136147531070386,-0.5745952876661584,-0.31360729111019403,-0.6646305873576029,-0.5716992348727161,-0.2608558981448064,-0.5145424194608872,-0.19887782880998622,-0.051822218668055385,-0.23829116116585525,-0.3260370567538027,-0.1988611892772457,-0.45694767525014157,-0.3140809523207843,-0.3058453617939988,-0.19887854408682049,-0.5717209437508994,-0.22901305223759522,-0.48710309256902923,-0.3136390708444434,-0.24716994358774663,-0.4002638425036156,-0.22901053605679553,-0.5724713835512703,-0.08399620684460159,-0.12228872460880581,-0.23342035488165835,-0.4569565927528501,0.1488540521448378,-0.5716957065467302,-0.45695123351506584,-0.19885965363162775,-0.5817090543018648,-0.22900729709872372,-0.5716989648600924,-0.380437942245538,-0.6649902984547197,-0.4871096022043174,-0.4871007338479406,-0.29771043555365134,-0.5766083271446204,-0.48715600158074546,-0.5716978776621126,-0.5716981327607288,-0.05180628055703958,-0.571693793753962,-0.48721981695316896,-0.5722393093218376,-0.314498125708904,-0.4872487802313343,-0.5717071352604675,-0.5718063116378462,-0.48715130529617834,-0.5717224168404793,-0.24716285643115785,-0.3241695850439153,-0.3099139094918791,-0.29746102765955057,-0.31645142771040585,-0.5717644253190809,-0.3001153905683696,-0.5622329168879786,-0.29768747037995363,-0.2977135885233582,-0.052089263518407744,-0.24716424690276256,-0.5272243065755173,-0.11151371485197184,-0.5717022115432293,-0.3136041530997264],\"type\":\"scatter3d\"},{\"customdata\":[[\"SHA-256\"],[\"Ethash\"],[\"Scrypt\"],[\"CryptoNight-V7\"],[\"Ethash\"],[\"Equihash\"],[\"Multiple\"],[\"Scrypt\"],[\"X11\"],[\"Scrypt\"],[\"Multiple\"],[\"Scrypt\"],[\"SHA-256\"],[\"Scrypt\"],[\"Scrypt\"],[\"Quark\"],[\"Groestl\"],[\"Scrypt\"],[\"Scrypt\"],[\"Scrypt\"],[\"X11\"],[\"Multiple\"],[\"SHA-256\"],[\"Scrypt\"],[\"Scrypt\"],[\"Scrypt\"],[\"Scrypt\"],[\"Scrypt\"],[\"NeoScrypt\"],[\"Scrypt\"],[\"Scrypt\"],[\"Scrypt\"],[\"Scrypt\"],[\"SHA-256\"],[\"Scrypt\"],[\"Scrypt\"],[\"Scrypt\"],[\"Scrypt\"],[\"HybridScryptHash256\"],[\"Scrypt\"],[\"Scrypt\"],[\"SHA-256\"],[\"Scrypt\"],[\"Scrypt\"],[\"Scrypt\"],[\"Scrypt\"],[\"SHA-256\"],[\"SHA-256\"],[\"SHA-256\"],[\"SHA-256\"],[\"SHA-256\"],[\"X11\"],[\"Scrypt\"],[\"Lyra2REv2\"],[\"Scrypt\"],[\"SHA-256\"],[\"CryptoNight\"],[\"CryptoNight\"],[\"Scrypt\"],[\"Scrypt\"],[\"Scrypt\"],[\"Scrypt\"],[\"Scrypt\"],[\"Scrypt\"],[\"Stanford Folding\"],[\"Multiple\"],[\"QuBit\"],[\"Scrypt\"],[\"Scrypt\"],[\"M7 POW\"],[\"Scrypt\"],[\"SHA-256\"],[\"Scrypt\"],[\"X11\"],[\"Lyra2RE\"],[\"SHA-256\"],[\"X11\"],[\"Scrypt\"],[\"Scrypt\"],[\"Ethash\"],[\"Blake2b\"],[\"X11\"],[\"SHA-256\"],[\"Scrypt\"],[\"1GB AES Pattern Search\"],[\"Scrypt\"],[\"SHA-256\"],[\"X11\"],[\"Dagger\"],[\"Scrypt\"],[\"X11GOST\"],[\"Scrypt\"],[\"X11\"],[\"Scrypt\"],[\"X11\"],[\"Equihash\"],[\"CryptoNight\"],[\"SHA-256\"],[\"Multiple\"],[\"Scrypt\"],[\"SHA-256\"],[\"Scrypt\"],[\"Lyra2Z\"],[\"Ethash\"],[\"Equihash\"],[\"Scrypt\"],[\"X11\"],[\"X11\"],[\"CryptoNight\"],[\"Scrypt\"],[\"CryptoNight\"],[\"Lyra2RE\"],[\"X11\"],[\"CryptoNight-V7\"],[\"Scrypt\"],[\"X11\"],[\"Equihash\"],[\"Scrypt\"],[\"Lyra2RE\"],[\"Dagger-Hashimoto\"],[\"Scrypt\"],[\"NIST5\"],[\"Scrypt\"],[\"SHA-256\"],[\"Scrypt\"],[\"CryptoNight-V7\"],[\"Argon2d\"],[\"Blake2b\"],[\"Cloverhash\"],[\"CryptoNight\"],[\"X11\"],[\"Scrypt\"],[\"Scrypt\"],[\"X11\"],[\"X11\"],[\"CryptoNight\"],[\"Time Travel\"],[\"Scrypt\"],[\"Keccak\"],[\"X11\"],[\"SHA-256\"],[\"Scrypt\"],[\"Scrypt\"],[\"Scrypt\"],[\"Scrypt\"],[\"Scrypt\"],[\"Scrypt\"],[\"CryptoNight\"],[\"Equihash\"],[\"X11\"],[\"NeoScrypt\"],[\"Equihash\"],[\"Dagger\"],[\"Scrypt\"],[\"X11\"],[\"NeoScrypt\"],[\"Ethash\"],[\"NeoScrypt\"],[\"Multiple\"],[\"CryptoNight\"],[\"CryptoNight\"],[\"Ethash\"],[\"X11\"],[\"CryptoNight-V7\"],[\"Scrypt\"],[\"BLAKE256\"],[\"X11\"],[\"NeoScrypt\"],[\"NeoScrypt\"],[\"Scrypt\"],[\"X11\"],[\"SHA-256\"],[\"C11\"],[\"CryptoNight\"],[\"SkunkHash\"],[\"CryptoNight\"],[\"Scrypt\"],[\"Dagger\"],[\"Lyra2REv2\"],[\"Scrypt\"],[\"Scrypt\"],[\"X11\"],[\"Ethash\"],[\"CryptoNight\"],[\"Scrypt\"],[\"IMesh\"],[\"Equihash\"],[\"Lyra2Z\"],[\"X11\"],[\"CryptoNight\"],[\"NIST5\"],[\"Lyra2RE\"],[\"Tribus\"],[\"Lyra2Z\"],[\"CryptoNight\"],[\"CryptoNight Heavy\"],[\"CryptoNight\"],[\"Jump Consistent Hash\"],[\"CryptoNight\"],[\"X16R\"],[\"HMQ1725\"],[\"X11\"],[\"Scrypt\"],[\"CryptoNight-V7\"],[\"Cryptonight-GPU\"],[\"XEVAN\"],[\"CryptoNight Heavy\"],[\"SHA-256\"],[\"X11\"],[\"X16R\"],[\"Equihash\"],[\"Lyra2Z\"],[\"SHA-256\"],[\"XEVAN\"],[\"CryptoNight\"],[\"Blake\"],[\"Blake\"],[\"Exosis\"],[\"Scrypt\"],[\"Equihash\"],[\"Equihash\"],[\"QuBit\"],[\"SHA-256\"],[\"X13\"],[\"SHA-256\"],[\"Scrypt\"],[\"NeoScrypt\"],[\"Blake\"],[\"Scrypt\"],[\"SHA-256\"],[\"Scrypt\"],[\"Groestl\"],[\"Scrypt\"],[\"Scrypt\"],[\"Multiple\"],[\"Equihash+Scrypt\"],[\"Ethash\"],[\"CryptoNight\"],[\"Equihash\"]],\"hovertemplate\":\"<b>%{hovertext}</b><br><br>Class=%{marker.color}<br>principal component 1=%{x}<br>principal component 2=%{y}<br>principal component 3=%{z}<br>Algorithm=%{customdata[0]}<extra></extra>\",\"hovertext\":[\"Bitcoin\",\"Ethereum\",\"Litecoin\",\"Monero\",\"Ethereum Classic\",\"ZCash\",\"DigiByte\",\"ProsperCoin\",\"Spreadcoin\",\"Argentum\",\"MyriadCoin\",\"MoonCoin\",\"ZetaCoin\",\"SexCoin\",\"Quatloo\",\"QuarkCoin\",\"Riecoin\",\"Digitalcoin \",\"Catcoin\",\"CannaCoin\",\"CryptCoin\",\"Verge\",\"DevCoin\",\"EarthCoin\",\"E-Gulden\",\"Einsteinium\",\"Emerald\",\"Franko\",\"FeatherCoin\",\"GrandCoin\",\"GlobalCoin\",\"GoldCoin\",\"Infinite Coin\",\"IXcoin\",\"KrugerCoin\",\"LuckyCoin\",\"Litebar \",\"MegaCoin\",\"MediterraneanCoin\",\"MinCoin\",\"NobleCoin\",\"Namecoin\",\"NyanCoin\",\"RonPaulCoin\",\"StableCoin\",\"SmartCoin\",\"SysCoin\",\"TigerCoin\",\"TerraCoin\",\"UnbreakableCoin\",\"Unobtanium\",\"UroCoin\",\"ViaCoin\",\"Vertcoin\",\"WorldCoin\",\"JouleCoin\",\"ByteCoin\",\"DigitalNote \",\"MonaCoin\",\"Gulden\",\"PesetaCoin\",\"Wild Beast Coin\",\"Flo\",\"ArtByte\",\"Folding Coin\",\"Unitus\",\"CypherPunkCoin\",\"OmniCron\",\"GreenCoin\",\"Cryptonite\",\"MasterCoin\",\"SoonCoin\",\"1Credit\",\"MarsCoin \",\"Crypto\",\"Anarchists Prime\",\"BowsCoin\",\"Song Coin\",\"BitZeny\",\"Expanse\",\"Siacoin\",\"MindCoin\",\"I0coin\",\"Revolution VR\",\"HOdlcoin\",\"Gamecredits\",\"CarpeDiemCoin\",\"Adzcoin\",\"SoilCoin\",\"YoCoin\",\"SibCoin\",\"Francs\",\"BolivarCoin\",\"Omni\",\"PizzaCoin\",\"Komodo\",\"Karbo\",\"ZayedCoin\",\"Circuits of Value\",\"DopeCoin\",\"DollarCoin\",\"Shilling\",\"ZCoin\",\"Elementrem\",\"ZClassic\",\"KiloCoin\",\"ArtexCoin\",\"Kurrent\",\"Cannabis Industry Coin\",\"OsmiumCoin\",\"Bikercoins\",\"HexxCoin\",\"PacCoin\",\"Citadel\",\"BeaverCoin\",\"VaultCoin\",\"Zero\",\"Canada eCoin\",\"Zoin\",\"DubaiCoin\",\"EB3coin\",\"Coinonat\",\"BenjiRolls\",\"ILCoin\",\"EquiTrader\",\"Quantum Resistant Ledger\",\"Dynamic\",\"Nano\",\"ChanCoin\",\"Dinastycoin\",\"DigitalPrice\",\"Unify\",\"SocialCoin\",\"ArcticCoin\",\"DAS\",\"LeviarCoin\",\"Bitcore\",\"gCn Coin\",\"SmartCash\",\"Onix\",\"Bitcoin Cash\",\"Sojourn Coin\",\"NewYorkCoin\",\"FrazCoin\",\"Kronecoin\",\"AdCoin\",\"Linx\",\"Sumokoin\",\"BitcoinZ\",\"Elements\",\"VIVO Coin\",\"Bitcoin Gold\",\"Pirl\",\"eBoost\",\"Pura\",\"Innova\",\"Ellaism\",\"GoByte\",\"SHIELD\",\"UltraNote\",\"BitCoal\",\"DaxxCoin\",\"AC3\",\"Lethean\",\"PopularCoin\",\"Photon\",\"Sucre\",\"SparksPay\",\"GunCoin\",\"IrishCoin\",\"Pioneer Coin\",\"UnitedBitcoin\",\"Interzone\",\"TurtleCoin\",\"MUNcoin\",\"Niobio Cash\",\"ShareChain\",\"Travelflex\",\"KREDS\",\"BitFlip\",\"LottoCoin\",\"Crypto Improvement Fund\",\"Callisto Network\",\"BitTube\",\"Poseidon\",\"Aidos Kuneen\",\"Bitrolium\",\"Alpenschillling\",\"FuturoCoin\",\"Monero Classic\",\"Jumpcoin\",\"Infinex\",\"KEYCO\",\"GINcoin\",\"PlatinCoin\",\"Loki\",\"Newton Coin\",\"MassGrid\",\"PluraCoin\",\"Motion\",\"PlusOneCoin\",\"Axe\",\"HexCoin\",\"Webchain\",\"Ryo\",\"Urals Coin\",\"Qwertycoin\",\"Project Pai\",\"Azart\",\"Xchange\",\"CrypticCoin\",\"Actinium\",\"Bitcoin SV\",\"BitMoney\",\"FREDEnergy\",\"Universal Molecule\",\"Lithium\",\"Exosis\",\"Block-Logic\",\"Beam\",\"Bithereum\",\"SLICE\",\"BLAST\",\"Bitcoin Rhodium\",\"GlobalToken\",\"SolarCoin\",\"UFO Coin\",\"BlakeCoin\",\"Crypto Escudo\",\"Crown Coin\",\"SmileyCoin\",\"Groestlcoin\",\"Bata\",\"Pakcoin\",\"JoinCoin\",\"Vollar\",\"Reality Clash\",\"Beldex\",\"Horizen\"],\"legendgroup\":\"1\",\"marker\":{\"color\":[1,1,1,1,1,1,1,1,1,1,1,1,1,1,1,1,1,1,1,1,1,1,1,1,1,1,1,1,1,1,1,1,1,1,1,1,1,1,1,1,1,1,1,1,1,1,1,1,1,1,1,1,1,1,1,1,1,1,1,1,1,1,1,1,1,1,1,1,1,1,1,1,1,1,1,1,1,1,1,1,1,1,1,1,1,1,1,1,1,1,1,1,1,1,1,1,1,1,1,1,1,1,1,1,1,1,1,1,1,1,1,1,1,1,1,1,1,1,1,1,1,1,1,1,1,1,1,1,1,1,1,1,1,1,1,1,1,1,1,1,1,1,1,1,1,1,1,1,1,1,1,1,1,1,1,1,1,1,1,1,1,1,1,1,1,1,1,1,1,1,1,1,1,1,1,1,1,1,1,1,1,1,1,1,1,1,1,1,1,1,1,1,1,1,1,1,1,1,1,1,1,1,1,1,1,1,1,1,1,1,1,1,1,1,1,1,1,1,1,1,1,1,1,1,1,1,1,1,1,1,1,1,1,1,1,1,1,1,1],\"coloraxis\":\"coloraxis\",\"symbol\":\"diamond\"},\"mode\":\"markers\",\"name\":\"1\",\"scene\":\"scene\",\"showlegend\":true,\"x\":[-0.14419140947362005,-0.15321775896982584,-0.15864674528080738,-0.1510146153580808,-0.1516597799867857,-0.17896033885738372,0.1579341888452818,-0.1597925361219201,-0.23269185725503194,-0.15940911789425455,-0.09539719790211357,2.5621655103561896,-0.14127754343571344,-0.15666541956093422,-0.15921309985974536,-0.23504798171831268,-0.21553539046249873,-0.15926209408275058,-0.15977481391099388,-0.15986125062957304,-0.2327811501630055,0.1816457405198946,0.23350776415279403,0.08877041139684297,-0.15960767521919628,-0.15521453215998093,-0.159546955034285,-0.15991822515277784,-0.17490236718696356,-0.139147402652879,-0.1587138409174247,-0.1589910933537591,1.5882765868016004,-0.14415280454539012,-0.1562813317928388,-0.15963410419893762,-0.1599887743687056,-0.15924831561391645,-0.15728665926132746,-0.15987007694282174,-0.024791008006862257,-0.14423036357289404,-0.1535365850871536,-0.15984947773095232,-0.15794394845122486,-0.1593364124553887,-0.13138669479753148,-0.1436943592661499,-0.14398139828366835,-0.14396420704908958,-0.14455491472848858,-0.23295501792068443,-0.1595661454608592,-0.20050464495126652,-0.15667005432310804,-0.14376161930371198,3.8614244655962815,0.4617898682339456,-0.15843408621220217,-0.14303543968557175,-0.15715345209945858,-0.15999097590971068,-0.15701861255457106,-0.1432472508061019,-0.14435382390916443,-0.12939107831533345,-0.19230661713631755,-0.15986413410929018,-0.03283713790816524,-0.1127331781553761,-0.1599998724585346,-0.14425812267588473,0.49217757028019016,-0.23234244779328855,-0.1617165094059906,-0.14399799596872742,-0.23262721682413615,-0.15812386605970993,-0.15731644756299162,-0.1542844261551877,0.3785638999392272,-0.23266261474782055,-0.1441539261525945,-0.15595938242840757,-0.134741423581284,-0.15856376687254242,0.2741588295512096,-0.23182355824954948,-0.15382410037040523,-0.15881061363534,-0.15967306133531448,-0.15978982795280375,-0.23262583827358962,-0.15999993092951686,-0.2327757100036655,-0.3784982257413614,0.30674818080505534,-0.1444138942564251,-0.1094708497392936,-0.15716753856195265,-0.14437254689379786,-0.15966340955049227,-0.15493548829147052,-0.1540267081339068,-0.17898194160973288,-0.08672531753802086,-0.21936557470841034,-0.23060430125112463,0.3067426023804944,-0.15998167057914642,0.30687325146660377,-0.16225687004495215,0.4824862560615766,-0.1497792300130883,-0.15994997553176035,-0.22550979638532348,-0.17899432783287084,-0.15808400308215398,-0.16197538254665003,-0.1579943022085744,-0.13087330576519732,-0.18795521596398063,-0.15951248478225405,-0.11074910785356235,-0.15933448875722173,-0.14963745169141043,-0.15641832594312605,-0.021472697222082754,-0.16798756918755947,0.34285040766248853,-0.23183186791651417,-0.1596537970438809,-0.15941706147575357,-0.23222648266573634,-0.23280375390708966,0.3071374902118321,-0.15322115092498487,3.248422635192119,-0.11662925058767223,-0.2236766278471513,-0.14419057424363846,-0.08557136655021434,1.5858637081420983,-0.1597515763300312,-0.15920326896380957,-0.15890436366430924,-0.15889130323285403,0.3073211492816207,0.033294198539496916,-0.18721214181400134,-0.1795895150768603,-0.17884046134314632,-0.15258339914165078,-0.15808221342127418,-0.22834950936277312,-0.17943494120987585,-0.15239175052134032,-0.1795351446060869,-0.11962612646719378,1.1445463198258545,0.3067253418908468,-0.07728314152655259,-0.22809027687213873,-0.1387523475299804,-0.07617045142160686,1.1006752457235682,-0.23277776530696495,-0.1795871046690738,-0.17262723756130222,-0.1590028575180902,-0.23270320643561845,-0.1441699893424205,-0.21035093714668085,8.044334999919187,-0.1644038762559589,0.31059879143713753,0.032961712127575385,-0.15208721827158758,-0.18606727808908272,-0.1595763202555096,0.1473866992021246,-0.226845659833402,-0.10543094348715508,0.314648062503708,-0.15981326709550842,-0.13150689685381436,-0.1778319799579374,-0.1527191057271447,-0.23187261345463736,0.3069077689226876,-0.18801477109773201,-0.16210213133216098,-0.13213681429889587,-0.15501986224319464,0.31083622669410527,0.5672559392138704,2.1150964022473917,-0.14593148057756997,0.3205085208153074,-0.20496945078676115,-0.14800974109962828,-0.23275993144280027,-0.15983782733928964,-0.13862864831976165,-0.15469940476331806,-0.10421280349406424,3.089046483796987,-0.10403469661772723,-0.2327312964598262,-0.20439717131856125,-0.0736191911682772,-0.1544176538765909,-0.1441906117843158,0.6620980680716987,0.3866546000067503,-0.15727534504865415,-0.15766749993912244,-0.1502612993944905,-0.15873037813591115,-0.17690066700453402,-0.17867334227993292,-0.19151762383934015,-0.14346702207650866,-0.12292180927338521,-0.14233520082249213,0.5360977724912861,-0.10478266901910042,-0.10813163708271473,-0.14339773764782354,-0.14398076914970387,0.5556100553376521,-0.21509657772172638,-0.1599146983542046,-0.15787089586151906,-0.13012546562686647,-0.1265896719788696,-0.15405985317128687,0.32847487564210875,-0.17896139510860054],\"y\":[-1.3138466096858574,-1.9968409838401446,-1.069833521342227,-2.171949830225775,-1.9969563297910802,-2.065221841239437,-1.7880651072939189,-1.0698160787497333,-0.9370773140681317,-1.0698380680123007,-1.7804716675428238,-1.283929511945131,-1.3138825521518782,-1.069905732617571,-1.0698596392888156,-0.46185949058008363,-1.2529711559651915,-1.0698226800724924,-1.069815630436706,-1.0698120246409684,-0.9370780989996009,-1.7841895804652959,-1.3197523643574347,-1.0734614921016634,-1.0698114023833776,-1.0699057241001328,-1.0698179727171295,-1.0698120626332719,-1.628549314810778,-1.0703252554094866,-1.0698249014627805,-1.0698335699765524,-1.0923471325472363,-1.3138456331095063,-1.0699073806957664,-1.0698113340075694,-1.069806562031576,-1.0698177875439314,-2.19079395267867,-1.0698099339221592,-1.0774396302480258,-1.3138475950950939,-1.069890697385344,-1.0698175191831658,-1.069938075148622,-1.0698267959597174,-1.3141616209405218,-1.3138532052573089,-1.3138567728648889,-1.3138843417473056,-1.313840513631754,-0.9370692323353194,-1.0698118257008284,-1.2659428130386752,-1.0699172140836557,-1.3138534240106836,-2.3207297916819134,-2.2781570109666154,-1.0698437059716623,-1.0706147652704927,-1.0698564596216662,-1.069807559534029,-1.0698483425232403,-1.0701190034092178,-2.2377399583402604,-1.7798577174306092,-1.5780195242990511,-1.0698048986537245,-1.0739584648642402,-2.138070974057306,-1.0698063044246398,-1.3138482973081274,-1.1211065117983463,-0.9370780554050829,-2.190939441683647,-1.3138658591590138,-0.937076415821242,-1.0699133256861422,-1.0699222014619838,-1.9968804259938535,-2.152928670768609,-0.937073626565323,-1.3138456614824403,-1.0698583945792115,-2.214303708813221,-1.0698314222643253,-1.3191855590286075,-0.9371025132228241,-2.1746463637622737,-1.069899828610496,-2.212779739548037,-1.0698152733009114,-0.9370793287130753,-1.0698063036708296,-0.9370831199696676,-1.657167551739919,-2.274717008256893,-1.3138439369062682,-1.780238131237065,-1.0698815875019894,-1.3138435558959551,-1.0698194447470013,-2.1573707766702,-1.996880759504931,-2.0652223877172617,-1.075321656682764,-0.9370939351662808,-0.937177789598486,-2.2747252557250857,-1.0698073877278005,-2.2747248985020687,-2.1909119977276696,-0.9926650607479769,-2.172054913194824,-1.0698070618016715,-0.9376178341235768,-2.0652197532829546,-1.0698310768934978,-2.190912983382968,-2.289168248522971,-1.0720168071659004,-0.683968689266247,-1.0698196950619403,-1.3148275077165068,-1.069842075672363,-2.171992371382966,-2.208694174712192,-2.163299035018899,-2.264110394053245,-2.2752702548008337,-0.9371145144880959,-1.069811299215251,-1.0698463753111023,-0.9370950192837406,-0.9370793340462211,-2.2747395854333563,-2.3211713290173432,-1.13097231716004,-1.2465580798055387,-0.9376451551675681,-1.3138465885573247,-1.075660936131012,-1.0256413026255549,-1.069814305662005,-1.069847599541508,-1.0698518292893204,-1.0698514989038181,-2.274760650526448,-2.0753127952641055,-0.9372385836815568,-1.6284401692583699,-2.0652188087368017,-2.1747080587735343,-1.0698310316210264,-0.9372106576783965,-1.6284495239939527,-1.997026432092654,-1.628442331183684,-1.7800970777635357,-2.3161561281168854,-2.274719428358368,-2.0022895018774007,-0.9373514881870683,-2.1723761946626583,-1.071369947929325,-1.2585454420169888,-0.9370793398680556,-1.6284356866361958,-1.628612619941625,-1.0698277909752067,-0.9370798119881105,-1.3138454532188335,-1.2741117759663119,-2.815915557256089,-2.2073764480049687,-2.2748598434207095,-1.0722939726759142,-2.174654012298774,-1.2663263278506078,-1.0698246110887752,-1.075594850204163,-0.9372831564558901,-2.0004222536954903,-2.2752467392428755,-1.0698166031744545,-2.1448588336259418,-2.065229407626084,-2.1575200213616315,-0.9371155452147708,-2.27471916151361,-0.6839501126930857,-2.190920080755169,-2.174661634717324,-2.157364878392237,-2.2750483899419494,-2.2365542609072495,-2.364561610521306,-2.33667735251287,-2.2750984891279518,-1.2770349316410328,-2.121320914676269,-0.9370797730599466,-1.0698180389807639,-2.1729261534347155,-2.124968600596433,-1.1859755821850002,-2.3085943344801745,-1.3143628789731931,-0.9370819964546405,-1.2770778804956242,-2.0681423372978753,-2.1574038096964756,-1.313846589506979,-0.34044666885361474,-2.278642756502341,-2.180332145038305,-2.1802831901400386,-2.1970677827298566,-1.0698621668566843,-2.0653479307568214,-2.065221866580171,-1.5780732595057714,-1.3138599735618404,-0.39319891545458857,-1.313907984125398,-1.1244908176587411,-1.629475671882401,-2.184170093342437,-1.0701228102260902,-1.313856756949891,-1.0885503526907472,-1.2529755312255217,-1.0698073779898196,-1.0698861151630765,-1.7798783584236686,-2.215222090461743,-1.9968803321977753,-2.275191907339707,-2.0652218679590804],\"z\":[0.2408030328500307,0.35686065018949104,-0.021009846502339728,0.5436203259444926,0.3568532654296145,0.4414707711246773,0.39321153136571424,-0.020993379577291874,0.06360280310539211,-0.020996244657526506,0.39624032958506533,-0.03183323618158151,0.24075977746947383,-0.021031435067891797,-0.020996017730533643,0.09368046273678492,0.20173788715470664,-0.02100124426123495,-0.020993751878442015,-0.0209928846640288,0.06360443755770108,0.3921769469368324,0.23540040876833246,-0.024588327036600972,-0.02099726306152377,-0.021055905342030033,-0.020997211070493158,-0.020991917579924017,0.25052360829296005,-0.021258167154060943,-0.021010126626758684,-0.021004031187203485,-0.04678425130677486,0.24080222185306865,-0.02103764271335712,-0.02099682854081429,-0.02099162861672427,-0.021002277880792387,0.3962488464617761,-0.02099307820710025,-0.02202164079982771,0.24080385118223424,-0.021086664453401804,-0.02099218337064386,-0.021004576242080655,-0.020999316840721354,0.2406386736686853,0.24079573036968308,0.24080115548279776,0.24080538050953884,0.24080816493164572,0.0636059177044162,-0.020997894124604892,0.24484406017642826,-0.021029476585232163,0.240796900519821,0.3569981398143042,0.40736004843850265,-0.021011765012519397,-0.021145183313051853,-0.021031273945675572,-0.020991428127376238,-0.02103487731964128,-0.0212228020346126,0.460037811120158,0.39671308194345517,0.2541909872609841,-0.020994003056980383,-0.022456054768902098,0.5189351010114822,-0.020991483638275712,0.24080443433441606,-0.023588875357906717,0.0635970318045975,0.4897450799066496,0.24080292346031942,0.06360156585373238,-0.021005595190196687,-0.021017758530866994,0.35688509872126895,0.4238192445382844,0.06360170603535531,0.24080224541534617,-0.021051094765721243,0.29471264382271045,-0.021011589679720114,0.23462201233826344,0.06359228630707973,0.4880050419339127,-0.0209962237663746,0.508795714973081,-0.020993557158202975,0.06360201964878105,-0.02099148277562767,0.06360516809440683,0.5857908428841713,0.4094114216333604,0.24080634728341851,0.3964394322407435,-0.021026921190484795,0.24080558757172707,-0.020995006017934185,0.41345856824322563,0.3568808069857344,0.44147122494669744,-0.021323993349754843,0.06338078047899412,0.06358405182479696,0.4094128663991788,-0.020991613196304156,0.40941060453029227,0.4897496984696656,0.06064508955326116,0.5436167008839972,-0.02099220110280846,0.06357020022752939,0.4414710023964518,-0.0210197373460255,0.48974511266900805,0.4824305545102255,-0.021120682627449663,-0.03901245094877265,-0.020997510335067016,0.2403996777612673,-0.02099684692654048,0.5436040673596794,0.42992625074859353,0.43226412233621253,0.33442453569518643,0.4088931710846997,0.06359439189361255,-0.02099650212348969,-0.020994750205432962,0.0635978542522307,0.06360502102805116,0.40940855348235344,0.4190125507626416,-0.06845658671235946,0.14973178749629895,0.06354375863009608,0.24080301530384937,-0.021287890706394592,-0.05766796529280269,-0.020994360733061948,-0.020998155274438934,-0.02100250353758734,-0.02100277790593018,0.40940890594281293,0.43954374208009067,0.06286220936852,0.2505847811987137,0.441468252785595,0.48799422158106964,-0.02101977494250855,0.06355140808490847,0.25058370637037164,0.35687709058919936,0.25058421831162203,0.3965875983132662,0.4020686307107013,0.40941220314610666,0.3564723337078219,0.06357009998645424,0.5434833513020607,-0.022149169636289486,0.15419576154645526,0.06360458368978375,0.25058400642919243,0.2504956062344259,-0.02100477921373402,0.06360340359077586,0.24080248221000544,0.14431570272707492,0.3675508443988861,0.425041825947698,0.40936987407833675,-0.023838330809053312,0.4879770024204838,0.2446633855151778,-0.020995628667439696,-0.0252274972964273,0.06353791912869593,0.35664124081940307,0.4093649459490868,-0.020992944069253772,0.3780342867787166,0.4414529807600844,0.41344563125288053,0.0635952478596523,0.40940908285542205,-0.03901448884866354,0.48974841259374047,0.3653243472089506,0.4134590252299859,0.4093967480314388,0.40766336306795437,0.39362788952492755,0.32227174433601513,0.40924183177453777,0.22467205255767192,0.28381070022293414,0.06360435386959348,-0.020992294724597873,0.5435713318328127,0.30873826247355773,0.17031750143767493,0.37693194602583335,0.2402103485747708,0.06360423507236362,0.22466943492659558,0.4401725064474204,0.41345524490119456,0.24080301609248905,0.01608814508094436,0.4087067377911946,0.42349188575929475,0.4234904820220482,0.46015639636032074,-0.021003744780837632,0.44145668490373235,0.4414659351440666,0.2541864812812223,0.24079300482525767,-0.011533220443078918,0.24078177960738018,-0.023775331965050623,0.2494927652579304,0.42329162891451394,-0.021219640666966424,0.24080114226620197,-0.029990368185991673,0.2017312032156063,-0.020992744262120135,-0.021014317738319185,0.3967288475882222,0.44878713881733084,0.3568812959890494,0.4091227801400653,0.4414707933139831],\"type\":\"scatter3d\"},{\"customdata\":[[\"Proof-of-BibleHash\"],[\"SHA-256 + Hive\"],[\"ECC 256K1\"],[\"Leased POS\"]],\"hovertemplate\":\"<b>%{hovertext}</b><br><br>Class=%{marker.color}<br>principal component 1=%{x}<br>principal component 2=%{y}<br>principal component 3=%{z}<br>Algorithm=%{customdata[0]}<extra></extra>\",\"hovertext\":[\"BiblePay\",\"LitecoinCash\",\"Acute Angle Cloud\",\"Waves\"],\"legendgroup\":\"3\",\"marker\":{\"color\":[3,3,3,3],\"coloraxis\":\"coloraxis\",\"symbol\":\"square\"},\"mode\":\"markers\",\"name\":\"3\",\"scene\":\"scene\",\"showlegend\":true,\"x\":[-0.17873625498973786,-0.3859543194119727,-0.3585535995299054,-0.3826631806432173],\"y\":[2.0982606208155095,3.854785051322422,3.576490862742853,2.6108299574581557],\"z\":[18.18644214079635,15.74657290922986,14.131617672293647,12.647508206637013],\"type\":\"scatter3d\"},{\"customdata\":[[\"TRC10\"]],\"hovertemplate\":\"<b>%{hovertext}</b><br><br>Class=%{marker.color}<br>principal component 1=%{x}<br>principal component 2=%{y}<br>principal component 3=%{z}<br>Algorithm=%{customdata[0]}<extra></extra>\",\"hovertext\":[\"BitTorrent\"],\"legendgroup\":\"2\",\"marker\":{\"color\":[2],\"coloraxis\":\"coloraxis\",\"symbol\":\"x\"},\"mode\":\"markers\",\"name\":\"2\",\"scene\":\"scene\",\"showlegend\":true,\"x\":[34.04365635262584],\"y\":[1.4998754979338216],\"z\":[-0.794189250681917],\"type\":\"scatter3d\"}],                        {\"template\":{\"data\":{\"histogram2dcontour\":[{\"type\":\"histogram2dcontour\",\"colorbar\":{\"outlinewidth\":0,\"ticks\":\"\"},\"colorscale\":[[0.0,\"#0d0887\"],[0.1111111111111111,\"#46039f\"],[0.2222222222222222,\"#7201a8\"],[0.3333333333333333,\"#9c179e\"],[0.4444444444444444,\"#bd3786\"],[0.5555555555555556,\"#d8576b\"],[0.6666666666666666,\"#ed7953\"],[0.7777777777777778,\"#fb9f3a\"],[0.8888888888888888,\"#fdca26\"],[1.0,\"#f0f921\"]]}],\"choropleth\":[{\"type\":\"choropleth\",\"colorbar\":{\"outlinewidth\":0,\"ticks\":\"\"}}],\"histogram2d\":[{\"type\":\"histogram2d\",\"colorbar\":{\"outlinewidth\":0,\"ticks\":\"\"},\"colorscale\":[[0.0,\"#0d0887\"],[0.1111111111111111,\"#46039f\"],[0.2222222222222222,\"#7201a8\"],[0.3333333333333333,\"#9c179e\"],[0.4444444444444444,\"#bd3786\"],[0.5555555555555556,\"#d8576b\"],[0.6666666666666666,\"#ed7953\"],[0.7777777777777778,\"#fb9f3a\"],[0.8888888888888888,\"#fdca26\"],[1.0,\"#f0f921\"]]}],\"heatmap\":[{\"type\":\"heatmap\",\"colorbar\":{\"outlinewidth\":0,\"ticks\":\"\"},\"colorscale\":[[0.0,\"#0d0887\"],[0.1111111111111111,\"#46039f\"],[0.2222222222222222,\"#7201a8\"],[0.3333333333333333,\"#9c179e\"],[0.4444444444444444,\"#bd3786\"],[0.5555555555555556,\"#d8576b\"],[0.6666666666666666,\"#ed7953\"],[0.7777777777777778,\"#fb9f3a\"],[0.8888888888888888,\"#fdca26\"],[1.0,\"#f0f921\"]]}],\"heatmapgl\":[{\"type\":\"heatmapgl\",\"colorbar\":{\"outlinewidth\":0,\"ticks\":\"\"},\"colorscale\":[[0.0,\"#0d0887\"],[0.1111111111111111,\"#46039f\"],[0.2222222222222222,\"#7201a8\"],[0.3333333333333333,\"#9c179e\"],[0.4444444444444444,\"#bd3786\"],[0.5555555555555556,\"#d8576b\"],[0.6666666666666666,\"#ed7953\"],[0.7777777777777778,\"#fb9f3a\"],[0.8888888888888888,\"#fdca26\"],[1.0,\"#f0f921\"]]}],\"contourcarpet\":[{\"type\":\"contourcarpet\",\"colorbar\":{\"outlinewidth\":0,\"ticks\":\"\"}}],\"contour\":[{\"type\":\"contour\",\"colorbar\":{\"outlinewidth\":0,\"ticks\":\"\"},\"colorscale\":[[0.0,\"#0d0887\"],[0.1111111111111111,\"#46039f\"],[0.2222222222222222,\"#7201a8\"],[0.3333333333333333,\"#9c179e\"],[0.4444444444444444,\"#bd3786\"],[0.5555555555555556,\"#d8576b\"],[0.6666666666666666,\"#ed7953\"],[0.7777777777777778,\"#fb9f3a\"],[0.8888888888888888,\"#fdca26\"],[1.0,\"#f0f921\"]]}],\"surface\":[{\"type\":\"surface\",\"colorbar\":{\"outlinewidth\":0,\"ticks\":\"\"},\"colorscale\":[[0.0,\"#0d0887\"],[0.1111111111111111,\"#46039f\"],[0.2222222222222222,\"#7201a8\"],[0.3333333333333333,\"#9c179e\"],[0.4444444444444444,\"#bd3786\"],[0.5555555555555556,\"#d8576b\"],[0.6666666666666666,\"#ed7953\"],[0.7777777777777778,\"#fb9f3a\"],[0.8888888888888888,\"#fdca26\"],[1.0,\"#f0f921\"]]}],\"mesh3d\":[{\"type\":\"mesh3d\",\"colorbar\":{\"outlinewidth\":0,\"ticks\":\"\"}}],\"scatter\":[{\"fillpattern\":{\"fillmode\":\"overlay\",\"size\":10,\"solidity\":0.2},\"type\":\"scatter\"}],\"parcoords\":[{\"type\":\"parcoords\",\"line\":{\"colorbar\":{\"outlinewidth\":0,\"ticks\":\"\"}}}],\"scatterpolargl\":[{\"type\":\"scatterpolargl\",\"marker\":{\"colorbar\":{\"outlinewidth\":0,\"ticks\":\"\"}}}],\"bar\":[{\"error_x\":{\"color\":\"#2a3f5f\"},\"error_y\":{\"color\":\"#2a3f5f\"},\"marker\":{\"line\":{\"color\":\"#E5ECF6\",\"width\":0.5},\"pattern\":{\"fillmode\":\"overlay\",\"size\":10,\"solidity\":0.2}},\"type\":\"bar\"}],\"scattergeo\":[{\"type\":\"scattergeo\",\"marker\":{\"colorbar\":{\"outlinewidth\":0,\"ticks\":\"\"}}}],\"scatterpolar\":[{\"type\":\"scatterpolar\",\"marker\":{\"colorbar\":{\"outlinewidth\":0,\"ticks\":\"\"}}}],\"histogram\":[{\"marker\":{\"pattern\":{\"fillmode\":\"overlay\",\"size\":10,\"solidity\":0.2}},\"type\":\"histogram\"}],\"scattergl\":[{\"type\":\"scattergl\",\"marker\":{\"colorbar\":{\"outlinewidth\":0,\"ticks\":\"\"}}}],\"scatter3d\":[{\"type\":\"scatter3d\",\"line\":{\"colorbar\":{\"outlinewidth\":0,\"ticks\":\"\"}},\"marker\":{\"colorbar\":{\"outlinewidth\":0,\"ticks\":\"\"}}}],\"scattermapbox\":[{\"type\":\"scattermapbox\",\"marker\":{\"colorbar\":{\"outlinewidth\":0,\"ticks\":\"\"}}}],\"scatterternary\":[{\"type\":\"scatterternary\",\"marker\":{\"colorbar\":{\"outlinewidth\":0,\"ticks\":\"\"}}}],\"scattercarpet\":[{\"type\":\"scattercarpet\",\"marker\":{\"colorbar\":{\"outlinewidth\":0,\"ticks\":\"\"}}}],\"carpet\":[{\"aaxis\":{\"endlinecolor\":\"#2a3f5f\",\"gridcolor\":\"white\",\"linecolor\":\"white\",\"minorgridcolor\":\"white\",\"startlinecolor\":\"#2a3f5f\"},\"baxis\":{\"endlinecolor\":\"#2a3f5f\",\"gridcolor\":\"white\",\"linecolor\":\"white\",\"minorgridcolor\":\"white\",\"startlinecolor\":\"#2a3f5f\"},\"type\":\"carpet\"}],\"table\":[{\"cells\":{\"fill\":{\"color\":\"#EBF0F8\"},\"line\":{\"color\":\"white\"}},\"header\":{\"fill\":{\"color\":\"#C8D4E3\"},\"line\":{\"color\":\"white\"}},\"type\":\"table\"}],\"barpolar\":[{\"marker\":{\"line\":{\"color\":\"#E5ECF6\",\"width\":0.5},\"pattern\":{\"fillmode\":\"overlay\",\"size\":10,\"solidity\":0.2}},\"type\":\"barpolar\"}],\"pie\":[{\"automargin\":true,\"type\":\"pie\"}]},\"layout\":{\"autotypenumbers\":\"strict\",\"colorway\":[\"#636efa\",\"#EF553B\",\"#00cc96\",\"#ab63fa\",\"#FFA15A\",\"#19d3f3\",\"#FF6692\",\"#B6E880\",\"#FF97FF\",\"#FECB52\"],\"font\":{\"color\":\"#2a3f5f\"},\"hovermode\":\"closest\",\"hoverlabel\":{\"align\":\"left\"},\"paper_bgcolor\":\"white\",\"plot_bgcolor\":\"#E5ECF6\",\"polar\":{\"bgcolor\":\"#E5ECF6\",\"angularaxis\":{\"gridcolor\":\"white\",\"linecolor\":\"white\",\"ticks\":\"\"},\"radialaxis\":{\"gridcolor\":\"white\",\"linecolor\":\"white\",\"ticks\":\"\"}},\"ternary\":{\"bgcolor\":\"#E5ECF6\",\"aaxis\":{\"gridcolor\":\"white\",\"linecolor\":\"white\",\"ticks\":\"\"},\"baxis\":{\"gridcolor\":\"white\",\"linecolor\":\"white\",\"ticks\":\"\"},\"caxis\":{\"gridcolor\":\"white\",\"linecolor\":\"white\",\"ticks\":\"\"}},\"coloraxis\":{\"colorbar\":{\"outlinewidth\":0,\"ticks\":\"\"}},\"colorscale\":{\"sequential\":[[0.0,\"#0d0887\"],[0.1111111111111111,\"#46039f\"],[0.2222222222222222,\"#7201a8\"],[0.3333333333333333,\"#9c179e\"],[0.4444444444444444,\"#bd3786\"],[0.5555555555555556,\"#d8576b\"],[0.6666666666666666,\"#ed7953\"],[0.7777777777777778,\"#fb9f3a\"],[0.8888888888888888,\"#fdca26\"],[1.0,\"#f0f921\"]],\"sequentialminus\":[[0.0,\"#0d0887\"],[0.1111111111111111,\"#46039f\"],[0.2222222222222222,\"#7201a8\"],[0.3333333333333333,\"#9c179e\"],[0.4444444444444444,\"#bd3786\"],[0.5555555555555556,\"#d8576b\"],[0.6666666666666666,\"#ed7953\"],[0.7777777777777778,\"#fb9f3a\"],[0.8888888888888888,\"#fdca26\"],[1.0,\"#f0f921\"]],\"diverging\":[[0,\"#8e0152\"],[0.1,\"#c51b7d\"],[0.2,\"#de77ae\"],[0.3,\"#f1b6da\"],[0.4,\"#fde0ef\"],[0.5,\"#f7f7f7\"],[0.6,\"#e6f5d0\"],[0.7,\"#b8e186\"],[0.8,\"#7fbc41\"],[0.9,\"#4d9221\"],[1,\"#276419\"]]},\"xaxis\":{\"gridcolor\":\"white\",\"linecolor\":\"white\",\"ticks\":\"\",\"title\":{\"standoff\":15},\"zerolinecolor\":\"white\",\"automargin\":true,\"zerolinewidth\":2},\"yaxis\":{\"gridcolor\":\"white\",\"linecolor\":\"white\",\"ticks\":\"\",\"title\":{\"standoff\":15},\"zerolinecolor\":\"white\",\"automargin\":true,\"zerolinewidth\":2},\"scene\":{\"xaxis\":{\"backgroundcolor\":\"#E5ECF6\",\"gridcolor\":\"white\",\"linecolor\":\"white\",\"showbackground\":true,\"ticks\":\"\",\"zerolinecolor\":\"white\",\"gridwidth\":2},\"yaxis\":{\"backgroundcolor\":\"#E5ECF6\",\"gridcolor\":\"white\",\"linecolor\":\"white\",\"showbackground\":true,\"ticks\":\"\",\"zerolinecolor\":\"white\",\"gridwidth\":2},\"zaxis\":{\"backgroundcolor\":\"#E5ECF6\",\"gridcolor\":\"white\",\"linecolor\":\"white\",\"showbackground\":true,\"ticks\":\"\",\"zerolinecolor\":\"white\",\"gridwidth\":2}},\"shapedefaults\":{\"line\":{\"color\":\"#2a3f5f\"}},\"annotationdefaults\":{\"arrowcolor\":\"#2a3f5f\",\"arrowhead\":0,\"arrowwidth\":1},\"geo\":{\"bgcolor\":\"white\",\"landcolor\":\"#E5ECF6\",\"subunitcolor\":\"white\",\"showland\":true,\"showlakes\":true,\"lakecolor\":\"white\"},\"title\":{\"x\":0.05},\"mapbox\":{\"style\":\"light\"}}},\"scene\":{\"domain\":{\"x\":[0.0,1.0],\"y\":[0.0,1.0]},\"xaxis\":{\"title\":{\"text\":\"principal component 1\"}},\"yaxis\":{\"title\":{\"text\":\"principal component 2\"}},\"zaxis\":{\"title\":{\"text\":\"principal component 3\"}}},\"coloraxis\":{\"colorbar\":{\"title\":{\"text\":\"Class\"}},\"colorscale\":[[0.0,\"#0d0887\"],[0.1111111111111111,\"#46039f\"],[0.2222222222222222,\"#7201a8\"],[0.3333333333333333,\"#9c179e\"],[0.4444444444444444,\"#bd3786\"],[0.5555555555555556,\"#d8576b\"],[0.6666666666666666,\"#ed7953\"],[0.7777777777777778,\"#fb9f3a\"],[0.8888888888888888,\"#fdca26\"],[1.0,\"#f0f921\"]]},\"legend\":{\"title\":{\"text\":\"Class\"},\"tracegroupgap\":0,\"x\":0,\"y\":1},\"margin\":{\"t\":60},\"width\":800},                        {\"responsive\": true}                    ).then(function(){\n",
       "                            \n",
       "var gd = document.getElementById('30b2a72d-9286-40f2-8a4c-5a578094fe8f');\n",
       "var x = new MutationObserver(function (mutations, observer) {{\n",
       "        var display = window.getComputedStyle(gd).display;\n",
       "        if (!display || display === 'none') {{\n",
       "            console.log([gd, 'removed!']);\n",
       "            Plotly.purge(gd);\n",
       "            observer.disconnect();\n",
       "        }}\n",
       "}});\n",
       "\n",
       "// Listen for the removal of the full notebook cells\n",
       "var notebookContainer = gd.closest('#notebook-container');\n",
       "if (notebookContainer) {{\n",
       "    x.observe(notebookContainer, {childList: true});\n",
       "}}\n",
       "\n",
       "// Listen for the clearing of the current output cell\n",
       "var outputEl = gd.closest('.output');\n",
       "if (outputEl) {{\n",
       "    x.observe(outputEl, {childList: true});\n",
       "}}\n",
       "\n",
       "                        })                };                });            </script>        </div>"
      ]
     },
     "metadata": {},
     "output_type": "display_data"
    }
   ],
   "source": [
    "# Creating a 3D-Scatter with the PCA data and the clusters\n",
    "fig = px.scatter_3d(\n",
    "    clustered_df,\n",
    "    x=\"principal component 1\",\n",
    "    y=\"principal component 2\",\n",
    "    z=\"principal component 3\",\n",
    "    color=\"Class\",\n",
    "    symbol=\"Class\",\n",
    "    width=800,\n",
    "    hover_name='CoinName',\n",
    "    hover_data=['Algorithm']\n",
    ")\n",
    "fig.update_layout(legend=dict(x=0, y=1))\n",
    "fig.show()\n"
   ]
  },
  {
   "cell_type": "code",
   "execution_count": 349,
   "metadata": {},
   "outputs": [
    {
     "data": {},
     "metadata": {},
     "output_type": "display_data"
    },
    {
     "data": {
      "application/vnd.holoviews_exec.v0+json": "",
      "text/html": [
       "<div id='1945'>\n",
       "  <div class=\"bk-root\" id=\"5247077a-c8bf-4186-908a-4cb10c050639\" data-root-id=\"1945\"></div>\n",
       "</div>\n",
       "<script type=\"application/javascript\">(function(root) {\n",
       "  function embed_document(root) {\n",
       "    var docs_json = {\"3997d237-8a23-4ebb-89d6-c7ce555fe3f3\":{\"defs\":[{\"extends\":null,\"module\":null,\"name\":\"ReactiveHTML1\",\"overrides\":[],\"properties\":[]},{\"extends\":null,\"module\":null,\"name\":\"FlexBox1\",\"overrides\":[],\"properties\":[{\"default\":\"flex-start\",\"kind\":null,\"name\":\"align_content\"},{\"default\":\"flex-start\",\"kind\":null,\"name\":\"align_items\"},{\"default\":\"row\",\"kind\":null,\"name\":\"flex_direction\"},{\"default\":\"wrap\",\"kind\":null,\"name\":\"flex_wrap\"},{\"default\":\"flex-start\",\"kind\":null,\"name\":\"justify_content\"}]},{\"extends\":null,\"module\":null,\"name\":\"GridStack1\",\"overrides\":[],\"properties\":[{\"default\":\"warn\",\"kind\":null,\"name\":\"mode\"},{\"default\":null,\"kind\":null,\"name\":\"ncols\"},{\"default\":null,\"kind\":null,\"name\":\"nrows\"},{\"default\":true,\"kind\":null,\"name\":\"allow_resize\"},{\"default\":true,\"kind\":null,\"name\":\"allow_drag\"},{\"default\":[],\"kind\":null,\"name\":\"state\"}]},{\"extends\":null,\"module\":null,\"name\":\"click1\",\"overrides\":[],\"properties\":[{\"default\":\"\",\"kind\":null,\"name\":\"terminal_output\"},{\"default\":\"\",\"kind\":null,\"name\":\"debug_name\"},{\"default\":0,\"kind\":null,\"name\":\"clears\"}]},{\"extends\":null,\"module\":null,\"name\":\"NotificationAreaBase1\",\"overrides\":[],\"properties\":[{\"default\":\"bottom-right\",\"kind\":null,\"name\":\"position\"},{\"default\":0,\"kind\":null,\"name\":\"_clear\"}]},{\"extends\":null,\"module\":null,\"name\":\"NotificationArea1\",\"overrides\":[],\"properties\":[{\"default\":[],\"kind\":null,\"name\":\"notifications\"},{\"default\":\"bottom-right\",\"kind\":null,\"name\":\"position\"},{\"default\":0,\"kind\":null,\"name\":\"_clear\"},{\"default\":[{\"background\":\"#ffc107\",\"icon\":{\"className\":\"fas fa-exclamation-triangle\",\"color\":\"white\",\"tagName\":\"i\"},\"type\":\"warning\"},{\"background\":\"#007bff\",\"icon\":{\"className\":\"fas fa-info-circle\",\"color\":\"white\",\"tagName\":\"i\"},\"type\":\"info\"}],\"kind\":null,\"name\":\"types\"}]},{\"extends\":null,\"module\":null,\"name\":\"Notification\",\"overrides\":[],\"properties\":[{\"default\":null,\"kind\":null,\"name\":\"background\"},{\"default\":3000,\"kind\":null,\"name\":\"duration\"},{\"default\":null,\"kind\":null,\"name\":\"icon\"},{\"default\":\"\",\"kind\":null,\"name\":\"message\"},{\"default\":null,\"kind\":null,\"name\":\"notification_type\"},{\"default\":false,\"kind\":null,\"name\":\"_destroyed\"}]},{\"extends\":null,\"module\":null,\"name\":\"TemplateActions1\",\"overrides\":[],\"properties\":[{\"default\":0,\"kind\":null,\"name\":\"open_modal\"},{\"default\":0,\"kind\":null,\"name\":\"close_modal\"}]},{\"extends\":null,\"module\":null,\"name\":\"MaterialTemplateActions1\",\"overrides\":[],\"properties\":[{\"default\":0,\"kind\":null,\"name\":\"open_modal\"},{\"default\":0,\"kind\":null,\"name\":\"close_modal\"}]}],\"roots\":{\"references\":[{\"attributes\":{\"format\":\"0,0.0[00000]\"},\"id\":\"1969\",\"type\":\"NumberFormatter\"},{\"attributes\":{\"children\":[{\"id\":\"1946\"},{\"id\":\"1999\"},{\"id\":\"2004\"}],\"margin\":[0,0,0,0],\"name\":\"Row01759\",\"tags\":[\"embedded\"]},\"id\":\"1945\",\"type\":\"Row\"},{\"attributes\":{\"editor\":{\"id\":\"1970\"},\"field\":\"principal_component_1\",\"formatter\":{\"id\":\"1969\"},\"title\":\"principal component 1\"},\"id\":\"1971\",\"type\":\"TableColumn\"},{\"attributes\":{},\"id\":\"1970\",\"type\":\"NumberEditor\"},{\"attributes\":{},\"id\":\"1994\",\"type\":\"NumberFormatter\"},{\"attributes\":{},\"id\":\"1948\",\"type\":\"Selection\"},{\"attributes\":{},\"id\":\"1949\",\"type\":\"StringFormatter\"},{\"attributes\":{\"format\":\"0,0.0[00000]\"},\"id\":\"1974\",\"type\":\"NumberFormatter\"},{\"attributes\":{},\"id\":\"1950\",\"type\":\"StringEditor\"},{\"attributes\":{\"margin\":[5,5,5,5],\"name\":\"HSpacer01764\",\"sizing_mode\":\"stretch_width\"},\"id\":\"2004\",\"type\":\"Spacer\"},{\"attributes\":{\"margin\":[5,5,5,5],\"name\":\"HSpacer01763\",\"sizing_mode\":\"stretch_width\"},\"id\":\"1946\",\"type\":\"Spacer\"},{\"attributes\":{\"columns\":[{\"id\":\"1951\"},{\"id\":\"1956\"},{\"id\":\"1961\"},{\"id\":\"1966\"},{\"id\":\"1971\"},{\"id\":\"1976\"},{\"id\":\"1981\"},{\"id\":\"1986\"},{\"id\":\"1991\"},{\"id\":\"1996\"}],\"height\":300,\"reorderable\":false,\"source\":{\"id\":\"1947\"},\"view\":{\"id\":\"2001\"},\"width\":700},\"id\":\"1999\",\"type\":\"DataTable\"},{\"attributes\":{\"format\":\"0,0.0[00000]\"},\"id\":\"1979\",\"type\":\"NumberFormatter\"},{\"attributes\":{\"source\":{\"id\":\"1947\"}},\"id\":\"2001\",\"type\":\"CDSView\"},{\"attributes\":{\"editor\":{\"id\":\"1950\"},\"field\":\"Unnamed_colon_0\",\"formatter\":{\"id\":\"1949\"},\"title\":\"Unnamed: 0\"},\"id\":\"1951\",\"type\":\"TableColumn\"},{\"attributes\":{\"editor\":{\"id\":\"1975\"},\"field\":\"principal_component_2\",\"formatter\":{\"id\":\"1974\"},\"title\":\"principal component 2\"},\"id\":\"1976\",\"type\":\"TableColumn\"},{\"attributes\":{},\"id\":\"1954\",\"type\":\"StringFormatter\"},{\"attributes\":{},\"id\":\"2002\",\"type\":\"UnionRenderers\"},{\"attributes\":{},\"id\":\"1975\",\"type\":\"NumberEditor\"},{\"attributes\":{\"editor\":{\"id\":\"1980\"},\"field\":\"principal_component_3\",\"formatter\":{\"id\":\"1979\"},\"title\":\"principal component 3\"},\"id\":\"1981\",\"type\":\"TableColumn\"},{\"attributes\":{},\"id\":\"1955\",\"type\":\"StringEditor\"},{\"attributes\":{},\"id\":\"1995\",\"type\":\"IntEditor\"},{\"attributes\":{\"data\":{\"Algorithm\":[\"Scrypt\",\"Scrypt\",\"X13\",\"SHA-256\",\"Ethash\",\"Scrypt\",\"X11\",\"CryptoNight-V7\",\"Ethash\",\"Equihash\",\"SHA-512\",\"Multiple\",\"SHA-256\",\"SHA-256\",\"Scrypt\",\"X15\",\"X11\",\"Scrypt\",\"Scrypt\",\"Scrypt\",\"Multiple\",\"Scrypt\",\"SHA-256\",\"Scrypt\",\"Scrypt\",\"Scrypt\",\"Quark\",\"Groestl\",\"Scrypt\",\"Scrypt\",\"Scrypt\",\"Scrypt\",\"Scrypt\",\"X11\",\"Scrypt\",\"Groestl\",\"Multiple\",\"SHA-256\",\"Scrypt\",\"Scrypt\",\"Scrypt\",\"Scrypt\",\"PoS\",\"Scrypt\",\"Scrypt\",\"NeoScrypt\",\"Scrypt\",\"Scrypt\",\"Scrypt\",\"Scrypt\",\"X11\",\"Scrypt\",\"X11\",\"SHA-256\",\"Scrypt\",\"Scrypt\",\"Scrypt\",\"SHA3\",\"Scrypt\",\"HybridScryptHash256\",\"Scrypt\",\"Scrypt\",\"SHA-256\",\"Scrypt\",\"X13\",\"Scrypt\",\"SHA-256\",\"Scrypt\",\"X13\",\"NeoScrypt\",\"Scrypt\",\"Scrypt\",\"Scrypt\",\"Scrypt\",\"Scrypt\",\"Scrypt\",\"X11\",\"X11\",\"SHA-256\",\"Multiple\",\"SHA-256\",\"PHI1612\",\"X11\",\"SHA-256\",\"SHA-256\",\"SHA-256\",\"X11\",\"Scrypt\",\"Scrypt\",\"Scrypt\",\"Scrypt\",\"Lyra2REv2\",\"Scrypt\",\"X11\",\"Multiple\",\"SHA-256\",\"X13\",\"Scrypt\",\"CryptoNight\",\"CryptoNight\",\"Shabal256\",\"Counterparty\",\"Scrypt\",\"SHA-256\",\"Groestl\",\"Scrypt\",\"Scrypt\",\"Scrypt\",\"X13\",\"Scrypt\",\"Scrypt\",\"Scrypt\",\"Scrypt\",\"X13\",\"Scrypt\",\"Stanford Folding\",\"X11\",\"Multiple\",\"QuBit\",\"Scrypt\",\"Scrypt\",\"Scrypt\",\"M7 POW\",\"Scrypt\",\"SHA-256\",\"Scrypt\",\"X11\",\"SHA3\",\"X11\",\"Lyra2RE\",\"SHA-256\",\"QUAIT\",\"X11\",\"X11\",\"Scrypt\",\"Scrypt\",\"Scrypt\",\"Ethash\",\"X13\",\"Blake2b\",\"SHA-256\",\"X15\",\"X11\",\"SHA-256\",\"BLAKE256\",\"Scrypt\",\"1GB AES Pattern Search\",\"SHA-256\",\"X11\",\"Scrypt\",\"SHA-256\",\"SHA-256\",\"NIST5\",\"Scrypt\",\"Scrypt\",\"X11\",\"Dagger\",\"Scrypt\",\"X11GOST\",\"X11\",\"Scrypt\",\"SHA-256\",\"Scrypt\",\"PoS\",\"Scrypt\",\"X11\",\"X11\",\"SHA-256\",\"SHA-256\",\"NIST5\",\"X11\",\"Scrypt\",\"POS 3.0\",\"Scrypt\",\"Scrypt\",\"Scrypt\",\"X13\",\"X11\",\"X11\",\"Equihash\",\"X11\",\"Scrypt\",\"CryptoNight\",\"SHA-256\",\"SHA-256\",\"X11\",\"Scrypt\",\"Multiple\",\"Scrypt\",\"Scrypt\",\"Scrypt\",\"SHA-256\",\"Scrypt\",\"Scrypt\",\"SHA-256D\",\"PoS\",\"Scrypt\",\"X11\",\"Lyra2Z\",\"PoS\",\"X13\",\"X14\",\"PoS\",\"SHA-256D\",\"Ethash\",\"Equihash\",\"DPoS\",\"X11\",\"Scrypt\",\"X11\",\"X13\",\"X11\",\"PoS\",\"Scrypt\",\"Scrypt\",\"X11\",\"PoS\",\"X11\",\"SHA-256\",\"Scrypt\",\"X11\",\"Scrypt\",\"Scrypt\",\"X11\",\"CryptoNight\",\"Scrypt\",\"Scrypt\",\"Scrypt\",\"Scrypt\",\"Quark\",\"QuBit\",\"Scrypt\",\"CryptoNight\",\"Lyra2RE\",\"Scrypt\",\"SHA-256\",\"X11\",\"Scrypt\",\"X11\",\"Scrypt\",\"CryptoNight-V7\",\"Scrypt\",\"Scrypt\",\"Scrypt\",\"X13\",\"X11\",\"Equihash\",\"Scrypt\",\"Scrypt\",\"Lyra2RE\",\"Scrypt\",\"Dagger-Hashimoto\",\"X11\",\"Blake2S\",\"X11\",\"Scrypt\",\"PoS\",\"X11\",\"NIST5\",\"PoS\",\"X11\",\"Scrypt\",\"Scrypt\",\"Scrypt\",\"SHA-256\",\"X11\",\"Scrypt\",\"Scrypt\",\"SHA-256\",\"PoS\",\"Scrypt\",\"X15\",\"SHA-256\",\"Scrypt\",\"POS 3.0\",\"CryptoNight-V7\",\"536\",\"Argon2d\",\"Blake2b\",\"Cloverhash\",\"CryptoNight\",\"NIST5\",\"X11\",\"NIST5\",\"Skein\",\"Scrypt\",\"X13\",\"Scrypt\",\"X11\",\"X11\",\"Scrypt\",\"CryptoNight\",\"X13\",\"Time Travel\",\"Scrypt\",\"Keccak\",\"SkunkHash v2 Raptor\",\"X11\",\"Skein\",\"SHA-256\",\"X11\",\"Scrypt\",\"VeChainThor Authority\",\"Scrypt\",\"PoS\",\"Scrypt\",\"Scrypt\",\"Scrypt\",\"Scrypt\",\"Scrypt\",\"Scrypt\",\"Scrypt\",\"CryptoNight\",\"SHA-512\",\"Ouroboros\",\"X11\",\"Equihash\",\"NeoScrypt\",\"X11\",\"Scrypt\",\"NeoScrypt\",\"Lyra2REv2\",\"Equihash\",\"Scrypt\",\"SHA-256\",\"NIST5\",\"PHI1612\",\"Dagger\",\"Scrypt\",\"Quark\",\"Scrypt\",\"POS 2.0\",\"Scrypt\",\"SHA-256\",\"X11\",\"NeoScrypt\",\"Ethash\",\"NeoScrypt\",\"X11\",\"DPoS\",\"NIST5\",\"X13\",\"Multiple\",\"Scrypt\",\"CryptoNight\",\"CryptoNight\",\"Ethash\",\"NIST5\",\"Quark\",\"X11\",\"CryptoNight-V7\",\"Scrypt\",\"Scrypt\",\"Scrypt\",\"X11\",\"BLAKE256\",\"X11\",\"NeoScrypt\",\"Quark\",\"NeoScrypt\",\"Scrypt\",\"Scrypt\",\"Scrypt\",\"X11\",\"X11\",\"SHA-256\",\"C11\",\"POS 3.0\",\"Ethash\",\"Scrypt\",\"CryptoNight\",\"SkunkHash\",\"Scrypt\",\"CryptoNight\",\"Scrypt\",\"Dagger\",\"Lyra2REv2\",\"X13\",\"Proof-of-BibleHash\",\"SHA-256 + Hive\",\"Scrypt\",\"Scrypt\",\"X11\",\"C11\",\"Proof-of-Authority\",\"X11\",\"XEVAN\",\"Scrypt\",\"VBFT\",\"Ethash\",\"CryptoNight\",\"Scrypt\",\"IMesh\",\"NIST5\",\"Scrypt\",\"Scrypt\",\"Equihash\",\"Scrypt\",\"Lyra2Z\",\"Green Protocol\",\"PoS\",\"Scrypt\",\"Semux BFT consensus\",\"X11\",\"Quark\",\"PoS\",\"CryptoNight\",\"X16R\",\"Scrypt\",\"NIST5\",\"Lyra2RE\",\"XEVAN\",\"Tribus\",\"Scrypt\",\"Lyra2Z\",\"CryptoNight\",\"CryptoNight Heavy\",\"CryptoNight\",\"Scrypt\",\"Scrypt\",\"Jump Consistent Hash\",\"SHA-256D\",\"CryptoNight\",\"Scrypt\",\"X15\",\"Scrypt\",\"Quark\",\"SHA-256\",\"DPoS\",\"X16R\",\"HMQ1725\",\"X11\",\"X16R\",\"Quark\",\"Quark\",\"Scrypt\",\"Lyra2REv2\",\"Quark\",\"Scrypt\",\"Scrypt\",\"CryptoNight-V7\",\"Cryptonight-GPU\",\"XEVAN\",\"CryptoNight Heavy\",\"X11\",\"X11\",\"Scrypt\",\"PoS\",\"SHA-256\",\"Keccak\",\"X11\",\"X11\",\"Scrypt\",\"SHA-512\",\"X16R\",\"ECC 256K1\",\"Equihash\",\"XEVAN\",\"Lyra2Z\",\"SHA-256\",\"XEVAN\",\"X11\",\"CryptoNight\",\"Quark\",\"Blake\",\"Blake\",\"Equihash\",\"Exosis\",\"Scrypt\",\"Scrypt\",\"Equihash\",\"Quark\",\"Equihash\",\"Quark\",\"Scrypt\",\"QuBit\",\"X11\",\"Scrypt\",\"XEVAN\",\"SHA-256D\",\"X11\",\"SHA-256\",\"X13\",\"SHA-256\",\"X11\",\"DPoS\",\"Scrypt\",\"Scrypt\",\"X11\",\"NeoScrypt\",\"Scrypt\",\"Blake\",\"Scrypt\",\"SHA-256\",\"Scrypt\",\"X11\",\"Scrypt\",\"Scrypt\",\"SHA-256\",\"X11\",\"SHA-256\",\"Scrypt\",\"Scrypt\",\"Scrypt\",\"Groestl\",\"X11\",\"Scrypt\",\"PoS\",\"Scrypt\",\"Scrypt\",\"X11\",\"SHA-256\",\"DPoS\",\"Scrypt\",\"Scrypt\",\"NeoScrypt\",\"Multiple\",\"X13\",\"Equihash+Scrypt\",\"DPoS\",\"Ethash\",\"DPoS\",\"SHA-256\",\"Leased POS\",\"PoS\",\"TRC10\",\"PoS\",\"SHA-256\",\"Scrypt\",\"CryptoNight\",\"Equihash\",\"Scrypt\"],\"Class\":{\"__ndarray__\":\"AAAAAAAAAAAAAAAAAQAAAAEAAAABAAAAAAAAAAEAAAABAAAAAQAAAAAAAAABAAAAAAAAAAAAAAABAAAAAAAAAAEAAAABAAAAAAAAAAAAAAABAAAAAQAAAAEAAAABAAAAAQAAAAAAAAABAAAAAQAAAAEAAAAAAAAAAQAAAAAAAAABAAAAAQAAAAAAAAAAAAAAAQAAAAEAAAABAAAAAQAAAAEAAAABAAAAAAAAAAAAAAABAAAAAQAAAAEAAAABAAAAAQAAAAAAAAAAAAAAAQAAAAAAAAABAAAAAQAAAAEAAAABAAAAAAAAAAEAAAABAAAAAAAAAAEAAAAAAAAAAAAAAAAAAAABAAAAAQAAAAEAAAAAAAAAAAAAAAAAAAAAAAAAAAAAAAEAAAABAAAAAQAAAAAAAAAAAAAAAQAAAAAAAAABAAAAAAAAAAAAAAABAAAAAQAAAAEAAAABAAAAAAAAAAAAAAABAAAAAAAAAAEAAAABAAAAAAAAAAAAAAABAAAAAAAAAAAAAAABAAAAAQAAAAAAAAAAAAAAAQAAAAAAAAAAAAAAAQAAAAAAAAABAAAAAAAAAAEAAAAAAAAAAQAAAAAAAAAAAAAAAQAAAAEAAAAAAAAAAQAAAAEAAAABAAAAAAAAAAEAAAABAAAAAQAAAAEAAAABAAAAAAAAAAAAAAABAAAAAQAAAAEAAAAAAAAAAQAAAAAAAAABAAAAAQAAAAAAAAABAAAAAAAAAAEAAAAAAAAAAAAAAAEAAAABAAAAAAAAAAEAAAABAAAAAAAAAAAAAAABAAAAAAAAAAEAAAAAAAAAAAAAAAAAAAABAAAAAQAAAAEAAAABAAAAAAAAAAAAAAAAAAAAAAAAAAAAAAABAAAAAQAAAAAAAAAAAAAAAAAAAAAAAAAAAAAAAQAAAAAAAAAAAAAAAAAAAAAAAAAAAAAAAQAAAAAAAAABAAAAAAAAAAAAAAABAAAAAAAAAAEAAAAAAAAAAAAAAAEAAAAAAAAAAQAAAAAAAAABAAAAAAAAAAEAAAAAAAAAAAAAAAAAAAAAAAAAAQAAAAAAAAAAAAAAAAAAAAAAAAAAAAAAAQAAAAEAAAAAAAAAAAAAAAEAAAABAAAAAAAAAAAAAAAAAAAAAAAAAAAAAAABAAAAAAAAAAAAAAAAAAAAAAAAAAAAAAAAAAAAAAAAAAAAAAABAAAAAAAAAAAAAAAAAAAAAAAAAAAAAAAAAAAAAQAAAAEAAAABAAAAAAAAAAAAAAAAAAAAAAAAAAEAAAAAAAAAAQAAAAAAAAAAAAAAAQAAAAAAAAABAAAAAQAAAAAAAAABAAAAAQAAAAAAAAABAAAAAAAAAAAAAAAAAAAAAQAAAAAAAAAAAAAAAQAAAAAAAAAAAAAAAAAAAAAAAAAAAAAAAAAAAAAAAAABAAAAAAAAAAEAAAAAAAAAAAAAAAAAAAAAAAAAAQAAAAAAAAABAAAAAAAAAAEAAAABAAAAAQAAAAEAAAAAAAAAAQAAAAAAAAAAAAAAAQAAAAAAAAABAAAAAQAAAAEAAAAAAAAAAQAAAAAAAAABAAAAAQAAAAEAAAAAAAAAAQAAAAAAAAABAAAAAAAAAAAAAAAAAAAAAQAAAAAAAAABAAAAAQAAAAEAAAABAAAAAQAAAAAAAAAAAAAAAQAAAAAAAAAAAAAAAAAAAAEAAAAAAAAAAQAAAAAAAAABAAAAAAAAAAEAAAAAAAAAAAAAAAAAAAAAAAAAAQAAAAAAAAAAAAAAAQAAAAAAAAAAAAAAAAAAAAEAAAABAAAAAQAAAAEAAAAAAAAAAAAAAAAAAAAAAAAAAQAAAAAAAAABAAAAAQAAAAEAAAAAAAAAAAAAAAEAAAABAAAAAAAAAAAAAAABAAAAAAAAAAEAAAABAAAAAQAAAAAAAAABAAAAAQAAAAAAAAAAAAAAAAAAAAEAAAABAAAAAQAAAAAAAAAAAAAAAAAAAAEAAAABAAAAAAAAAAEAAAABAAAAAQAAAAEAAAAAAAAAAwAAAAMAAAABAAAAAQAAAAEAAAAAAAAAAAAAAAAAAAAAAAAAAAAAAAAAAAABAAAAAQAAAAEAAAABAAAAAAAAAAAAAAAAAAAAAQAAAAAAAAABAAAAAAAAAAAAAAAAAAAAAAAAAAEAAAAAAAAAAAAAAAEAAAAAAAAAAAAAAAEAAAABAAAAAAAAAAEAAAAAAAAAAQAAAAEAAAABAAAAAQAAAAAAAAAAAAAAAQAAAAAAAAABAAAAAAAAAAAAAAAAAAAAAAAAAAAAAAAAAAAAAQAAAAEAAAABAAAAAAAAAAAAAAAAAAAAAAAAAAAAAAAAAAAAAQAAAAAAAAABAAAAAQAAAAEAAAABAAAAAAAAAAAAAAAAAAAAAAAAAAEAAAAAAAAAAAAAAAEAAAAAAAAAAAAAAAEAAAADAAAAAQAAAAAAAAABAAAAAQAAAAEAAAAAAAAAAQAAAAAAAAABAAAAAQAAAAAAAAABAAAAAQAAAAAAAAABAAAAAAAAAAEAAAAAAAAAAAAAAAEAAAAAAAAAAAAAAAAAAAAAAAAAAAAAAAEAAAABAAAAAQAAAAAAAAAAAAAAAAAAAAEAAAAAAAAAAQAAAAAAAAABAAAAAAAAAAAAAAAAAAAAAAAAAAEAAAAAAAAAAAAAAAAAAAABAAAAAAAAAAEAAAAAAAAAAQAAAAAAAAAAAAAAAAAAAAEAAAABAAAAAAAAAAAAAAAAAAAAAAAAAAAAAAAAAAAAAQAAAAAAAAABAAAAAAAAAAEAAAAAAAAAAAAAAAMAAAAAAAAAAgAAAAAAAAAAAAAAAAAAAAEAAAABAAAAAAAAAA==\",\"dtype\":\"int32\",\"order\":\"little\",\"shape\":[532]},\"CoinName\":[\"42 Coin\",\"404Coin\",\"EliteCoin\",\"Bitcoin\",\"Ethereum\",\"Litecoin\",\"Dash\",\"Monero\",\"Ethereum Classic\",\"ZCash\",\"Bitshares\",\"DigiByte\",\"BitcoinDark\",\"PayCoin\",\"ProsperCoin\",\"KoboCoin\",\"Spreadcoin\",\"Argentum\",\"Aurora Coin\",\"BlueCoin\",\"MyriadCoin\",\"MoonCoin\",\"ZetaCoin\",\"SexCoin\",\"Quatloo\",\"EnergyCoin\",\"QuarkCoin\",\"Riecoin\",\"Digitalcoin \",\"BitBar\",\"Catcoin\",\"CryptoBullion\",\"CannaCoin\",\"CryptCoin\",\"CasinoCoin\",\"Diamond\",\"Verge\",\"DevCoin\",\"EarthCoin\",\"E-Gulden\",\"Einsteinium\",\"Emerald\",\"Exclusive Coin\",\"FlutterCoin\",\"Franko\",\"FeatherCoin\",\"GrandCoin\",\"GlobalCoin\",\"GoldCoin\",\"HoboNickels\",\"HyperStake\",\"Infinite Coin\",\"IOCoin\",\"IXcoin\",\"KrugerCoin\",\"LuckyCoin\",\"Litebar \",\"MaxCoin\",\"MegaCoin\",\"MediterraneanCoin\",\"MintCoin\",\"MinCoin\",\"MazaCoin\",\"Nautilus Coin\",\"NavCoin\",\"NobleCoin\",\"Namecoin\",\"NyanCoin\",\"OpalCoin\",\"Orbitcoin\",\"PotCoin\",\"PhoenixCoin\",\"Reddcoin\",\"RonPaulCoin\",\"StableCoin\",\"SmartCoin\",\"SuperCoin\",\"SyncCoin\",\"SysCoin\",\"TeslaCoin\",\"TigerCoin\",\"TittieCoin\",\"TorCoin\",\"TerraCoin\",\"UnbreakableCoin\",\"Unobtanium\",\"UroCoin\",\"UnitaryStatus Dollar\",\"UltraCoin\",\"ViaCoin\",\"VeriCoin\",\"Vertcoin\",\"WorldCoin\",\"X11 Coin\",\"Crypti\",\"JouleCoin\",\"StealthCoin\",\"ZCC Coin\",\"ByteCoin\",\"DigitalNote \",\"BurstCoin\",\"StorjCoin\",\"MonaCoin\",\"Neutron\",\"FairCoin\",\"Gulden\",\"RubyCoin\",\"PesetaCoin\",\"Kore\",\"Wild Beast Coin\",\"Dnotes\",\"Flo\",\"8BIT Coin\",\"Sativa Coin\",\"ArtByte\",\"Folding Coin\",\"Ucoin\",\"Unitus\",\"CypherPunkCoin\",\"OmniCron\",\"Vtorrent\",\"GreenCoin\",\"Cryptonite\",\"MasterCoin\",\"SoonCoin\",\"1Credit\",\"IslaCoin\",\"Nexus\",\"MarsCoin \",\"Crypto\",\"Anarchists Prime\",\"Droidz\",\"BowsCoin\",\"Squall Coin\",\"Song Coin\",\"BitZeny\",\"Diggits\",\"Expanse\",\"Paycon\",\"Siacoin\",\"Emercoin\",\"EverGreenCoin\",\"MindCoin\",\"I0coin\",\"Decred\",\"Revolution VR\",\"HOdlcoin\",\"EDRCoin\",\"Hitcoin\",\"Gamecredits\",\"DubaiCoin\",\"CarpeDiemCoin\",\"PWR Coin\",\"BillaryCoin\",\"GPU Coin\",\"Adzcoin\",\"SoilCoin\",\"YoCoin\",\"SibCoin\",\"EuropeCoin\",\"ZeitCoin\",\"SwingCoin\",\"SafeExchangeCoin\",\"Nebuchadnezzar\",\"Francs\",\"BolivarCoin\",\"Ratecoin\",\"Revenu\",\"Clockcoin\",\"VIP Tokens\",\"BitSend\",\"Omni\",\"Let it Ride\",\"PutinCoin\",\"iBankCoin\",\"Frankywillcoin\",\"MudraCoin\",\"PizzaCoin\",\"Lutetium Coin\",\"Komodo\",\"GoldBlocks\",\"CarterCoin\",\"Karbo\",\"BitTokens\",\"ZayedCoin\",\"MustangCoin\",\"ZoneCoin\",\"Circuits of Value\",\"RootCoin\",\"DopeCoin\",\"BitCurrency\",\"DollarCoin\",\"Swiscoin\",\"Shilling\",\"BuzzCoin\",\"Opair\",\"PesoBit\",\"Halloween Coin\",\"ZCoin\",\"CoffeeCoin\",\"RoyalCoin\",\"GanjaCoin V2\",\"TeamUP\",\"LanaCoin\",\"Elementrem\",\"ZClassic\",\"ARK\",\"InsaneCoin\",\"KiloCoin\",\"ArtexCoin\",\"EmberCoin\",\"XenixCoin\",\"FreeCoin\",\"PLNCoin\",\"AquariusCoin\",\"Kurrent\",\"Creatio\",\"Eternity\",\"Eurocoin\",\"BitcoinFast\",\"Stakenet\",\"BitConnect Coin\",\"MoneyCoin\",\"Enigma\",\"Cannabis Industry Coin\",\"Russiacoin\",\"PandaCoin\",\"GameUnits\",\"GAKHcoin\",\"Allsafe\",\"LiteCreed\",\"OsmiumCoin\",\"Bikercoins\",\"HexxCoin\",\"Klingon Empire Darsek\",\"Internet of People\",\"KushCoin\",\"Printerium\",\"PacCoin\",\"Impeach\",\"Citadel\",\"Zilbercoin\",\"FirstCoin\",\"BeaverCoin\",\"FindCoin\",\"VaultCoin\",\"Zero\",\"OpenChat\",\"Canada eCoin\",\"Zoin\",\"RenosCoin\",\"DubaiCoin\",\"VirtacoinPlus\",\"TajCoin\",\"Impact\",\"EB3coin\",\"Atmos\",\"HappyCoin\",\"Coinonat\",\"MacronCoin\",\"Condensate\",\"Independent Money System\",\"ArgusCoin\",\"LomoCoin\",\"ProCurrency\",\"GoldReserve\",\"BenjiRolls\",\"GrowthCoin\",\"ILCoin\",\"Phreak\",\"Degas Coin\",\"HTML5 Coin\",\"Ultimate Secure Cash\",\"EquiTrader\",\"QTUM\",\"Quantum Resistant Ledger\",\"Espers\",\"Dynamic\",\"Nano\",\"ChanCoin\",\"Dinastycoin\",\"Denarius\",\"DigitalPrice\",\"Virta Unique Coin\",\"Bitcoin Planet\",\"Unify\",\"BritCoin\",\"SocialCoin\",\"ArcticCoin\",\"DAS\",\"Linda\",\"LeviarCoin\",\"DeepOnion\",\"Bitcore\",\"gCn Coin\",\"SmartCash\",\"Signatum\",\"Onix\",\"Cream\",\"Bitcoin Cash\",\"Monoeci\",\"Draftcoin\",\"Vechain\",\"Sojourn Coin\",\"Stakecoin\",\"NewYorkCoin\",\"FrazCoin\",\"Kronecoin\",\"AdCoin\",\"Linx\",\"CoinonatX\",\"Ethereum Dark\",\"Sumokoin\",\"Obsidian\",\"Cardano\",\"Regalcoin\",\"BitcoinZ\",\"TrezarCoin\",\"Elements\",\"TerraNovaCoin\",\"VIVO Coin\",\"Rupee\",\"Bitcoin Gold\",\"WomenCoin\",\"Theresa May Coin\",\"NamoCoin\",\"LUXCoin\",\"Pirl\",\"Xios\",\"Bitcloud 2.0\",\"eBoost\",\"KekCoin\",\"BlackholeCoin\",\"Infinity Economics\",\"Pura\",\"Innova\",\"Ellaism\",\"GoByte\",\"Magnet\",\"Lamden Tau\",\"Electra\",\"Bitcoin Diamond\",\"SHIELD\",\"Cash & Back Coin\",\"UltraNote\",\"BitCoal\",\"DaxxCoin\",\"Bulwark\",\"Kalkulus\",\"AC3\",\"Lethean\",\"GermanCoin\",\"LiteCoin Ultra\",\"PopularCoin\",\"PhantomX\",\"Photon\",\"Sucre\",\"SparksPay\",\"Digiwage\",\"GunCoin\",\"IrishCoin\",\"Trollcoin\",\"Litecoin Plus\",\"Monkey Project\",\"Pioneer Coin\",\"UnitedBitcoin\",\"Interzone\",\"TokenPay\",\"1717 Masonic Commemorative Token\",\"My Big Coin\",\"TurtleCoin\",\"MUNcoin\",\"Unified Society USDEX\",\"Niobio Cash\",\"ShareChain\",\"Travelflex\",\"KREDS\",\"Tokyo Coin\",\"BiblePay\",\"LitecoinCash\",\"BitFlip\",\"LottoCoin\",\"Crypto Improvement Fund\",\"Stipend\",\"Poa Network\",\"Pushi\",\"Ellerium\",\"Velox\",\"Ontology\",\"Callisto Network\",\"BitTube\",\"Poseidon\",\"Aidos Kuneen\",\"Bitspace\",\"Briacoin\",\"Ignition\",\"Bitrolium\",\"MedicCoin\",\"Alpenschillling\",\"Bitcoin Green\",\"Deviant Coin\",\"Abjcoin\",\"Semux\",\"FuturoCoin\",\"Carebit\",\"Zealium\",\"Monero Classic\",\"Proton\",\"iDealCash\",\"Jumpcoin\",\"Infinex\",\"Bitcoin Incognito\",\"KEYCO\",\"HollyWoodCoin\",\"GINcoin\",\"PlatinCoin\",\"Loki\",\"Newton Coin\",\"Swisscoin\",\"Xt3ch\",\"MassGrid\",\"TheVig\",\"PluraCoin\",\"EmaratCoin\",\"Dekado\",\"Lynx\",\"Poseidon Quark\",\"BitcoinWSpectrum\",\"Muse\",\"Motion\",\"PlusOneCoin\",\"Axe\",\"Trivechain\",\"Dystem\",\"Giant\",\"Peony Coin\",\"Absolute Coin\",\"Vitae\",\"HexCoin\",\"TPCash\",\"Webchain\",\"Ryo\",\"Urals Coin\",\"Qwertycoin\",\"ARENON\",\"EUNO\",\"MMOCoin\",\"Ketan\",\"Project Pai\",\"XDNA\",\"PAXEX\",\"Azart\",\"ThunderStake\",\"Kcash\",\"Xchange\",\"Acute Angle Cloud\",\"CrypticCoin\",\"Bettex coin\",\"Actinium\",\"Bitcoin SV\",\"BitMoney\",\"Junson Ming Chan Coin\",\"FREDEnergy\",\"HerbCoin\",\"Universal Molecule\",\"Lithium\",\"PirateCash\",\"Exosis\",\"Block-Logic\",\"Oduwa\",\"Beam\",\"Galilel\",\"Bithereum\",\"Crypto Sports\",\"Credit\",\"SLICE\",\"Dash Platinum\",\"Nasdacoin\",\"Beetle Coin\",\"Titan Coin\",\"Award\",\"BLAST\",\"Bitcoin Rhodium\",\"GlobalToken\",\"Insane Coin\",\"ALAX\",\"LiteDoge\",\"SolarCoin\",\"TruckCoin\",\"UFO Coin\",\"OrangeCoin\",\"BlakeCoin\",\"BitstarCoin\",\"NeosCoin\",\"HyperCoin\",\"PinkCoin\",\"Crypto Escudo\",\"AudioCoin\",\"IncaKoin\",\"Piggy Coin\",\"Crown Coin\",\"Genstake\",\"SmileyCoin\",\"XiaoMiCoin\",\"Groestlcoin\",\"CapriCoin\",\" ClubCoin\",\"Radium\",\"Bata\",\"Pakcoin\",\"Creditbit \",\"OKCash\",\"Lisk\",\"HiCoin\",\"WhiteCoin\",\"FriendshipCoin\",\"JoinCoin\",\"Triangles Coin\",\"Vollar\",\"EOS\",\"Reality Clash\",\"Oxycoin\",\"TigerCash\",\"Waves\",\"Particl\",\"BitTorrent\",\"Nxt\",\"ZEPHYR\",\"Gapcoin\",\"Beldex\",\"Horizen\",\"BitcoinPlus\"],\"ProofType\":[\"PoW/PoS\",\"PoW/PoS\",\"PoW/PoS\",\"PoW\",\"PoW\",\"PoW\",\"PoW/PoS\",\"PoW\",\"PoW\",\"PoW\",\"PoS\",\"PoW\",\"PoW/PoS\",\"PoS\",\"PoW\",\"PoW/PoS\",\"PoW\",\"PoW\",\"PoW/PoS\",\"PoW/PoS\",\"PoW\",\"PoW\",\"PoW\",\"PoW\",\"PoW\",\"PoW/PoS\",\"PoW\",\"PoW\",\"PoW\",\"PoW/PoS\",\"PoW\",\"PoW/PoS\",\"PoW\",\"PoW\",\"PoC\",\"PoW/PoS\",\"PoW\",\"PoW\",\"PoW\",\"PoW\",\"PoW\",\"PoW\",\"PoS\",\"PoS/PoW/PoT\",\"PoW\",\"PoW\",\"PoW\",\"PoW\",\"PoW\",\"PoW/PoS\",\"PoS\",\"PoW\",\"PoW/PoS\",\"PoW\",\"PoW\",\"PoW\",\"PoW\",\"PoW/PoS\",\"PoW\",\"PoW\",\"PoS\",\"PoW\",\"PoW/PoS\",\"PoS\",\"PoW/PoS\",\"PoW\",\"PoW\",\"PoW\",\"PoW/PoS\",\"PoW/PoS\",\"PoW/PoS\",\"PoW/PoS\",\"PoW/PoS\",\"PoW\",\"PoW\",\"PoW\",\"PoS\",\"PoW/PoS\",\"PoW\",\"PoS\",\"PoW\",\"PoS\",\"PoW/PoS\",\"PoW\",\"PoW\",\"PoW\",\"PoW\",\"PoW/PoS\",\"PoW/PoS\",\"PoW\",\"PoST\",\"PoW\",\"PoW\",\"PoW/PoS\",\"PoS\",\"PoW\",\"PoW/PoS\",\"PoW/PoS\",\"PoW\",\"PoW\",\"PoC\",\"PoS\",\"PoW\",\"PoW/PoS\",\"PoW/PoS\",\"PoW\",\"PoS\",\"PoW\",\"PoW/PoS\",\"PoW\",\"PoS\",\"PoW\",\"PoW/PoS\",\"PoW/PoS\",\"PoW\",\"PoW\",\"PoS\",\"PoW\",\"PoW\",\"PoW\",\"PoW/PoS\",\"PoW\",\"PoW\",\"PoW\",\"PoW\",\"PoW\",\"PoW/PoS\",\"PoW/nPoS\",\"PoW\",\"PoW\",\"PoW\",\"PoW/PoS\",\"PoW\",\"PoS/PoW\",\"PoW\",\"PoW\",\"PoS\",\"PoW\",\"PoW/PoS\",\"PoW\",\"PoW/PoS\",\"PoW/PoS\",\"PoW\",\"PoW\",\"PoW/PoS\",\"PoW\",\"PoW\",\"PoW/PoS\",\"PoW/PoS\",\"PoW\",\"PoW/PoS\",\"PoW\",\"PoW/PoS\",\"PoW/PoS\",\"PoS\",\"PoW\",\"PoW\",\"PoW\",\"PoW\",\"PoW/PoS\",\"PoS\",\"PoW/PoS\",\"PoC\",\"PoS\",\"PoW\",\"PoW\",\"PoW/PoS\",\"PoW/PoS\",\"PoW/PoS\",\"PoW/PoS\",\"PoW/PoS\",\"PoW\",\"PoS\",\"PoW/PoS\",\"PoW/PoS\",\"PoW/PoS\",\"PoS\",\"PoW\",\"PoS\",\"dPoW/PoW\",\"PoW/PoS\",\"PoW/PoS\",\"PoW\",\"PoW/PoS\",\"PoW\",\"PoW/PoS\",\"PoW/PoS\",\"PoW\",\"PoW/PoS\",\"PoW\",\"PoS\",\"PoW\",\"PoW/PoW\",\"PoW\",\"PoW/PoS\",\"PoS\",\"PoW/PoS\",\"PoW/PoS\",\"PoW\",\"PoS\",\"PoS\",\"PoW/PoS\",\"PoS\",\"PoW/PoS\",\"PoW\",\"PoW\",\"DPoS\",\"PoW/PoS\",\"PoW\",\"PoW\",\"PoW/PoS\",\"PoW/PoS\",\"PoS\",\"PoW/PoS\",\"PoW/PoS\",\"PoW\",\"PoS\",\"PoW/PoS\",\"PoW/PoS\",\"PoW/PoS\",\"TPoS\",\"PoW/PoS\",\"PoW/PoS\",\"PoW/PoS\",\"PoW\",\"PoW/PoS\",\"PoS\",\"PoW/PoS\",\"PoW/PoS\",\"PoS\",\"PoW/PoS\",\"PoW\",\"PoW\",\"PoW\",\"PoW/PoS\",\"PoW/PoS\",\"PoW/PoS\",\"PoW/PoS\",\"PoW\",\"PoW/PoS\",\"PoW\",\"PoS\",\"PoW/PoS \",\"PoW\",\"PoS\",\"PoW\",\"PoW\",\"PoW/PoS\",\"PoW\",\"PoW\",\"PoS\",\"PoW\",\"PoW/PoS\",\"PoW/PoS\",\"PoW/PoS\",\"PoW\",\"PoS\",\"PoW/PoS\",\"PoW\",\"PoS\",\"PoW/PoS\",\"PoW/PoS\",\"PoW/PoS\",\"PoW/PoS\",\"PoS\",\"PoW/PoS\",\"PoW\",\"PoS\",\"PoW\",\"PoS\",\"PoW/PoS\",\"PoW/PoS\",\"PoS\",\"PoW\",\"PoS\",\"PoW\",\"PoW/PoS\",\"PoW\",\"PoW\",\"PoW\",\"PoW\",\"PoW/PoS\",\"PoW\",\"PoW/PoS\",\"PoW/PoS\",\"PoW\",\"PoW/PoS\",\"PoW\",\"PoW\",\"PoW\",\"PoW/PoS\",\"PoW\",\"PoW/PoS\",\"PoW\",\"PoW\",\"PoW\",\"PoS\",\"PoW\",\"PoW/PoS\",\"PoW\",\"PoW/PoS\",\"PoS\",\"Proof of Authority\",\"PoW\",\"PoS\",\"PoW\",\"PoW\",\"PoW\",\"PoW\",\"PoW\",\"PoW/PoS\",\"PoW/PoS\",\"PoW\",\"PoS\",\"PoS\",\"PoW/PoS\",\"PoW\",\"PoW/PoS\",\"PoW\",\"PoW/PoS\",\"PoW\",\"PoS\",\"PoW\",\"PoW/PoS\",\"PoW/PoS\",\"PoW/PoS\",\"PoW/PoS\",\"PoW\",\"PoW/PoS\",\"PoW/PoS\",\"PoW\",\"PoS\",\"PoW/PoS\",\"PoS\",\"PoW\",\"PoW\",\"PoW\",\"PoW\",\"PoW/PoS\",\"DPoS\",\"PoW/PoS\",\"PoW/PoS\",\"PoW\",\"PoW/PoS\",\"PoW\",\"PoW\",\"PoW\",\"PoS\",\"PoS\",\"PoW\",\"PoW\",\"PoW/PoS\",\"PoW/PoS\",\"PoW\",\"PoW/PoS\",\"PoW\",\"PoW\",\"PoW\",\"PoS\",\"PoW\",\"PoW\",\"PoW/PoS\",\"PoW/PoS\",\"PoS\",\"PoW\",\"PoW\",\"PoW\",\"PoS\",\"PoS\",\"PoW and PoS\",\"PoW\",\"PoW\",\"PoW/PoS\",\"PoW\",\"PoW\",\"PoW\",\"PoW\",\"PoS\",\"POBh\",\"PoW + Hive\",\"PoW\",\"PoW\",\"PoW\",\"PoW/PoS\",\"PoA\",\"PoW/PoS\",\"PoW/PoS\",\"PoS\",\"PoS\",\"PoW\",\"PoW\",\"PoW\",\"PoW\",\"PoW/PoS\",\"PoW/PoS\",\"PoW/PoS\",\"PoW\",\"PoS\",\"PoW\",\"PoS\",\"PoS\",\"PoW/PoS\",\"DPoS\",\"PoW\",\"PoW/PoS\",\"PoS\",\"PoW\",\"PoS\",\"PoW/PoS\",\"PoW\",\"PoW\",\"PoS/PoW\",\"PoW\",\"PoS\",\"PoW\",\"PoW\",\"PoW\",\"PoW\",\"PoW/PoS\",\"PoS\",\"PoW\",\"PoW/PoS\",\"PoW\",\"PoW/PoS\",\"PoS\",\"HPoW\",\"PoS\",\"PoS\",\"PoS\",\"PoW\",\"PoW\",\"PoW\",\"PoW/PoS\",\"PoS\",\"PoW/PoS\",\"PoS\",\"PoW/PoS\",\"PoS\",\"PoW\",\"PoW/PoS\",\"PoW\",\"PoW\",\"PoW\",\"PoW\",\"PoS\",\"PoW/PoS\",\"PoS\",\"PoS\",\"PoW\",\"PoW/PoS\",\"PoS\",\"PoW\",\"PoW/PoS\",\"Zero-Knowledge Proof\",\"PoW\",\"DPOS\",\"PoW\",\"PoS\",\"PoW\",\"PoW\",\"Pos\",\"PoS\",\"PoW\",\"PoW/PoS\",\"PoW\",\"PoW\",\"PoS\",\"PoW\",\"PoW\",\"PoW/PoS\",\"PoW\",\"PoW/PoS\",\"PoW\",\"PoS\",\"PoW/PoS\",\"PoW\",\"PoS\",\"PoW/PoS\",\"PoW/PoS\",\"PoW/PoS\",\"PoW/PoS\",\"PoW\",\"PoW\",\"PoW\",\"PoW/PoS\",\"DPoS\",\"PoW/PoS\",\"PoW\",\"PoW/PoS\",\"PoW\",\"PoW/PoS\",\"PoW\",\"PoW/PoS\",\"PoS\",\"PoW/PoS\",\"PoW/PoS\",\"PoW\",\"PoW/PoS\",\"PoW/PoS\",\"PoW/PoS\",\"PoW\",\"PoW/PoS\",\"PoW\",\"PoW/PoS\",\"PoW\",\"PoW/PoS\",\"PoW/PoS\",\"PoS\",\"PoW\",\"PoW\",\"Proof of Trust\",\"PoW/PoS\",\"DPoS\",\"PoS\",\"PoW/PoS\",\"PoW/PoS\",\"PoW\",\"PoW/PoS\",\"PoW\",\"DPoS\",\"PoW\",\"DPoS\",\"PoS\",\"LPoS\",\"PoS\",\"DPoS\",\"PoS/LPoS\",\"DPoS\",\"PoW/PoS\",\"PoW\",\"PoW\",\"PoS\"],\"TotalCoinSupply\":[\"42\",\"532000000\",\"314159265359\",\"21000000\",\"0\",\"84000000\",\"22000000\",\"0\",\"210000000\",\"21000000\",\"3600570502\",\"21000000000\",\"22000000\",\"12500000\",\"21000000\",\"350000000\",\"20000000\",\"64000000\",\"16768584\",\"0\",\"2000000000\",\"384000000000\",\"169795588\",\"250000000\",\"100000000\",\"0\",\"247000000\",\"84000000\",\"48166000\",\"500000\",\"21000000 \",\"1000000\",\"13140000\",\"18000000\",\"40000000000\",\"4380000\",\"16555000000\",\"21000000000\",\"13500000000\",\"21000000 \",\"299792458\",\"32000000\",\"0\",\"0\",\"11235813\",\"336000000\",\"1420609614\",\"70000000\",\"72245700\",\"120000000\",\"0\",\"90600000000\",\"22000000\",\"21000000\",\"265420800\",\"20000000\",\"1350000\",\"100000000\",\"42000000\",\"200000000\",\"0\",\"10000000\",\"2419200000\",\"16180000\",\"0\",\"15000000000\",\"21000000\",\"337000000\",\"0\",\"3770000\",\"420000000\",\"98000000\",\"0\",\"21000000\",\"250000000\",\"51200000\",\"0\",\"1000\",\"888000000\",\"100000000\",\"47011968\",\"2300000000\",\"10000000\",\"42000000\",\"80000000\",\"250000\",\"0\",\"1600000000\",\"100000000\",\"23000000\",\"0\",\"84000000\",\"265420800\",\"5500000\",\"0\",\"45000000\",\"0\",\"1000000000\",\"184467440735\",\"10000000000\",\"2158812800\",\"500000000\",\"105120000\",\"68000000\",\"0\",\"1680000000\",\"0\",\"166386000\",\"12000000\",\"2628000\",\"500000000\",\"160000000\",\"0\",\"10000000\",\"1000000000\",\"1000000000\",\"20000000\",\"0\",\"0\",\"3371337\",\"20000000\",\"10000000000\",\"1840000000\",\"619478\",\"21000000\",\"92000000000\",\"0\",\"78000000\",\"33000000\",\"65789100\",\"53760000\",\"5060000\",\"21000000\",\"0\",\"210240000\",\"250000000\",\"100000000\",\"16906397\",\"50000000\",\"0\",\"1000000000\",\"26298000\",\"16000000\",\"21000000\",\"21000000\",\"210000000\",\"81962100\",\"22000000\",\"26550000000\",\"84000000\",\"10500000\",\"21626280000 \",\"0\",\"42000000\",\"221052632\",\"84000000\",\"30000000\",\"168351300\",\"24000000\",\"384000000\",\" 99000000000\",\"40000000\",\"2147483647\",\"20000000\",\"20000000\",\"25000000\",\"75000000\",\"222725000\",\"525000000\",\"90000000\",\"139000000\",\"616448\",\"33500000\",\"2000000000\",\"44333333\",\"100000000\",\"200000000\",\"25000000\",\"657000000\",\"200000000\",\"50000000\",\"90000000\",\"10000000\",\"21000000\",\"9736000\",\"3000000\",\"21000000\",\"1200000000\",\"0\",\"200000000\",\"0\",\"10638298\",\"3100000000\",\"30000000\",\"20000000000\",\"74000000\",\"0\",\"1500000000\",\"21400000\",\"39999898\",\"2500124\",\"100000000\",\"301000000\",\"7506000000\",\"26205539\",\"21000000\",\"125000000\",\"30000000\",\"10000000000\",\"500000000\",\"850000000\",\"3853326.77707314\",\"50000000\",\"38540000 \",\"42000000\",\"228000000\",\"20000000\",\"60000000\",\"20000000\",\"33000000\",\"76500000\",\"28000000\",\"650659833\",\"5000000\",\"21000000\",\"144000000\",\"32514916898\",\"13000000\",\"3315789\",\"15000000\",\"78835200\",\"2714286\",\"25000000\",\"9999999\",\"500000000\",\"21000000\",\"9354000\",\"20000000\",\"100000000000\",\"21933333\",\"185000000\",\"55000000\",\"110000000\",\"3360000\",\"14524851.4827\",\"1000000000\",\"17000000\",\"1000000000\",\"100000000 \",\"21000000\",\"34426423\",\"2232901\",\"100000000\",\"36900000\",\"110000000\",\"4000000000\",\"110290030\",\"100000000\",\"48252000\",\"400000000\",\"500000000\",\"21212121\",\"28600000\",\"1000000000\",\"75000000000\",\"40000000\",\"35520400\",\"2000000000\",\"2500000000\",\"30000000\",\"105000000\",\"90000000000\",\"200084200\",\"72000000\",\"100000000\",\"105000000\",\"50000000000\",\"0\",\"340282367\",\"30000000\",\"2000000000\",\"10000000\",\"100000000\",\"120000000\",\"100000000\",\"19276800\",\"30000000\",\" 75000000\",\"60000000\",\"18900000\",\"50000000000\",\"54000000\",\"18898187.6216583\",\"21000000\",\"200000000000\",\"5000000000\",\"137500000\",\"1100000000\",\"100000000\",\"21000000\",\"9507271\",\"17405891.19707116\",\"86712634466\",\"10500000000\",\"61599965\",\"0\",\"20000000\",\"84000000\",\"100000000\",\"100000000\",\"48252000\",\"4200000\",\"88888888\",\"91388946\",\"45000000000\",\"27000000\",\"21000000000\",\"400000000\",\"1800000000\",\"15733333\",\"27000000\",\"24000000\",\"21000000\",\"25000000000\",\"100000000\",\"1200000000\",\"60000000\",\"156306732.71\",\"21000000\",\"200000000\",\"100000000\",\"21000000\",\"14788275.991\",\"9000000000\",\"350000000\",\"45000000\",\"280000000\",\"31800000\",\"144000000\",\"500000000\",\"30000000000\",\"210000000\",\"660000000\",\"210000000\",\"85000000000\",\"12500000\",\"10000000000\",\"27716121\",\"20000000\",\"550000000\",\"999481516\",\"50000000000\",\"150000000\",\"4999999999\",\"50000000\",\" 90000000000\",\"19800000\",\"21000000\",\"120000000\",\"500000000\",\"64000000\",\"900000000\",\"4000000\",\"21000000\",\"23000000\",\"20166000\",\"23000000\",\"25000000\",\"1618033\",\"30000000\",\"1000000000000\",\"16600000\",\"232000000\",\"336000000\",\"10000000000\",\"100000000\",\"1100000000\",\"800000000\",\"5200000000\",\"840000000\",\"40000000\",\"18406979840\",\"500000000\",\"19340594\",\"252460800\",\"25000000\",\"60000000\",\"124000000\",\"1000000000\",\"6500000000\",\"1000000000\",\"21000000\",\"25000000\",\"50000000\",\"3000000\",\"5000000\",\"70000000\",\"500000000\",\"300000000\",\"21000000\",\"88000000\",\"30000000\",\"100000000\",\"100000000\",\"200000000\",\"80000000\",\"18400000\",\"45000000\",\"5121951220\",\"21000000\",\"26280000\",\"21000000\",\"18000000\",\"26000000\",\"10500000\",\"600000518\",\"150000000\",\"184000000000\",\"10200000000\",\"44000000\",\"168000000\",\"100000000\",\"1000000000\",\"84000000\",\"90000000\",\"92000000000\",\"650000000 \",\"100262205\",\"18081806 \",\"22075700\",\"21000000\",\"21000000\",\"82546564\",\"21000000\",\"5151000\",\"16880000000\",\"52500000\",\"100000000\",\"22105263\",\"1000000000\",\"1750000000\",\"88188888\",\"210000000\",\"184470000000\",\"55000000\",\"50000000\",\"260000000\",\"210000000\",\"2100000000\",\"366000000\",\"100000000\",\"25000000\",\"18000000000\",\"1000000000\",\"100000000\",\"1000000000\",\"7600000000\",\"50000000\",\"84000000\",\"21000000\",\"70000000000\",\"0\",\"8080000000\",\"54000000\",\"105120001.44\",\"25228800\",\"105000000\",\"21000000\",\"120000000\",\"21000000\",\"262800000\",\"19035999\",\"30886000\",\"13370000\",\"74800000000\",\"100000000\",\"19700000\",\"84000000\",\"500000000\",\"5000000000\",\"420000000\",\"64000000\",\"2100000\",\"168000000\",\"30000000\",\"1000000000\",\"35000000000\",\"98100000000\",\"0\",\"4000000000\",\"200000000\",\"7000000000\",\"54256119\",\"21000000\",\"0\",\"500000000\",\"1000000000\",\"10500000000\",\"190000000\",\"1000000000\",\"42000000\",\"15000000\",\"50000000000\",\"400000000\",\"105000000\",\"208000000\",\"160000000\",\"9000000\",\"5000000\",\"182000000\",\"16504333\",\"105000000\",\"159918400\",\"10008835635\",\"300000000\",\"60168145\",\"2800000\",\"120000\",\"2100000000\",\"0\",\"24487944\",\"0\",\"1000000000\",\"100000000\",\"8634140\",\"990000000000\",\"1000000000\",\"2000000000\",\"250000000\",\"1400222610\",\"21000000\",\"1000000\"],\"TotalCoinsMined\":{\"__ndarray__\":\"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\",\"dtype\":\"float64\",\"order\":\"little\",\"shape\":[532]},\"Unnamed_colon_0\":[\"42\",\"404\",\"1337\",\"BTC\",\"ETH\",\"LTC\",\"DASH\",\"XMR\",\"ETC\",\"ZEC\",\"BTS\",\"DGB\",\"BTCD\",\"XPY\",\"PRC\",\"KOBO\",\"SPR\",\"ARG\",\"AUR\",\"BLU\",\"XMY\",\"MOON\",\"ZET\",\"SXC\",\"QTL\",\"ENRG\",\"QRK\",\"RIC\",\"DGC\",\"BTB\",\"CAT\",\"CBX\",\"CCN\",\"CRYPT\",\"CSC\",\"DMD\",\"XVG\",\"DVC\",\"EAC\",\"EFL\",\"EMC2\",\"EMD\",\"EXCL\",\"FLT\",\"FRK\",\"FTC\",\"GDC\",\"GLC\",\"GLD\",\"HBN\",\"HYP\",\"IFC\",\"IOC\",\"IXC\",\"KGC\",\"LKY\",\"LTB\",\"MAX\",\"MEC\",\"MED\",\"MINT\",\"MINC\",\"MZC\",\"NAUT\",\"NAV\",\"NOBL\",\"NMC\",\"NYAN\",\"OPAL\",\"ORB\",\"POT\",\"PXC\",\"RDD\",\"RPC\",\"SBC\",\"SMC\",\"SUPER\",\"SYNC\",\"SYS\",\"TES\",\"TGC\",\"TIT\",\"TOR\",\"TRC\",\"UNB\",\"UNO\",\"URO\",\"USDE\",\"UTC\",\"VIA\",\"VRC\",\"VTC\",\"WDC\",\"XC\",\"XCR\",\"XJO\",\"XST\",\"ZCC\",\"BCN\",\"XDN\",\"BURST\",\"SJCX\",\"MONA\",\"NTRN\",\"FAIR\",\"NLG\",\"RBY\",\"PTC\",\"KORE\",\"WBB\",\"NOTE\",\"FLO\",\"8BIT\",\"STV\",\"ABY\",\"FLDC\",\"U\",\"UIS\",\"CYP\",\"OMC\",\"VTR\",\"GRE\",\"XCN\",\"MSC\",\"SOON\",\"1CR\",\"ISL\",\"NXS\",\"MARS\",\"CTO\",\"ACP\",\"DRZ\",\"BSC\",\"SQL\",\"SONG\",\"ZNY\",\"DIGS\",\"EXP\",\"CON\",\"SC\",\"EMC\",\"EGC\",\"MND\",\"I0C\",\"DCR\",\"RVR\",\"HODL\",\"EDRC\",\"HTC\",\"GAME\",\"DBIC\",\"DIEM\",\"PWR\",\"BLRY\",\"GPU\",\"ADZ\",\"SOIL\",\"YOC\",\"SIB\",\"ERC\",\"ZEIT\",\"SWING\",\"SAFEX\",\"NEBU\",\"FRN\",\"BOLI\",\"XRA\",\"REV\",\"CKC\",\"VIP\",\"BSD\",\"OMNI\",\"LIR\",\"PUT\",\"IBANK\",\"FRWC\",\"MUDRA\",\"PIZZA\",\"LC\",\"KMD\",\"GB\",\"CTC\",\"KRB\",\"BXT\",\"ZYD\",\"MST\",\"ZNE\",\"COVAL\",\"ROOT\",\"DOPE\",\"BTCR\",\"DLC\",\"SCN\",\"SH\",\"BUZZ\",\"XPO\",\"PSB\",\"HALLO\",\"XZC\",\"CFC\",\"ROYAL\",\"GNJ\",\"TEAM\",\"LANA\",\"ELE\",\"ZCL\",\"ARK\",\"INSANE\",\"KLC\",\"ATX\",\"EMB\",\"XEN\",\"FRE\",\"PLNC\",\"ARCO\",\"KURT\",\"XCRE\",\"ENT\",\"EUC\",\"BCF\",\"XSN\",\"BCCOIN\",\"MONEY\",\"XNG\",\"XCI\",\"RC\",\"PND\",\"UNITS\",\"GAKH\",\"ASAFE2\",\"LTCR\",\"OS76\",\"BIC\",\"HXX\",\"KED\",\"IOP\",\"KUSH\",\"PRX\",\"PAC\",\"IMPCH\",\"CTL\",\"ZBC\",\"FRST\",\"BVC\",\"FIND\",\"VLTC\",\"ZER\",\"CHAT\",\"CDN\",\"ZOI\",\"RNS\",\"DBIX\",\"XVP\",\"TAJ\",\"IMX\",\"EB3\",\"ATMOS\",\"HPC\",\"CXT\",\"MCRN\",\"RAIN\",\"IMS\",\"ARGUS\",\"LMC\",\"PROC\",\"XGR\",\"BENJI\",\"GRW\",\"ILC\",\"PHR\",\"DEA\",\"HTML5\",\"USC\",\"EQT\",\"QTUM\",\"QRL\",\"ESP\",\"DYN\",\"NANO\",\"CHAN\",\"DCY\",\"DNR\",\"DP\",\"VUC\",\"BTPL\",\"UNIFY\",\"BRIT\",\"SOCC\",\"ARC\",\"DAS\",\"LINDA\",\"XLC\",\"ONION\",\"BTX\",\"GCN\",\"SMART\",\"SIGT\",\"ONX\",\"CRM\",\"BCH\",\"XMCC\",\"DFT\",\"VET\",\"SOJ\",\"STCN\",\"NYC\",\"FRAZ\",\"KRONE\",\"ACC\",\"LINX\",\"XCXT\",\"ETHD\",\"SUMO\",\"ODN\",\"ADA\",\"REC\",\"BTCZ\",\"TZC\",\"ELM\",\"TER\",\"VIVO\",\"RUP\",\"BTG\",\"WOMEN\",\"MAY\",\"NAMO\",\"LUX\",\"PIRL\",\"XIOS\",\"BTDX\",\"EBST\",\"KEK\",\"BLHC\",\"XIN\",\"PURA\",\"INN\",\"ELLA\",\"GBX\",\"MAG\",\"TAU\",\"ECA\",\"BCD\",\"XSH\",\"CNBC\",\"XUN\",\"COAL\",\"DAXX\",\"BWK\",\"KLKS\",\"AC3\",\"LTHN\",\"GER\",\"LTCU\",\"POP\",\"PNX\",\"PHO\",\"SUCR\",\"SPK\",\"WAGE\",\"GUN\",\"IRL\",\"TROLL\",\"LCP\",\"MONK\",\"PCOIN\",\"UBTC\",\"ITZ\",\"TPAY\",\"MCT\",\"MBC\",\"TRTL\",\"MUN\",\"USX\",\"NBR\",\"SSS\",\"TRF\",\"KREDS\",\"TOKC\",\"BBP\",\"LCC\",\"FLIP\",\"LOT\",\"CIF\",\"SPD\",\"POA\",\"PUSHI\",\"ELP\",\"VLX\",\"ONT\",\"CLO\",\"TUBE\",\"PSD\",\"ADK\",\"BSX\",\"BRIA\",\"IC\",\"BTL\",\"MEDIC\",\"ALPS\",\"BITG\",\"DEV\",\"ABJ\",\"SEM\",\"FTO\",\"CARE\",\"NZL\",\"XMC\",\"PROTON\",\"DEAL\",\"JUMP\",\"INFX\",\"XBI\",\"KEC\",\"HWC\",\"GIN\",\"PLTC\",\"LOKI\",\"NCP\",\"SIC\",\"XT3\",\"MGD\",\"VIG\",\"PLURA\",\"EMAR\",\"DKD\",\"LYNX\",\"POSQ\",\"BWS\",\"MUSE\",\"XMN\",\"PLUS1\",\"AXE\",\"TRVC\",\"DTEM\",\"GIC\",\"PNY\",\"ABS\",\"VITAE\",\"HEX\",\"TPC\",\"WEBC\",\"RYO\",\"URALS\",\"QWC\",\"ARE\",\"EUNO\",\"MMO\",\"KETAN\",\"PPAI\",\"XDNA\",\"PAXEX\",\"AZART\",\"TSC\",\"KCASH\",\"XCG\",\"AAC\",\"CRYP\",\"BTXC\",\"ACM\",\"BSV\",\"BITM\",\"JMC\",\"FRED\",\"HERB\",\"UMO\",\"LIT\",\"PIRATE\",\"EXO\",\"BLTG\",\"OWC\",\"BEAM\",\"GALI\",\"BTH\",\"CSPN\",\"CREDIT\",\"SLC\",\"DASHP\",\"NSD\",\"BEET\",\"TTN\",\"AWR\",\"BLAST\",\"XRC\",\"GLT\",\"INSN\",\"ALX\",\"LDOGE\",\"SLR\",\"TRK\",\"UFO\",\"OC\",\"BLC\",\"BITS\",\"NEOS\",\"HYPER\",\"PINK\",\"CESC\",\"ADC\",\"NKA\",\"PIGGY\",\"CRW\",\"GEN\",\"SMLY\",\"MI\",\"GRS\",\"CPC\",\"CLUB\",\"RADS\",\"BTA\",\"PAK\",\"CRB\",\"OK\",\"LSK\",\"XHI\",\"XWC\",\"FSC\",\"J\",\"TRI\",\"VOLLAR\",\"EOS\",\"RCC\",\"OXY\",\"TCH\",\"WAVES\",\"PART\",\"BTT\",\"NXT\",\"ZEPH\",\"GAP\",\"BDX\",\"ZEN\",\"XBC\"],\"principal_component_1\":{\"__ndarray__\":\"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\",\"dtype\":\"float64\",\"order\":\"little\",\"shape\":[532]},\"principal_component_2\":{\"__ndarray__\":\"6AarzZXp7z+cLN4W0+nvP04aZrauH/g/0frIBYQF9b+Cfg6ID/P/vydFJcEJHvG/2s6HUXEU8j/K+oo7J2ABwNbi/3qI8/+/xd1YB5OFAMBT/i3h1Fn4P0cjbyjqm/y/ge2l61sa6D/wgk98TC3mP+hw73b3HfG/ectVSsaw+z9u4DeQifztv/kOooUOHvG/txmR8I3p7z/Gf1xYMevvP/PQ+NvPfPy/+8YCrPmK9L/zbwS2qQX1v4JTNnlVHvG/o+QgJCUe8b+GGsKB5envPx/g2Bsbj92/oDqbeysM9L8G4/Zi/h3xvxjlDD+V6e8/uZqX/vYd8b91aZhOlenvP0U1qzbzHfG/TwmgNYv87b9ReFQ+FFHePxNgMxpYDeo/BGafXwqM/L/ivbuntB31v9x4IfXlLPG/9/2hj/Id8b8nA+12VR7xv7TjV3P5HfG/vLmawfEP/T8WnM1H1c3dP/EE3kDzHfG/aJHwuYkO+r/DEAFgDSDxv0CqQ7cAHvG/QWUzzgke8b85yGNKQ+nvP/nqyRMKIPE/U7ei/EB68b89QxscdBTyP/Ypo/+CBfW/vWWdM1ce8b8HPkd98h3xv42MT3ztHfG/l+th2L31+D9a4qJB+R3xv1U82Pq+hgHAwbwfp1My7j8DG3IF8R3xvxJD/gZ9E+g/yNYi4mv87T/vn3dCQ8j6Pw5GdVYxPfG/b8lNDoUF9b/zCDm1RR7xv37YQMQyyPo/ajb2z7cS3D+xlUPgOujvP93JZhpT6e8/tBPEO+AZ8D/WRZn5+B3xv+giGGN3HvG/04DQswIe8b+9tFbw+h3xPxBFzUF7FPI/9ZD5Vc4G9b+wOnGGLA3NP9wyRfCKBfW/m6aeBLKr+z/gpbnfdRTyPyRT8a2OBfW/p39olqsF9b/kVGOhfQX1vwr6Xp14/O2/t3KXhA7l7z/OwSpmQenvP1ElRAHzHfG/Bqg5p2+23z+3t0lATUH0v++qPoNhHvG/rh7USnoU8j8XH1dsMw/NP+3Q/SqLBfW/OcZHkzjI+j82+59AZOXvP4ED8cfakALArgkKYqo5AsCTI9gXX4/oPywCgM//nfo/+awPbxQe8b8HdpKhPhroP9wYMIl9Deo/Rjm38jwh8b8NCXPuhfztP5bUl84hHvG/0dc9fyfI+j9JZROI7h3xv1t51byc+u0/8BKtSxke8b+ZggvBlunvP35OR08qyPo/AIinGjUf8b/JMBA15OYBwOy88bHfHfE/4Vz+FUx6/L++BZVmkT/5v+0Xzb3rHfG/pGhw7oXp7z8eqz0S7y7xv+7ScPTEGgHAZ+8oN+0d8b/Df83KhQX1v8UauGEN8PG/QHhXv3sU8j/MvISRAx31P5FzOB6L/O2/0mEMQguHAcDXswY1mAX1v4Ndh19HiPs/o8P5rYf87b/KXIW/A+XMP3YGdm9dHvG/W7IIvmYe8b9uXc4mQPztP4youuM48/+/VZrgFRjI+j9Ok7yqMjkBwAxbQk3/Feg/f6A9q3+x+z+IWYHUgfztv+XvQAeDBfW/tJf13Vou6z+2GQHWIx7xv0Ud5tzktgHAPx9ldl0a6D8DrApzwOXxPy+8rY0HHvG/eY0Q22sa6D8wIhZRYhv1v/jpX40ELvY/33xOhGrp7z8C77QKjPvtP3RT6Wi+/O2/Vssl/qxlAcCjDF5ITx7xv7nhNN3FswHAUG1TGp4T8j+y5EzKwpXsPztJF99IGug/XnglJl7r3j+xcRyz6g/9P2JruZ72HfG/wZHSyY387b86XWD6ehTyP76V5iFxGeg/f9eBqxkY6D9vJpIjLiH2Px7irOExFPI/PCL1Nu0d8b+WRwUpTRf7P4bN3Z2B4u8/Hqg/5GTp7z/Xb0ehYenvP99gbcwp0fk/Yug8vZX87b+bctwgPx3xPwhyax/Cg/q/Z1j2D2MU8j+LpKeDSOnvP1DysNSeMgLAg6UKpFwa6D8H91A4gQX1vxTQUrd5FPI/NKkU637p7z/qFYz62nv8v5/CTw+X6e8/Ip7OJzwe8b+JugYr4vztP7ciCtKABfW/eYxRzGIG4T8SA33++h3xv+nfOPcOD/w/Geuvn9wP/T+LpNqDq+nvP/5nX+tjEfI/MygZnEtCAcAWLTuwCBD9P8wCk3ec0fk/YtrriVxS/D+QE1WxRQ/9P2zC4LcyFPw/eF1BPTnz/7+Ns7FQk4UAwLcqjgezQgBAaUUAqG8U8j/QIEJ7hDTxvzw2mmus/O2/RmcW5Ns6+z/ua4VAehTyP/bjpt/iD/0/oW6YzXPp7z8zv3BGZunvPz2em0Zc/e2/sXEcs+oP/T/0NgkkWhTyP1ZcYHdlGug/TSgYU3zp7z9tDAUVRb3nP5kpoTx86e8/QjnG/aPm7z/uxfmYeBTyP7zLpSejMgLA7VEE1vLo7z9ATHv/eL3tP5/svdmI6e8/v8bNEpTp7z+mB0Nxl7j4P0BR5b8ATN8/Jvb0We4d8b/ZtLP3ojICwCU8ld78hgHA8EsboFzn7z8wxSXkXRroP0cj3Z53FPI/z05rEobp7z/Xa3mE6cPvv8Y9rFp86e8/mE2KU15gAcD5T6PmNfztP/hGOnlAZN4/DX13Au4d8b82C4pUmdH5P7Cgth33AO6/Uzob75GFAMAiN7oRjOfvP1UI+DAHHvG/1hfgYv2GAcBlM1NqY/ztPwSVU3E3UALAXaXADEUU8j8kJCKo6Kz7P33EGMReFPI/WqN4GPsm8b8Bq3tr0w/9P1r9r8FHFPI/WV78TRLj5b9LCswHiA/9P2vZg05+E/I/FOWpeYDp7z9fPDIadenvPyHXaroE5e8/g/duhvvW5D9Krg5uaRTyPwyGrkH7HfG/ArD/rBD07T+aYJiRiAn1v+9BhRDiD/0/xrSO2Sjp7z8CjYhqahf7P/PkAQ5wLOY/ZFxuuRIe8b+skhEqOhf7P7cCUok9YAHA1KUMEYbu+z9fCfrZZ6sBwAr/drlvTgHAW/AH6eUcAsAIcy/kwDMCwJgR5j1DIfY/UKoKlNf87b9nXOr0FSH2P+0X1LNry/s/F1Xwc/Id8b9oD240I8j6PwRJmzsXHvG/VC6isa787b8kja/Mjfztv50aWu8RHO8/qtLyqqoyAsCX5frnKcj6P7lWFEbCkQLAryOubXYY8r8BRZXi5vHzvxiWthD7Pvw/VVKWaTAB7r/gHZnTeMv7P70JHQCEBfW/ZjjIxHkU8j8Wx+EObPztP7oZH3z5+wdAcUfkPeg18b8T8eExzQ/9P+9Bw9oGafC/uMf5mvUd8b8TwjuEGB7xv4PQpfMcHvG/SuX1mhwe8b/rX10IaunvP6uBtJyT6e8/BelBtrUyAsDWUp/7aF74P9n45Mi+tvo/ddN40m0U8j+UCUWYPZoAwDK3/IMBENw/zcUuxdv97b/YWMgkhOnvP4ZRZ0cXDvq/W+21fui15z+A3lRwkYUAwIYlbFP88e8/ty2efTsa6D/klYigPx/2P8jO2c9Vpfw/ZD22Vs1lAcATS2ijfunvP1caN43Crvk/mO7QJAce8b/K1Th7hf37P3atghuP6e8/6DEEuvsa5j+oH4Y0of3tv0vaixYhDvq/RF7x/NHz/7/dsb2LGQ76vxVEMm4zFPI/boV0hmJCAEBEbYFRrwD2P8BAgIHux/o/YDHLEkd7/L9QQwIb6OjvPzyJNd18hwLAAwCDGaAyAsAjgL1bsAQAwKSWQBWrKvU/+ieQmpa4+D852lOMyP7tv/p6NcUGYQHA0xNo25wR7z8hobTY6+jvP/hghNBUJPG/oDqxpmwU8j+j4p+LACP0v7uyz8+N/O2/Rd4blBIO+r/p+MZ7X7j4P9YISBvMDvq/bnLpvgMe8b/arAIh+ObvP95Zdb+S6e8/+I2jqt8d8T9qYkfNjvztv8crWc+CBfW/o5STB8Ni9L+HayxBTBf7P17ljREyeoQ/vYYLmeLD2j89s1W8/oYGwMkisfu0qAHAglvBmh7p7z8WzrO36TICwJx0hbkdKPG/4IG3ALFlAcAG6kJl30L0v70oHPAT0Pk/IRlH3TzJAEDdUISLmdYOQLpQUWkAHvG/ZfcV8qI18b/6OgI/Of7tv068TbPtX+k/6ZbSI7vcF0BcA35XbRTyP1PvVPqSMuw/z6dc4fP77T8sNIh06hz9P4GA7mHdAADAwwf7j7QzAsArorUD+B3xv1auh7+rKAHAb7HK9y4h9j/BqMjXkunvP9a32LiQ6e8/j+7j/paFAMB89Kq+2PrtPxq1YduZQgHAXVp361i1+j8lnjuMww/9P5Tp5R556e8/+03iMQZuAEAqqWi92fztv5LDwtvlrvk/L01BusQP/T+zSLL1nzICwJMJfdq4Wuc/T9c9n73V7z8bmMNY6+Llv+7xdxsBhwHA+XbsR82dl79/0Mf/tGUBwETxWv1u/O0/kd5xhEhCAcDt8fyRTDMCwNSbco925AHAX4cUR5/qAsBP82sdzNTvP8YiKdBF/O0/68VS5YOxAsDGIcNTySP8P1feL9ZmMwLAtX0ikEHp7z8Cvskbz7r6P1vZxSNKjNw/jtPAoSG3+D+3gZ2HAy3mPy8WgbUatP0/HvczLrxu9L/S14YZd/gAwGkjYbiO/O2/+ueQfMNH6T9q1F3Skrj4P0IyhnMsr/k/ZCw7i1mv7T8BlJK84aLpPz5jNLp3uPg/430hhfkd8b9FiHrnB+XvP18AbRsnYgHAYrWkie//AMAabTWIwfnyv/yVck4AeALA2gaDmdAd8T8RDqn8ZxTyP6bFfBOK++0/lpeIJngP/T+lQsReoQf1v7JJTb0kUeo/tci/gbEd8T+fLQ5ik/ztv/XukR0Lmu8/14hnzFRZ9T98xzI36W70vxRjzz2nnAxAyVaxNY6LAMCJ015RgUXqPyBMt+1cQgHAPExeAIQF9b/oiTDT4MnVv1ZQUqavM/E/C4+zDak6AsAPrVdoGa/5PzzbyvpRcQHAMVwtUDhxAcALTHpyv+WtvxhcD0aYkwHA0wieyice8b8dfiLRhunvP8+xyyLVhQDA69ahVCiv+T85kb8Kk4UAwAX9sp2VuPg/itr5e+Ph7j+ATwS/yT/5v56VMDvfHfE/2oWT4UDp7z9ABhcEETHsP2ayhs6vGfw/R7xQrYoT8j9iix8JkgX1v+HOrMgrKtm/llncYMQF9b8MPGpqcRTyP1SZuZ5DQgBAeZGDV3Zw7z8L8mcV6v3xv6v0g8/JFPI/9swFFVUS+r/H0+g2rujvP850fisueQHA78DcrmPp7z+/YRefPS3mP1RFjAqc6e8/0TGDNuQT8j+o/okYOR/xv9x2pEwavO8/OIqEjvlG6D/ec9+b0hLyP4mnq6mOBfW/ZmFQH6vp7z9Hsk3Gs2rxv2m/xufH6O8/WdQUEjAM9L8FVBnZQhTyP08e088d6e8/nWtj5OsP/T/HxVdX7h3xv1MeMedAHvG/7mjuTog66D/1gQRkKhroP+vrvbuqQgBAD0w3zwjo7T+3/ecy2ujvP4a2HzAxEtw/7JrEumF6/L8NjHvVLcj6P45H/1vGuAHAJaDYS2tDAEB9Co3KOPP/vwvhE8l7QwBAwZaWmUkr5j9LmRXR+uIEQJ7C8t/tD/0/4Cg7c33/9z/mcr1ec/4BQK2mKE0ZzOs/6Rq8H3vo7z/oLpHQlzMCwD3y7gqThQDAI4ocPXP87T8=\",\"dtype\":\"float64\",\"order\":\"little\",\"shape\":[532]},\"principal_component_3\":{\"__ndarray__\":\"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\",\"dtype\":\"float64\",\"order\":\"little\",\"shape\":[532]}},\"selected\":{\"id\":\"1948\"},\"selection_policy\":{\"id\":\"2002\"}},\"id\":\"1947\",\"type\":\"ColumnDataSource\"},{\"attributes\":{\"editor\":{\"id\":\"1960\"},\"field\":\"TotalCoinsMined\",\"formatter\":{\"id\":\"1959\"},\"title\":\"TotalCoinsMined\"},\"id\":\"1961\",\"type\":\"TableColumn\"},{\"attributes\":{},\"id\":\"1985\",\"type\":\"StringEditor\"},{\"attributes\":{\"editor\":{\"id\":\"1955\"},\"field\":\"ProofType\",\"formatter\":{\"id\":\"1954\"},\"title\":\"ProofType\"},\"id\":\"1956\",\"type\":\"TableColumn\"},{\"attributes\":{},\"id\":\"1980\",\"type\":\"NumberEditor\"},{\"attributes\":{\"format\":\"0,0.0[00000]\"},\"id\":\"1959\",\"type\":\"NumberFormatter\"},{\"attributes\":{},\"id\":\"1984\",\"type\":\"StringFormatter\"},{\"attributes\":{},\"id\":\"1965\",\"type\":\"StringEditor\"},{\"attributes\":{},\"id\":\"1990\",\"type\":\"StringEditor\"},{\"attributes\":{\"editor\":{\"id\":\"1985\"},\"field\":\"CoinName\",\"formatter\":{\"id\":\"1984\"},\"title\":\"CoinName\"},\"id\":\"1986\",\"type\":\"TableColumn\"},{\"attributes\":{},\"id\":\"1960\",\"type\":\"NumberEditor\"},{\"attributes\":{},\"id\":\"1964\",\"type\":\"StringFormatter\"},{\"attributes\":{},\"id\":\"1989\",\"type\":\"StringFormatter\"},{\"attributes\":{\"editor\":{\"id\":\"1995\"},\"field\":\"Class\",\"formatter\":{\"id\":\"1994\"},\"title\":\"Class\"},\"id\":\"1996\",\"type\":\"TableColumn\"},{\"attributes\":{\"editor\":{\"id\":\"1990\"},\"field\":\"Algorithm\",\"formatter\":{\"id\":\"1989\"},\"title\":\"Algorithm\"},\"id\":\"1991\",\"type\":\"TableColumn\"},{\"attributes\":{\"editor\":{\"id\":\"1965\"},\"field\":\"TotalCoinSupply\",\"formatter\":{\"id\":\"1964\"},\"title\":\"TotalCoinSupply\"},\"id\":\"1966\",\"type\":\"TableColumn\"}],\"root_ids\":[\"1945\"]},\"title\":\"Bokeh Application\",\"version\":\"2.4.3\"}};\n",
       "    var render_items = [{\"docid\":\"3997d237-8a23-4ebb-89d6-c7ce555fe3f3\",\"root_ids\":[\"1945\"],\"roots\":{\"1945\":\"5247077a-c8bf-4186-908a-4cb10c050639\"}}];\n",
       "    root.Bokeh.embed.embed_items_notebook(docs_json, render_items);\n",
       "  }\n",
       "  if (root.Bokeh !== undefined && root.Bokeh.Panel !== undefined) {\n",
       "    embed_document(root);\n",
       "  } else {\n",
       "    var attempts = 0;\n",
       "    var timer = setInterval(function(root) {\n",
       "      if (root.Bokeh !== undefined && root.Bokeh.Panel !== undefined) {\n",
       "        clearInterval(timer);\n",
       "        embed_document(root);\n",
       "      } else if (document.readyState == \"complete\") {\n",
       "        attempts++;\n",
       "        if (attempts > 200) {\n",
       "          clearInterval(timer);\n",
       "          console.log(\"Bokeh: ERROR: Unable to run BokehJS code because BokehJS library is missing\");\n",
       "        }\n",
       "      }\n",
       "    }, 25, root)\n",
       "  }\n",
       "})(window);</script>"
      ],
      "text/plain": [
       ":Table   [Unnamed: 0,ProofType,TotalCoinsMined,TotalCoinSupply,principal component 1,principal component 2,principal component 3,CoinName,Algorithm,Class]"
      ]
     },
     "execution_count": 349,
     "metadata": {
      "application/vnd.holoviews_exec.v0+json": {
       "id": "1945"
      }
     },
     "output_type": "execute_result"
    }
   ],
   "source": [
    "# Create a table with tradable cryptocurrencies.\n",
    "import hvplot.pandas\n",
    "\n",
    "clustered_df.hvplot.table(sortable=True, selectable=True)"
   ]
  },
  {
   "cell_type": "code",
   "execution_count": 352,
   "metadata": {},
   "outputs": [
    {
     "name": "stdout",
     "output_type": "stream",
     "text": [
      "There are 532 tradable cryptocurrencies\n"
     ]
    }
   ],
   "source": [
    "# Print the total number of tradable cryptocurrencies.\n",
    "count = clustered_df['TotalCoinsMined'].count()\n",
    "print(f\"There are {count} tradable cryptocurrencies\")"
   ]
  },
  {
   "cell_type": "code",
   "execution_count": 353,
   "metadata": {},
   "outputs": [
    {
     "data": {
      "text/plain": [
       "array([[4.20000000e-11, 0.00000000e+00],\n",
       "       [5.32000000e-04, 1.06585544e-03],\n",
       "       [3.14159265e-01, 2.95755135e-02],\n",
       "       ...,\n",
       "       [1.40022261e-03, 9.90135079e-04],\n",
       "       [2.10000000e-05, 7.37028150e-06],\n",
       "       [1.00000000e-06, 1.29582282e-07]])"
      ]
     },
     "execution_count": 353,
     "metadata": {},
     "output_type": "execute_result"
    }
   ],
   "source": [
    "# Scaling data to create the scatter plot with tradable cryptocurrencies.\n",
    "mms = MinMaxScaler()\n",
    "clustered_df_scaled = mms.fit_transform(clustered_df[['TotalCoinSupply','TotalCoinsMined']])\n",
    "clustered_df_scaled"
   ]
  },
  {
   "cell_type": "code",
   "execution_count": 357,
   "metadata": {},
   "outputs": [
    {
     "data": {
      "text/html": [
       "<div>\n",
       "<style scoped>\n",
       "    .dataframe tbody tr th:only-of-type {\n",
       "        vertical-align: middle;\n",
       "    }\n",
       "\n",
       "    .dataframe tbody tr th {\n",
       "        vertical-align: top;\n",
       "    }\n",
       "\n",
       "    .dataframe thead th {\n",
       "        text-align: right;\n",
       "    }\n",
       "</style>\n",
       "<table border=\"1\" class=\"dataframe\">\n",
       "  <thead>\n",
       "    <tr style=\"text-align: right;\">\n",
       "      <th></th>\n",
       "      <th>TotalCoinSupply</th>\n",
       "      <th>TotalCoinsMined</th>\n",
       "      <th>CoinName</th>\n",
       "      <th>Class</th>\n",
       "    </tr>\n",
       "  </thead>\n",
       "  <tbody>\n",
       "    <tr>\n",
       "      <th>0</th>\n",
       "      <td>4.200000e-11</td>\n",
       "      <td>0.000000</td>\n",
       "      <td>42 Coin</td>\n",
       "      <td>0</td>\n",
       "    </tr>\n",
       "    <tr>\n",
       "      <th>2</th>\n",
       "      <td>5.320000e-04</td>\n",
       "      <td>0.001066</td>\n",
       "      <td>404Coin</td>\n",
       "      <td>0</td>\n",
       "    </tr>\n",
       "    <tr>\n",
       "      <th>5</th>\n",
       "      <td>3.141593e-01</td>\n",
       "      <td>0.029576</td>\n",
       "      <td>EliteCoin</td>\n",
       "      <td>0</td>\n",
       "    </tr>\n",
       "    <tr>\n",
       "      <th>7</th>\n",
       "      <td>2.100000e-05</td>\n",
       "      <td>0.000018</td>\n",
       "      <td>Bitcoin</td>\n",
       "      <td>1</td>\n",
       "    </tr>\n",
       "    <tr>\n",
       "      <th>8</th>\n",
       "      <td>0.000000e+00</td>\n",
       "      <td>0.000109</td>\n",
       "      <td>Ethereum</td>\n",
       "      <td>1</td>\n",
       "    </tr>\n",
       "    <tr>\n",
       "      <th>9</th>\n",
       "      <td>8.400000e-05</td>\n",
       "      <td>0.000064</td>\n",
       "      <td>Litecoin</td>\n",
       "      <td>1</td>\n",
       "    </tr>\n",
       "    <tr>\n",
       "      <th>10</th>\n",
       "      <td>2.200000e-05</td>\n",
       "      <td>0.000009</td>\n",
       "      <td>Dash</td>\n",
       "      <td>0</td>\n",
       "    </tr>\n",
       "    <tr>\n",
       "      <th>11</th>\n",
       "      <td>0.000000e+00</td>\n",
       "      <td>0.000017</td>\n",
       "      <td>Monero</td>\n",
       "      <td>1</td>\n",
       "    </tr>\n",
       "    <tr>\n",
       "      <th>12</th>\n",
       "      <td>2.100000e-04</td>\n",
       "      <td>0.000115</td>\n",
       "      <td>Ethereum Classic</td>\n",
       "      <td>1</td>\n",
       "    </tr>\n",
       "    <tr>\n",
       "      <th>13</th>\n",
       "      <td>2.100000e-05</td>\n",
       "      <td>0.000007</td>\n",
       "      <td>ZCash</td>\n",
       "      <td>1</td>\n",
       "    </tr>\n",
       "  </tbody>\n",
       "</table>\n",
       "</div>"
      ],
      "text/plain": [
       "    TotalCoinSupply  TotalCoinsMined          CoinName  Class\n",
       "0      4.200000e-11         0.000000           42 Coin      0\n",
       "2      5.320000e-04         0.001066           404Coin      0\n",
       "5      3.141593e-01         0.029576         EliteCoin      0\n",
       "7      2.100000e-05         0.000018           Bitcoin      1\n",
       "8      0.000000e+00         0.000109          Ethereum      1\n",
       "9      8.400000e-05         0.000064          Litecoin      1\n",
       "10     2.200000e-05         0.000009              Dash      0\n",
       "11     0.000000e+00         0.000017            Monero      1\n",
       "12     2.100000e-04         0.000115  Ethereum Classic      1\n",
       "13     2.100000e-05         0.000007             ZCash      1"
      ]
     },
     "execution_count": 357,
     "metadata": {},
     "output_type": "execute_result"
    }
   ],
   "source": [
    "# Create a new DataFrame that has the scaled data with the clustered_df DataFrame index.\n",
    "plot_df = pd.DataFrame(\n",
    "    data=clustered_df_scaled, columns=['TotalCoinSupply','TotalCoinsMined'], index = clustered_df.index)\n",
    "\n",
    "# Add the \"CoinName\" column from the clustered_df DataFrame to the new DataFrame.\n",
    "plot_df['CoinName'] = clustered_df[\"CoinName\"]\n",
    "\n",
    "# Add the \"Class\" column from the clustered_df DataFrame to the new DataFrame. \n",
    "plot_df['Class'] = clustered_df[\"Class\"]\n",
    "\n",
    "plot_df.head(10)"
   ]
  },
  {
   "cell_type": "code",
   "execution_count": 358,
   "metadata": {},
   "outputs": [
    {
     "data": {},
     "metadata": {},
     "output_type": "display_data"
    },
    {
     "data": {
      "application/vnd.holoviews_exec.v0+json": "",
      "text/html": [
       "<div id='2016'>\n",
       "  <div class=\"bk-root\" id=\"220c3251-af27-46ae-8afe-d1658c333eb2\" data-root-id=\"2016\"></div>\n",
       "</div>\n",
       "<script type=\"application/javascript\">(function(root) {\n",
       "  function embed_document(root) {\n",
       "    var docs_json = {\"bbe5ad27-0ea5-4032-a25a-3320eab1476b\":{\"defs\":[{\"extends\":null,\"module\":null,\"name\":\"ReactiveHTML1\",\"overrides\":[],\"properties\":[]},{\"extends\":null,\"module\":null,\"name\":\"FlexBox1\",\"overrides\":[],\"properties\":[{\"default\":\"flex-start\",\"kind\":null,\"name\":\"align_content\"},{\"default\":\"flex-start\",\"kind\":null,\"name\":\"align_items\"},{\"default\":\"row\",\"kind\":null,\"name\":\"flex_direction\"},{\"default\":\"wrap\",\"kind\":null,\"name\":\"flex_wrap\"},{\"default\":\"flex-start\",\"kind\":null,\"name\":\"justify_content\"}]},{\"extends\":null,\"module\":null,\"name\":\"GridStack1\",\"overrides\":[],\"properties\":[{\"default\":\"warn\",\"kind\":null,\"name\":\"mode\"},{\"default\":null,\"kind\":null,\"name\":\"ncols\"},{\"default\":null,\"kind\":null,\"name\":\"nrows\"},{\"default\":true,\"kind\":null,\"name\":\"allow_resize\"},{\"default\":true,\"kind\":null,\"name\":\"allow_drag\"},{\"default\":[],\"kind\":null,\"name\":\"state\"}]},{\"extends\":null,\"module\":null,\"name\":\"click1\",\"overrides\":[],\"properties\":[{\"default\":\"\",\"kind\":null,\"name\":\"terminal_output\"},{\"default\":\"\",\"kind\":null,\"name\":\"debug_name\"},{\"default\":0,\"kind\":null,\"name\":\"clears\"}]},{\"extends\":null,\"module\":null,\"name\":\"NotificationAreaBase1\",\"overrides\":[],\"properties\":[{\"default\":\"bottom-right\",\"kind\":null,\"name\":\"position\"},{\"default\":0,\"kind\":null,\"name\":\"_clear\"}]},{\"extends\":null,\"module\":null,\"name\":\"NotificationArea1\",\"overrides\":[],\"properties\":[{\"default\":[],\"kind\":null,\"name\":\"notifications\"},{\"default\":\"bottom-right\",\"kind\":null,\"name\":\"position\"},{\"default\":0,\"kind\":null,\"name\":\"_clear\"},{\"default\":[{\"background\":\"#ffc107\",\"icon\":{\"className\":\"fas fa-exclamation-triangle\",\"color\":\"white\",\"tagName\":\"i\"},\"type\":\"warning\"},{\"background\":\"#007bff\",\"icon\":{\"className\":\"fas fa-info-circle\",\"color\":\"white\",\"tagName\":\"i\"},\"type\":\"info\"}],\"kind\":null,\"name\":\"types\"}]},{\"extends\":null,\"module\":null,\"name\":\"Notification\",\"overrides\":[],\"properties\":[{\"default\":null,\"kind\":null,\"name\":\"background\"},{\"default\":3000,\"kind\":null,\"name\":\"duration\"},{\"default\":null,\"kind\":null,\"name\":\"icon\"},{\"default\":\"\",\"kind\":null,\"name\":\"message\"},{\"default\":null,\"kind\":null,\"name\":\"notification_type\"},{\"default\":false,\"kind\":null,\"name\":\"_destroyed\"}]},{\"extends\":null,\"module\":null,\"name\":\"TemplateActions1\",\"overrides\":[],\"properties\":[{\"default\":0,\"kind\":null,\"name\":\"open_modal\"},{\"default\":0,\"kind\":null,\"name\":\"close_modal\"}]},{\"extends\":null,\"module\":null,\"name\":\"MaterialTemplateActions1\",\"overrides\":[],\"properties\":[{\"default\":0,\"kind\":null,\"name\":\"open_modal\"},{\"default\":0,\"kind\":null,\"name\":\"close_modal\"}]}],\"roots\":{\"references\":[{\"attributes\":{\"tools\":[{\"id\":\"2020\"},{\"id\":\"2041\"},{\"id\":\"2042\"},{\"id\":\"2043\"},{\"id\":\"2044\"},{\"id\":\"2045\"}]},\"id\":\"2047\",\"type\":\"Toolbar\"},{\"attributes\":{},\"id\":\"2098\",\"type\":\"UnionRenderers\"},{\"attributes\":{\"fill_alpha\":{\"value\":0.2},\"fill_color\":{\"value\":\"#30a2da\"},\"hatch_alpha\":{\"value\":0.2},\"hatch_color\":{\"value\":\"#30a2da\"},\"line_alpha\":{\"value\":0.2},\"line_color\":{\"value\":\"#30a2da\"},\"size\":{\"value\":5.477225575051661},\"x\":{\"field\":\"TotalCoinsMined\"},\"y\":{\"field\":\"TotalCoinSupply\"}},\"id\":\"2065\",\"type\":\"Scatter\"},{\"attributes\":{\"bottom_units\":\"screen\",\"coordinates\":null,\"fill_alpha\":0.5,\"fill_color\":\"lightgrey\",\"group\":null,\"left_units\":\"screen\",\"level\":\"overlay\",\"line_alpha\":1.0,\"line_color\":\"black\",\"line_dash\":[4,4],\"line_width\":2,\"right_units\":\"screen\",\"syncable\":false,\"top_units\":\"screen\"},\"id\":\"2046\",\"type\":\"BoxAnnotation\"},{\"attributes\":{\"fill_alpha\":{\"value\":0.2},\"fill_color\":{\"value\":\"#e5ae38\"},\"hatch_alpha\":{\"value\":0.2},\"hatch_color\":{\"value\":\"#e5ae38\"},\"line_alpha\":{\"value\":0.2},\"line_color\":{\"value\":\"#e5ae38\"},\"size\":{\"value\":5.477225575051661},\"x\":{\"field\":\"TotalCoinsMined\"},\"y\":{\"field\":\"TotalCoinSupply\"}},\"id\":\"2108\",\"type\":\"Scatter\"},{\"attributes\":{},\"id\":\"2041\",\"type\":\"SaveTool\"},{\"attributes\":{\"angle\":{\"value\":0.0},\"fill_alpha\":{\"value\":1.0},\"fill_color\":{\"value\":\"#fc4f30\"},\"hatch_alpha\":{\"value\":1.0},\"hatch_color\":{\"value\":\"#fc4f30\"},\"hatch_scale\":{\"value\":12.0},\"hatch_weight\":{\"value\":1.0},\"line_alpha\":{\"value\":1.0},\"line_cap\":{\"value\":\"butt\"},\"line_color\":{\"value\":\"#fc4f30\"},\"line_dash\":{\"value\":[]},\"line_dash_offset\":{\"value\":0},\"line_join\":{\"value\":\"bevel\"},\"line_width\":{\"value\":1},\"marker\":{\"value\":\"circle\"},\"size\":{\"value\":5.477225575051661},\"x\":{\"field\":\"TotalCoinsMined\"},\"y\":{\"field\":\"TotalCoinSupply\"}},\"id\":\"2102\",\"type\":\"Scatter\"},{\"attributes\":{},\"id\":\"2042\",\"type\":\"PanTool\"},{\"attributes\":{},\"id\":\"2045\",\"type\":\"ResetTool\"},{\"attributes\":{},\"id\":\"2043\",\"type\":\"WheelZoomTool\"},{\"attributes\":{\"label\":{\"value\":\"1\"},\"renderers\":[{\"id\":\"2087\"}]},\"id\":\"2101\",\"type\":\"LegendItem\"},{\"attributes\":{},\"id\":\"2082\",\"type\":\"Selection\"},{\"attributes\":{\"fill_color\":{\"value\":\"#e5ae38\"},\"hatch_color\":{\"value\":\"#e5ae38\"},\"line_color\":{\"value\":\"#e5ae38\"},\"size\":{\"value\":5.477225575051661},\"x\":{\"field\":\"TotalCoinsMined\"},\"y\":{\"field\":\"TotalCoinSupply\"}},\"id\":\"2106\",\"type\":\"Scatter\"},{\"attributes\":{\"angle\":{\"value\":0.0},\"fill_alpha\":{\"value\":1.0},\"fill_color\":{\"value\":\"#e5ae38\"},\"hatch_alpha\":{\"value\":1.0},\"hatch_color\":{\"value\":\"#e5ae38\"},\"hatch_scale\":{\"value\":12.0},\"hatch_weight\":{\"value\":1.0},\"line_alpha\":{\"value\":1.0},\"line_cap\":{\"value\":\"butt\"},\"line_color\":{\"value\":\"#e5ae38\"},\"line_dash\":{\"value\":[]},\"line_dash_offset\":{\"value\":0},\"line_join\":{\"value\":\"bevel\"},\"line_width\":{\"value\":1},\"marker\":{\"value\":\"circle\"},\"size\":{\"value\":5.477225575051661},\"x\":{\"field\":\"TotalCoinsMined\"},\"y\":{\"field\":\"TotalCoinSupply\"}},\"id\":\"2126\",\"type\":\"Scatter\"},{\"attributes\":{\"overlay\":{\"id\":\"2046\"}},\"id\":\"2044\",\"type\":\"BoxZoomTool\"},{\"attributes\":{\"source\":{\"id\":\"2127\"}},\"id\":\"2134\",\"type\":\"CDSView\"},{\"attributes\":{\"coordinates\":null,\"data_source\":{\"id\":\"2127\"},\"glyph\":{\"id\":\"2130\"},\"group\":null,\"hover_glyph\":null,\"muted_glyph\":{\"id\":\"2132\"},\"nonselection_glyph\":{\"id\":\"2131\"},\"selection_glyph\":{\"id\":\"2152\"},\"view\":{\"id\":\"2134\"}},\"id\":\"2133\",\"type\":\"GlyphRenderer\"},{\"attributes\":{\"source\":{\"id\":\"2060\"}},\"id\":\"2067\",\"type\":\"CDSView\"},{\"attributes\":{\"click_policy\":\"mute\",\"coordinates\":null,\"group\":null,\"items\":[{\"id\":\"2079\"},{\"id\":\"2101\"},{\"id\":\"2125\"},{\"id\":\"2151\"}],\"location\":[0,0],\"title\":\"Class\"},\"id\":\"2078\",\"type\":\"Legend\"},{\"attributes\":{\"fill_alpha\":{\"value\":0.1},\"fill_color\":{\"value\":\"#fc4f30\"},\"hatch_alpha\":{\"value\":0.1},\"hatch_color\":{\"value\":\"#fc4f30\"},\"line_alpha\":{\"value\":0.1},\"line_color\":{\"value\":\"#fc4f30\"},\"size\":{\"value\":5.477225575051661},\"x\":{\"field\":\"TotalCoinsMined\"},\"y\":{\"field\":\"TotalCoinSupply\"}},\"id\":\"2085\",\"type\":\"Scatter\"},{\"attributes\":{},\"id\":\"2122\",\"type\":\"UnionRenderers\"},{\"attributes\":{\"source\":{\"id\":\"2103\"}},\"id\":\"2110\",\"type\":\"CDSView\"},{\"attributes\":{},\"id\":\"2058\",\"type\":\"BasicTickFormatter\"},{\"attributes\":{\"label\":{\"value\":\"2\"},\"renderers\":[{\"id\":\"2109\"}]},\"id\":\"2125\",\"type\":\"LegendItem\"},{\"attributes\":{},\"id\":\"2038\",\"type\":\"BasicTicker\"},{\"attributes\":{\"fill_alpha\":{\"value\":0.1},\"fill_color\":{\"value\":\"#e5ae38\"},\"hatch_alpha\":{\"value\":0.1},\"hatch_color\":{\"value\":\"#e5ae38\"},\"line_alpha\":{\"value\":0.1},\"line_color\":{\"value\":\"#e5ae38\"},\"size\":{\"value\":5.477225575051661},\"x\":{\"field\":\"TotalCoinsMined\"},\"y\":{\"field\":\"TotalCoinSupply\"}},\"id\":\"2107\",\"type\":\"Scatter\"},{\"attributes\":{\"margin\":[5,5,5,5],\"name\":\"HSpacer01940\",\"sizing_mode\":\"stretch_width\"},\"id\":\"2169\",\"type\":\"Spacer\"},{\"attributes\":{\"coordinates\":null,\"data_source\":{\"id\":\"2103\"},\"glyph\":{\"id\":\"2106\"},\"group\":null,\"hover_glyph\":null,\"muted_glyph\":{\"id\":\"2108\"},\"nonselection_glyph\":{\"id\":\"2107\"},\"selection_glyph\":{\"id\":\"2126\"},\"view\":{\"id\":\"2110\"}},\"id\":\"2109\",\"type\":\"GlyphRenderer\"},{\"attributes\":{\"angle\":{\"value\":0.0},\"fill_alpha\":{\"value\":1.0},\"fill_color\":{\"value\":\"#6d904f\"},\"hatch_alpha\":{\"value\":1.0},\"hatch_color\":{\"value\":\"#6d904f\"},\"hatch_scale\":{\"value\":12.0},\"hatch_weight\":{\"value\":1.0},\"line_alpha\":{\"value\":1.0},\"line_cap\":{\"value\":\"butt\"},\"line_color\":{\"value\":\"#6d904f\"},\"line_dash\":{\"value\":[]},\"line_dash_offset\":{\"value\":0},\"line_join\":{\"value\":\"bevel\"},\"line_width\":{\"value\":1},\"marker\":{\"value\":\"circle\"},\"size\":{\"value\":5.477225575051661},\"x\":{\"field\":\"TotalCoinsMined\"},\"y\":{\"field\":\"TotalCoinSupply\"}},\"id\":\"2152\",\"type\":\"Scatter\"},{\"attributes\":{\"fill_alpha\":{\"value\":0.1},\"fill_color\":{\"value\":\"#6d904f\"},\"hatch_alpha\":{\"value\":0.1},\"hatch_color\":{\"value\":\"#6d904f\"},\"line_alpha\":{\"value\":0.1},\"line_color\":{\"value\":\"#6d904f\"},\"size\":{\"value\":5.477225575051661},\"x\":{\"field\":\"TotalCoinsMined\"},\"y\":{\"field\":\"TotalCoinSupply\"}},\"id\":\"2131\",\"type\":\"Scatter\"},{\"attributes\":{\"coordinates\":null,\"data_source\":{\"id\":\"2060\"},\"glyph\":{\"id\":\"2063\"},\"group\":null,\"hover_glyph\":null,\"muted_glyph\":{\"id\":\"2065\"},\"nonselection_glyph\":{\"id\":\"2064\"},\"selection_glyph\":{\"id\":\"2080\"},\"view\":{\"id\":\"2067\"}},\"id\":\"2066\",\"type\":\"GlyphRenderer\"},{\"attributes\":{\"fill_alpha\":{\"value\":0.2},\"fill_color\":{\"value\":\"#6d904f\"},\"hatch_alpha\":{\"value\":0.2},\"hatch_color\":{\"value\":\"#6d904f\"},\"line_alpha\":{\"value\":0.2},\"line_color\":{\"value\":\"#6d904f\"},\"size\":{\"value\":5.477225575051661},\"x\":{\"field\":\"TotalCoinsMined\"},\"y\":{\"field\":\"TotalCoinSupply\"}},\"id\":\"2132\",\"type\":\"Scatter\"},{\"attributes\":{},\"id\":\"2148\",\"type\":\"UnionRenderers\"},{\"attributes\":{\"angle\":{\"value\":0.0},\"fill_alpha\":{\"value\":1.0},\"fill_color\":{\"value\":\"#30a2da\"},\"hatch_alpha\":{\"value\":1.0},\"hatch_color\":{\"value\":\"#30a2da\"},\"hatch_scale\":{\"value\":12.0},\"hatch_weight\":{\"value\":1.0},\"line_alpha\":{\"value\":1.0},\"line_cap\":{\"value\":\"butt\"},\"line_color\":{\"value\":\"#30a2da\"},\"line_dash\":{\"value\":[]},\"line_dash_offset\":{\"value\":0},\"line_join\":{\"value\":\"bevel\"},\"line_width\":{\"value\":1},\"marker\":{\"value\":\"circle\"},\"size\":{\"value\":5.477225575051661},\"x\":{\"field\":\"TotalCoinsMined\"},\"y\":{\"field\":\"TotalCoinSupply\"}},\"id\":\"2080\",\"type\":\"Scatter\"},{\"attributes\":{},\"id\":\"2075\",\"type\":\"UnionRenderers\"},{\"attributes\":{\"below\":[{\"id\":\"2033\"}],\"center\":[{\"id\":\"2036\"},{\"id\":\"2040\"}],\"height\":300,\"left\":[{\"id\":\"2037\"}],\"margin\":[5,5,5,5],\"min_border_bottom\":10,\"min_border_left\":10,\"min_border_right\":10,\"min_border_top\":10,\"renderers\":[{\"id\":\"2066\"},{\"id\":\"2087\"},{\"id\":\"2109\"},{\"id\":\"2133\"}],\"right\":[{\"id\":\"2078\"}],\"sizing_mode\":\"fixed\",\"title\":{\"id\":\"2025\"},\"toolbar\":{\"id\":\"2047\"},\"width\":700,\"x_range\":{\"id\":\"2018\"},\"x_scale\":{\"id\":\"2029\"},\"y_range\":{\"id\":\"2019\"},\"y_scale\":{\"id\":\"2031\"}},\"id\":\"2024\",\"subtype\":\"Figure\",\"type\":\"Plot\"},{\"attributes\":{\"label\":{\"value\":\"3\"},\"renderers\":[{\"id\":\"2133\"}]},\"id\":\"2151\",\"type\":\"LegendItem\"},{\"attributes\":{\"data\":{\"Class\":[1,1,1,1,1,1,1,1,1,1,1,1,1,1,1,1,1,1,1,1,1,1,1,1,1,1,1,1,1,1,1,1,1,1,1,1,1,1,1,1,1,1,1,1,1,1,1,1,1,1,1,1,1,1,1,1,1,1,1,1,1,1,1,1,1,1,1,1,1,1,1,1,1,1,1,1,1,1,1,1,1,1,1,1,1,1,1,1,1,1,1,1,1,1,1,1,1,1,1,1,1,1,1,1,1,1,1,1,1,1,1,1,1,1,1,1,1,1,1,1,1,1,1,1,1,1,1,1,1,1,1,1,1,1,1,1,1,1,1,1,1,1,1,1,1,1,1,1,1,1,1,1,1,1,1,1,1,1,1,1,1,1,1,1,1,1,1,1,1,1,1,1,1,1,1,1,1,1,1,1,1,1,1,1,1,1,1,1,1,1,1,1,1,1,1,1,1,1,1,1,1,1,1,1,1,1,1,1,1,1,1,1,1,1,1,1,1,1,1,1,1,1,1,1,1,1,1,1,1,1,1,1,1,1,1,1,1,1,1],\"CoinName\":[\"Bitcoin\",\"Ethereum\",\"Litecoin\",\"Monero\",\"Ethereum Classic\",\"ZCash\",\"DigiByte\",\"ProsperCoin\",\"Spreadcoin\",\"Argentum\",\"MyriadCoin\",\"MoonCoin\",\"ZetaCoin\",\"SexCoin\",\"Quatloo\",\"QuarkCoin\",\"Riecoin\",\"Digitalcoin \",\"Catcoin\",\"CannaCoin\",\"CryptCoin\",\"Verge\",\"DevCoin\",\"EarthCoin\",\"E-Gulden\",\"Einsteinium\",\"Emerald\",\"Franko\",\"FeatherCoin\",\"GrandCoin\",\"GlobalCoin\",\"GoldCoin\",\"Infinite Coin\",\"IXcoin\",\"KrugerCoin\",\"LuckyCoin\",\"Litebar \",\"MegaCoin\",\"MediterraneanCoin\",\"MinCoin\",\"NobleCoin\",\"Namecoin\",\"NyanCoin\",\"RonPaulCoin\",\"StableCoin\",\"SmartCoin\",\"SysCoin\",\"TigerCoin\",\"TerraCoin\",\"UnbreakableCoin\",\"Unobtanium\",\"UroCoin\",\"ViaCoin\",\"Vertcoin\",\"WorldCoin\",\"JouleCoin\",\"ByteCoin\",\"DigitalNote \",\"MonaCoin\",\"Gulden\",\"PesetaCoin\",\"Wild Beast Coin\",\"Flo\",\"ArtByte\",\"Folding Coin\",\"Unitus\",\"CypherPunkCoin\",\"OmniCron\",\"GreenCoin\",\"Cryptonite\",\"MasterCoin\",\"SoonCoin\",\"1Credit\",\"MarsCoin \",\"Crypto\",\"Anarchists Prime\",\"BowsCoin\",\"Song Coin\",\"BitZeny\",\"Expanse\",\"Siacoin\",\"MindCoin\",\"I0coin\",\"Revolution VR\",\"HOdlcoin\",\"Gamecredits\",\"CarpeDiemCoin\",\"Adzcoin\",\"SoilCoin\",\"YoCoin\",\"SibCoin\",\"Francs\",\"BolivarCoin\",\"Omni\",\"PizzaCoin\",\"Komodo\",\"Karbo\",\"ZayedCoin\",\"Circuits of Value\",\"DopeCoin\",\"DollarCoin\",\"Shilling\",\"ZCoin\",\"Elementrem\",\"ZClassic\",\"KiloCoin\",\"ArtexCoin\",\"Kurrent\",\"Cannabis Industry Coin\",\"OsmiumCoin\",\"Bikercoins\",\"HexxCoin\",\"PacCoin\",\"Citadel\",\"BeaverCoin\",\"VaultCoin\",\"Zero\",\"Canada eCoin\",\"Zoin\",\"DubaiCoin\",\"EB3coin\",\"Coinonat\",\"BenjiRolls\",\"ILCoin\",\"EquiTrader\",\"Quantum Resistant Ledger\",\"Dynamic\",\"Nano\",\"ChanCoin\",\"Dinastycoin\",\"DigitalPrice\",\"Unify\",\"SocialCoin\",\"ArcticCoin\",\"DAS\",\"LeviarCoin\",\"Bitcore\",\"gCn Coin\",\"SmartCash\",\"Onix\",\"Bitcoin Cash\",\"Sojourn Coin\",\"NewYorkCoin\",\"FrazCoin\",\"Kronecoin\",\"AdCoin\",\"Linx\",\"Sumokoin\",\"BitcoinZ\",\"Elements\",\"VIVO Coin\",\"Bitcoin Gold\",\"Pirl\",\"eBoost\",\"Pura\",\"Innova\",\"Ellaism\",\"GoByte\",\"SHIELD\",\"UltraNote\",\"BitCoal\",\"DaxxCoin\",\"AC3\",\"Lethean\",\"PopularCoin\",\"Photon\",\"Sucre\",\"SparksPay\",\"GunCoin\",\"IrishCoin\",\"Pioneer Coin\",\"UnitedBitcoin\",\"Interzone\",\"TurtleCoin\",\"MUNcoin\",\"Niobio Cash\",\"ShareChain\",\"Travelflex\",\"KREDS\",\"BitFlip\",\"LottoCoin\",\"Crypto Improvement Fund\",\"Callisto Network\",\"BitTube\",\"Poseidon\",\"Aidos Kuneen\",\"Bitrolium\",\"Alpenschillling\",\"FuturoCoin\",\"Monero Classic\",\"Jumpcoin\",\"Infinex\",\"KEYCO\",\"GINcoin\",\"PlatinCoin\",\"Loki\",\"Newton Coin\",\"MassGrid\",\"PluraCoin\",\"Motion\",\"PlusOneCoin\",\"Axe\",\"HexCoin\",\"Webchain\",\"Ryo\",\"Urals Coin\",\"Qwertycoin\",\"Project Pai\",\"Azart\",\"Xchange\",\"CrypticCoin\",\"Actinium\",\"Bitcoin SV\",\"BitMoney\",\"FREDEnergy\",\"Universal Molecule\",\"Lithium\",\"Exosis\",\"Block-Logic\",\"Beam\",\"Bithereum\",\"SLICE\",\"BLAST\",\"Bitcoin Rhodium\",\"GlobalToken\",\"SolarCoin\",\"UFO Coin\",\"BlakeCoin\",\"Crypto Escudo\",\"Crown Coin\",\"SmileyCoin\",\"Groestlcoin\",\"Bata\",\"Pakcoin\",\"JoinCoin\",\"Vollar\",\"Reality Clash\",\"Beldex\",\"Horizen\"],\"TotalCoinSupply\":{\"__ndarray__\":\"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\",\"dtype\":\"float64\",\"order\":\"little\",\"shape\":[239]},\"TotalCoinsMined\":{\"__ndarray__\":\"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\",\"dtype\":\"float64\",\"order\":\"little\",\"shape\":[239]}},\"selected\":{\"id\":\"2082\"},\"selection_policy\":{\"id\":\"2098\"}},\"id\":\"2081\",\"type\":\"ColumnDataSource\"},{\"attributes\":{\"end\":1.1,\"reset_end\":1.1,\"reset_start\":-0.1,\"start\":-0.1,\"tags\":[[[\"TotalCoinSupply\",\"TotalCoinSupply\",null]]]},\"id\":\"2019\",\"type\":\"Range1d\"},{\"attributes\":{\"end\":1.042857142857143,\"reset_end\":1.042857142857143,\"reset_start\":-0.04285714285714286,\"start\":-0.04285714285714286,\"tags\":[[[\"TotalCoinsMined\",\"TotalCoinsMined\",null]]]},\"id\":\"2018\",\"type\":\"Range1d\"},{\"attributes\":{\"fill_alpha\":{\"value\":0.1},\"fill_color\":{\"value\":\"#30a2da\"},\"hatch_alpha\":{\"value\":0.1},\"hatch_color\":{\"value\":\"#30a2da\"},\"line_alpha\":{\"value\":0.1},\"line_color\":{\"value\":\"#30a2da\"},\"size\":{\"value\":5.477225575051661},\"x\":{\"field\":\"TotalCoinsMined\"},\"y\":{\"field\":\"TotalCoinSupply\"}},\"id\":\"2064\",\"type\":\"Scatter\"},{\"attributes\":{\"fill_color\":{\"value\":\"#6d904f\"},\"hatch_color\":{\"value\":\"#6d904f\"},\"line_color\":{\"value\":\"#6d904f\"},\"size\":{\"value\":5.477225575051661},\"x\":{\"field\":\"TotalCoinsMined\"},\"y\":{\"field\":\"TotalCoinSupply\"}},\"id\":\"2130\",\"type\":\"Scatter\"},{\"attributes\":{\"fill_alpha\":{\"value\":0.2},\"fill_color\":{\"value\":\"#fc4f30\"},\"hatch_alpha\":{\"value\":0.2},\"hatch_color\":{\"value\":\"#fc4f30\"},\"line_alpha\":{\"value\":0.2},\"line_color\":{\"value\":\"#fc4f30\"},\"size\":{\"value\":5.477225575051661},\"x\":{\"field\":\"TotalCoinsMined\"},\"y\":{\"field\":\"TotalCoinSupply\"}},\"id\":\"2086\",\"type\":\"Scatter\"},{\"attributes\":{\"label\":{\"value\":\"0\"},\"renderers\":[{\"id\":\"2066\"}]},\"id\":\"2079\",\"type\":\"LegendItem\"},{\"attributes\":{},\"id\":\"2128\",\"type\":\"Selection\"},{\"attributes\":{},\"id\":\"2061\",\"type\":\"Selection\"},{\"attributes\":{},\"id\":\"2055\",\"type\":\"BasicTickFormatter\"},{\"attributes\":{\"fill_color\":{\"value\":\"#fc4f30\"},\"hatch_color\":{\"value\":\"#fc4f30\"},\"line_color\":{\"value\":\"#fc4f30\"},\"size\":{\"value\":5.477225575051661},\"x\":{\"field\":\"TotalCoinsMined\"},\"y\":{\"field\":\"TotalCoinSupply\"}},\"id\":\"2084\",\"type\":\"Scatter\"},{\"attributes\":{},\"id\":\"2104\",\"type\":\"Selection\"},{\"attributes\":{\"margin\":[5,5,5,5],\"name\":\"HSpacer01939\",\"sizing_mode\":\"stretch_width\"},\"id\":\"2017\",\"type\":\"Spacer\"},{\"attributes\":{\"coordinates\":null,\"group\":null,\"text_color\":\"black\",\"text_font_size\":\"12pt\"},\"id\":\"2025\",\"type\":\"Title\"},{\"attributes\":{},\"id\":\"2029\",\"type\":\"LinearScale\"},{\"attributes\":{},\"id\":\"2034\",\"type\":\"BasicTicker\"},{\"attributes\":{\"axis\":{\"id\":\"2033\"},\"coordinates\":null,\"grid_line_color\":null,\"group\":null,\"ticker\":null},\"id\":\"2036\",\"type\":\"Grid\"},{\"attributes\":{\"data\":{\"Class\":[0,0,0,0,0,0,0,0,0,0,0,0,0,0,0,0,0,0,0,0,0,0,0,0,0,0,0,0,0,0,0,0,0,0,0,0,0,0,0,0,0,0,0,0,0,0,0,0,0,0,0,0,0,0,0,0,0,0,0,0,0,0,0,0,0,0,0,0,0,0,0,0,0,0,0,0,0,0,0,0,0,0,0,0,0,0,0,0,0,0,0,0,0,0,0,0,0,0,0,0,0,0,0,0,0,0,0,0,0,0,0,0,0,0,0,0,0,0,0,0,0,0,0,0,0,0,0,0,0,0,0,0,0,0,0,0,0,0,0,0,0,0,0,0,0,0,0,0,0,0,0,0,0,0,0,0,0,0,0,0,0,0,0,0,0,0,0,0,0,0,0,0,0,0,0,0,0,0,0,0,0,0,0,0,0,0,0,0,0,0,0,0,0,0,0,0,0,0,0,0,0,0,0,0,0,0,0,0,0,0,0,0,0,0,0,0,0,0,0,0,0,0,0,0,0,0,0,0,0,0,0,0,0,0,0,0,0,0,0,0,0,0,0,0,0,0,0,0,0,0,0,0,0,0,0,0,0,0,0,0,0,0,0,0,0,0,0,0,0,0,0,0,0,0,0,0,0,0,0,0,0,0,0,0,0,0,0,0],\"CoinName\":[\"42 Coin\",\"404Coin\",\"EliteCoin\",\"Dash\",\"Bitshares\",\"BitcoinDark\",\"PayCoin\",\"KoboCoin\",\"Aurora Coin\",\"BlueCoin\",\"EnergyCoin\",\"BitBar\",\"CryptoBullion\",\"CasinoCoin\",\"Diamond\",\"Exclusive Coin\",\"FlutterCoin\",\"HoboNickels\",\"HyperStake\",\"IOCoin\",\"MaxCoin\",\"MintCoin\",\"MazaCoin\",\"Nautilus Coin\",\"NavCoin\",\"OpalCoin\",\"Orbitcoin\",\"PotCoin\",\"PhoenixCoin\",\"Reddcoin\",\"SuperCoin\",\"SyncCoin\",\"TeslaCoin\",\"TittieCoin\",\"TorCoin\",\"UnitaryStatus Dollar\",\"UltraCoin\",\"VeriCoin\",\"X11 Coin\",\"Crypti\",\"StealthCoin\",\"ZCC Coin\",\"BurstCoin\",\"StorjCoin\",\"Neutron\",\"FairCoin\",\"RubyCoin\",\"Kore\",\"Dnotes\",\"8BIT Coin\",\"Sativa Coin\",\"Ucoin\",\"Vtorrent\",\"IslaCoin\",\"Nexus\",\"Droidz\",\"Squall Coin\",\"Diggits\",\"Paycon\",\"Emercoin\",\"EverGreenCoin\",\"Decred\",\"EDRCoin\",\"Hitcoin\",\"DubaiCoin\",\"PWR Coin\",\"BillaryCoin\",\"GPU Coin\",\"EuropeCoin\",\"ZeitCoin\",\"SwingCoin\",\"SafeExchangeCoin\",\"Nebuchadnezzar\",\"Ratecoin\",\"Revenu\",\"Clockcoin\",\"VIP Tokens\",\"BitSend\",\"Let it Ride\",\"PutinCoin\",\"iBankCoin\",\"Frankywillcoin\",\"MudraCoin\",\"Lutetium Coin\",\"GoldBlocks\",\"CarterCoin\",\"BitTokens\",\"MustangCoin\",\"ZoneCoin\",\"RootCoin\",\"BitCurrency\",\"Swiscoin\",\"BuzzCoin\",\"Opair\",\"PesoBit\",\"Halloween Coin\",\"CoffeeCoin\",\"RoyalCoin\",\"GanjaCoin V2\",\"TeamUP\",\"LanaCoin\",\"ARK\",\"InsaneCoin\",\"EmberCoin\",\"XenixCoin\",\"FreeCoin\",\"PLNCoin\",\"AquariusCoin\",\"Creatio\",\"Eternity\",\"Eurocoin\",\"BitcoinFast\",\"Stakenet\",\"BitConnect Coin\",\"MoneyCoin\",\"Enigma\",\"Russiacoin\",\"PandaCoin\",\"GameUnits\",\"GAKHcoin\",\"Allsafe\",\"LiteCreed\",\"Klingon Empire Darsek\",\"Internet of People\",\"KushCoin\",\"Printerium\",\"Impeach\",\"Zilbercoin\",\"FirstCoin\",\"FindCoin\",\"OpenChat\",\"RenosCoin\",\"VirtacoinPlus\",\"TajCoin\",\"Impact\",\"Atmos\",\"HappyCoin\",\"MacronCoin\",\"Condensate\",\"Independent Money System\",\"ArgusCoin\",\"LomoCoin\",\"ProCurrency\",\"GoldReserve\",\"GrowthCoin\",\"Phreak\",\"Degas Coin\",\"HTML5 Coin\",\"Ultimate Secure Cash\",\"QTUM\",\"Espers\",\"Denarius\",\"Virta Unique Coin\",\"Bitcoin Planet\",\"BritCoin\",\"Linda\",\"DeepOnion\",\"Signatum\",\"Cream\",\"Monoeci\",\"Draftcoin\",\"Vechain\",\"Stakecoin\",\"CoinonatX\",\"Ethereum Dark\",\"Obsidian\",\"Cardano\",\"Regalcoin\",\"TrezarCoin\",\"TerraNovaCoin\",\"Rupee\",\"WomenCoin\",\"Theresa May Coin\",\"NamoCoin\",\"LUXCoin\",\"Xios\",\"Bitcloud 2.0\",\"KekCoin\",\"BlackholeCoin\",\"Infinity Economics\",\"Magnet\",\"Lamden Tau\",\"Electra\",\"Bitcoin Diamond\",\"Cash & Back Coin\",\"Bulwark\",\"Kalkulus\",\"GermanCoin\",\"LiteCoin Ultra\",\"PhantomX\",\"Digiwage\",\"Trollcoin\",\"Litecoin Plus\",\"Monkey Project\",\"TokenPay\",\"1717 Masonic Commemorative Token\",\"My Big Coin\",\"Unified Society USDEX\",\"Tokyo Coin\",\"Stipend\",\"Poa Network\",\"Pushi\",\"Ellerium\",\"Velox\",\"Ontology\",\"Bitspace\",\"Briacoin\",\"Ignition\",\"MedicCoin\",\"Bitcoin Green\",\"Deviant Coin\",\"Abjcoin\",\"Semux\",\"Carebit\",\"Zealium\",\"Proton\",\"iDealCash\",\"Bitcoin Incognito\",\"HollyWoodCoin\",\"Swisscoin\",\"Xt3ch\",\"TheVig\",\"EmaratCoin\",\"Dekado\",\"Lynx\",\"Poseidon Quark\",\"BitcoinWSpectrum\",\"Muse\",\"Trivechain\",\"Dystem\",\"Giant\",\"Peony Coin\",\"Absolute Coin\",\"Vitae\",\"TPCash\",\"ARENON\",\"EUNO\",\"MMOCoin\",\"Ketan\",\"XDNA\",\"PAXEX\",\"ThunderStake\",\"Kcash\",\"Bettex coin\",\"Junson Ming Chan Coin\",\"HerbCoin\",\"PirateCash\",\"Oduwa\",\"Galilel\",\"Crypto Sports\",\"Credit\",\"Dash Platinum\",\"Nasdacoin\",\"Beetle Coin\",\"Titan Coin\",\"Award\",\"Insane Coin\",\"ALAX\",\"LiteDoge\",\"TruckCoin\",\"OrangeCoin\",\"BitstarCoin\",\"NeosCoin\",\"HyperCoin\",\"PinkCoin\",\"AudioCoin\",\"IncaKoin\",\"Piggy Coin\",\"Genstake\",\"XiaoMiCoin\",\"CapriCoin\",\" ClubCoin\",\"Radium\",\"Creditbit \",\"OKCash\",\"Lisk\",\"HiCoin\",\"WhiteCoin\",\"FriendshipCoin\",\"Triangles Coin\",\"EOS\",\"Oxycoin\",\"TigerCash\",\"Particl\",\"Nxt\",\"ZEPHYR\",\"Gapcoin\",\"BitcoinPlus\"],\"TotalCoinSupply\":{\"__ndarray__\":\"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\",\"dtype\":\"float64\",\"order\":\"little\",\"shape\":[288]},\"TotalCoinsMined\":{\"__ndarray__\":\"AAAAAAAAAADVQ6eRhXZRP0gFXx0LSZ4/fb2YAaYh4z6ruJV6oa9mP4fxacJq17U+W7PlNwxp6T7W0pn52A37PoFADD9SNfM+Y2BMhDkIRT+TanQDD0sgP35ukl9tEWc+7S9W9+ubsT49x1z95a+kP28YHhABAMw+ye+KsSkQ2D76DhvNkpI+P1ecpQYuoxc/Ypyz9GrHWz/7kyPDCLLyPpO8/kFBRRA/0/9nDoYGlj/8i/ixXrVaP7x4IiUyI/E+j6uxX+B/ET9yUL0Vow3wPvxfgvURSss+cvkNgl17LT+LzHsEg5UTPwaytCCdUp4/8TiBm6/aCj9doxA1Q7ITPkOS6FanQBU/dL+NX1fZWj+VBQyzwkO4PlcDUAL0L1I/fTIxK6KaCj/j5byfQfUAPxuOVInTct0++0V+YL96Gj9FarAorYYBPzHwJWnxlyM/L/f3qVABXj+Tp6kxyxkLP8ZkQxXrtwQ/ibYLlr8rDD876RpKEMv8PqXMCj0KI8E+Y9QbIWkfJz/NWTdK5t+4PhEtw1ouEd4+SuSuQabKxj5dOKHlN5XoPj9ykiLfprk+IXp/RSnbED9yRrm5bCbiPvbV3K8TUJY++0V+YL96Gj+usZO2/Wf4PjQmLIvTzQY/1efNMZmp7D5+56xI8fTlPuaDOXY0GM8+uMNU6Ym/hj8I144k4rrVPosWSaGt1IQ/AkyV+P4P4z7jP4drq28FPzwUggjXC+Y+7L0e6OUeoz9rTh5jVovSPvn/Em4kxWE/kQBSK/0u9T7vjyYFktAhP3lc7dd7QrQ+QPXFzhym8T4+Nd5F5BgWP9J6jnO41Pk+ObDN1M5vBD+HQ9Dqr+lKP3YCdaw0LdM++0V+YL96Gj/CsEps9C7VPlS9UGUMv0U/pqRxDiJ88D7oqXRGKNwGP54PeOINLqQ+9FiPodBJpj5CAX3zt+DFPsR5KJfqb8A+T/4f/1R0Jj9wy+L1hwRGP4Iw9VQZQJQ/QVxHa5CaEz9q4x6W3sABP+anRel4hTE//jSGyJGwIz9a3dieLS/FPvtFfmC/eho/0CaSSobf8j7om9ie0ehRP4yfDBK/phw/2bdahaRt8z5pi0xWDNe3PzoFWd5FU9A+qVTopb56Cj8Kl7V81RnyPnWw/lSIwcQ+kQBSK/0u9T4WN5ZE6rbZPjz585B5Teo+mJbD7Cdx9T4t+OpgFAQUP+s1WKcNeec+4Jew0N0e5z5bwhuTX5yrPv5ylEtMv+E+qgjVT8Z8oT9eSCgLgW3NPrZMGtKEGMw+gWG4BsRH5j7bwMkrHwIAP/7gqRozYvk+ycQ2iXpnxT4Swqe2z/nXPmWo1pTmCuk+NMilXEnjlD75z9m7pMPIPrZ+M2OfIB0/oIVe/s3E7j56Q0MFuIxQP8DjwNiFFwM/Yojc8CLi6z6/xleSd8/pPjaSA+NaSx0/RxRsP55tHT8TzIbUfsv2PvWgsIfWkjo/vX+hfbIbID9qIh3CGb/WPtzbifm0dbM+ClzCLAnyoD4HdZcEvp8aP4T+AFYCMPI+MqZkmp+JMz9Xk1ir5SDoPkAjePZqn/Y+EiXgvSYHpT8A2wc5DOnlPvtFfmC/eho/PAT7udKVlz/kKuRSPKzRPvzVMe6uqhA/LSuoRvfT3D741RgF1Yb2PjQa6ZQatoI/cEzD1ck29z5MptGTM5ccP79RNfoAEQk/A/IJ6Umg6j460UXAisTzPs2g4AcRrqw/mO9bzlry0D6EUc3xJbL0PqB8WFRGy9E+B3K8ML16+j57/PtlW9GaP8LmK5XBxN4+Bh/umUwuKD8wD8hOyFSzPrzBQMmWa/k+rp7aV+kPqT9CUqMh5F8YP74vR7jljUI/McZWDzOY4T6jQtQrAzfCPh9wp4i2QwA/xDTgUPke6j4Qs5xlsVTxPkgxPBFPnoI/fiLM5MQ6BD+6ihEDPBIzP7lLXILzX50/YrqCwqdMKD/hujF22WIdP2ulizrsD+w+x4lPZ4v18T5woSpeKVJ0P4cZ6sLR1eE+fhwrH33sBz9y9oQbTOr8Pnc7MYj+j0M/CEcxCKQ4xT7hpgdtD6zSPrvcymHip/U+bnHiGX5ruz5EiFexPenjPhJgttbRFy8/7udFeLF9Lj/nOkeZlNXnPpwZJXiPEis/u+X6Flxewj69xrZ1NWucPtASAlBMFfs+GJsR1eyKRT/aFzKZITXtPvDlnPIQqaw+dKhUDHkItD64Z5wg3LExP9oOofWExOQ+51LeU9Mr9z6Q31yKLO7kPpoR1LgG3bQ+VSmOPUyAIj+ib5N/FnbnPsNzqfNQqNI+RjXBTQU9Vz+SE54zvRnnPqEkCZqrfwQ/LvAeFNEZhT/0x9r6uSngPiopGOdCmgE/vKQ4Yabg9j5yMj9ExgkAP3wmmCQII7Q/K8r/+wcExz42SXejuJ0OP8CrILqLRfM+hj+ewNiNAz816e99hAHePqwxxcI7FNk+RoR7IXyosT45rbWhQT7sPoehaumffRE/fSgBQ+vk1j5WbQyj6mj0PoqPGjvKSwA/m/qEcQqJHD/EaDW8FMLjPu6Jv2XDy9M+i5sRq68V0z7rbVw4uopRP3pDQwW4jFA/j6T3FZPB3D6rIOPFGc2RP8i3xbVxswI/mEbyFfiL7D4iaVq+103vPuP3bPWLWPM+B9lw/alkwD6KKu/wfeKfP+LWzRFFQag+QFZaGS7D9T6ibFc7wlYqPyMwTKxCq00/KMFsei9V8D4Lko001y75PnpDQwW4jFA/YPWlPLqwjz/MI0ph3w4wP60dyfSx+M0+Y6xly1DL9T5/YchLzJvSPmRjNDD6ZuQ+Ixhnf9TiPD+c0yyFFjtQP5xDyy5ZjpI/icG10+pbQD8fxlKrfsYPPzi4r4Xmwzo/YwABvf2oKj8YJJT4Q3AbP0v2HFN6MNA+w+lGFrPm8T6YkizpGcYTPzLjHxJSxx8/8bDGPwewhD9bofnStK4wP6T0YBN//LI+q0k3U4sUgz5Fb5ScwuNQPxHCato3k1I/ekNDBbiMUD+zRUkYOarjPnpDQwW4jFA/BxxxCriMYD85whSEFaHvPkIO5c1pZIE+\",\"dtype\":\"float64\",\"order\":\"little\",\"shape\":[288]}},\"selected\":{\"id\":\"2061\"},\"selection_policy\":{\"id\":\"2075\"}},\"id\":\"2060\",\"type\":\"ColumnDataSource\"},{\"attributes\":{},\"id\":\"2056\",\"type\":\"AllLabels\"},{\"attributes\":{},\"id\":\"2031\",\"type\":\"LinearScale\"},{\"attributes\":{\"callback\":null,\"renderers\":[{\"id\":\"2066\"},{\"id\":\"2087\"},{\"id\":\"2109\"},{\"id\":\"2133\"}],\"tags\":[\"hv_created\"],\"tooltips\":[[\"Class\",\"@{Class}\"],[\"TotalCoinsMined\",\"@{TotalCoinsMined}\"],[\"TotalCoinSupply\",\"@{TotalCoinSupply}\"],[\"CoinName\",\"@{CoinName}\"]]},\"id\":\"2020\",\"type\":\"HoverTool\"},{\"attributes\":{\"axis_label\":\"TotalCoinSupply\",\"coordinates\":null,\"formatter\":{\"id\":\"2058\"},\"group\":null,\"major_label_policy\":{\"id\":\"2059\"},\"ticker\":{\"id\":\"2038\"}},\"id\":\"2037\",\"type\":\"LinearAxis\"},{\"attributes\":{\"axis_label\":\"TotalCoinsMined\",\"coordinates\":null,\"formatter\":{\"id\":\"2055\"},\"group\":null,\"major_label_policy\":{\"id\":\"2056\"},\"ticker\":{\"id\":\"2034\"}},\"id\":\"2033\",\"type\":\"LinearAxis\"},{\"attributes\":{\"source\":{\"id\":\"2081\"}},\"id\":\"2088\",\"type\":\"CDSView\"},{\"attributes\":{\"axis\":{\"id\":\"2037\"},\"coordinates\":null,\"dimension\":1,\"grid_line_color\":null,\"group\":null,\"ticker\":null},\"id\":\"2040\",\"type\":\"Grid\"},{\"attributes\":{\"data\":{\"Class\":[2],\"CoinName\":[\"BitTorrent\"],\"TotalCoinSupply\":{\"__ndarray__\":\"rkfhehSu7z8=\",\"dtype\":\"float64\",\"order\":\"little\",\"shape\":[1]},\"TotalCoinsMined\":{\"__ndarray__\":\"AAAAAAAA8D8=\",\"dtype\":\"float64\",\"order\":\"little\",\"shape\":[1]}},\"selected\":{\"id\":\"2104\"},\"selection_policy\":{\"id\":\"2122\"}},\"id\":\"2103\",\"type\":\"ColumnDataSource\"},{\"attributes\":{\"children\":[{\"id\":\"2017\"},{\"id\":\"2024\"},{\"id\":\"2169\"}],\"margin\":[0,0,0,0],\"name\":\"Row01935\",\"tags\":[\"embedded\"]},\"id\":\"2016\",\"type\":\"Row\"},{\"attributes\":{\"data\":{\"Class\":[3,3,3,3],\"CoinName\":[\"BiblePay\",\"LitecoinCash\",\"Acute Angle Cloud\",\"Waves\"],\"TotalCoinSupply\":{\"__ndarray__\":\"lPYGX5hMdT+8eapDboZLP/yp8dJNYlA/LEMc6+I2Gj8=\",\"dtype\":\"float64\",\"order\":\"little\",\"shape\":[4]},\"TotalCoinsMined\":{\"__ndarray__\":\"j1gNkdpTXT+QpMXySiFFP3pDQwW4jFA/+0V+YL96Gj8=\",\"dtype\":\"float64\",\"order\":\"little\",\"shape\":[4]}},\"selected\":{\"id\":\"2128\"},\"selection_policy\":{\"id\":\"2148\"}},\"id\":\"2127\",\"type\":\"ColumnDataSource\"},{\"attributes\":{\"coordinates\":null,\"data_source\":{\"id\":\"2081\"},\"glyph\":{\"id\":\"2084\"},\"group\":null,\"hover_glyph\":null,\"muted_glyph\":{\"id\":\"2086\"},\"nonselection_glyph\":{\"id\":\"2085\"},\"selection_glyph\":{\"id\":\"2102\"},\"view\":{\"id\":\"2088\"}},\"id\":\"2087\",\"type\":\"GlyphRenderer\"},{\"attributes\":{\"fill_color\":{\"value\":\"#30a2da\"},\"hatch_color\":{\"value\":\"#30a2da\"},\"line_color\":{\"value\":\"#30a2da\"},\"size\":{\"value\":5.477225575051661},\"x\":{\"field\":\"TotalCoinsMined\"},\"y\":{\"field\":\"TotalCoinSupply\"}},\"id\":\"2063\",\"type\":\"Scatter\"},{\"attributes\":{},\"id\":\"2059\",\"type\":\"AllLabels\"}],\"root_ids\":[\"2016\"]},\"title\":\"Bokeh Application\",\"version\":\"2.4.3\"}};\n",
       "    var render_items = [{\"docid\":\"bbe5ad27-0ea5-4032-a25a-3320eab1476b\",\"root_ids\":[\"2016\"],\"roots\":{\"2016\":\"220c3251-af27-46ae-8afe-d1658c333eb2\"}}];\n",
       "    root.Bokeh.embed.embed_items_notebook(docs_json, render_items);\n",
       "  }\n",
       "  if (root.Bokeh !== undefined && root.Bokeh.Panel !== undefined) {\n",
       "    embed_document(root);\n",
       "  } else {\n",
       "    var attempts = 0;\n",
       "    var timer = setInterval(function(root) {\n",
       "      if (root.Bokeh !== undefined && root.Bokeh.Panel !== undefined) {\n",
       "        clearInterval(timer);\n",
       "        embed_document(root);\n",
       "      } else if (document.readyState == \"complete\") {\n",
       "        attempts++;\n",
       "        if (attempts > 200) {\n",
       "          clearInterval(timer);\n",
       "          console.log(\"Bokeh: ERROR: Unable to run BokehJS code because BokehJS library is missing\");\n",
       "        }\n",
       "      }\n",
       "    }, 25, root)\n",
       "  }\n",
       "})(window);</script>"
      ],
      "text/plain": [
       ":NdOverlay   [Class]\n",
       "   :Scatter   [TotalCoinsMined]   (TotalCoinSupply,CoinName)"
      ]
     },
     "execution_count": 358,
     "metadata": {
      "application/vnd.holoviews_exec.v0+json": {
       "id": "2016"
      }
     },
     "output_type": "execute_result"
    }
   ],
   "source": [
    "# Create a hvplot.scatter plot using x=\"TotalCoinsMined\" and y=\"TotalCoinSupply\".\n",
    "plot_df.hvplot.scatter(x=\"TotalCoinsMined\", y=\"TotalCoinSupply\", by=\"Class\", hover_cols=[\"CoinName\"])\n"
   ]
  },
  {
   "cell_type": "code",
   "execution_count": null,
   "metadata": {},
   "outputs": [],
   "source": []
  }
 ],
 "metadata": {
  "file_extension": ".py",
  "kernelspec": {
   "display_name": "mnlev",
   "language": "python",
   "name": "mnlev"
  },
  "language_info": {
   "codemirror_mode": {
    "name": "ipython",
    "version": 3
   },
   "file_extension": ".py",
   "mimetype": "text/x-python",
   "name": "python",
   "nbconvert_exporter": "python",
   "pygments_lexer": "ipython3",
   "version": "3.7.13"
  },
  "latex_envs": {
   "LaTeX_envs_menu_present": true,
   "autoclose": false,
   "autocomplete": true,
   "bibliofile": "biblio.bib",
   "cite_by": "apalike",
   "current_citInitial": 1,
   "eqLabelWithNumbers": true,
   "eqNumInitial": 1,
   "hotkeys": {
    "equation": "Ctrl-E",
    "itemize": "Ctrl-I"
   },
   "labels_anchors": false,
   "latex_user_defs": false,
   "report_style_numbering": false,
   "user_envs_cfg": false
  },
  "mimetype": "text/x-python",
  "name": "python",
  "npconvert_exporter": "python",
  "pygments_lexer": "ipython3",
  "version": 3
 },
 "nbformat": 4,
 "nbformat_minor": 2
}
